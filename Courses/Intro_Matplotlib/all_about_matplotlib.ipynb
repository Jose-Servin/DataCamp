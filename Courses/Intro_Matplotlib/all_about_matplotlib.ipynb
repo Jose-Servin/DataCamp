{
 "cells": [
  {
   "cell_type": "code",
   "execution_count": 145,
   "metadata": {},
   "outputs": [],
   "source": [
    "import pandas as pd\n",
    "import matplotlib.pyplot as plt\n",
    "import plotly.express as px"
   ]
  },
  {
   "cell_type": "markdown",
   "metadata": {},
   "source": [
    "# Import and Explore Data"
   ]
  },
  {
   "cell_type": "code",
   "execution_count": 65,
   "metadata": {},
   "outputs": [],
   "source": [
    "seattle_data = pd.read_csv('/Users/joseservin/DataCamp/Courses/Intro_Matplotlib/seattle_weather.csv')"
   ]
  },
  {
   "cell_type": "code",
   "execution_count": 66,
   "metadata": {},
   "outputs": [
    {
     "name": "stdout",
     "output_type": "stream",
     "text": [
      "<class 'pandas.core.frame.DataFrame'>\n",
      "RangeIndex: 204 entries, 0 to 203\n",
      "Data columns (total 80 columns):\n",
      " #   Column                   Non-Null Count  Dtype  \n",
      "---  ------                   --------------  -----  \n",
      " 0   STATION                  204 non-null    object \n",
      " 1   NAME                     204 non-null    object \n",
      " 2   DATE                     204 non-null    int64  \n",
      " 3   MLY-CLDD-BASE45          180 non-null    float64\n",
      " 4   MLY-CLDD-BASE50          180 non-null    float64\n",
      " 5   MLY-CLDD-BASE55          180 non-null    float64\n",
      " 6   MLY-CLDD-BASE57          180 non-null    float64\n",
      " 7   MLY-CLDD-BASE60          180 non-null    float64\n",
      " 8   MLY-CLDD-BASE70          180 non-null    float64\n",
      " 9   MLY-CLDD-BASE72          180 non-null    float64\n",
      " 10  MLY-CLDD-NORMAL          180 non-null    float64\n",
      " 11  MLY-DUTR-NORMAL          180 non-null    float64\n",
      " 12  MLY-DUTR-STDDEV          180 non-null    float64\n",
      " 13  MLY-GRDD-BASE40          180 non-null    float64\n",
      " 14  MLY-GRDD-BASE45          180 non-null    float64\n",
      " 15  MLY-GRDD-BASE50          180 non-null    float64\n",
      " 16  MLY-GRDD-BASE55          180 non-null    float64\n",
      " 17  MLY-GRDD-BASE57          180 non-null    float64\n",
      " 18  MLY-GRDD-BASE60          180 non-null    float64\n",
      " 19  MLY-GRDD-BASE65          180 non-null    float64\n",
      " 20  MLY-GRDD-BASE70          180 non-null    float64\n",
      " 21  MLY-GRDD-BASE72          180 non-null    float64\n",
      " 22  MLY-GRDD-TB4886          180 non-null    float64\n",
      " 23  MLY-GRDD-TB5086          180 non-null    float64\n",
      " 24  MLY-HTDD-BASE40          180 non-null    float64\n",
      " 25  MLY-HTDD-BASE45          180 non-null    float64\n",
      " 26  MLY-HTDD-BASE50          180 non-null    float64\n",
      " 27  MLY-HTDD-BASE55          180 non-null    float64\n",
      " 28  MLY-HTDD-BASE57          180 non-null    float64\n",
      " 29  MLY-HTDD-BASE60          180 non-null    float64\n",
      " 30  MLY-HTDD-NORMAL          180 non-null    float64\n",
      " 31  MLY-PRCP-25PCTL          156 non-null    float64\n",
      " 32  MLY-PRCP-50PCTL          156 non-null    float64\n",
      " 33  MLY-PRCP-75PCTL          156 non-null    float64\n",
      " 34  MLY-PRCP-AVGNDS-GE001HI  156 non-null    float64\n",
      " 35  MLY-PRCP-AVGNDS-GE010HI  156 non-null    float64\n",
      " 36  MLY-PRCP-AVGNDS-GE050HI  156 non-null    float64\n",
      " 37  MLY-PRCP-AVGNDS-GE100HI  156 non-null    float64\n",
      " 38  MLY-PRCP-NORMAL          204 non-null    float64\n",
      " 39  MLY-SNOW-25PCTL          120 non-null    float64\n",
      " 40  MLY-SNOW-50PCTL          120 non-null    float64\n",
      " 41  MLY-SNOW-75PCTL          120 non-null    float64\n",
      " 42  MLY-SNOW-AVGNDS-GE001TI  120 non-null    float64\n",
      " 43  MLY-SNOW-AVGNDS-GE010TI  120 non-null    float64\n",
      " 44  MLY-SNOW-AVGNDS-GE030TI  120 non-null    float64\n",
      " 45  MLY-SNOW-AVGNDS-GE050TI  120 non-null    float64\n",
      " 46  MLY-SNOW-AVGNDS-GE100TI  120 non-null    float64\n",
      " 47  MLY-SNOW-NORMAL          120 non-null    float64\n",
      " 48  MLY-SNWD-AVGNDS-GE001WI  120 non-null    float64\n",
      " 49  MLY-SNWD-AVGNDS-GE003WI  120 non-null    float64\n",
      " 50  MLY-SNWD-AVGNDS-GE005WI  120 non-null    float64\n",
      " 51  MLY-SNWD-AVGNDS-GE010WI  120 non-null    float64\n",
      " 52  MLY-TAVG-NORMAL          180 non-null    float64\n",
      " 53  MLY-TAVG-STDDEV          180 non-null    float64\n",
      " 54  MLY-TMAX-AVGNDS-GRTH040  180 non-null    float64\n",
      " 55  MLY-TMAX-AVGNDS-GRTH050  180 non-null    float64\n",
      " 56  MLY-TMAX-AVGNDS-GRTH060  180 non-null    float64\n",
      " 57  MLY-TMAX-AVGNDS-GRTH070  180 non-null    float64\n",
      " 58  MLY-TMAX-AVGNDS-GRTH080  180 non-null    float64\n",
      " 59  MLY-TMAX-AVGNDS-GRTH090  180 non-null    float64\n",
      " 60  MLY-TMAX-AVGNDS-GRTH100  180 non-null    float64\n",
      " 61  MLY-TMAX-AVGNDS-LSTH032  180 non-null    float64\n",
      " 62  MLY-TMAX-NORMAL          180 non-null    float64\n",
      " 63  MLY-TMAX-STDDEV          180 non-null    float64\n",
      " 64  MLY-TMIN-AVGNDS-LSTH000  180 non-null    float64\n",
      " 65  MLY-TMIN-AVGNDS-LSTH010  180 non-null    float64\n",
      " 66  MLY-TMIN-AVGNDS-LSTH020  180 non-null    float64\n",
      " 67  MLY-TMIN-AVGNDS-LSTH032  180 non-null    float64\n",
      " 68  MLY-TMIN-AVGNDS-LSTH040  180 non-null    float64\n",
      " 69  MLY-TMIN-AVGNDS-LSTH050  180 non-null    float64\n",
      " 70  MLY-TMIN-AVGNDS-LSTH060  180 non-null    float64\n",
      " 71  MLY-TMIN-AVGNDS-LSTH070  180 non-null    float64\n",
      " 72  MLY-TMIN-NORMAL          180 non-null    float64\n",
      " 73  MLY-TMIN-PRBOCC-LSTH016  180 non-null    float64\n",
      " 74  MLY-TMIN-PRBOCC-LSTH020  180 non-null    float64\n",
      " 75  MLY-TMIN-PRBOCC-LSTH024  180 non-null    float64\n",
      " 76  MLY-TMIN-PRBOCC-LSTH028  180 non-null    float64\n",
      " 77  MLY-TMIN-PRBOCC-LSTH032  180 non-null    float64\n",
      " 78  MLY-TMIN-PRBOCC-LSTH036  180 non-null    float64\n",
      " 79  MLY-TMIN-STDDEV          180 non-null    float64\n",
      "dtypes: float64(77), int64(1), object(2)\n",
      "memory usage: 127.6+ KB\n"
     ]
    }
   ],
   "source": [
    "seattle_data.info()"
   ]
  },
  {
   "cell_type": "code",
   "execution_count": 67,
   "metadata": {},
   "outputs": [
    {
     "data": {
      "text/plain": [
       "Index(['STATION', 'NAME', 'DATE', 'MLY-CLDD-BASE45', 'MLY-CLDD-BASE50',\n",
       "       'MLY-CLDD-BASE55', 'MLY-CLDD-BASE57', 'MLY-CLDD-BASE60',\n",
       "       'MLY-CLDD-BASE70', 'MLY-CLDD-BASE72', 'MLY-CLDD-NORMAL',\n",
       "       'MLY-DUTR-NORMAL', 'MLY-DUTR-STDDEV', 'MLY-GRDD-BASE40',\n",
       "       'MLY-GRDD-BASE45', 'MLY-GRDD-BASE50', 'MLY-GRDD-BASE55',\n",
       "       'MLY-GRDD-BASE57', 'MLY-GRDD-BASE60', 'MLY-GRDD-BASE65',\n",
       "       'MLY-GRDD-BASE70', 'MLY-GRDD-BASE72', 'MLY-GRDD-TB4886',\n",
       "       'MLY-GRDD-TB5086', 'MLY-HTDD-BASE40', 'MLY-HTDD-BASE45',\n",
       "       'MLY-HTDD-BASE50', 'MLY-HTDD-BASE55', 'MLY-HTDD-BASE57',\n",
       "       'MLY-HTDD-BASE60', 'MLY-HTDD-NORMAL', 'MLY-PRCP-25PCTL',\n",
       "       'MLY-PRCP-50PCTL', 'MLY-PRCP-75PCTL', 'MLY-PRCP-AVGNDS-GE001HI',\n",
       "       'MLY-PRCP-AVGNDS-GE010HI', 'MLY-PRCP-AVGNDS-GE050HI',\n",
       "       'MLY-PRCP-AVGNDS-GE100HI', 'MLY-PRCP-NORMAL', 'MLY-SNOW-25PCTL',\n",
       "       'MLY-SNOW-50PCTL', 'MLY-SNOW-75PCTL', 'MLY-SNOW-AVGNDS-GE001TI',\n",
       "       'MLY-SNOW-AVGNDS-GE010TI', 'MLY-SNOW-AVGNDS-GE030TI',\n",
       "       'MLY-SNOW-AVGNDS-GE050TI', 'MLY-SNOW-AVGNDS-GE100TI', 'MLY-SNOW-NORMAL',\n",
       "       'MLY-SNWD-AVGNDS-GE001WI', 'MLY-SNWD-AVGNDS-GE003WI',\n",
       "       'MLY-SNWD-AVGNDS-GE005WI', 'MLY-SNWD-AVGNDS-GE010WI', 'MLY-TAVG-NORMAL',\n",
       "       'MLY-TAVG-STDDEV', 'MLY-TMAX-AVGNDS-GRTH040', 'MLY-TMAX-AVGNDS-GRTH050',\n",
       "       'MLY-TMAX-AVGNDS-GRTH060', 'MLY-TMAX-AVGNDS-GRTH070',\n",
       "       'MLY-TMAX-AVGNDS-GRTH080', 'MLY-TMAX-AVGNDS-GRTH090',\n",
       "       'MLY-TMAX-AVGNDS-GRTH100', 'MLY-TMAX-AVGNDS-LSTH032', 'MLY-TMAX-NORMAL',\n",
       "       'MLY-TMAX-STDDEV', 'MLY-TMIN-AVGNDS-LSTH000', 'MLY-TMIN-AVGNDS-LSTH010',\n",
       "       'MLY-TMIN-AVGNDS-LSTH020', 'MLY-TMIN-AVGNDS-LSTH032',\n",
       "       'MLY-TMIN-AVGNDS-LSTH040', 'MLY-TMIN-AVGNDS-LSTH050',\n",
       "       'MLY-TMIN-AVGNDS-LSTH060', 'MLY-TMIN-AVGNDS-LSTH070', 'MLY-TMIN-NORMAL',\n",
       "       'MLY-TMIN-PRBOCC-LSTH016', 'MLY-TMIN-PRBOCC-LSTH020',\n",
       "       'MLY-TMIN-PRBOCC-LSTH024', 'MLY-TMIN-PRBOCC-LSTH028',\n",
       "       'MLY-TMIN-PRBOCC-LSTH032', 'MLY-TMIN-PRBOCC-LSTH036',\n",
       "       'MLY-TMIN-STDDEV'],\n",
       "      dtype='object')"
      ]
     },
     "execution_count": 67,
     "metadata": {},
     "output_type": "execute_result"
    }
   ],
   "source": [
    "seattle_data.columns"
   ]
  },
  {
   "cell_type": "code",
   "execution_count": 68,
   "metadata": {},
   "outputs": [
    {
     "data": {
      "text/html": [
       "<div>\n",
       "<style scoped>\n",
       "    .dataframe tbody tr th:only-of-type {\n",
       "        vertical-align: middle;\n",
       "    }\n",
       "\n",
       "    .dataframe tbody tr th {\n",
       "        vertical-align: top;\n",
       "    }\n",
       "\n",
       "    .dataframe thead th {\n",
       "        text-align: right;\n",
       "    }\n",
       "</style>\n",
       "<table border=\"1\" class=\"dataframe\">\n",
       "  <thead>\n",
       "    <tr style=\"text-align: right;\">\n",
       "      <th></th>\n",
       "      <th>STATION</th>\n",
       "      <th>NAME</th>\n",
       "      <th>DATE</th>\n",
       "      <th>MLY-CLDD-BASE45</th>\n",
       "      <th>MLY-CLDD-BASE50</th>\n",
       "      <th>MLY-CLDD-BASE55</th>\n",
       "      <th>MLY-CLDD-BASE57</th>\n",
       "      <th>MLY-CLDD-BASE60</th>\n",
       "      <th>MLY-CLDD-BASE70</th>\n",
       "      <th>MLY-CLDD-BASE72</th>\n",
       "      <th>...</th>\n",
       "      <th>MLY-TMIN-AVGNDS-LSTH060</th>\n",
       "      <th>MLY-TMIN-AVGNDS-LSTH070</th>\n",
       "      <th>MLY-TMIN-NORMAL</th>\n",
       "      <th>MLY-TMIN-PRBOCC-LSTH016</th>\n",
       "      <th>MLY-TMIN-PRBOCC-LSTH020</th>\n",
       "      <th>MLY-TMIN-PRBOCC-LSTH024</th>\n",
       "      <th>MLY-TMIN-PRBOCC-LSTH028</th>\n",
       "      <th>MLY-TMIN-PRBOCC-LSTH032</th>\n",
       "      <th>MLY-TMIN-PRBOCC-LSTH036</th>\n",
       "      <th>MLY-TMIN-STDDEV</th>\n",
       "    </tr>\n",
       "  </thead>\n",
       "  <tbody>\n",
       "    <tr>\n",
       "      <th>0</th>\n",
       "      <td>USC00456295</td>\n",
       "      <td>PALMER 3 ESE, WA US</td>\n",
       "      <td>1</td>\n",
       "      <td>13.0</td>\n",
       "      <td>1.0</td>\n",
       "      <td>-7777.0</td>\n",
       "      <td>0.0</td>\n",
       "      <td>0.0</td>\n",
       "      <td>0.0</td>\n",
       "      <td>0.0</td>\n",
       "      <td>...</td>\n",
       "      <td>310.0</td>\n",
       "      <td>310.0</td>\n",
       "      <td>34.0</td>\n",
       "      <td>168.0</td>\n",
       "      <td>327.0</td>\n",
       "      <td>615.0</td>\n",
       "      <td>877.0</td>\n",
       "      <td>987.0</td>\n",
       "      <td>1000.0</td>\n",
       "      <td>2.8</td>\n",
       "    </tr>\n",
       "    <tr>\n",
       "      <th>1</th>\n",
       "      <td>USC00456295</td>\n",
       "      <td>PALMER 3 ESE, WA US</td>\n",
       "      <td>2</td>\n",
       "      <td>23.0</td>\n",
       "      <td>3.0</td>\n",
       "      <td>-7777.0</td>\n",
       "      <td>-7777.0</td>\n",
       "      <td>0.0</td>\n",
       "      <td>0.0</td>\n",
       "      <td>0.0</td>\n",
       "      <td>...</td>\n",
       "      <td>280.0</td>\n",
       "      <td>280.0</td>\n",
       "      <td>33.9</td>\n",
       "      <td>132.0</td>\n",
       "      <td>275.0</td>\n",
       "      <td>515.0</td>\n",
       "      <td>800.0</td>\n",
       "      <td>963.0</td>\n",
       "      <td>1000.0</td>\n",
       "      <td>3.1</td>\n",
       "    </tr>\n",
       "    <tr>\n",
       "      <th>2</th>\n",
       "      <td>USC00456295</td>\n",
       "      <td>PALMER 3 ESE, WA US</td>\n",
       "      <td>3</td>\n",
       "      <td>50.0</td>\n",
       "      <td>11.0</td>\n",
       "      <td>1.0</td>\n",
       "      <td>-7777.0</td>\n",
       "      <td>-7777.0</td>\n",
       "      <td>0.0</td>\n",
       "      <td>0.0</td>\n",
       "      <td>...</td>\n",
       "      <td>310.0</td>\n",
       "      <td>310.0</td>\n",
       "      <td>35.9</td>\n",
       "      <td>5.0</td>\n",
       "      <td>47.0</td>\n",
       "      <td>111.0</td>\n",
       "      <td>393.0</td>\n",
       "      <td>848.0</td>\n",
       "      <td>1000.0</td>\n",
       "      <td>2.1</td>\n",
       "    </tr>\n",
       "    <tr>\n",
       "      <th>3</th>\n",
       "      <td>USC00456295</td>\n",
       "      <td>PALMER 3 ESE, WA US</td>\n",
       "      <td>4</td>\n",
       "      <td>108.0</td>\n",
       "      <td>40.0</td>\n",
       "      <td>12.0</td>\n",
       "      <td>7.0</td>\n",
       "      <td>3.0</td>\n",
       "      <td>-7777.0</td>\n",
       "      <td>0.0</td>\n",
       "      <td>...</td>\n",
       "      <td>300.0</td>\n",
       "      <td>300.0</td>\n",
       "      <td>38.3</td>\n",
       "      <td>0.0</td>\n",
       "      <td>0.0</td>\n",
       "      <td>5.0</td>\n",
       "      <td>123.0</td>\n",
       "      <td>571.0</td>\n",
       "      <td>978.0</td>\n",
       "      <td>2.0</td>\n",
       "    </tr>\n",
       "    <tr>\n",
       "      <th>4</th>\n",
       "      <td>USC00456295</td>\n",
       "      <td>PALMER 3 ESE, WA US</td>\n",
       "      <td>5</td>\n",
       "      <td>255.0</td>\n",
       "      <td>130.0</td>\n",
       "      <td>56.0</td>\n",
       "      <td>38.0</td>\n",
       "      <td>19.0</td>\n",
       "      <td>1.0</td>\n",
       "      <td>-7777.0</td>\n",
       "      <td>...</td>\n",
       "      <td>310.0</td>\n",
       "      <td>310.0</td>\n",
       "      <td>43.5</td>\n",
       "      <td>0.0</td>\n",
       "      <td>0.0</td>\n",
       "      <td>0.0</td>\n",
       "      <td>0.0</td>\n",
       "      <td>83.0</td>\n",
       "      <td>610.0</td>\n",
       "      <td>2.0</td>\n",
       "    </tr>\n",
       "  </tbody>\n",
       "</table>\n",
       "<p>5 rows × 80 columns</p>\n",
       "</div>"
      ],
      "text/plain": [
       "       STATION                 NAME  DATE  MLY-CLDD-BASE45  MLY-CLDD-BASE50  \\\n",
       "0  USC00456295  PALMER 3 ESE, WA US     1             13.0              1.0   \n",
       "1  USC00456295  PALMER 3 ESE, WA US     2             23.0              3.0   \n",
       "2  USC00456295  PALMER 3 ESE, WA US     3             50.0             11.0   \n",
       "3  USC00456295  PALMER 3 ESE, WA US     4            108.0             40.0   \n",
       "4  USC00456295  PALMER 3 ESE, WA US     5            255.0            130.0   \n",
       "\n",
       "   MLY-CLDD-BASE55  MLY-CLDD-BASE57  MLY-CLDD-BASE60  MLY-CLDD-BASE70  \\\n",
       "0          -7777.0              0.0              0.0              0.0   \n",
       "1          -7777.0          -7777.0              0.0              0.0   \n",
       "2              1.0          -7777.0          -7777.0              0.0   \n",
       "3             12.0              7.0              3.0          -7777.0   \n",
       "4             56.0             38.0             19.0              1.0   \n",
       "\n",
       "   MLY-CLDD-BASE72  ...  MLY-TMIN-AVGNDS-LSTH060  MLY-TMIN-AVGNDS-LSTH070  \\\n",
       "0              0.0  ...                    310.0                    310.0   \n",
       "1              0.0  ...                    280.0                    280.0   \n",
       "2              0.0  ...                    310.0                    310.0   \n",
       "3              0.0  ...                    300.0                    300.0   \n",
       "4          -7777.0  ...                    310.0                    310.0   \n",
       "\n",
       "   MLY-TMIN-NORMAL  MLY-TMIN-PRBOCC-LSTH016  MLY-TMIN-PRBOCC-LSTH020  \\\n",
       "0             34.0                    168.0                    327.0   \n",
       "1             33.9                    132.0                    275.0   \n",
       "2             35.9                      5.0                     47.0   \n",
       "3             38.3                      0.0                      0.0   \n",
       "4             43.5                      0.0                      0.0   \n",
       "\n",
       "   MLY-TMIN-PRBOCC-LSTH024  MLY-TMIN-PRBOCC-LSTH028  MLY-TMIN-PRBOCC-LSTH032  \\\n",
       "0                    615.0                    877.0                    987.0   \n",
       "1                    515.0                    800.0                    963.0   \n",
       "2                    111.0                    393.0                    848.0   \n",
       "3                      5.0                    123.0                    571.0   \n",
       "4                      0.0                      0.0                     83.0   \n",
       "\n",
       "   MLY-TMIN-PRBOCC-LSTH036  MLY-TMIN-STDDEV  \n",
       "0                   1000.0              2.8  \n",
       "1                   1000.0              3.1  \n",
       "2                   1000.0              2.1  \n",
       "3                    978.0              2.0  \n",
       "4                    610.0              2.0  \n",
       "\n",
       "[5 rows x 80 columns]"
      ]
     },
     "execution_count": 68,
     "metadata": {},
     "output_type": "execute_result"
    }
   ],
   "source": [
    "seattle_data.head()"
   ]
  },
  {
   "cell_type": "code",
   "execution_count": 69,
   "metadata": {},
   "outputs": [
    {
     "data": {
      "text/plain": [
       "array(['PALMER 3 ESE, WA US', 'EVERETT SNOHOMISH CO AIRPORT, WA US',\n",
       "       'SEATTLE TACOMA INTERNATIONAL AIRPORT, WA US',\n",
       "       'TACOMA NUMBER 1, WA US', 'TACOMA NARROWS AIRPORT, WA US',\n",
       "       'WAUNA 3 W, WA US', 'SEATTLE SAND PT WSFO, WA US',\n",
       "       'SEATTLE BOEING FIELD, WA US', 'TOLT SOUTH FORK RESERVOIR, WA US',\n",
       "       'LANDSBURG, WA US', 'RENTON MUNICIPAL AIRPORT, WA US',\n",
       "       'CEDAR LAKE, WA US', 'EVERETT, WA US', 'MONROE, WA US',\n",
       "       'SNOQUALMIE FALLS, WA US', 'BREMERTON, WA US', 'KENT, WA US'],\n",
       "      dtype=object)"
      ]
     },
     "execution_count": 69,
     "metadata": {},
     "output_type": "execute_result"
    }
   ],
   "source": [
    "seattle_data.NAME.unique()"
   ]
  },
  {
   "cell_type": "code",
   "execution_count": 70,
   "metadata": {},
   "outputs": [],
   "source": [
    "tacoma_international = seattle_data.query('NAME == \"SEATTLE TACOMA INTERNATIONAL AIRPORT, WA US\"')"
   ]
  },
  {
   "cell_type": "code",
   "execution_count": 71,
   "metadata": {},
   "outputs": [
    {
     "data": {
      "text/html": [
       "<div>\n",
       "<style scoped>\n",
       "    .dataframe tbody tr th:only-of-type {\n",
       "        vertical-align: middle;\n",
       "    }\n",
       "\n",
       "    .dataframe tbody tr th {\n",
       "        vertical-align: top;\n",
       "    }\n",
       "\n",
       "    .dataframe thead th {\n",
       "        text-align: right;\n",
       "    }\n",
       "</style>\n",
       "<table border=\"1\" class=\"dataframe\">\n",
       "  <thead>\n",
       "    <tr style=\"text-align: right;\">\n",
       "      <th></th>\n",
       "      <th>STATION</th>\n",
       "      <th>NAME</th>\n",
       "      <th>DATE</th>\n",
       "      <th>MLY-CLDD-BASE45</th>\n",
       "      <th>MLY-CLDD-BASE50</th>\n",
       "      <th>MLY-CLDD-BASE55</th>\n",
       "      <th>MLY-CLDD-BASE57</th>\n",
       "      <th>MLY-CLDD-BASE60</th>\n",
       "      <th>MLY-CLDD-BASE70</th>\n",
       "      <th>MLY-CLDD-BASE72</th>\n",
       "      <th>...</th>\n",
       "      <th>MLY-TMIN-AVGNDS-LSTH060</th>\n",
       "      <th>MLY-TMIN-AVGNDS-LSTH070</th>\n",
       "      <th>MLY-TMIN-NORMAL</th>\n",
       "      <th>MLY-TMIN-PRBOCC-LSTH016</th>\n",
       "      <th>MLY-TMIN-PRBOCC-LSTH020</th>\n",
       "      <th>MLY-TMIN-PRBOCC-LSTH024</th>\n",
       "      <th>MLY-TMIN-PRBOCC-LSTH028</th>\n",
       "      <th>MLY-TMIN-PRBOCC-LSTH032</th>\n",
       "      <th>MLY-TMIN-PRBOCC-LSTH036</th>\n",
       "      <th>MLY-TMIN-STDDEV</th>\n",
       "    </tr>\n",
       "  </thead>\n",
       "  <tbody>\n",
       "    <tr>\n",
       "      <th>24</th>\n",
       "      <td>USW00024233</td>\n",
       "      <td>SEATTLE TACOMA INTERNATIONAL AIRPORT, WA US</td>\n",
       "      <td>1</td>\n",
       "      <td>32.0</td>\n",
       "      <td>4.0</td>\n",
       "      <td>-7777.0</td>\n",
       "      <td>-7777.0</td>\n",
       "      <td>0.0</td>\n",
       "      <td>0.0</td>\n",
       "      <td>0.0</td>\n",
       "      <td>...</td>\n",
       "      <td>310.0</td>\n",
       "      <td>310.0</td>\n",
       "      <td>36.9</td>\n",
       "      <td>50.0</td>\n",
       "      <td>152.0</td>\n",
       "      <td>413.0</td>\n",
       "      <td>757.0</td>\n",
       "      <td>954.0</td>\n",
       "      <td>998.0</td>\n",
       "      <td>2.8</td>\n",
       "    </tr>\n",
       "    <tr>\n",
       "      <th>25</th>\n",
       "      <td>USW00024233</td>\n",
       "      <td>SEATTLE TACOMA INTERNATIONAL AIRPORT, WA US</td>\n",
       "      <td>2</td>\n",
       "      <td>38.0</td>\n",
       "      <td>6.0</td>\n",
       "      <td>-7777.0</td>\n",
       "      <td>-7777.0</td>\n",
       "      <td>0.0</td>\n",
       "      <td>0.0</td>\n",
       "      <td>0.0</td>\n",
       "      <td>...</td>\n",
       "      <td>280.0</td>\n",
       "      <td>280.0</td>\n",
       "      <td>36.9</td>\n",
       "      <td>28.0</td>\n",
       "      <td>93.0</td>\n",
       "      <td>291.0</td>\n",
       "      <td>622.0</td>\n",
       "      <td>900.0</td>\n",
       "      <td>1000.0</td>\n",
       "      <td>2.9</td>\n",
       "    </tr>\n",
       "    <tr>\n",
       "      <th>26</th>\n",
       "      <td>USW00024233</td>\n",
       "      <td>SEATTLE TACOMA INTERNATIONAL AIRPORT, WA US</td>\n",
       "      <td>3</td>\n",
       "      <td>83.0</td>\n",
       "      <td>18.0</td>\n",
       "      <td>2.0</td>\n",
       "      <td>1.0</td>\n",
       "      <td>-7777.0</td>\n",
       "      <td>0.0</td>\n",
       "      <td>0.0</td>\n",
       "      <td>...</td>\n",
       "      <td>310.0</td>\n",
       "      <td>310.0</td>\n",
       "      <td>39.3</td>\n",
       "      <td>0.0</td>\n",
       "      <td>5.0</td>\n",
       "      <td>40.0</td>\n",
       "      <td>167.0</td>\n",
       "      <td>613.0</td>\n",
       "      <td>973.0</td>\n",
       "      <td>2.0</td>\n",
       "    </tr>\n",
       "    <tr>\n",
       "      <th>27</th>\n",
       "      <td>USW00024233</td>\n",
       "      <td>SEATTLE TACOMA INTERNATIONAL AIRPORT, WA US</td>\n",
       "      <td>4</td>\n",
       "      <td>166.0</td>\n",
       "      <td>62.0</td>\n",
       "      <td>17.0</td>\n",
       "      <td>9.0</td>\n",
       "      <td>3.0</td>\n",
       "      <td>-7777.0</td>\n",
       "      <td>0.0</td>\n",
       "      <td>...</td>\n",
       "      <td>300.0</td>\n",
       "      <td>300.0</td>\n",
       "      <td>42.2</td>\n",
       "      <td>0.0</td>\n",
       "      <td>0.0</td>\n",
       "      <td>0.0</td>\n",
       "      <td>0.0</td>\n",
       "      <td>79.0</td>\n",
       "      <td>682.0</td>\n",
       "      <td>1.6</td>\n",
       "    </tr>\n",
       "    <tr>\n",
       "      <th>28</th>\n",
       "      <td>USW00024233</td>\n",
       "      <td>SEATTLE TACOMA INTERNATIONAL AIRPORT, WA US</td>\n",
       "      <td>5</td>\n",
       "      <td>341.0</td>\n",
       "      <td>192.0</td>\n",
       "      <td>81.0</td>\n",
       "      <td>53.0</td>\n",
       "      <td>25.0</td>\n",
       "      <td>1.0</td>\n",
       "      <td>-7777.0</td>\n",
       "      <td>...</td>\n",
       "      <td>309.0</td>\n",
       "      <td>310.0</td>\n",
       "      <td>47.3</td>\n",
       "      <td>0.0</td>\n",
       "      <td>0.0</td>\n",
       "      <td>0.0</td>\n",
       "      <td>0.0</td>\n",
       "      <td>0.0</td>\n",
       "      <td>51.0</td>\n",
       "      <td>1.7</td>\n",
       "    </tr>\n",
       "  </tbody>\n",
       "</table>\n",
       "<p>5 rows × 80 columns</p>\n",
       "</div>"
      ],
      "text/plain": [
       "        STATION                                         NAME  DATE  \\\n",
       "24  USW00024233  SEATTLE TACOMA INTERNATIONAL AIRPORT, WA US     1   \n",
       "25  USW00024233  SEATTLE TACOMA INTERNATIONAL AIRPORT, WA US     2   \n",
       "26  USW00024233  SEATTLE TACOMA INTERNATIONAL AIRPORT, WA US     3   \n",
       "27  USW00024233  SEATTLE TACOMA INTERNATIONAL AIRPORT, WA US     4   \n",
       "28  USW00024233  SEATTLE TACOMA INTERNATIONAL AIRPORT, WA US     5   \n",
       "\n",
       "    MLY-CLDD-BASE45  MLY-CLDD-BASE50  MLY-CLDD-BASE55  MLY-CLDD-BASE57  \\\n",
       "24             32.0              4.0          -7777.0          -7777.0   \n",
       "25             38.0              6.0          -7777.0          -7777.0   \n",
       "26             83.0             18.0              2.0              1.0   \n",
       "27            166.0             62.0             17.0              9.0   \n",
       "28            341.0            192.0             81.0             53.0   \n",
       "\n",
       "    MLY-CLDD-BASE60  MLY-CLDD-BASE70  MLY-CLDD-BASE72  ...  \\\n",
       "24              0.0              0.0              0.0  ...   \n",
       "25              0.0              0.0              0.0  ...   \n",
       "26          -7777.0              0.0              0.0  ...   \n",
       "27              3.0          -7777.0              0.0  ...   \n",
       "28             25.0              1.0          -7777.0  ...   \n",
       "\n",
       "    MLY-TMIN-AVGNDS-LSTH060  MLY-TMIN-AVGNDS-LSTH070  MLY-TMIN-NORMAL  \\\n",
       "24                    310.0                    310.0             36.9   \n",
       "25                    280.0                    280.0             36.9   \n",
       "26                    310.0                    310.0             39.3   \n",
       "27                    300.0                    300.0             42.2   \n",
       "28                    309.0                    310.0             47.3   \n",
       "\n",
       "    MLY-TMIN-PRBOCC-LSTH016  MLY-TMIN-PRBOCC-LSTH020  MLY-TMIN-PRBOCC-LSTH024  \\\n",
       "24                     50.0                    152.0                    413.0   \n",
       "25                     28.0                     93.0                    291.0   \n",
       "26                      0.0                      5.0                     40.0   \n",
       "27                      0.0                      0.0                      0.0   \n",
       "28                      0.0                      0.0                      0.0   \n",
       "\n",
       "    MLY-TMIN-PRBOCC-LSTH028  MLY-TMIN-PRBOCC-LSTH032  MLY-TMIN-PRBOCC-LSTH036  \\\n",
       "24                    757.0                    954.0                    998.0   \n",
       "25                    622.0                    900.0                   1000.0   \n",
       "26                    167.0                    613.0                    973.0   \n",
       "27                      0.0                     79.0                    682.0   \n",
       "28                      0.0                      0.0                     51.0   \n",
       "\n",
       "    MLY-TMIN-STDDEV  \n",
       "24              2.8  \n",
       "25              2.9  \n",
       "26              2.0  \n",
       "27              1.6  \n",
       "28              1.7  \n",
       "\n",
       "[5 rows x 80 columns]"
      ]
     },
     "execution_count": 71,
     "metadata": {},
     "output_type": "execute_result"
    }
   ],
   "source": [
    "tacoma_international.head()"
   ]
  },
  {
   "cell_type": "code",
   "execution_count": 72,
   "metadata": {},
   "outputs": [
    {
     "data": {
      "image/png": "[encoded data removed]",
      "text/plain": [
       "<Figure size 432x288 with 1 Axes>"
      ]
     },
     "metadata": {
      "needs_background": "light"
     },
     "output_type": "display_data"
    }
   ],
   "source": [
    "fig, ax = plt.subplots() \n",
    "# fig is the container that holds everything you see on the page\n",
    "# ax is what holds the data\n",
    "plt.show()\n"
   ]
  },
  {
   "cell_type": "code",
   "execution_count": 73,
   "metadata": {},
   "outputs": [
    {
     "data": {
      "image/png": "[encoded data removed]",
      "text/plain": [
       "<Figure size 432x288 with 1 Axes>"
      ]
     },
     "metadata": {
      "needs_background": "light"
     },
     "output_type": "display_data"
    }
   ],
   "source": [
    "fig, ax = plt.subplots()\n",
    "ax.plot(tacoma_international['DATE'], tacoma_international['MLY-TAVG-NORMAL'])\n",
    "plt.show()"
   ]
  },
  {
   "cell_type": "markdown",
   "metadata": {},
   "source": [
    "# Plotting two plots on one graph"
   ]
  },
  {
   "cell_type": "code",
   "execution_count": 74,
   "metadata": {},
   "outputs": [
    {
     "data": {
      "text/html": [
       "<div>\n",
       "<style scoped>\n",
       "    .dataframe tbody tr th:only-of-type {\n",
       "        vertical-align: middle;\n",
       "    }\n",
       "\n",
       "    .dataframe tbody tr th {\n",
       "        vertical-align: top;\n",
       "    }\n",
       "\n",
       "    .dataframe thead th {\n",
       "        text-align: right;\n",
       "    }\n",
       "</style>\n",
       "<table border=\"1\" class=\"dataframe\">\n",
       "  <thead>\n",
       "    <tr style=\"text-align: right;\">\n",
       "      <th></th>\n",
       "      <th>STATION</th>\n",
       "      <th>NAME</th>\n",
       "      <th>DATE</th>\n",
       "      <th>MLY-CLDD-BASE45</th>\n",
       "      <th>MLY-CLDD-BASE50</th>\n",
       "      <th>MLY-CLDD-BASE55</th>\n",
       "      <th>MLY-CLDD-BASE57</th>\n",
       "      <th>MLY-CLDD-BASE60</th>\n",
       "      <th>MLY-CLDD-BASE70</th>\n",
       "      <th>MLY-CLDD-BASE72</th>\n",
       "      <th>...</th>\n",
       "      <th>MLY-TMIN-AVGNDS-LSTH060</th>\n",
       "      <th>MLY-TMIN-AVGNDS-LSTH070</th>\n",
       "      <th>MLY-TMIN-NORMAL</th>\n",
       "      <th>MLY-TMIN-PRBOCC-LSTH016</th>\n",
       "      <th>MLY-TMIN-PRBOCC-LSTH020</th>\n",
       "      <th>MLY-TMIN-PRBOCC-LSTH024</th>\n",
       "      <th>MLY-TMIN-PRBOCC-LSTH028</th>\n",
       "      <th>MLY-TMIN-PRBOCC-LSTH032</th>\n",
       "      <th>MLY-TMIN-PRBOCC-LSTH036</th>\n",
       "      <th>MLY-TMIN-STDDEV</th>\n",
       "    </tr>\n",
       "  </thead>\n",
       "  <tbody>\n",
       "    <tr>\n",
       "      <th>0</th>\n",
       "      <td>USW00013904</td>\n",
       "      <td>AUSTIN BERGSTROM INTERNATIONAL AIRPORT, TX US</td>\n",
       "      <td>1</td>\n",
       "      <td>190</td>\n",
       "      <td>103</td>\n",
       "      <td>50</td>\n",
       "      <td>35</td>\n",
       "      <td>18</td>\n",
       "      <td>1</td>\n",
       "      <td>-7777</td>\n",
       "      <td>...</td>\n",
       "      <td>302</td>\n",
       "      <td>310</td>\n",
       "      <td>36.3</td>\n",
       "      <td>298</td>\n",
       "      <td>570</td>\n",
       "      <td>839</td>\n",
       "      <td>967</td>\n",
       "      <td>997</td>\n",
       "      <td>1000</td>\n",
       "      <td>2.9</td>\n",
       "    </tr>\n",
       "    <tr>\n",
       "      <th>1</th>\n",
       "      <td>USW00013904</td>\n",
       "      <td>AUSTIN BERGSTROM INTERNATIONAL AIRPORT, TX US</td>\n",
       "      <td>2</td>\n",
       "      <td>228</td>\n",
       "      <td>132</td>\n",
       "      <td>68</td>\n",
       "      <td>49</td>\n",
       "      <td>29</td>\n",
       "      <td>3</td>\n",
       "      <td>1</td>\n",
       "      <td>...</td>\n",
       "      <td>264</td>\n",
       "      <td>280</td>\n",
       "      <td>39.4</td>\n",
       "      <td>103</td>\n",
       "      <td>327</td>\n",
       "      <td>614</td>\n",
       "      <td>867</td>\n",
       "      <td>973</td>\n",
       "      <td>999</td>\n",
       "      <td>3.2</td>\n",
       "    </tr>\n",
       "    <tr>\n",
       "      <th>2</th>\n",
       "      <td>USW00013904</td>\n",
       "      <td>AUSTIN BERGSTROM INTERNATIONAL AIRPORT, TX US</td>\n",
       "      <td>3</td>\n",
       "      <td>446</td>\n",
       "      <td>306</td>\n",
       "      <td>185</td>\n",
       "      <td>146</td>\n",
       "      <td>98</td>\n",
       "      <td>13</td>\n",
       "      <td>6</td>\n",
       "      <td>...</td>\n",
       "      <td>270</td>\n",
       "      <td>308</td>\n",
       "      <td>46.6</td>\n",
       "      <td>10</td>\n",
       "      <td>73</td>\n",
       "      <td>242</td>\n",
       "      <td>494</td>\n",
       "      <td>761</td>\n",
       "      <td>928</td>\n",
       "      <td>3.6</td>\n",
       "    </tr>\n",
       "    <tr>\n",
       "      <th>3</th>\n",
       "      <td>USW00013904</td>\n",
       "      <td>AUSTIN BERGSTROM INTERNATIONAL AIRPORT, TX US</td>\n",
       "      <td>4</td>\n",
       "      <td>668</td>\n",
       "      <td>519</td>\n",
       "      <td>373</td>\n",
       "      <td>318</td>\n",
       "      <td>240</td>\n",
       "      <td>53</td>\n",
       "      <td>32</td>\n",
       "      <td>...</td>\n",
       "      <td>193</td>\n",
       "      <td>287</td>\n",
       "      <td>54.7</td>\n",
       "      <td>0</td>\n",
       "      <td>0</td>\n",
       "      <td>0</td>\n",
       "      <td>48</td>\n",
       "      <td>189</td>\n",
       "      <td>453</td>\n",
       "      <td>4.1</td>\n",
       "    </tr>\n",
       "    <tr>\n",
       "      <th>4</th>\n",
       "      <td>USW00013904</td>\n",
       "      <td>AUSTIN BERGSTROM INTERNATIONAL AIRPORT, TX US</td>\n",
       "      <td>5</td>\n",
       "      <td>936</td>\n",
       "      <td>781</td>\n",
       "      <td>626</td>\n",
       "      <td>564</td>\n",
       "      <td>471</td>\n",
       "      <td>181</td>\n",
       "      <td>134</td>\n",
       "      <td>...</td>\n",
       "      <td>89</td>\n",
       "      <td>250</td>\n",
       "      <td>63.7</td>\n",
       "      <td>0</td>\n",
       "      <td>0</td>\n",
       "      <td>0</td>\n",
       "      <td>0</td>\n",
       "      <td>0</td>\n",
       "      <td>0</td>\n",
       "      <td>2.5</td>\n",
       "    </tr>\n",
       "  </tbody>\n",
       "</table>\n",
       "<p>5 rows × 67 columns</p>\n",
       "</div>"
      ],
      "text/plain": [
       "       STATION                                           NAME  DATE  \\\n",
       "0  USW00013904  AUSTIN BERGSTROM INTERNATIONAL AIRPORT, TX US     1   \n",
       "1  USW00013904  AUSTIN BERGSTROM INTERNATIONAL AIRPORT, TX US     2   \n",
       "2  USW00013904  AUSTIN BERGSTROM INTERNATIONAL AIRPORT, TX US     3   \n",
       "3  USW00013904  AUSTIN BERGSTROM INTERNATIONAL AIRPORT, TX US     4   \n",
       "4  USW00013904  AUSTIN BERGSTROM INTERNATIONAL AIRPORT, TX US     5   \n",
       "\n",
       "   MLY-CLDD-BASE45  MLY-CLDD-BASE50  MLY-CLDD-BASE55  MLY-CLDD-BASE57  \\\n",
       "0              190              103               50               35   \n",
       "1              228              132               68               49   \n",
       "2              446              306              185              146   \n",
       "3              668              519              373              318   \n",
       "4              936              781              626              564   \n",
       "\n",
       "   MLY-CLDD-BASE60  MLY-CLDD-BASE70  MLY-CLDD-BASE72  ...  \\\n",
       "0               18                1            -7777  ...   \n",
       "1               29                3                1  ...   \n",
       "2               98               13                6  ...   \n",
       "3              240               53               32  ...   \n",
       "4              471              181              134  ...   \n",
       "\n",
       "   MLY-TMIN-AVGNDS-LSTH060  MLY-TMIN-AVGNDS-LSTH070  MLY-TMIN-NORMAL  \\\n",
       "0                      302                      310             36.3   \n",
       "1                      264                      280             39.4   \n",
       "2                      270                      308             46.6   \n",
       "3                      193                      287             54.7   \n",
       "4                       89                      250             63.7   \n",
       "\n",
       "   MLY-TMIN-PRBOCC-LSTH016  MLY-TMIN-PRBOCC-LSTH020  MLY-TMIN-PRBOCC-LSTH024  \\\n",
       "0                      298                      570                      839   \n",
       "1                      103                      327                      614   \n",
       "2                       10                       73                      242   \n",
       "3                        0                        0                        0   \n",
       "4                        0                        0                        0   \n",
       "\n",
       "   MLY-TMIN-PRBOCC-LSTH028  MLY-TMIN-PRBOCC-LSTH032  MLY-TMIN-PRBOCC-LSTH036  \\\n",
       "0                      967                      997                     1000   \n",
       "1                      867                      973                      999   \n",
       "2                      494                      761                      928   \n",
       "3                       48                      189                      453   \n",
       "4                        0                        0                        0   \n",
       "\n",
       "   MLY-TMIN-STDDEV  \n",
       "0              2.9  \n",
       "1              3.2  \n",
       "2              3.6  \n",
       "3              4.1  \n",
       "4              2.5  \n",
       "\n",
       "[5 rows x 67 columns]"
      ]
     },
     "execution_count": 74,
     "metadata": {},
     "output_type": "execute_result"
    }
   ],
   "source": [
    "# Introducing Austin Data\n",
    "austin_data = pd.read_csv('/Users/joseservin/DataCamp/Courses/Intro_Matplotlib/austin_weather.csv')\n",
    "austin_data.head()"
   ]
  },
  {
   "cell_type": "code",
   "execution_count": 75,
   "metadata": {},
   "outputs": [
    {
     "data": {
      "text/plain": [
       "Index(['STATION', 'NAME', 'DATE', 'MLY-CLDD-BASE45', 'MLY-CLDD-BASE50',\n",
       "       'MLY-CLDD-BASE55', 'MLY-CLDD-BASE57', 'MLY-CLDD-BASE60',\n",
       "       'MLY-CLDD-BASE70', 'MLY-CLDD-BASE72', 'MLY-CLDD-NORMAL',\n",
       "       'MLY-DUTR-NORMAL', 'MLY-DUTR-STDDEV', 'MLY-GRDD-BASE40',\n",
       "       'MLY-GRDD-BASE45', 'MLY-GRDD-BASE50', 'MLY-GRDD-BASE55',\n",
       "       'MLY-GRDD-BASE57', 'MLY-GRDD-BASE60', 'MLY-GRDD-BASE65',\n",
       "       'MLY-GRDD-BASE70', 'MLY-GRDD-BASE72', 'MLY-GRDD-TB4886',\n",
       "       'MLY-GRDD-TB5086', 'MLY-HTDD-BASE40', 'MLY-HTDD-BASE45',\n",
       "       'MLY-HTDD-BASE50', 'MLY-HTDD-BASE55', 'MLY-HTDD-BASE57',\n",
       "       'MLY-HTDD-BASE60', 'MLY-HTDD-NORMAL', 'MLY-PRCP-25PCTL',\n",
       "       'MLY-PRCP-50PCTL', 'MLY-PRCP-75PCTL', 'MLY-PRCP-AVGNDS-GE001HI',\n",
       "       'MLY-PRCP-AVGNDS-GE010HI', 'MLY-PRCP-AVGNDS-GE050HI',\n",
       "       'MLY-PRCP-AVGNDS-GE100HI', 'MLY-PRCP-NORMAL', 'MLY-TAVG-NORMAL',\n",
       "       'MLY-TAVG-STDDEV', 'MLY-TMAX-AVGNDS-GRTH040', 'MLY-TMAX-AVGNDS-GRTH050',\n",
       "       'MLY-TMAX-AVGNDS-GRTH060', 'MLY-TMAX-AVGNDS-GRTH070',\n",
       "       'MLY-TMAX-AVGNDS-GRTH080', 'MLY-TMAX-AVGNDS-GRTH090',\n",
       "       'MLY-TMAX-AVGNDS-GRTH100', 'MLY-TMAX-AVGNDS-LSTH032', 'MLY-TMAX-NORMAL',\n",
       "       'MLY-TMAX-STDDEV', 'MLY-TMIN-AVGNDS-LSTH000', 'MLY-TMIN-AVGNDS-LSTH010',\n",
       "       'MLY-TMIN-AVGNDS-LSTH020', 'MLY-TMIN-AVGNDS-LSTH032',\n",
       "       'MLY-TMIN-AVGNDS-LSTH040', 'MLY-TMIN-AVGNDS-LSTH050',\n",
       "       'MLY-TMIN-AVGNDS-LSTH060', 'MLY-TMIN-AVGNDS-LSTH070', 'MLY-TMIN-NORMAL',\n",
       "       'MLY-TMIN-PRBOCC-LSTH016', 'MLY-TMIN-PRBOCC-LSTH020',\n",
       "       'MLY-TMIN-PRBOCC-LSTH024', 'MLY-TMIN-PRBOCC-LSTH028',\n",
       "       'MLY-TMIN-PRBOCC-LSTH032', 'MLY-TMIN-PRBOCC-LSTH036',\n",
       "       'MLY-TMIN-STDDEV'],\n",
       "      dtype='object')"
      ]
     },
     "execution_count": 75,
     "metadata": {},
     "output_type": "execute_result"
    }
   ],
   "source": [
    "austin_data.columns"
   ]
  },
  {
   "cell_type": "code",
   "execution_count": 76,
   "metadata": {},
   "outputs": [
    {
     "data": {
      "text/plain": [
       "array([ 1,  2,  3,  4,  5,  6,  7,  8,  9, 10, 11, 12])"
      ]
     },
     "execution_count": 76,
     "metadata": {},
     "output_type": "execute_result"
    }
   ],
   "source": [
    "austin_data.DATE.unique()"
   ]
  },
  {
   "cell_type": "code",
   "execution_count": 77,
   "metadata": {},
   "outputs": [
    {
     "data": {
      "text/plain": [
       "STATION                     object\n",
       "NAME                        object\n",
       "DATE                         int64\n",
       "MLY-CLDD-BASE45              int64\n",
       "MLY-CLDD-BASE50              int64\n",
       "                            ...   \n",
       "MLY-TMIN-PRBOCC-LSTH024      int64\n",
       "MLY-TMIN-PRBOCC-LSTH028      int64\n",
       "MLY-TMIN-PRBOCC-LSTH032      int64\n",
       "MLY-TMIN-PRBOCC-LSTH036      int64\n",
       "MLY-TMIN-STDDEV            float64\n",
       "Length: 67, dtype: object"
      ]
     },
     "execution_count": 77,
     "metadata": {},
     "output_type": "execute_result"
    }
   ],
   "source": [
    "austin_data.dtypes"
   ]
  },
  {
   "cell_type": "code",
   "execution_count": 78,
   "metadata": {},
   "outputs": [
    {
     "data": {
      "text/plain": [
       "dtype('float64')"
      ]
     },
     "execution_count": 78,
     "metadata": {},
     "output_type": "execute_result"
    }
   ],
   "source": [
    "austin_data['MLY-TAVG-NORMAL'].dtypes"
   ]
  },
  {
   "cell_type": "code",
   "execution_count": 79,
   "metadata": {},
   "outputs": [
    {
     "data": {
      "image/png": "[encoded data removed]",
      "text/plain": [
       "<Figure size 432x288 with 1 Axes>"
      ]
     },
     "metadata": {
      "needs_background": "light"
     },
     "output_type": "display_data"
    }
   ],
   "source": [
    "fig, ax = plt.subplots()\n",
    "ax.plot(tacoma_international['DATE'], tacoma_international['MLY-TAVG-NORMAL'])\n",
    "ax.plot(austin_data['DATE'], austin_data['MLY-TAVG-NORMAL'])\n",
    "plt.show()"
   ]
  },
  {
   "cell_type": "markdown",
   "metadata": {},
   "source": [
    "# Customizing Plot"
   ]
  },
  {
   "cell_type": "code",
   "execution_count": 80,
   "metadata": {},
   "outputs": [
    {
     "data": {
      "image/png": "[encoded data removed]",
      "text/plain": [
       "<Figure size 432x288 with 1 Axes>"
      ]
     },
     "metadata": {
      "needs_background": "light"
     },
     "output_type": "display_data"
    }
   ],
   "source": [
    "# Re-plotting the Seattle data but this time showing the data wasn't continuously takaen but rather in monthly intervals \n",
    "fig, ax = plt.subplots()\n",
    "ax.plot(tacoma_international['DATE'], tacoma_international['MLY-TAVG-NORMAL'], marker='o') # marker argument is used to show interval time data so it doesn't appear continuous \n",
    "plt.show()"
   ]
  },
  {
   "cell_type": "code",
   "execution_count": 81,
   "metadata": {},
   "outputs": [
    {
     "data": {
      "image/png": "[encoded data removed]",
      "text/plain": [
       "<Figure size 432x288 with 1 Axes>"
      ]
     },
     "metadata": {
      "needs_background": "light"
     },
     "output_type": "display_data"
    }
   ],
   "source": [
    "# Re-plotting the Seattle data but this time showing the data wasn't continuously takaen but rather in monthly intervals \n",
    "fig, ax = plt.subplots()\n",
    "ax.plot(tacoma_international['DATE'], tacoma_international['MLY-TAVG-NORMAL'], marker='v') # marker argument is used to show interval time data so it doesn't appear continuous \n",
    "plt.show()"
   ]
  },
  {
   "cell_type": "code",
   "execution_count": 82,
   "metadata": {},
   "outputs": [
    {
     "data": {
      "image/png": "[encoded data removed]",
      "text/plain": [
       "<Figure size 432x288 with 1 Axes>"
      ]
     },
     "metadata": {
      "needs_background": "light"
     },
     "output_type": "display_data"
    }
   ],
   "source": [
    "# Re-plotting the Seattle data but this time showing the data wasn't continuously takaen but rather in monthly intervals \n",
    "fig, ax = plt.subplots()\n",
    "ax.plot(tacoma_international['DATE'], tacoma_international['MLY-TAVG-NORMAL'], marker='o', linestyle=\"--\") # marker argument is used to show interval time data so it doesn't appear continuous \n",
    "plt.show()"
   ]
  },
  {
   "cell_type": "code",
   "execution_count": 83,
   "metadata": {},
   "outputs": [
    {
     "data": {
      "image/png": "[encoded data removed]",
      "text/plain": [
       "<Figure size 432x288 with 1 Axes>"
      ]
     },
     "metadata": {
      "needs_background": "light"
     },
     "output_type": "display_data"
    }
   ],
   "source": [
    "# Re-plotting the Seattle data but this time showing the data wasn't continuously takaen but rather in monthly intervals \n",
    "fig, ax = plt.subplots()\n",
    "ax.plot(\n",
    "    tacoma_international['DATE'], \n",
    "    tacoma_international['MLY-TAVG-NORMAL'], \n",
    "    marker='o', \n",
    "    linestyle='None', \n",
    "    color= 'r'   \n",
    "    )\n",
    "plt.show()"
   ]
  },
  {
   "cell_type": "code",
   "execution_count": 84,
   "metadata": {},
   "outputs": [
    {
     "data": {
      "image/png": "[encoded data removed]",
      "text/plain": [
       "<Figure size 432x288 with 1 Axes>"
      ]
     },
     "metadata": {
      "needs_background": "light"
     },
     "output_type": "display_data"
    }
   ],
   "source": [
    "# Re-plotting the Seattle data but this time showing the data wasn't continuously takaen but rather in monthly intervals \n",
    "fig, ax = plt.subplots()\n",
    "ax.plot(\n",
    "    tacoma_international['DATE'], \n",
    "    tacoma_international['MLY-TAVG-NORMAL'], \n",
    "    marker='o', \n",
    "    linestyle='None', \n",
    "    color= 'r'   \n",
    "    )\n",
    "ax.set_xlabel('Time (months)')\n",
    "ax.set_ylabel('Average temperature (F)')\n",
    "ax.set_title('Average Yearly Seattle Temperature')\n",
    "plt.show()"
   ]
  },
  {
   "cell_type": "markdown",
   "metadata": {},
   "source": [
    "# Small Multiples"
   ]
  },
  {
   "cell_type": "code",
   "execution_count": 85,
   "metadata": {},
   "outputs": [
    {
     "data": {
      "image/png": "[encoded data removed]",
      "text/plain": [
       "<Figure size 432x288 with 1 Axes>"
      ]
     },
     "metadata": {
      "needs_background": "light"
     },
     "output_type": "display_data"
    }
   ],
   "source": [
    "fig, ax  = plt.subplots()\n",
    "ax.plot(\n",
    "    tacoma_international['DATE'],\n",
    "    tacoma_international['MLY-PRCP-NORMAL'],\n",
    "    color='b'\n",
    ")\n",
    "ax.plot(\n",
    "    tacoma_international['DATE'],\n",
    "    tacoma_international['MLY-PRCP-25PCTL'],\n",
    "    linestyle=\"--\",\n",
    "    color = 'b'\n",
    ")\n",
    "ax.plot(\n",
    "    tacoma_international['DATE'],\n",
    "    tacoma_international['MLY-PRCP-75PCTL'],\n",
    "    linestyle = \"--\",\n",
    "    color = 'b'\n",
    ")\n",
    "ax.set_xlabel(\"Time (months)\")\n",
    "ax.set_ylabel(\"Precipitation (inches)\")\n",
    "plt.show()"
   ]
  },
  {
   "cell_type": "code",
   "execution_count": 86,
   "metadata": {},
   "outputs": [
    {
     "data": {
      "image/png": "[encoded data removed]",
      "text/plain": [
       "<Figure size 432x288 with 2 Axes>"
      ]
     },
     "metadata": {
      "needs_background": "light"
     },
     "output_type": "display_data"
    }
   ],
   "source": [
    "fig, ax  = plt.subplots(2,1, sharey= True) # sharey allows of comparison across multiple range data in the y axis \n",
    "ax[0].plot(\n",
    "    tacoma_international['DATE'],\n",
    "    tacoma_international['MLY-PRCP-NORMAL'],\n",
    "    color='b'\n",
    ")\n",
    "ax[0].plot(\n",
    "    tacoma_international['DATE'],\n",
    "    tacoma_international['MLY-PRCP-25PCTL'],\n",
    "    linestyle=\"--\",\n",
    "    color = 'b'\n",
    ")\n",
    "ax[0].plot(\n",
    "    tacoma_international['DATE'],\n",
    "    tacoma_international['MLY-PRCP-75PCTL'],\n",
    "    linestyle = \"--\",\n",
    "    color = 'b'\n",
    ")\n",
    "ax[1].plot(\n",
    "    austin_data['DATE'],\n",
    "    austin_data['MLY-PRCP-NORMAL'],\n",
    "    color='g'\n",
    ")\n",
    "ax[1].plot(\n",
    "    austin_data['DATE'],\n",
    "    austin_data['MLY-PRCP-25PCTL'],\n",
    "    linestyle=\"--\",\n",
    "    color = 'g'\n",
    ")\n",
    "ax[1].plot(\n",
    "    austin_data['DATE'],\n",
    "    austin_data['MLY-PRCP-75PCTL'],\n",
    "    linestyle = \"--\",\n",
    "    color = 'g'\n",
    ")\n",
    "\n",
    "ax[1].set_xlabel(\"Time (months)\") # last index graph gets the title \n",
    "ax[0].set_ylabel(\"Precipitation (inches)\")\n",
    "ax[1].set_ylabel('Precipitation (incehs)')\n",
    "plt.show()"
   ]
  },
  {
   "cell_type": "markdown",
   "metadata": {},
   "source": [
    "\n",
    "# Plotting time-series data"
   ]
  },
  {
   "cell_type": "code",
   "execution_count": 87,
   "metadata": {},
   "outputs": [
    {
     "data": {
      "text/html": [
       "<div>\n",
       "<style scoped>\n",
       "    .dataframe tbody tr th:only-of-type {\n",
       "        vertical-align: middle;\n",
       "    }\n",
       "\n",
       "    .dataframe tbody tr th {\n",
       "        vertical-align: top;\n",
       "    }\n",
       "\n",
       "    .dataframe thead th {\n",
       "        text-align: right;\n",
       "    }\n",
       "</style>\n",
       "<table border=\"1\" class=\"dataframe\">\n",
       "  <thead>\n",
       "    <tr style=\"text-align: right;\">\n",
       "      <th></th>\n",
       "      <th>date</th>\n",
       "      <th>co2</th>\n",
       "      <th>relative_temp</th>\n",
       "    </tr>\n",
       "  </thead>\n",
       "  <tbody>\n",
       "    <tr>\n",
       "      <th>0</th>\n",
       "      <td>1958-03-06</td>\n",
       "      <td>315.71</td>\n",
       "      <td>0.10</td>\n",
       "    </tr>\n",
       "    <tr>\n",
       "      <th>1</th>\n",
       "      <td>1958-04-06</td>\n",
       "      <td>317.45</td>\n",
       "      <td>0.01</td>\n",
       "    </tr>\n",
       "    <tr>\n",
       "      <th>2</th>\n",
       "      <td>1958-05-06</td>\n",
       "      <td>317.50</td>\n",
       "      <td>0.08</td>\n",
       "    </tr>\n",
       "    <tr>\n",
       "      <th>3</th>\n",
       "      <td>1958-06-06</td>\n",
       "      <td>NaN</td>\n",
       "      <td>-0.05</td>\n",
       "    </tr>\n",
       "    <tr>\n",
       "      <th>4</th>\n",
       "      <td>1958-07-06</td>\n",
       "      <td>315.86</td>\n",
       "      <td>0.06</td>\n",
       "    </tr>\n",
       "  </tbody>\n",
       "</table>\n",
       "</div>"
      ],
      "text/plain": [
       "         date     co2  relative_temp\n",
       "0  1958-03-06  315.71           0.10\n",
       "1  1958-04-06  317.45           0.01\n",
       "2  1958-05-06  317.50           0.08\n",
       "3  1958-06-06     NaN          -0.05\n",
       "4  1958-07-06  315.86           0.06"
      ]
     },
     "execution_count": 87,
     "metadata": {},
     "output_type": "execute_result"
    }
   ],
   "source": [
    "# Introducing climaate change dataset for time-series analysis \n",
    "climate_data = pd.read_csv('/Users/joseservin/DataCamp/Courses/Intro_Matplotlib/climate_change.csv') \n",
    "climate_data.head()"
   ]
  },
  {
   "cell_type": "code",
   "execution_count": 88,
   "metadata": {},
   "outputs": [
    {
     "name": "stdout",
     "output_type": "stream",
     "text": [
      "<class 'pandas.core.frame.DataFrame'>\n",
      "RangeIndex: 706 entries, 0 to 705\n",
      "Data columns (total 3 columns):\n",
      " #   Column         Non-Null Count  Dtype  \n",
      "---  ------         --------------  -----  \n",
      " 0   date           706 non-null    object \n",
      " 1   co2            699 non-null    float64\n",
      " 2   relative_temp  706 non-null    float64\n",
      "dtypes: float64(2), object(1)\n",
      "memory usage: 16.7+ KB\n"
     ]
    }
   ],
   "source": [
    "climate_data.info()"
   ]
  },
  {
   "cell_type": "code",
   "execution_count": 89,
   "metadata": {},
   "outputs": [],
   "source": [
    "# converting date column to datetime \n",
    "climate_data['date'] = pd.to_datetime(climate_data['date'])"
   ]
  },
  {
   "cell_type": "code",
   "execution_count": 90,
   "metadata": {},
   "outputs": [
    {
     "name": "stdout",
     "output_type": "stream",
     "text": [
      "<class 'pandas.core.frame.DataFrame'>\n",
      "RangeIndex: 706 entries, 0 to 705\n",
      "Data columns (total 3 columns):\n",
      " #   Column         Non-Null Count  Dtype         \n",
      "---  ------         --------------  -----         \n",
      " 0   date           706 non-null    datetime64[ns]\n",
      " 1   co2            699 non-null    float64       \n",
      " 2   relative_temp  706 non-null    float64       \n",
      "dtypes: datetime64[ns](1), float64(2)\n",
      "memory usage: 16.7 KB\n"
     ]
    }
   ],
   "source": [
    "climate_data.info()"
   ]
  },
  {
   "cell_type": "code",
   "execution_count": 91,
   "metadata": {},
   "outputs": [
    {
     "data": {
      "text/plain": [
       "RangeIndex(start=0, stop=706, step=1)"
      ]
     },
     "execution_count": 91,
     "metadata": {},
     "output_type": "execute_result"
    }
   ],
   "source": [
    "climate_data.index"
   ]
  },
  {
   "cell_type": "code",
   "execution_count": 92,
   "metadata": {},
   "outputs": [],
   "source": [
    "climate_data.set_index('date', inplace=True)"
   ]
  },
  {
   "cell_type": "code",
   "execution_count": 93,
   "metadata": {},
   "outputs": [
    {
     "data": {
      "text/plain": [
       "DatetimeIndex(['1958-03-06', '1958-04-06', '1958-05-06', '1958-06-06',\n",
       "               '1958-07-06', '1958-08-06', '1958-09-06', '1958-10-06',\n",
       "               '1958-11-06', '1958-12-06',\n",
       "               ...\n",
       "               '2016-03-06', '2016-04-06', '2016-05-06', '2016-06-06',\n",
       "               '2016-07-06', '2016-08-06', '2016-09-06', '2016-10-06',\n",
       "               '2016-11-06', '2016-12-06'],\n",
       "              dtype='datetime64[ns]', name='date', length=706, freq=None)"
      ]
     },
     "execution_count": 93,
     "metadata": {},
     "output_type": "execute_result"
    }
   ],
   "source": [
    "climate_data.index"
   ]
  },
  {
   "cell_type": "code",
   "execution_count": 94,
   "metadata": {},
   "outputs": [
    {
     "data": {
      "text/plain": [
       "co2              7\n",
       "relative_temp    0\n",
       "dtype: int64"
      ]
     },
     "execution_count": 94,
     "metadata": {},
     "output_type": "execute_result"
    }
   ],
   "source": [
    "climate_data.isna().sum()"
   ]
  },
  {
   "cell_type": "code",
   "execution_count": 95,
   "metadata": {},
   "outputs": [
    {
     "data": {
      "image/png": "[encoded data removed]",
      "text/plain": [
       "<Figure size 432x288 with 1 Axes>"
      ]
     },
     "metadata": {
      "needs_background": "light"
     },
     "output_type": "display_data"
    }
   ],
   "source": [
    "# Beging plotting data \n",
    "fig, ax = plt.subplots()\n",
    "\n",
    "# plot time vs co2\n",
    "ax.plot(climate_data.index, climate_data['co2'])\n",
    "ax.set_xlabel('Time')\n",
    "ax.set_ylabel('CO2 (ppm)')\n",
    "plt.show()"
   ]
  },
  {
   "cell_type": "markdown",
   "metadata": {},
   "source": [
    "What does this tell us?\n",
    "There are small seasonal flucuations in CO2 per year but overall we see an increasing trend YoY"
   ]
  },
  {
   "cell_type": "code",
   "execution_count": 96,
   "metadata": {},
   "outputs": [],
   "source": [
    "# Zooming in on a decade (60's)\n",
    "sixties = climate_data['1960-01-01':\"1969-12-31\"]"
   ]
  },
  {
   "cell_type": "code",
   "execution_count": 100,
   "metadata": {},
   "outputs": [
    {
     "data": {
      "text/plain": [
       "(120, 2)"
      ]
     },
     "execution_count": 100,
     "metadata": {},
     "output_type": "execute_result"
    }
   ],
   "source": [
    "sixties.shape # 12 readers per year for 10 years = 120 readings \"rows\""
   ]
  },
  {
   "cell_type": "code",
   "execution_count": 106,
   "metadata": {},
   "outputs": [
    {
     "data": {
      "image/png": "[encoded data removed]",
      "text/plain": [
       "<Figure size 432x288 with 1 Axes>"
      ]
     },
     "metadata": {
      "needs_background": "light"
     },
     "output_type": "display_data"
    }
   ],
   "source": [
    "fig, ax = plt.subplots()\n",
    "\n",
    "ax.plot(sixties.index, sixties['co2'])\n",
    "ax.set_xlabel (\"Time\")\n",
    "ax.set_ylabel ('CO2 (ppm)')\n",
    "plt.show()"
   ]
  },
  {
   "cell_type": "code",
   "execution_count": 102,
   "metadata": {},
   "outputs": [],
   "source": [
    "# zooming in mnore to examine one year's worth of data \n",
    "twenty_twelve = climate_data[\"2012-01-01\":\"2012-12-31\"]"
   ]
  },
  {
   "cell_type": "code",
   "execution_count": 104,
   "metadata": {},
   "outputs": [
    {
     "data": {
      "text/html": [
       "<div>\n",
       "<style scoped>\n",
       "    .dataframe tbody tr th:only-of-type {\n",
       "        vertical-align: middle;\n",
       "    }\n",
       "\n",
       "    .dataframe tbody tr th {\n",
       "        vertical-align: top;\n",
       "    }\n",
       "\n",
       "    .dataframe thead th {\n",
       "        text-align: right;\n",
       "    }\n",
       "</style>\n",
       "<table border=\"1\" class=\"dataframe\">\n",
       "  <thead>\n",
       "    <tr style=\"text-align: right;\">\n",
       "      <th></th>\n",
       "      <th>co2</th>\n",
       "      <th>relative_temp</th>\n",
       "    </tr>\n",
       "    <tr>\n",
       "      <th>date</th>\n",
       "      <th></th>\n",
       "      <th></th>\n",
       "    </tr>\n",
       "  </thead>\n",
       "  <tbody>\n",
       "    <tr>\n",
       "      <th>2012-01-06</th>\n",
       "      <td>393.12</td>\n",
       "      <td>0.46</td>\n",
       "    </tr>\n",
       "    <tr>\n",
       "      <th>2012-02-06</th>\n",
       "      <td>393.86</td>\n",
       "      <td>0.49</td>\n",
       "    </tr>\n",
       "    <tr>\n",
       "      <th>2012-03-06</th>\n",
       "      <td>394.40</td>\n",
       "      <td>0.58</td>\n",
       "    </tr>\n",
       "    <tr>\n",
       "      <th>2012-04-06</th>\n",
       "      <td>396.18</td>\n",
       "      <td>0.69</td>\n",
       "    </tr>\n",
       "    <tr>\n",
       "      <th>2012-05-06</th>\n",
       "      <td>396.74</td>\n",
       "      <td>0.76</td>\n",
       "    </tr>\n",
       "    <tr>\n",
       "      <th>2012-06-06</th>\n",
       "      <td>395.71</td>\n",
       "      <td>0.62</td>\n",
       "    </tr>\n",
       "    <tr>\n",
       "      <th>2012-07-06</th>\n",
       "      <td>394.36</td>\n",
       "      <td>0.57</td>\n",
       "    </tr>\n",
       "    <tr>\n",
       "      <th>2012-08-06</th>\n",
       "      <td>392.39</td>\n",
       "      <td>0.63</td>\n",
       "    </tr>\n",
       "    <tr>\n",
       "      <th>2012-09-06</th>\n",
       "      <td>391.11</td>\n",
       "      <td>0.76</td>\n",
       "    </tr>\n",
       "    <tr>\n",
       "      <th>2012-10-06</th>\n",
       "      <td>391.05</td>\n",
       "      <td>0.78</td>\n",
       "    </tr>\n",
       "    <tr>\n",
       "      <th>2012-11-06</th>\n",
       "      <td>392.98</td>\n",
       "      <td>0.75</td>\n",
       "    </tr>\n",
       "    <tr>\n",
       "      <th>2012-12-06</th>\n",
       "      <td>394.34</td>\n",
       "      <td>0.53</td>\n",
       "    </tr>\n",
       "  </tbody>\n",
       "</table>\n",
       "</div>"
      ],
      "text/plain": [
       "               co2  relative_temp\n",
       "date                             \n",
       "2012-01-06  393.12           0.46\n",
       "2012-02-06  393.86           0.49\n",
       "2012-03-06  394.40           0.58\n",
       "2012-04-06  396.18           0.69\n",
       "2012-05-06  396.74           0.76\n",
       "2012-06-06  395.71           0.62\n",
       "2012-07-06  394.36           0.57\n",
       "2012-08-06  392.39           0.63\n",
       "2012-09-06  391.11           0.76\n",
       "2012-10-06  391.05           0.78\n",
       "2012-11-06  392.98           0.75\n",
       "2012-12-06  394.34           0.53"
      ]
     },
     "execution_count": 104,
     "metadata": {},
     "output_type": "execute_result"
    }
   ],
   "source": [
    "twenty_twelve"
   ]
  },
  {
   "cell_type": "code",
   "execution_count": 107,
   "metadata": {},
   "outputs": [
    {
     "data": {
      "image/png": "[encoded data removed]",
      "text/plain": [
       "<Figure size 432x288 with 1 Axes>"
      ]
     },
     "metadata": {
      "needs_background": "light"
     },
     "output_type": "display_data"
    }
   ],
   "source": [
    "fig, ax = plt.subplots()\n",
    "\n",
    "ax.plot(twenty_twelve.index, twenty_twelve['co2'])\n",
    "ax.set_xlabel (\"Time\")\n",
    "ax.set_ylabel ('CO2 (ppm)')\n",
    "plt.show()"
   ]
  },
  {
   "cell_type": "markdown",
   "metadata": {},
   "source": [
    "# Plotting time-series with different variables\n"
   ]
  },
  {
   "cell_type": "code",
   "execution_count": 110,
   "metadata": {},
   "outputs": [
    {
     "data": {
      "text/html": [
       "<div>\n",
       "<style scoped>\n",
       "    .dataframe tbody tr th:only-of-type {\n",
       "        vertical-align: middle;\n",
       "    }\n",
       "\n",
       "    .dataframe tbody tr th {\n",
       "        vertical-align: top;\n",
       "    }\n",
       "\n",
       "    .dataframe thead th {\n",
       "        text-align: right;\n",
       "    }\n",
       "</style>\n",
       "<table border=\"1\" class=\"dataframe\">\n",
       "  <thead>\n",
       "    <tr style=\"text-align: right;\">\n",
       "      <th></th>\n",
       "      <th>co2</th>\n",
       "      <th>relative_temp</th>\n",
       "    </tr>\n",
       "    <tr>\n",
       "      <th>date</th>\n",
       "      <th></th>\n",
       "      <th></th>\n",
       "    </tr>\n",
       "  </thead>\n",
       "  <tbody>\n",
       "    <tr>\n",
       "      <th>2012-01-06</th>\n",
       "      <td>393.12</td>\n",
       "      <td>0.46</td>\n",
       "    </tr>\n",
       "    <tr>\n",
       "      <th>2012-02-06</th>\n",
       "      <td>393.86</td>\n",
       "      <td>0.49</td>\n",
       "    </tr>\n",
       "    <tr>\n",
       "      <th>2012-03-06</th>\n",
       "      <td>394.40</td>\n",
       "      <td>0.58</td>\n",
       "    </tr>\n",
       "    <tr>\n",
       "      <th>2012-04-06</th>\n",
       "      <td>396.18</td>\n",
       "      <td>0.69</td>\n",
       "    </tr>\n",
       "    <tr>\n",
       "      <th>2012-05-06</th>\n",
       "      <td>396.74</td>\n",
       "      <td>0.76</td>\n",
       "    </tr>\n",
       "    <tr>\n",
       "      <th>2012-06-06</th>\n",
       "      <td>395.71</td>\n",
       "      <td>0.62</td>\n",
       "    </tr>\n",
       "    <tr>\n",
       "      <th>2012-07-06</th>\n",
       "      <td>394.36</td>\n",
       "      <td>0.57</td>\n",
       "    </tr>\n",
       "    <tr>\n",
       "      <th>2012-08-06</th>\n",
       "      <td>392.39</td>\n",
       "      <td>0.63</td>\n",
       "    </tr>\n",
       "    <tr>\n",
       "      <th>2012-09-06</th>\n",
       "      <td>391.11</td>\n",
       "      <td>0.76</td>\n",
       "    </tr>\n",
       "    <tr>\n",
       "      <th>2012-10-06</th>\n",
       "      <td>391.05</td>\n",
       "      <td>0.78</td>\n",
       "    </tr>\n",
       "    <tr>\n",
       "      <th>2012-11-06</th>\n",
       "      <td>392.98</td>\n",
       "      <td>0.75</td>\n",
       "    </tr>\n",
       "    <tr>\n",
       "      <th>2012-12-06</th>\n",
       "      <td>394.34</td>\n",
       "      <td>0.53</td>\n",
       "    </tr>\n",
       "  </tbody>\n",
       "</table>\n",
       "</div>"
      ],
      "text/plain": [
       "               co2  relative_temp\n",
       "date                             \n",
       "2012-01-06  393.12           0.46\n",
       "2012-02-06  393.86           0.49\n",
       "2012-03-06  394.40           0.58\n",
       "2012-04-06  396.18           0.69\n",
       "2012-05-06  396.74           0.76\n",
       "2012-06-06  395.71           0.62\n",
       "2012-07-06  394.36           0.57\n",
       "2012-08-06  392.39           0.63\n",
       "2012-09-06  391.11           0.76\n",
       "2012-10-06  391.05           0.78\n",
       "2012-11-06  392.98           0.75\n",
       "2012-12-06  394.34           0.53"
      ]
     },
     "execution_count": 110,
     "metadata": {},
     "output_type": "execute_result"
    }
   ],
   "source": [
    "twenty_twelve"
   ]
  },
  {
   "cell_type": "code",
   "execution_count": 109,
   "metadata": {},
   "outputs": [
    {
     "data": {
      "text/plain": [
       "[]"
      ]
     },
     "execution_count": 109,
     "metadata": {},
     "output_type": "execute_result"
    },
    {
     "data": {
      "image/png": "[encoded data removed]",
      "text/plain": [
       "<Figure size 432x288 with 1 Axes>"
      ]
     },
     "metadata": {
      "needs_background": "light"
     },
     "output_type": "display_data"
    }
   ],
   "source": [
    "fig, ax = plt.subplots()\n",
    "\n",
    "ax.plot(twenty_twelve.index, twenty_twelve['co2'])\n",
    "ax.plot(twenty_twelve.index, twenty_twelve['relative_temp'])\n",
    "\n",
    "ax.plot()"
   ]
  },
  {
   "cell_type": "markdown",
   "metadata": {},
   "source": [
    "## Using twin axes"
   ]
  },
  {
   "cell_type": "code",
   "execution_count": 118,
   "metadata": {},
   "outputs": [
    {
     "data": {
      "image/png": "[encoded data removed]",
      "text/plain": [
       "<Figure size 432x288 with 2 Axes>"
      ]
     },
     "metadata": {
      "needs_background": "light"
     },
     "output_type": "display_data"
    }
   ],
   "source": [
    "fig, ax = plt.subplots()\n",
    "\n",
    "ax.plot(climate_data.index, climate_data['co2'], c='r')\n",
    "ax.set_xlabel('Time')\n",
    "ax.set_ylabel('CO2 (ppm)', color='r')\n",
    "ax.tick_params('y', colors='r')\n",
    "\n",
    "ax2 = ax.twinx()\n",
    "\n",
    "ax2.plot(climate_data.index, climate_data['relative_temp'], c='g')\n",
    "ax2.set_ylabel('Relative temp (C)', color='g')\n",
    "ax2.tick_params('y',colors='g')\n",
    "\n",
    "plt.show()"
   ]
  },
  {
   "cell_type": "markdown",
   "metadata": {},
   "source": [
    "## Function that plots time-series data"
   ]
  },
  {
   "cell_type": "code",
   "execution_count": 119,
   "metadata": {},
   "outputs": [],
   "source": [
    "def plot_timeseries (axes, x_var, y_var, color, x_label, y_label):\n",
    "    axes.plot(x_var, y_var, color=color)\n",
    "    axes.set_xlabel(x_label)\n",
    "    axes.set_ylabel(y_label, color=color)\n",
    "    axes.tick_params('y', colors=color)"
   ]
  },
  {
   "cell_type": "code",
   "execution_count": 122,
   "metadata": {},
   "outputs": [
    {
     "data": {
      "text/html": [
       "<div>\n",
       "<style scoped>\n",
       "    .dataframe tbody tr th:only-of-type {\n",
       "        vertical-align: middle;\n",
       "    }\n",
       "\n",
       "    .dataframe tbody tr th {\n",
       "        vertical-align: top;\n",
       "    }\n",
       "\n",
       "    .dataframe thead th {\n",
       "        text-align: right;\n",
       "    }\n",
       "</style>\n",
       "<table border=\"1\" class=\"dataframe\">\n",
       "  <thead>\n",
       "    <tr style=\"text-align: right;\">\n",
       "      <th></th>\n",
       "      <th>co2</th>\n",
       "      <th>relative_temp</th>\n",
       "    </tr>\n",
       "    <tr>\n",
       "      <th>date</th>\n",
       "      <th></th>\n",
       "      <th></th>\n",
       "    </tr>\n",
       "  </thead>\n",
       "  <tbody>\n",
       "    <tr>\n",
       "      <th>2012-01-06</th>\n",
       "      <td>393.12</td>\n",
       "      <td>0.46</td>\n",
       "    </tr>\n",
       "    <tr>\n",
       "      <th>2012-02-06</th>\n",
       "      <td>393.86</td>\n",
       "      <td>0.49</td>\n",
       "    </tr>\n",
       "    <tr>\n",
       "      <th>2012-03-06</th>\n",
       "      <td>394.40</td>\n",
       "      <td>0.58</td>\n",
       "    </tr>\n",
       "    <tr>\n",
       "      <th>2012-04-06</th>\n",
       "      <td>396.18</td>\n",
       "      <td>0.69</td>\n",
       "    </tr>\n",
       "    <tr>\n",
       "      <th>2012-05-06</th>\n",
       "      <td>396.74</td>\n",
       "      <td>0.76</td>\n",
       "    </tr>\n",
       "    <tr>\n",
       "      <th>2012-06-06</th>\n",
       "      <td>395.71</td>\n",
       "      <td>0.62</td>\n",
       "    </tr>\n",
       "    <tr>\n",
       "      <th>2012-07-06</th>\n",
       "      <td>394.36</td>\n",
       "      <td>0.57</td>\n",
       "    </tr>\n",
       "    <tr>\n",
       "      <th>2012-08-06</th>\n",
       "      <td>392.39</td>\n",
       "      <td>0.63</td>\n",
       "    </tr>\n",
       "    <tr>\n",
       "      <th>2012-09-06</th>\n",
       "      <td>391.11</td>\n",
       "      <td>0.76</td>\n",
       "    </tr>\n",
       "    <tr>\n",
       "      <th>2012-10-06</th>\n",
       "      <td>391.05</td>\n",
       "      <td>0.78</td>\n",
       "    </tr>\n",
       "    <tr>\n",
       "      <th>2012-11-06</th>\n",
       "      <td>392.98</td>\n",
       "      <td>0.75</td>\n",
       "    </tr>\n",
       "    <tr>\n",
       "      <th>2012-12-06</th>\n",
       "      <td>394.34</td>\n",
       "      <td>0.53</td>\n",
       "    </tr>\n",
       "  </tbody>\n",
       "</table>\n",
       "</div>"
      ],
      "text/plain": [
       "               co2  relative_temp\n",
       "date                             \n",
       "2012-01-06  393.12           0.46\n",
       "2012-02-06  393.86           0.49\n",
       "2012-03-06  394.40           0.58\n",
       "2012-04-06  396.18           0.69\n",
       "2012-05-06  396.74           0.76\n",
       "2012-06-06  395.71           0.62\n",
       "2012-07-06  394.36           0.57\n",
       "2012-08-06  392.39           0.63\n",
       "2012-09-06  391.11           0.76\n",
       "2012-10-06  391.05           0.78\n",
       "2012-11-06  392.98           0.75\n",
       "2012-12-06  394.34           0.53"
      ]
     },
     "execution_count": 122,
     "metadata": {},
     "output_type": "execute_result"
    }
   ],
   "source": [
    "twenty_twelve"
   ]
  },
  {
   "cell_type": "code",
   "execution_count": 125,
   "metadata": {},
   "outputs": [
    {
     "data": {
      "image/png": "[encoded data removed]",
      "text/plain": [
       "<Figure size 432x288 with 2 Axes>"
      ]
     },
     "metadata": {
      "needs_background": "light"
     },
     "output_type": "display_data"
    }
   ],
   "source": [
    "fig, ax = plt.subplots()\n",
    "\n",
    "plot_timeseries(ax, twenty_twelve.index, twenty_twelve['co2'], 'red', 'Time', 'CO2 (ppm)')\n",
    "\n",
    "ax2 = ax.twinx()\n",
    "\n",
    "plot_timeseries(ax2, twenty_twelve.index, twenty_twelve['relative_temp'], 'blue', 'Time', 'Relative Temp (c)')\n",
    "\n",
    "plt.show()"
   ]
  },
  {
   "cell_type": "code",
   "execution_count": 124,
   "metadata": {},
   "outputs": [
    {
     "data": {
      "image/png": "[encoded data removed]",
      "text/plain": [
       "<Figure size 432x288 with 2 Axes>"
      ]
     },
     "metadata": {
      "needs_background": "light"
     },
     "output_type": "display_data"
    }
   ],
   "source": [
    "fig, ax = plt.subplots()\n",
    "\n",
    "plot_timeseries(ax, climate_data.index, climate_data['co2'], 'red', 'Time', 'CO2 (ppm)')\n",
    "\n",
    "ax2 = ax.twinx()\n",
    "\n",
    "plot_timeseries(ax2, climate_data.index, climate_data['relative_temp'], 'blue', 'Time', 'Relative Temp (c)')\n",
    "\n",
    "plt.show()"
   ]
  },
  {
   "cell_type": "markdown",
   "metadata": {},
   "source": [
    "# Annotating time-series data"
   ]
  },
  {
   "cell_type": "code",
   "execution_count": 131,
   "metadata": {},
   "outputs": [
    {
     "data": {
      "image/png": "[encoded data removed]",
      "text/plain": [
       "<Figure size 432x288 with 2 Axes>"
      ]
     },
     "metadata": {
      "needs_background": "light"
     },
     "output_type": "display_data"
    }
   ],
   "source": [
    "fig, ax = plt.subplots()\n",
    "\n",
    "plot_timeseries(ax, climate_data.index, climate_data['co2'], 'red', 'Time', 'CO2 (ppm)')\n",
    "\n",
    "ax2 = ax.twinx()\n",
    "plot_timeseries(ax2, climate_data.index, climate_data['relative_temp'], 'blue', 'Time', 'Relative Temp (c)')\n",
    "\n",
    "ax2.annotate(\n",
    "    \">1 degree\", \n",
    "    xy = [pd.Timestamp(\"2015-10-06\"),1], \n",
    "    xytext = (pd.Timestamp(\"2008-10-06\"), -0.2),\n",
    "    arrowprops = {'arrowstyle':'->', \"color\":'black'}\n",
    "    )\n",
    "\n",
    "plt.show()"
   ]
  },
  {
   "cell_type": "markdown",
   "metadata": {},
   "source": [
    "# Quantitative comparisons: bar-charts"
   ]
  },
  {
   "cell_type": "code",
   "execution_count": 133,
   "metadata": {},
   "outputs": [
    {
     "data": {
      "text/html": [
       "<div>\n",
       "<style scoped>\n",
       "    .dataframe tbody tr th:only-of-type {\n",
       "        vertical-align: middle;\n",
       "    }\n",
       "\n",
       "    .dataframe tbody tr th {\n",
       "        vertical-align: top;\n",
       "    }\n",
       "\n",
       "    .dataframe thead th {\n",
       "        text-align: right;\n",
       "    }\n",
       "</style>\n",
       "<table border=\"1\" class=\"dataframe\">\n",
       "  <thead>\n",
       "    <tr style=\"text-align: right;\">\n",
       "      <th></th>\n",
       "      <th>Bronze</th>\n",
       "      <th>Gold</th>\n",
       "      <th>Silver</th>\n",
       "    </tr>\n",
       "  </thead>\n",
       "  <tbody>\n",
       "    <tr>\n",
       "      <th>United States</th>\n",
       "      <td>67</td>\n",
       "      <td>137</td>\n",
       "      <td>52</td>\n",
       "    </tr>\n",
       "    <tr>\n",
       "      <th>Germany</th>\n",
       "      <td>67</td>\n",
       "      <td>47</td>\n",
       "      <td>43</td>\n",
       "    </tr>\n",
       "    <tr>\n",
       "      <th>Great Britain</th>\n",
       "      <td>26</td>\n",
       "      <td>64</td>\n",
       "      <td>55</td>\n",
       "    </tr>\n",
       "    <tr>\n",
       "      <th>Russia</th>\n",
       "      <td>35</td>\n",
       "      <td>50</td>\n",
       "      <td>28</td>\n",
       "    </tr>\n",
       "    <tr>\n",
       "      <th>China</th>\n",
       "      <td>35</td>\n",
       "      <td>44</td>\n",
       "      <td>30</td>\n",
       "    </tr>\n",
       "    <tr>\n",
       "      <th>France</th>\n",
       "      <td>21</td>\n",
       "      <td>20</td>\n",
       "      <td>55</td>\n",
       "    </tr>\n",
       "    <tr>\n",
       "      <th>Australia</th>\n",
       "      <td>25</td>\n",
       "      <td>23</td>\n",
       "      <td>34</td>\n",
       "    </tr>\n",
       "    <tr>\n",
       "      <th>Italy</th>\n",
       "      <td>24</td>\n",
       "      <td>8</td>\n",
       "      <td>38</td>\n",
       "    </tr>\n",
       "    <tr>\n",
       "      <th>Canada</th>\n",
       "      <td>61</td>\n",
       "      <td>4</td>\n",
       "      <td>4</td>\n",
       "    </tr>\n",
       "    <tr>\n",
       "      <th>Japan</th>\n",
       "      <td>34</td>\n",
       "      <td>17</td>\n",
       "      <td>13</td>\n",
       "    </tr>\n",
       "  </tbody>\n",
       "</table>\n",
       "</div>"
      ],
      "text/plain": [
       "               Bronze  Gold  Silver\n",
       "United States      67   137      52\n",
       "Germany            67    47      43\n",
       "Great Britain      26    64      55\n",
       "Russia             35    50      28\n",
       "China              35    44      30\n",
       "France             21    20      55\n",
       "Australia          25    23      34\n",
       "Italy              24     8      38\n",
       "Canada             61     4       4\n",
       "Japan              34    17      13"
      ]
     },
     "execution_count": 133,
     "metadata": {},
     "output_type": "execute_result"
    }
   ],
   "source": [
    "# Introduce olympic medals dataset\n",
    "olympic_medals = pd.read_csv('/Users/joseservin/DataCamp/Courses/Intro_Matplotlib/medals_by_country_2016.csv', index_col=0)\n",
    "olympic_medals"
   ]
  },
  {
   "cell_type": "code",
   "execution_count": 144,
   "metadata": {},
   "outputs": [
    {
     "name": "stderr",
     "output_type": "stream",
     "text": [
      "/var/folders/77/ysxyzr2j3zdb588cls576tc00000gn/T/ipykernel_39973/3512687462.py:4: UserWarning: FixedFormatter should only be used together with FixedLocator\n",
      "  ax.set_xticklabels(olympic_medals.index, rotation=90)\n"
     ]
    },
    {
     "data": {
      "image/png": "[encoded data removed]",
      "text/plain": [
       "<Figure size 432x288 with 1 Axes>"
      ]
     },
     "metadata": {
      "needs_background": "light"
     },
     "output_type": "display_data"
    }
   ],
   "source": [
    "fig, ax = plt.subplots()\n",
    "\n",
    "ax.bar(olympic_medals.index, olympic_medals['Gold'])\n",
    "ax.set_xticklabels(olympic_medals.index, rotation=90)\n",
    "ax.set_ylabel('Gold Medal Count')\n",
    "\n",
    "plt.show()"
   ]
  },
  {
   "cell_type": "code",
   "execution_count": 148,
   "metadata": {},
   "outputs": [
    {
     "data": {
      "application/vnd.plotly.v1+json": {
       "config": {
        "plotlyServerURL": "https://plot.ly"
       },
       "data": [
        {
         "alignmentgroup": "True",
         "hovertemplate": "index=%{x}<br>Gold=%{y}<extra></extra>",
         "legendgroup": "",
         "marker": {
          "color": "#636efa",
          "pattern": {
           "shape": ""
          }
         },
         "name": "",
         "offsetgroup": "",
         "orientation": "v",
         "showlegend": false,
         "textposition": "auto",
         "type": "bar",
         "x": [
          "United States",
          "Germany",
          "Great Britain",
          "Russia",
          "China",
          "France",
          "Australia",
          "Italy",
          "Canada",
          "Japan"
         ],
         "xaxis": "x",
         "y": [
          137,
          47,
          64,
          50,
          44,
          20,
          23,
          8,
          4,
          17
         ],
         "yaxis": "y"
        }
       ],
       "layout": {
        "barmode": "relative",
        "legend": {
         "tracegroupgap": 0
        },
        "margin": {
         "t": 60
        },
        "template": {
         "data": {
          "bar": [
           {
            "error_x": {
             "color": "#2a3f5f"
            },
            "error_y": {
             "color": "#2a3f5f"
            },
            "marker": {
             "line": {
              "color": "#E5ECF6",
              "width": 0.5
             },
             "pattern": {
              "fillmode": "overlay",
              "size": 10,
              "solidity": 0.2
             }
            },
            "type": "bar"
           }
          ],
          "barpolar": [
           {
            "marker": {
             "line": {
              "color": "#E5ECF6",
              "width": 0.5
             },
             "pattern": {
              "fillmode": "overlay",
              "size": 10,
              "solidity": 0.2
             }
            },
            "type": "barpolar"
           }
          ],
          "carpet": [
           {
            "aaxis": {
             "endlinecolor": "#2a3f5f",
             "gridcolor": "white",
             "linecolor": "white",
             "minorgridcolor": "white",
             "startlinecolor": "#2a3f5f"
            },
            "baxis": {
             "endlinecolor": "#2a3f5f",
             "gridcolor": "white",
             "linecolor": "white",
             "minorgridcolor": "white",
             "startlinecolor": "#2a3f5f"
            },
            "type": "carpet"
           }
          ],
          "choropleth": [
           {
            "colorbar": {
             "outlinewidth": 0,
             "ticks": ""
            },
            "type": "choropleth"
           }
          ],
          "contour": [
           {
            "colorbar": {
             "outlinewidth": 0,
             "ticks": ""
            },
            "colorscale": [
             [
              0,
              "#0d0887"
             ],
             [
              0.1111111111111111,
              "#46039f"
             ],
             [
              0.2222222222222222,
              "#7201a8"
             ],
             [
              0.3333333333333333,
              "#9c179e"
             ],
             [
              0.4444444444444444,
              "#bd3786"
             ],
             [
              0.5555555555555556,
              "#d8576b"
             ],
             [
              0.6666666666666666,
              "#ed7953"
             ],
             [
              0.7777777777777778,
              "#fb9f3a"
             ],
             [
              0.8888888888888888,
              "#fdca26"
             ],
             [
              1,
              "#f0f921"
             ]
            ],
            "type": "contour"
           }
          ],
          "contourcarpet": [
           {
            "colorbar": {
             "outlinewidth": 0,
             "ticks": ""
            },
            "type": "contourcarpet"
           }
          ],
          "heatmap": [
           {
            "colorbar": {
             "outlinewidth": 0,
             "ticks": ""
            },
            "colorscale": [
             [
              0,
              "#0d0887"
             ],
             [
              0.1111111111111111,
              "#46039f"
             ],
             [
              0.2222222222222222,
              "#7201a8"
             ],
             [
              0.3333333333333333,
              "#9c179e"
             ],
             [
              0.4444444444444444,
              "#bd3786"
             ],
             [
              0.5555555555555556,
              "#d8576b"
             ],
             [
              0.6666666666666666,
              "#ed7953"
             ],
             [
              0.7777777777777778,
              "#fb9f3a"
             ],
             [
              0.8888888888888888,
              "#fdca26"
             ],
             [
              1,
              "#f0f921"
             ]
            ],
            "type": "heatmap"
           }
          ],
          "heatmapgl": [
           {
            "colorbar": {
             "outlinewidth": 0,
             "ticks": ""
            },
            "colorscale": [
             [
              0,
              "#0d0887"
             ],
             [
              0.1111111111111111,
              "#46039f"
             ],
             [
              0.2222222222222222,
              "#7201a8"
             ],
             [
              0.3333333333333333,
              "#9c179e"
             ],
             [
              0.4444444444444444,
              "#bd3786"
             ],
             [
              0.5555555555555556,
              "#d8576b"
             ],
             [
              0.6666666666666666,
              "#ed7953"
             ],
             [
              0.7777777777777778,
              "#fb9f3a"
             ],
             [
              0.8888888888888888,
              "#fdca26"
             ],
             [
              1,
              "#f0f921"
             ]
            ],
            "type": "heatmapgl"
           }
          ],
          "histogram": [
           {
            "marker": {
             "pattern": {
              "fillmode": "overlay",
              "size": 10,
              "solidity": 0.2
             }
            },
            "type": "histogram"
           }
          ],
          "histogram2d": [
           {
            "colorbar": {
             "outlinewidth": 0,
             "ticks": ""
            },
            "colorscale": [
             [
              0,
              "#0d0887"
             ],
             [
              0.1111111111111111,
              "#46039f"
             ],
             [
              0.2222222222222222,
              "#7201a8"
             ],
             [
              0.3333333333333333,
              "#9c179e"
             ],
             [
              0.4444444444444444,
              "#bd3786"
             ],
             [
              0.5555555555555556,
              "#d8576b"
             ],
             [
              0.6666666666666666,
              "#ed7953"
             ],
             [
              0.7777777777777778,
              "#fb9f3a"
             ],
             [
              0.8888888888888888,
              "#fdca26"
             ],
             [
              1,
              "#f0f921"
             ]
            ],
            "type": "histogram2d"
           }
          ],
          "histogram2dcontour": [
           {
            "colorbar": {
             "outlinewidth": 0,
             "ticks": ""
            },
            "colorscale": [
             [
              0,
              "#0d0887"
             ],
             [
              0.1111111111111111,
              "#46039f"
             ],
             [
              0.2222222222222222,
              "#7201a8"
             ],
             [
              0.3333333333333333,
              "#9c179e"
             ],
             [
              0.4444444444444444,
              "#bd3786"
             ],
             [
              0.5555555555555556,
              "#d8576b"
             ],
             [
              0.6666666666666666,
              "#ed7953"
             ],
             [
              0.7777777777777778,
              "#fb9f3a"
             ],
             [
              0.8888888888888888,
              "#fdca26"
             ],
             [
              1,
              "#f0f921"
             ]
            ],
            "type": "histogram2dcontour"
           }
          ],
          "mesh3d": [
           {
            "colorbar": {
             "outlinewidth": 0,
             "ticks": ""
            },
            "type": "mesh3d"
           }
          ],
          "parcoords": [
           {
            "line": {
             "colorbar": {
              "outlinewidth": 0,
              "ticks": ""
             }
            },
            "type": "parcoords"
           }
          ],
          "pie": [
           {
            "automargin": true,
            "type": "pie"
           }
          ],
          "scatter": [
           {
            "marker": {
             "colorbar": {
              "outlinewidth": 0,
              "ticks": ""
             }
            },
            "type": "scatter"
           }
          ],
          "scatter3d": [
           {
            "line": {
             "colorbar": {
              "outlinewidth": 0,
              "ticks": ""
             }
            },
            "marker": {
             "colorbar": {
              "outlinewidth": 0,
              "ticks": ""
             }
            },
            "type": "scatter3d"
           }
          ],
          "scattercarpet": [
           {
            "marker": {
             "colorbar": {
              "outlinewidth": 0,
              "ticks": ""
             }
            },
            "type": "scattercarpet"
           }
          ],
          "scattergeo": [
           {
            "marker": {
             "colorbar": {
              "outlinewidth": 0,
              "ticks": ""
             }
            },
            "type": "scattergeo"
           }
          ],
          "scattergl": [
           {
            "marker": {
             "colorbar": {
              "outlinewidth": 0,
              "ticks": ""
             }
            },
            "type": "scattergl"
           }
          ],
          "scattermapbox": [
           {
            "marker": {
             "colorbar": {
              "outlinewidth": 0,
              "ticks": ""
             }
            },
            "type": "scattermapbox"
           }
          ],
          "scatterpolar": [
           {
            "marker": {
             "colorbar": {
              "outlinewidth": 0,
              "ticks": ""
             }
            },
            "type": "scatterpolar"
           }
          ],
          "scatterpolargl": [
           {
            "marker": {
             "colorbar": {
              "outlinewidth": 0,
              "ticks": ""
             }
            },
            "type": "scatterpolargl"
           }
          ],
          "scatterternary": [
           {
            "marker": {
             "colorbar": {
              "outlinewidth": 0,
              "ticks": ""
             }
            },
            "type": "scatterternary"
           }
          ],
          "surface": [
           {
            "colorbar": {
             "outlinewidth": 0,
             "ticks": ""
            },
            "colorscale": [
             [
              0,
              "#0d0887"
             ],
             [
              0.1111111111111111,
              "#46039f"
             ],
             [
              0.2222222222222222,
              "#7201a8"
             ],
             [
              0.3333333333333333,
              "#9c179e"
             ],
             [
              0.4444444444444444,
              "#bd3786"
             ],
             [
              0.5555555555555556,
              "#d8576b"
             ],
             [
              0.6666666666666666,
              "#ed7953"
             ],
             [
              0.7777777777777778,
              "#fb9f3a"
             ],
             [
              0.8888888888888888,
              "#fdca26"
             ],
             [
              1,
              "#f0f921"
             ]
            ],
            "type": "surface"
           }
          ],
          "table": [
           {
            "cells": {
             "fill": {
              "color": "#EBF0F8"
             },
             "line": {
              "color": "white"
             }
            },
            "header": {
             "fill": {
              "color": "#C8D4E3"
             },
             "line": {
              "color": "white"
             }
            },
            "type": "table"
           }
          ]
         },
         "layout": {
          "annotationdefaults": {
           "arrowcolor": "#2a3f5f",
           "arrowhead": 0,
           "arrowwidth": 1
          },
          "autotypenumbers": "strict",
          "coloraxis": {
           "colorbar": {
            "outlinewidth": 0,
            "ticks": ""
           }
          },
          "colorscale": {
           "diverging": [
            [
             0,
             "#8e0152"
            ],
            [
             0.1,
             "#c51b7d"
            ],
            [
             0.2,
             "#de77ae"
            ],
            [
             0.3,
             "#f1b6da"
            ],
            [
             0.4,
             "#fde0ef"
            ],
            [
             0.5,
             "#f7f7f7"
            ],
            [
             0.6,
             "#e6f5d0"
            ],
            [
             0.7,
             "#b8e186"
            ],
            [
             0.8,
             "#7fbc41"
            ],
            [
             0.9,
             "#4d9221"
            ],
            [
             1,
             "#276419"
            ]
           ],
           "sequential": [
            [
             0,
             "#0d0887"
            ],
            [
             0.1111111111111111,
             "#46039f"
            ],
            [
             0.2222222222222222,
             "#7201a8"
            ],
            [
             0.3333333333333333,
             "#9c179e"
            ],
            [
             0.4444444444444444,
             "#bd3786"
            ],
            [
             0.5555555555555556,
             "#d8576b"
            ],
            [
             0.6666666666666666,
             "#ed7953"
            ],
            [
             0.7777777777777778,
             "#fb9f3a"
            ],
            [
             0.8888888888888888,
             "#fdca26"
            ],
            [
             1,
             "#f0f921"
            ]
           ],
           "sequentialminus": [
            [
             0,
             "#0d0887"
            ],
            [
             0.1111111111111111,
             "#46039f"
            ],
            [
             0.2222222222222222,
             "#7201a8"
            ],
            [
             0.3333333333333333,
             "#9c179e"
            ],
            [
             0.4444444444444444,
             "#bd3786"
            ],
            [
             0.5555555555555556,
             "#d8576b"
            ],
            [
             0.6666666666666666,
             "#ed7953"
            ],
            [
             0.7777777777777778,
             "#fb9f3a"
            ],
            [
             0.8888888888888888,
             "#fdca26"
            ],
            [
             1,
             "#f0f921"
            ]
           ]
          },
          "colorway": [
           "#636efa",
           "#EF553B",
           "#00cc96",
           "#ab63fa",
           "#FFA15A",
           "#19d3f3",
           "#FF6692",
           "#B6E880",
           "#FF97FF",
           "#FECB52"
          ],
          "font": {
           "color": "#2a3f5f"
          },
          "geo": {
           "bgcolor": "white",
           "lakecolor": "white",
           "landcolor": "#E5ECF6",
           "showlakes": true,
           "showland": true,
           "subunitcolor": "white"
          },
          "hoverlabel": {
           "align": "left"
          },
          "hovermode": "closest",
          "mapbox": {
           "style": "light"
          },
          "paper_bgcolor": "white",
          "plot_bgcolor": "#E5ECF6",
          "polar": {
           "angularaxis": {
            "gridcolor": "white",
            "linecolor": "white",
            "ticks": ""
           },
           "bgcolor": "#E5ECF6",
           "radialaxis": {
            "gridcolor": "white",
            "linecolor": "white",
            "ticks": ""
           }
          },
          "scene": {
           "xaxis": {
            "backgroundcolor": "#E5ECF6",
            "gridcolor": "white",
            "gridwidth": 2,
            "linecolor": "white",
            "showbackground": true,
            "ticks": "",
            "zerolinecolor": "white"
           },
           "yaxis": {
            "backgroundcolor": "#E5ECF6",
            "gridcolor": "white",
            "gridwidth": 2,
            "linecolor": "white",
            "showbackground": true,
            "ticks": "",
            "zerolinecolor": "white"
           },
           "zaxis": {
            "backgroundcolor": "#E5ECF6",
            "gridcolor": "white",
            "gridwidth": 2,
            "linecolor": "white",
            "showbackground": true,
            "ticks": "",
            "zerolinecolor": "white"
           }
          },
          "shapedefaults": {
           "line": {
            "color": "#2a3f5f"
           }
          },
          "ternary": {
           "aaxis": {
            "gridcolor": "white",
            "linecolor": "white",
            "ticks": ""
           },
           "baxis": {
            "gridcolor": "white",
            "linecolor": "white",
            "ticks": ""
           },
           "bgcolor": "#E5ECF6",
           "caxis": {
            "gridcolor": "white",
            "linecolor": "white",
            "ticks": ""
           }
          },
          "title": {
           "x": 0.05
          },
          "xaxis": {
           "automargin": true,
           "gridcolor": "white",
           "linecolor": "white",
           "ticks": "",
           "title": {
            "standoff": 15
           },
           "zerolinecolor": "white",
           "zerolinewidth": 2
          },
          "yaxis": {
           "automargin": true,
           "gridcolor": "white",
           "linecolor": "white",
           "ticks": "",
           "title": {
            "standoff": 15
           },
           "zerolinecolor": "white",
           "zerolinewidth": 2
          }
         }
        },
        "xaxis": {
         "anchor": "y",
         "categoryorder": "total descending",
         "domain": [
          0,
          1
         ],
         "title": {
          "text": "index"
         }
        },
        "yaxis": {
         "anchor": "x",
         "domain": [
          0,
          1
         ],
         "title": {
          "text": "Gold"
         }
        }
       }
      }
     },
     "metadata": {},
     "output_type": "display_data"
    }
   ],
   "source": [
    "px.bar(olympic_medals, olympic_medals.index, olympic_medals['Gold']).update_xaxes(categoryorder='total descending')"
   ]
  },
  {
   "cell_type": "markdown",
   "metadata": {},
   "source": [
    "## Stacked bar graphs"
   ]
  },
  {
   "cell_type": "code",
   "execution_count": 155,
   "metadata": {},
   "outputs": [
    {
     "name": "stderr",
     "output_type": "stream",
     "text": [
      "/var/folders/77/ysxyzr2j3zdb588cls576tc00000gn/T/ipykernel_39973/1287854432.py:7: UserWarning:\n",
      "\n",
      "FixedFormatter should only be used together with FixedLocator\n",
      "\n"
     ]
    },
    {
     "data": {
      "image/png": "[encoded data removed]",
      "text/plain": [
       "<Figure size 432x288 with 1 Axes>"
      ]
     },
     "metadata": {
      "needs_background": "light"
     },
     "output_type": "display_data"
    }
   ],
   "source": [
    "fig, ax = plt.subplots()\n",
    "\n",
    "ax.bar(olympic_medals.index, olympic_medals['Gold'], label='Gold')\n",
    "ax.bar(olympic_medals.index, olympic_medals['Silver'], bottom=olympic_medals['Gold'], label='Silver') # line that stacks data \n",
    "ax.bar(olympic_medals.index, olympic_medals['Bronze'], bottom = olympic_medals['Gold'] + olympic_medals['Silver'], label='Bronze')\n",
    "\n",
    "ax.set_xticklabels(olympic_medals.index, rotation=90)\n",
    "ax.set_ylabel('Gold Medal Count')\n",
    "\n",
    "ax.legend()\n",
    "\n",
    "plt.show()"
   ]
  },
  {
   "cell_type": "code",
   "execution_count": null,
   "metadata": {},
   "outputs": [],
   "source": []
  }
 ],
 "metadata": {
  "interpreter": {
   "hash": "aee8b7b246df8f9039afb4144a1f6fd8d2ca17a180786b69acc140d282b71a49"
  },
  "kernelspec": {
   "display_name": "Python 3.9.9 64-bit",
   "language": "python",
   "name": "python3"
  },
  "language_info": {
   "codemirror_mode": {
    "name": "ipython",
    "version": 3
   },
   "file_extension": ".py",
   "mimetype": "text/x-python",
   "name": "python",
   "nbconvert_exporter": "python",
   "pygments_lexer": "ipython3",
   "version": "3.9.9"
  },
  "orig_nbformat": 4
 },
 "nbformat": 4,
 "nbformat_minor": 2
}
