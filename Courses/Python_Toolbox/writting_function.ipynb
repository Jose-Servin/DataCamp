{
 "cells": [
  {
   "cell_type": "code",
   "execution_count": 1,
   "metadata": {},
   "outputs": [],
   "source": [
    "import pandas as pd"
   ]
  },
  {
   "cell_type": "markdown",
   "metadata": {},
   "source": [
    "# User-defined Functions"
   ]
  },
  {
   "cell_type": "code",
   "execution_count": 2,
   "metadata": {},
   "outputs": [
    {
     "name": "stdout",
     "output_type": "stream",
     "text": [
      "16\n"
     ]
    }
   ],
   "source": [
    "# simple function returning set variable \n",
    "def square ():\n",
    "    value = 4 ** 2\n",
    "    print(value)\n",
    "square()"
   ]
  },
  {
   "cell_type": "markdown",
   "metadata": {},
   "source": [
    "## Function Parameters"
   ]
  },
  {
   "cell_type": "code",
   "execution_count": 3,
   "metadata": {},
   "outputs": [
    {
     "name": "stdout",
     "output_type": "stream",
     "text": [
      "64\n"
     ]
    }
   ],
   "source": [
    "def square(number):\n",
    "    var = number ** 2\n",
    "    print(var)\n",
    "\n",
    "square(8)"
   ]
  },
  {
   "cell_type": "markdown",
   "metadata": {},
   "source": [
    "## Return values from functions"
   ]
  },
  {
   "cell_type": "code",
   "execution_count": 4,
   "metadata": {},
   "outputs": [
    {
     "name": "stdout",
     "output_type": "stream",
     "text": [
      "9\n"
     ]
    }
   ],
   "source": [
    "def square(num):\n",
    "    \"\"\" A simple function that squares the given num and returns value\"\"\"\n",
    "    var = num ** 2\n",
    "    return var\n",
    "\n",
    "answer = square(3)\n",
    "print(answer)"
   ]
  },
  {
   "cell_type": "markdown",
   "metadata": {},
   "source": [
    "# Multiple Parameters and Return Values"
   ]
  },
  {
   "cell_type": "code",
   "execution_count": 5,
   "metadata": {},
   "outputs": [
    {
     "name": "stdout",
     "output_type": "stream",
     "text": [
      "16\n"
     ]
    }
   ],
   "source": [
    "def raise_to_power (val_1, val_2):\n",
    "    \"\"\" Simple function that prints val_1 ** val_2\"\"\"\n",
    "    answer = val_1 ** val_2\n",
    "    print(answer)\n",
    "\n",
    "raise_to_power(4,2)"
   ]
  },
  {
   "cell_type": "markdown",
   "metadata": {},
   "source": [
    "## Returning a Tuple "
   ]
  },
  {
   "cell_type": "code",
   "execution_count": 6,
   "metadata": {},
   "outputs": [
    {
     "name": "stdout",
     "output_type": "stream",
     "text": [
      "(9, 8)\n"
     ]
    }
   ],
   "source": [
    "def raise_both(val_1, val_2):\n",
    "    \"\"\" raise val_1 to the power of val_2 and vice-versa\"\"\"\n",
    "\n",
    "    answer_1 =  val_1 ** val_2\n",
    "    answer_2 = val_2 ** val_1\n",
    "\n",
    "    return_tuple =  (answer_1, answer_2)\n",
    "\n",
    "    return (return_tuple)\n",
    "\n",
    "return_var = raise_both(3,2)\n",
    "print(return_var)\n"
   ]
  },
  {
   "cell_type": "markdown",
   "metadata": {},
   "source": [
    "### different return variable for each element in the tuple"
   ]
  },
  {
   "cell_type": "code",
   "execution_count": 7,
   "metadata": {},
   "outputs": [
    {
     "name": "stdout",
     "output_type": "stream",
     "text": [
      "9\n",
      "8\n"
     ]
    }
   ],
   "source": [
    "def raise_both(val_1, val_2):\n",
    "    \"\"\" raise val_1 to the power of val_2 and vice-versa\"\"\"\n",
    "\n",
    "    answer_1 =  val_1 ** val_2\n",
    "    answer_2 = val_2 ** val_1\n",
    "\n",
    "    return_tuple =  (answer_1, answer_2)\n",
    "\n",
    "    return (return_tuple)\n",
    "\n",
    "var1, var2 = raise_both(3,2)\n",
    "print(var1)\n",
    "print(var2)\n"
   ]
  },
  {
   "cell_type": "markdown",
   "metadata": {},
   "source": [
    "# Twitter Data Analysis Part 1"
   ]
  },
  {
   "cell_type": "markdown",
   "metadata": {},
   "source": [
    "* Load the data and develop functionalities to extract simple insights from the data\n",
    "* The dataset contains Twitter data and you will iterate over entries in a column to build a dictionary in which the keys are the names of languages and the values are the number of tweets in the given language."
   ]
  },
  {
   "cell_type": "code",
   "execution_count": 8,
   "metadata": {},
   "outputs": [],
   "source": [
    "# Import data \n",
    "tweets = pd.read_csv('/Users/joseservin/DataCamp/Courses/Python_Toolbox/tweets.csv')\n"
   ]
  },
  {
   "cell_type": "markdown",
   "metadata": {},
   "source": [
    "* Import the pandas package with the alias pd.\n",
    "* Import the file 'tweets.csv' using the pandas function read_csv(). Assign the resulting DataFrame to df.\n",
    "* Complete the for loop by iterating over col, the 'lang' column in the DataFrame df.\n",
    "* Complete the bodies of the if-else statements in the for loop: if the key is in the dictionary langs_count, add 1 to the value corresponding to this key in the dictionary, else add the key to langs_count and set the corresponding value to 1. Use the loop variable entry in your code."
   ]
  },
  {
   "cell_type": "code",
   "execution_count": 9,
   "metadata": {},
   "outputs": [],
   "source": [
    "# Initialize an empty dictionary \n",
    "langs_count = {}"
   ]
  },
  {
   "cell_type": "code",
   "execution_count": 10,
   "metadata": {},
   "outputs": [],
   "source": [
    "# Extract column from DataFrame\n",
    "col = tweets['lang']"
   ]
  },
  {
   "cell_type": "code",
   "execution_count": 11,
   "metadata": {},
   "outputs": [
    {
     "data": {
      "text/plain": [
       "0     en\n",
       "1     en\n",
       "2     et\n",
       "3     en\n",
       "4     en\n",
       "      ..\n",
       "95    en\n",
       "96    en\n",
       "97    en\n",
       "98    en\n",
       "99    en\n",
       "Name: lang, Length: 100, dtype: object"
      ]
     },
     "execution_count": 11,
     "metadata": {},
     "output_type": "execute_result"
    }
   ],
   "source": [
    "col"
   ]
  },
  {
   "cell_type": "code",
   "execution_count": 12,
   "metadata": {},
   "outputs": [
    {
     "name": "stdout",
     "output_type": "stream",
     "text": [
      "{'en': 97, 'et': 1, 'und': 2}\n"
     ]
    }
   ],
   "source": [
    "# Iterate through lang column \n",
    "for entry in col:\n",
    "    # if the language is in langs_count, add 1 \n",
    "    if entry in langs_count.keys():\n",
    "        langs_count[entry] = langs_count[entry] + 1\n",
    "    else:\n",
    "        langs_count[entry] = 1\n",
    "\n",
    "print(langs_count)"
   ]
  },
  {
   "cell_type": "markdown",
   "metadata": {},
   "source": [
    "* In this exercise, you will define a function with the functionality you developed in the previous exercise, return the resulting dictionary from within the function, and call the function with the appropriate arguments."
   ]
  },
  {
   "cell_type": "code",
   "execution_count": 13,
   "metadata": {},
   "outputs": [
    {
     "name": "stdout",
     "output_type": "stream",
     "text": [
      "{'en': 97, 'et': 1, 'und': 2}\n"
     ]
    }
   ],
   "source": [
    "def count_entries(df, col_name):\n",
    "    \"\"\" Return a dictionary with counts of occurances as values for each key\"\"\"\n",
    "    languages_count = {}\n",
    "\n",
    "    col = df[col_name]\n",
    "\n",
    "    for entry in col:\n",
    "        if entry in languages_count.keys():\n",
    "            languages_count[entry] = languages_count[entry] + 1\n",
    "        else:\n",
    "            languages_count[entry] = 1\n",
    "    \n",
    "    return languages_count\n",
    "\n",
    "results = count_entries(tweets, 'lang')\n",
    "print(results)\n"
   ]
  },
  {
   "cell_type": "markdown",
   "metadata": {},
   "source": [
    "# Scope and User-defined functions"
   ]
  },
  {
   "cell_type": "markdown",
   "metadata": {},
   "source": [
    "* Scope: part of the program where an object or name may be accessible \n",
    "    * Global Scope: defined in the main body of a script\n",
    "    * Local Scope: defined inside a function\n",
    "    * Built-in-Scope: names in the pre-defined built-ins module"
   ]
  },
  {
   "cell_type": "markdown",
   "metadata": {},
   "source": [
    "# Nested Functions"
   ]
  },
  {
   "cell_type": "code",
   "execution_count": 14,
   "metadata": {},
   "outputs": [
    {
     "name": "stdout",
     "output_type": "stream",
     "text": [
      "(40, 90, 160)\n"
     ]
    }
   ],
   "source": [
    "def square_nums_times_ten(x1,x2,x3):\n",
    "    '''squares and multiplies by 10 given parameters'''\n",
    "    def inner(x):\n",
    "        \"\"\" performs calculations for square x * 10 \"\"\"\n",
    "        var_inner = x ** 2 * 10 \n",
    "        return var_inner\n",
    "        \n",
    "    ans = (inner(x1), inner(x2), inner(x3))\n",
    "    return ans\n",
    "\n",
    "variable = square_nums_times_ten(2,3,4)\n",
    "print(variable)"
   ]
  },
  {
   "cell_type": "code",
   "execution_count": 15,
   "metadata": {},
   "outputs": [
    {
     "name": "stdout",
     "output_type": "stream",
     "text": [
      "hellohello hellohellohello\n"
     ]
    }
   ],
   "source": [
    "# Define echo\n",
    "def echo(n):\n",
    "    \"\"\"Return the inner_echo function.\"\"\"\n",
    "\n",
    "    # Define inner_echo\n",
    "    def inner_echo(word1):\n",
    "        \"\"\"Concatenate n copies of word1.\"\"\"\n",
    "        echo_word = word1 * n\n",
    "        return echo_word\n",
    "\n",
    "    # Return inner_echo\n",
    "    return inner_echo\n",
    "\n",
    "# Call echo: twice\n",
    "twice = echo(2)\n",
    "\n",
    "# Call echo: thrice\n",
    "thrice = echo(3)\n",
    "\n",
    "# Call twice() and thrice() then print\n",
    "print(twice('hello'), thrice('hello'))"
   ]
  },
  {
   "cell_type": "markdown",
   "metadata": {},
   "source": [
    "# Default and Felxible Arguments"
   ]
  },
  {
   "cell_type": "markdown",
   "metadata": {},
   "source": [
    "## Functions with default arguments"
   ]
  },
  {
   "cell_type": "code",
   "execution_count": 19,
   "metadata": {},
   "outputs": [
    {
     "name": "stdout",
     "output_type": "stream",
     "text": [
      "25\n"
     ]
    }
   ],
   "source": [
    "def power_number(number, pow=1):\n",
    "    \"\"\"Raise number to the power of pow\"\"\"\n",
    "    var = number ** pow\n",
    "    return var \n",
    "\n",
    "answer = power_number(5,2)\n",
    "print(answer)"
   ]
  },
  {
   "cell_type": "markdown",
   "metadata": {},
   "source": [
    "## Function with flexible arguments"
   ]
  },
  {
   "cell_type": "markdown",
   "metadata": {},
   "source": [
    "* used when not sure how many arguments user will input"
   ]
  },
  {
   "cell_type": "code",
   "execution_count": 20,
   "metadata": {},
   "outputs": [
    {
     "name": "stdout",
     "output_type": "stream",
     "text": [
      "10\n"
     ]
    }
   ],
   "source": [
    "def add_all(*args): # note, all arguements entered are turned into a tuple\n",
    "    \"\"\"add upp all arguemnts\"\"\"\n",
    "\n",
    "    # initialize sum\n",
    "    sum = 0\n",
    "\n",
    "    # accumulate sum of arguments passed to function\n",
    "    for i in args:\n",
    "        sum += i\n",
    "    \n",
    "    return sum \n",
    "\n",
    "var = add_all(2,2,2,2,2)\n",
    "print(var)"
   ]
  },
  {
   "cell_type": "markdown",
   "metadata": {},
   "source": [
    "## Function with keyword arguments"
   ]
  },
  {
   "cell_type": "markdown",
   "metadata": {},
   "source": [
    "* kwargs are key-word arguements; arguments proceded by identifiers "
   ]
  },
  {
   "cell_type": "code",
   "execution_count": 23,
   "metadata": {},
   "outputs": [
    {
     "name": "stdout",
     "output_type": "stream",
     "text": [
      "first : jose\n",
      "last : servin\n"
     ]
    }
   ],
   "source": [
    "def print_all(**kwargs): # key-word pairs are stored as dictionaries \n",
    "    \"\"\"print out  key-value pairs in kwargs\"\"\"\n",
    "\n",
    "    for key, value in kwargs.items():\n",
    "        print(key + ' : ' + value)\n",
    "\n",
    "\n",
    "print_all(first='jose', last='servin')"
   ]
  },
  {
   "cell_type": "code",
   "execution_count": null,
   "metadata": {},
   "outputs": [],
   "source": []
  }
 ],
 "metadata": {
  "interpreter": {
   "hash": "aee8b7b246df8f9039afb4144a1f6fd8d2ca17a180786b69acc140d282b71a49"
  },
  "kernelspec": {
   "display_name": "Python 3.9.9 64-bit",
   "language": "python",
   "name": "python3"
  },
  "language_info": {
   "codemirror_mode": {
    "name": "ipython",
    "version": 3
   },
   "file_extension": ".py",
   "mimetype": "text/x-python",
   "name": "python",
   "nbconvert_exporter": "python",
   "pygments_lexer": "ipython3",
   "version": "3.9.9"
  },
  "orig_nbformat": 4
 },
 "nbformat": 4,
 "nbformat_minor": 2
}
