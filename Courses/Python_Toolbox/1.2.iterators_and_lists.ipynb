{
 "cells": [
  {
   "cell_type": "code",
   "execution_count": 20,
   "metadata": {},
   "outputs": [],
   "source": [
    "import pandas as pd"
   ]
  },
  {
   "cell_type": "markdown",
   "metadata": {},
   "source": [
    "# Introduction to Iterators"
   ]
  },
  {
   "cell_type": "markdown",
   "metadata": {},
   "source": [
    "* Iterables is an object that has an associated iter() method.\n",
    "* Iterator is an object that has an associated next() method. \n",
    "* create an iterator from an iterable using the iter() function\n",
    "\n",
    "Summary\n",
    "* An iterable is an object that can return an iterator \n",
    "* An iterator is an object that keeps state and produces the next value when you call next()"
   ]
  },
  {
   "cell_type": "code",
   "execution_count": 7,
   "metadata": {},
   "outputs": [
    {
     "name": "stdout",
     "output_type": "stream",
     "text": [
      "d y   m y   n a m e   i s   S e r v i n\n"
     ]
    }
   ],
   "source": [
    "phrase = 'Howdy my name is Servin'\n",
    "variable = iter(phrase)\n",
    "\n",
    "next(variable)\n",
    "next(variable)\n",
    "next(variable)\n",
    "print(* variable)"
   ]
  },
  {
   "cell_type": "markdown",
   "metadata": {},
   "source": [
    "## Iterating through Dictionaries"
   ]
  },
  {
   "cell_type": "code",
   "execution_count": 11,
   "metadata": {},
   "outputs": [
    {
     "name": "stdout",
     "output_type": "stream",
     "text": [
      "The attribute is: first_name\n",
      "The value is: Jose\n",
      "The attribute is: last_name\n",
      "The value is: Servin\n",
      "The attribute is: age\n",
      "The value is: 25\n",
      "The attribute is: Goal\n",
      "The value is: Become a Full Data Scientist/Analyst in 2022\n"
     ]
    }
   ],
   "source": [
    "info = {\n",
    "    'first_name':'Jose',\n",
    "    'last_name':'Servin',\n",
    "    'age':25,\n",
    "    'Goal':'Become a Full Data Scientist/Analyst in 2022'\n",
    "}\n",
    "\n",
    "for key, value in info.items():\n",
    "    print('The attribute is: ' + key)\n",
    "    print('The value is: ' + str(value))"
   ]
  },
  {
   "cell_type": "markdown",
   "metadata": {},
   "source": [
    "# Enumerate Function"
   ]
  },
  {
   "cell_type": "markdown",
   "metadata": {},
   "source": [
    "* allows us to add a counter to any iterable "
   ]
  },
  {
   "cell_type": "code",
   "execution_count": 16,
   "metadata": {},
   "outputs": [
    {
     "name": "stdout",
     "output_type": "stream",
     "text": [
      "0 Baker\n",
      "1 Bella\n",
      "2 Camila\n",
      "3 Claudia\n",
      "4 Mayra\n",
      "5 Melissa\n"
     ]
    }
   ],
   "source": [
    "names = ['Baker','Bella','Camila','Claudia','Mayra','Melissa']\n",
    "\n",
    "for index, value in enumerate(names):\n",
    "    print(index, value)"
   ]
  },
  {
   "cell_type": "code",
   "execution_count": 17,
   "metadata": {},
   "outputs": [
    {
     "name": "stdout",
     "output_type": "stream",
     "text": [
      "1 Baker\n",
      "2 Bella\n",
      "3 Camila\n",
      "4 Claudia\n",
      "5 Mayra\n",
      "6 Melissa\n"
     ]
    }
   ],
   "source": [
    "names = ['Baker','Bella','Camila','Claudia','Mayra','Melissa']\n",
    "\n",
    "for index, value in enumerate(names, start=1):\n",
    "    print(index, value)"
   ]
  },
  {
   "cell_type": "markdown",
   "metadata": {},
   "source": [
    "## using enumerate"
   ]
  },
  {
   "cell_type": "code",
   "execution_count": 19,
   "metadata": {},
   "outputs": [
    {
     "name": "stdout",
     "output_type": "stream",
     "text": [
      "[(0, 'charles xavier'), (1, 'bobby drake'), (2, 'kurt wagner'), (3, 'max eisenhardt'), (4, 'kitty pryde')]\n",
      "0 charles xavier\n",
      "1 bobby drake\n",
      "2 kurt wagner\n",
      "3 max eisenhardt\n",
      "4 kitty pryde\n",
      "1 charles xavier\n",
      "2 bobby drake\n",
      "3 kurt wagner\n",
      "4 max eisenhardt\n",
      "5 kitty pryde\n"
     ]
    }
   ],
   "source": [
    "# Create a list of strings: mutants\n",
    "mutants = ['charles xavier', \n",
    "            'bobby drake', \n",
    "            'kurt wagner', \n",
    "            'max eisenhardt', \n",
    "            'kitty pryde']\n",
    "\n",
    "# Create a list of tuples: mutant_list\n",
    "mutant_list = list(enumerate(mutants))\n",
    "\n",
    "# Print the list of tuples\n",
    "print(mutant_list)\n",
    "\n",
    "# Unpack and print the tuple pairs\n",
    "for index1, value1 in enumerate(mutants):\n",
    "    print(index1, value1)\n",
    "\n",
    "# Change the start index\n",
    "for index1, value1 in enumerate(mutants, start=1):\n",
    "    print(index1, value1)"
   ]
  },
  {
   "cell_type": "markdown",
   "metadata": {},
   "source": [
    "# zip function"
   ]
  },
  {
   "cell_type": "markdown",
   "metadata": {},
   "source": [
    "* allows us to stitch together any number of iterables \n",
    "* accepts an arbitrary number of iterables and returns an iterator of tuples"
   ]
  },
  {
   "cell_type": "code",
   "execution_count": 18,
   "metadata": {},
   "outputs": [
    {
     "name": "stdout",
     "output_type": "stream",
     "text": [
      "Baker dog\n",
      "Lilo dog\n",
      "Bella cat\n",
      "Camila dog\n"
     ]
    }
   ],
   "source": [
    "breeds = ['dog','dog','cat','dog']\n",
    "names = ['Baker','Lilo','Bella','Camila']\n",
    "\n",
    "for z1, z2 in zip(names, breeds):\n",
    "    print(z1, z2)"
   ]
  },
  {
   "cell_type": "markdown",
   "metadata": {},
   "source": [
    "# Using iterators to load large files into memory"
   ]
  },
  {
   "cell_type": "markdown",
   "metadata": {},
   "source": [
    "## load data in chunks using an iterator"
   ]
  },
  {
   "cell_type": "code",
   "execution_count": 27,
   "metadata": {},
   "outputs": [],
   "source": [
    "seattle_data = pd.read_csv('/Users/joseservin/DataCamp/Courses/Intro_Matplotlib/seattle_weather.csv')"
   ]
  },
  {
   "cell_type": "code",
   "execution_count": 28,
   "metadata": {},
   "outputs": [
    {
     "name": "stdout",
     "output_type": "stream",
     "text": [
      "51.63444444444445\n"
     ]
    }
   ],
   "source": [
    "total_avg_temps = seattle_data['MLY-TAVG-NORMAL'].mean()\n",
    "print(total_avg_temps)"
   ]
  },
  {
   "cell_type": "code",
   "execution_count": 39,
   "metadata": {},
   "outputs": [
    {
     "data": {
      "text/plain": [
       "24"
      ]
     },
     "execution_count": 39,
     "metadata": {},
     "output_type": "execute_result"
    }
   ],
   "source": [
    "seattle_data['MLY-TAVG-NORMAL'].isna().sum()"
   ]
  },
  {
   "cell_type": "code",
   "execution_count": 35,
   "metadata": {},
   "outputs": [
    {
     "name": "stdout",
     "output_type": "stream",
     "text": [
      "nan\n"
     ]
    }
   ],
   "source": [
    "# load the seattle_data in chunks of 12 taking an avg of MLY-TAVG-NORMAL\n",
    "sum_avg_temps = []\n",
    "\n",
    "for temp_df in pd.read_csv('/Users/joseservin/DataCamp/Courses/Intro_Matplotlib/seattle_weather.csv', chunksize=12):\n",
    "    avg_temp = sum(temp_df['MLY-TAVG-NORMAL'])\n",
    "    sum_avg_temps.append(avg_temp)\n",
    "        \n",
    "print(sum(sum_avg_temps))"
   ]
  },
  {
   "cell_type": "code",
   "execution_count": null,
   "metadata": {},
   "outputs": [],
   "source": []
  }
 ],
 "metadata": {
  "interpreter": {
   "hash": "aee8b7b246df8f9039afb4144a1f6fd8d2ca17a180786b69acc140d282b71a49"
  },
  "kernelspec": {
   "display_name": "Python 3.9.9 64-bit",
   "language": "python",
   "name": "python3"
  },
  "language_info": {
   "codemirror_mode": {
    "name": "ipython",
    "version": 3
   },
   "file_extension": ".py",
   "mimetype": "text/x-python",
   "name": "python",
   "nbconvert_exporter": "python",
   "pygments_lexer": "ipython3",
   "version": "3.9.9"
  },
  "orig_nbformat": 4
 },
 "nbformat": 4,
 "nbformat_minor": 2
}
