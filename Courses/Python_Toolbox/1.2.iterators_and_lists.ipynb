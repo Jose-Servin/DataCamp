{
 "cells": [
  {
   "cell_type": "code",
   "execution_count": 1,
   "metadata": {},
   "outputs": [],
   "source": [
    "import pandas as pd"
   ]
  },
  {
   "cell_type": "markdown",
   "metadata": {},
   "source": [
    "# Introduction to Iterators"
   ]
  },
  {
   "cell_type": "markdown",
   "metadata": {},
   "source": [
    "* Iterables is an object that has an associated iter() method.\n",
    "* Iterator is an object that has an associated next() method. \n",
    "* create an iterator from an iterable using the iter() function\n",
    "\n",
    "Summary\n",
    "* An iterable is an object that can return an iterator \n",
    "* An iterator is an object that keeps state and produces the next value when you call next()"
   ]
  },
  {
   "cell_type": "code",
   "execution_count": 2,
   "metadata": {},
   "outputs": [
    {
     "name": "stdout",
     "output_type": "stream",
     "text": [
      "d y   m y   n a m e   i s   S e r v i n\n"
     ]
    }
   ],
   "source": [
    "phrase = 'Howdy my name is Servin'\n",
    "variable = iter(phrase)\n",
    "\n",
    "next(variable)\n",
    "next(variable)\n",
    "next(variable)\n",
    "print(* variable)"
   ]
  },
  {
   "cell_type": "markdown",
   "metadata": {},
   "source": [
    "## Iterating through Dictionaries"
   ]
  },
  {
   "cell_type": "code",
   "execution_count": 3,
   "metadata": {},
   "outputs": [
    {
     "name": "stdout",
     "output_type": "stream",
     "text": [
      "The attribute is: first_name\n",
      "The value is: Jose\n",
      "The attribute is: last_name\n",
      "The value is: Servin\n",
      "The attribute is: age\n",
      "The value is: 25\n",
      "The attribute is: Goal\n",
      "The value is: Become a Full Data Scientist/Analyst in 2022\n"
     ]
    }
   ],
   "source": [
    "info = {\n",
    "    'first_name':'Jose',\n",
    "    'last_name':'Servin',\n",
    "    'age':25,\n",
    "    'Goal':'Become a Full Data Scientist/Analyst in 2022'\n",
    "}\n",
    "\n",
    "for key, value in info.items():\n",
    "    print('The attribute is: ' + key)\n",
    "    print('The value is: ' + str(value))"
   ]
  },
  {
   "cell_type": "markdown",
   "metadata": {},
   "source": [
    "# Enumerate Function"
   ]
  },
  {
   "cell_type": "markdown",
   "metadata": {},
   "source": [
    "* allows us to add a counter to any iterable "
   ]
  },
  {
   "cell_type": "code",
   "execution_count": 4,
   "metadata": {},
   "outputs": [
    {
     "name": "stdout",
     "output_type": "stream",
     "text": [
      "0 Baker\n",
      "1 Bella\n",
      "2 Camila\n",
      "3 Claudia\n",
      "4 Mayra\n",
      "5 Melissa\n"
     ]
    }
   ],
   "source": [
    "names = ['Baker','Bella','Camila','Claudia','Mayra','Melissa']\n",
    "\n",
    "for index, value in enumerate(names):\n",
    "    print(index, value)"
   ]
  },
  {
   "cell_type": "code",
   "execution_count": 5,
   "metadata": {},
   "outputs": [
    {
     "name": "stdout",
     "output_type": "stream",
     "text": [
      "1 Baker\n",
      "2 Bella\n",
      "3 Camila\n",
      "4 Claudia\n",
      "5 Mayra\n",
      "6 Melissa\n"
     ]
    }
   ],
   "source": [
    "names = ['Baker','Bella','Camila','Claudia','Mayra','Melissa']\n",
    "\n",
    "for index, value in enumerate(names, start=1):\n",
    "    print(index, value)"
   ]
  },
  {
   "cell_type": "markdown",
   "metadata": {},
   "source": [
    "## using enumerate"
   ]
  },
  {
   "cell_type": "code",
   "execution_count": 6,
   "metadata": {},
   "outputs": [
    {
     "name": "stdout",
     "output_type": "stream",
     "text": [
      "[(0, 'charles xavier'), (1, 'bobby drake'), (2, 'kurt wagner'), (3, 'max eisenhardt'), (4, 'kitty pryde')]\n",
      "0 charles xavier\n",
      "1 bobby drake\n",
      "2 kurt wagner\n",
      "3 max eisenhardt\n",
      "4 kitty pryde\n",
      "1 charles xavier\n",
      "2 bobby drake\n",
      "3 kurt wagner\n",
      "4 max eisenhardt\n",
      "5 kitty pryde\n"
     ]
    }
   ],
   "source": [
    "# Create a list of strings: mutants\n",
    "mutants = ['charles xavier', \n",
    "            'bobby drake', \n",
    "            'kurt wagner', \n",
    "            'max eisenhardt', \n",
    "            'kitty pryde']\n",
    "\n",
    "# Create a list of tuples: mutant_list\n",
    "mutant_list = list(enumerate(mutants))\n",
    "\n",
    "# Print the list of tuples\n",
    "print(mutant_list)\n",
    "\n",
    "# Unpack and print the tuple pairs\n",
    "for index1, value1 in enumerate(mutants):\n",
    "    print(index1, value1)\n",
    "\n",
    "# Change the start index\n",
    "for index1, value1 in enumerate(mutants, start=1):\n",
    "    print(index1, value1)"
   ]
  },
  {
   "cell_type": "markdown",
   "metadata": {},
   "source": [
    "# zip function"
   ]
  },
  {
   "cell_type": "markdown",
   "metadata": {},
   "source": [
    "* allows us to stitch together any number of iterables \n",
    "* accepts an arbitrary number of iterables and returns an iterator of tuples"
   ]
  },
  {
   "cell_type": "code",
   "execution_count": 7,
   "metadata": {},
   "outputs": [
    {
     "name": "stdout",
     "output_type": "stream",
     "text": [
      "Baker dog\n",
      "Lilo dog\n",
      "Bella cat\n",
      "Camila dog\n"
     ]
    }
   ],
   "source": [
    "breeds = ['dog','dog','cat','dog']\n",
    "names = ['Baker','Lilo','Bella','Camila']\n",
    "\n",
    "for z1, z2 in zip(names, breeds):\n",
    "    print(z1, z2)"
   ]
  },
  {
   "cell_type": "markdown",
   "metadata": {},
   "source": [
    "# Using iterators to load large files into memory"
   ]
  },
  {
   "cell_type": "markdown",
   "metadata": {},
   "source": [
    "## load data in chunks using an iterator"
   ]
  },
  {
   "cell_type": "code",
   "execution_count": 10,
   "metadata": {},
   "outputs": [
    {
     "name": "stdout",
     "output_type": "stream",
     "text": [
      "[2614, 2813, 3257, 3504, 3055, nan, 3301, 3395, nan, 2602, 3408, 1973, 3030, 3048, 2963, 3098, 3465]\n"
     ]
    }
   ],
   "source": [
    "# basic use-case for iterator \n",
    "MLY_CLDD_BASE45 = []\n",
    "for chunk in pd.read_csv('/Users/joseservin/DataCamp/Courses/Intro_Matplotlib/seattle_weather.csv', chunksize=12):\n",
    "    MLY_CLDD_BASE45.append(sum(chunk['MLY-CLDD-BASE45']))\n",
    "\n",
    "print(MLY_CLDD_BASE45)"
   ]
  },
  {
   "cell_type": "code",
   "execution_count": 13,
   "metadata": {},
   "outputs": [
    {
     "name": "stdout",
     "output_type": "stream",
     "text": [
      "nan\n"
     ]
    }
   ],
   "source": [
    "# basic use-case for iterator \n",
    "total = 0\n",
    "for chunk in pd.read_csv('/Users/joseservin/DataCamp/Courses/Intro_Matplotlib/seattle_weather.csv', chunksize=12):\n",
    "    total += sum(chunk['MLY-CLDD-BASE45'])\n",
    "print(total)"
   ]
  },
  {
   "cell_type": "markdown",
   "metadata": {},
   "source": [
    "# Processing large amounts of Twitter Data"
   ]
  },
  {
   "cell_type": "markdown",
   "metadata": {},
   "source": [
    "## Using chunksize "
   ]
  },
  {
   "cell_type": "code",
   "execution_count": 15,
   "metadata": {},
   "outputs": [
    {
     "name": "stdout",
     "output_type": "stream",
     "text": [
      "{'en': 97, 'et': 1, 'und': 2}\n"
     ]
    }
   ],
   "source": [
    "counts_dict = {}\n",
    "\n",
    "for chunk in pd.read_csv('/Users/joseservin/DataCamp/Courses/Python_Toolbox/tweets.csv', chunksize=10):\n",
    "    for entry in chunk['lang']:\n",
    "        if entry in counts_dict.keys():\n",
    "            counts_dict[entry] += 1 \n",
    "        else:\n",
    "            counts_dict[entry] = 1\n",
    "print(counts_dict)\n"
   ]
  },
  {
   "cell_type": "markdown",
   "metadata": {},
   "source": [
    "## Using a function and chunksize"
   ]
  },
  {
   "cell_type": "code",
   "execution_count": 18,
   "metadata": {},
   "outputs": [],
   "source": [
    "def count_entries(csv_name, chunk_size, col_name):\n",
    "    \"\"\"returns a dictionary with count of entries per unique observation\"\"\"\n",
    "    counts_dict = {}\n",
    "\n",
    "    for temp_df in pd.read_csv(csv_name, chunksize=chunk_size):\n",
    "        for entry in temp_df[col_name]:\n",
    "            if entry in counts_dict.keys():\n",
    "                counts_dict[entry] += 1\n",
    "            else:\n",
    "                counts_dict[entry] = 1\n",
    "    return counts_dict\n",
    "    "
   ]
  },
  {
   "cell_type": "code",
   "execution_count": 19,
   "metadata": {},
   "outputs": [
    {
     "name": "stdout",
     "output_type": "stream",
     "text": [
      "{'en': 97, 'et': 1, 'und': 2}\n"
     ]
    }
   ],
   "source": [
    "results = count_entries('/Users/joseservin/DataCamp/Courses/Python_Toolbox/tweets.csv', 10, 'lang')\n",
    "print(results)"
   ]
  },
  {
   "cell_type": "markdown",
   "metadata": {},
   "source": [
    "# List Comprehensions "
   ]
  },
  {
   "cell_type": "markdown",
   "metadata": {},
   "source": [
    "* Collapse for-loops for building lists into a single line\n",
    "* components\n",
    "    * iterable \n",
    "    * iterable variable\n",
    "    * output expression\n",
    "    "
   ]
  },
  {
   "cell_type": "code",
   "execution_count": 22,
   "metadata": {},
   "outputs": [
    {
     "name": "stdout",
     "output_type": "stream",
     "text": [
      "[2, 3, 4, 5, 6, 7, 8]\n"
     ]
    }
   ],
   "source": [
    "nums = [1,2,3,4,5,6,7]\n",
    "new_nums = [i + 1 for i in nums]\n",
    "print(new_nums)"
   ]
  },
  {
   "cell_type": "markdown",
   "metadata": {},
   "source": [
    "## Matrix building"
   ]
  },
  {
   "cell_type": "code",
   "execution_count": 23,
   "metadata": {},
   "outputs": [],
   "source": [
    "matrix = [[col for col in range(0,5)] for row in range(0,5)]"
   ]
  },
  {
   "cell_type": "code",
   "execution_count": 24,
   "metadata": {},
   "outputs": [
    {
     "name": "stdout",
     "output_type": "stream",
     "text": [
      "[0, 1, 2, 3, 4]\n",
      "[0, 1, 2, 3, 4]\n",
      "[0, 1, 2, 3, 4]\n",
      "[0, 1, 2, 3, 4]\n",
      "[0, 1, 2, 3, 4]\n"
     ]
    }
   ],
   "source": [
    "for row in matrix:\n",
    "    print(row)"
   ]
  },
  {
   "cell_type": "markdown",
   "metadata": {},
   "source": [
    "## Conditionals in Comprehensions "
   ]
  },
  {
   "cell_type": "code",
   "execution_count": 25,
   "metadata": {},
   "outputs": [
    {
     "data": {
      "text/plain": [
       "[0, 4, 16, 36, 64, 100]"
      ]
     },
     "execution_count": 25,
     "metadata": {},
     "output_type": "execute_result"
    }
   ],
   "source": [
    "[num ** 2 for num in range(0,11) if num % 2 == 0]"
   ]
  },
  {
   "cell_type": "markdown",
   "metadata": {},
   "source": [
    "## Conditionals on the output expression"
   ]
  },
  {
   "cell_type": "code",
   "execution_count": 26,
   "metadata": {},
   "outputs": [
    {
     "data": {
      "text/plain": [
       "[0, 0, 4, 0, 16, 0, 36, 0, 64, 0]"
      ]
     },
     "execution_count": 26,
     "metadata": {},
     "output_type": "execute_result"
    }
   ],
   "source": [
    "[num ** 2 if num % 2 == 0 else 0 for num in range(10)]"
   ]
  },
  {
   "cell_type": "markdown",
   "metadata": {},
   "source": [
    "## Dictionary Comprehension"
   ]
  },
  {
   "cell_type": "code",
   "execution_count": 29,
   "metadata": {},
   "outputs": [
    {
     "data": {
      "text/plain": [
       "{0: 0, 1: -1, 2: -2, 3: -3, 4: -4, 5: -5, 6: -6, 7: -7, 8: -8, 9: -9, 10: -10}"
      ]
     },
     "execution_count": 29,
     "metadata": {},
     "output_type": "execute_result"
    }
   ],
   "source": [
    "{num : -num for num in range(11)}"
   ]
  },
  {
   "cell_type": "markdown",
   "metadata": {},
   "source": [
    "# Introduction to generator expressions"
   ]
  },
  {
   "cell_type": "code",
   "execution_count": null,
   "metadata": {},
   "outputs": [],
   "source": []
  }
 ],
 "metadata": {
  "interpreter": {
   "hash": "aee8b7b246df8f9039afb4144a1f6fd8d2ca17a180786b69acc140d282b71a49"
  },
  "kernelspec": {
   "display_name": "Python 3.9.9 64-bit",
   "language": "python",
   "name": "python3"
  },
  "language_info": {
   "codemirror_mode": {
    "name": "ipython",
    "version": 3
   },
   "file_extension": ".py",
   "mimetype": "text/x-python",
   "name": "python",
   "nbconvert_exporter": "python",
   "pygments_lexer": "ipython3",
   "version": "3.9.9"
  },
  "orig_nbformat": 4
 },
 "nbformat": 4,
 "nbformat_minor": 2
}
