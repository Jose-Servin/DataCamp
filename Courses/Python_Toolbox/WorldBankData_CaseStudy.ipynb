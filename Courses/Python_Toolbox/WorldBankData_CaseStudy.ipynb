{
 "cells": [
  {
   "cell_type": "code",
   "execution_count": 10,
   "metadata": {},
   "outputs": [],
   "source": [
    "import pandas as pd "
   ]
  },
  {
   "cell_type": "code",
   "execution_count": 11,
   "metadata": {},
   "outputs": [],
   "source": [
    "feature_names = ['CountryName',\n",
    " 'CountryCode',\n",
    " 'IndicatorName',\n",
    " 'IndicatorCode',\n",
    " 'Year',\n",
    " 'Value']"
   ]
  },
  {
   "cell_type": "code",
   "execution_count": 12,
   "metadata": {},
   "outputs": [],
   "source": [
    "row_vals = ['Arab World',\n",
    " 'ARB',\n",
    " 'Adolescent fertility rate (births per 1,000 women ages 15-19)',\n",
    " 'SP.ADO.TFRT',\n",
    " '1960',\n",
    " '133.56090740552298']"
   ]
  },
  {
   "cell_type": "code",
   "execution_count": 13,
   "metadata": {},
   "outputs": [],
   "source": [
    "list_of_zip = zip(feature_names, row_vals)"
   ]
  },
  {
   "cell_type": "code",
   "execution_count": 14,
   "metadata": {},
   "outputs": [
    {
     "data": {
      "text/plain": [
       "{'CountryName': 'Arab World',\n",
       " 'CountryCode': 'ARB',\n",
       " 'IndicatorName': 'Adolescent fertility rate (births per 1,000 women ages 15-19)',\n",
       " 'IndicatorCode': 'SP.ADO.TFRT',\n",
       " 'Year': '1960',\n",
       " 'Value': '133.56090740552298'}"
      ]
     },
     "execution_count": 14,
     "metadata": {},
     "output_type": "execute_result"
    }
   ],
   "source": [
    "dict(list_of_zip)"
   ]
  },
  {
   "cell_type": "code",
   "execution_count": 15,
   "metadata": {},
   "outputs": [],
   "source": [
    "def lists2dict(list1, list2):\n",
    "    \"\"\" Return a dictionary where list1 provides key and list2 provides values\"\"\"\n",
    "    zipped = zip(list1, list2)\n",
    "\n",
    "    return_dict = dict(zipped)\n",
    "\n",
    "    return return_dict"
   ]
  },
  {
   "cell_type": "code",
   "execution_count": 16,
   "metadata": {},
   "outputs": [
    {
     "name": "stdout",
     "output_type": "stream",
     "text": [
      "{'CountryName': 'Arab World', 'CountryCode': 'ARB', 'IndicatorName': 'Adolescent fertility rate (births per 1,000 women ages 15-19)', 'IndicatorCode': 'SP.ADO.TFRT', 'Year': '1960', 'Value': '133.56090740552298'}\n"
     ]
    }
   ],
   "source": [
    "return_var = lists2dict(feature_names, row_vals)\n",
    "print(return_var)"
   ]
  },
  {
   "cell_type": "code",
   "execution_count": 17,
   "metadata": {},
   "outputs": [],
   "source": [
    "row_list = [['Arab World',\n",
    "  'ARB',\n",
    "  'Adolescent fertility rate (births per 1,000 women ages 15-19)',\n",
    "  'SP.ADO.TFRT',\n",
    "  '1960',\n",
    "  '133.56090740552298'],\n",
    " ['Arab World',\n",
    "  'ARB',\n",
    "  'Age dependency ratio (% of working-age population)',\n",
    "  'SP.POP.DPND',\n",
    "  '1960',\n",
    "  '87.7976011532547'],\n",
    " ['Arab World',\n",
    "  'ARB',\n",
    "  'Age dependency ratio, old (% of working-age population)',\n",
    "  'SP.POP.DPND.OL',\n",
    "  '1960',\n",
    "  '6.634579191565161'],\n",
    " ['Arab World',\n",
    "  'ARB',\n",
    "  'Age dependency ratio, young (% of working-age population)',\n",
    "  'SP.POP.DPND.YG',\n",
    "  '1960',\n",
    "  '81.02332950839141'],\n",
    " ['Arab World',\n",
    "  'ARB',\n",
    "  'Arms exports (SIPRI trend indicator values)',\n",
    "  'MS.MIL.XPRT.KD',\n",
    "  '1960',\n",
    "  '3000000.0'],\n",
    " ['Arab World',\n",
    "  'ARB',\n",
    "  'Arms imports (SIPRI trend indicator values)',\n",
    "  'MS.MIL.MPRT.KD',\n",
    "  '1960',\n",
    "  '538000000.0'],\n",
    " ['Arab World',\n",
    "  'ARB',\n",
    "  'Birth rate, crude (per 1,000 people)',\n",
    "  'SP.DYN.CBRT.IN',\n",
    "  '1960',\n",
    "  '47.697888095096395'],\n",
    " ['Arab World',\n",
    "  'ARB',\n",
    "  'CO2 emissions (kt)',\n",
    "  'EN.ATM.CO2E.KT',\n",
    "  '1960',\n",
    "  '59563.9892169935'],\n",
    " ['Arab World',\n",
    "  'ARB',\n",
    "  'CO2 emissions (metric tons per capita)',\n",
    "  'EN.ATM.CO2E.PC',\n",
    "  '1960',\n",
    "  '0.6439635478877049'],\n",
    " ['Arab World',\n",
    "  'ARB',\n",
    "  'CO2 emissions from gaseous fuel consumption (% of total)',\n",
    "  'EN.ATM.CO2E.GF.ZS',\n",
    "  '1960',\n",
    "  '5.041291753975099'],\n",
    " ['Arab World',\n",
    "  'ARB',\n",
    "  'CO2 emissions from liquid fuel consumption (% of total)',\n",
    "  'EN.ATM.CO2E.LF.ZS',\n",
    "  '1960',\n",
    "  '84.8514729446567'],\n",
    " ['Arab World',\n",
    "  'ARB',\n",
    "  'CO2 emissions from liquid fuel consumption (kt)',\n",
    "  'EN.ATM.CO2E.LF.KT',\n",
    "  '1960',\n",
    "  '49541.707291032304'],\n",
    " ['Arab World',\n",
    "  'ARB',\n",
    "  'CO2 emissions from solid fuel consumption (% of total)',\n",
    "  'EN.ATM.CO2E.SF.ZS',\n",
    "  '1960',\n",
    "  '4.72698138789597'],\n",
    " ['Arab World',\n",
    "  'ARB',\n",
    "  'Death rate, crude (per 1,000 people)',\n",
    "  'SP.DYN.CDRT.IN',\n",
    "  '1960',\n",
    "  '19.7544519237187'],\n",
    " ['Arab World',\n",
    "  'ARB',\n",
    "  'Fertility rate, total (births per woman)',\n",
    "  'SP.DYN.TFRT.IN',\n",
    "  '1960',\n",
    "  '6.92402738655897'],\n",
    " ['Arab World',\n",
    "  'ARB',\n",
    "  'Fixed telephone subscriptions',\n",
    "  'IT.MLT.MAIN',\n",
    "  '1960',\n",
    "  '406833.0'],\n",
    " ['Arab World',\n",
    "  'ARB',\n",
    "  'Fixed telephone subscriptions (per 100 people)',\n",
    "  'IT.MLT.MAIN.P2',\n",
    "  '1960',\n",
    "  '0.6167005703199'],\n",
    " ['Arab World',\n",
    "  'ARB',\n",
    "  'Hospital beds (per 1,000 people)',\n",
    "  'SH.MED.BEDS.ZS',\n",
    "  '1960',\n",
    "  '1.9296220724398703'],\n",
    " ['Arab World',\n",
    "  'ARB',\n",
    "  'International migrant stock (% of population)',\n",
    "  'SM.POP.TOTL.ZS',\n",
    "  '1960',\n",
    "  '2.9906371279862403'],\n",
    " ['Arab World',\n",
    "  'ARB',\n",
    "  'International migrant stock, total',\n",
    "  'SM.POP.TOTL',\n",
    "  '1960',\n",
    "  '3324685.0']]"
   ]
  },
  {
   "cell_type": "code",
   "execution_count": null,
   "metadata": {},
   "outputs": [],
   "source": []
  }
 ],
 "metadata": {
  "interpreter": {
   "hash": "aee8b7b246df8f9039afb4144a1f6fd8d2ca17a180786b69acc140d282b71a49"
  },
  "kernelspec": {
   "display_name": "Python 3.9.9 64-bit",
   "language": "python",
   "name": "python3"
  },
  "language_info": {
   "codemirror_mode": {
    "name": "ipython",
    "version": 3
   },
   "file_extension": ".py",
   "mimetype": "text/x-python",
   "name": "python",
   "nbconvert_exporter": "python",
   "pygments_lexer": "ipython3",
   "version": "3.9.9"
  },
  "orig_nbformat": 4
 },
 "nbformat": 4,
 "nbformat_minor": 2
}
