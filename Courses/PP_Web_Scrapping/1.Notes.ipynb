{
 "cells": [
  {
   "cell_type": "code",
   "execution_count": 44,
   "metadata": {
    "collapsed": true
   },
   "outputs": [],
   "source": [
    "from scrapy import Selector"
   ]
  },
  {
   "cell_type": "markdown",
   "source": [
    "# XPath Crash Course"
   ],
   "metadata": {
    "collapsed": false
   }
  },
  {
   "cell_type": "code",
   "execution_count": 45,
   "outputs": [],
   "source": [
    "html = \"\"\"\n",
    "<!DOCTYPE html>\n",
    "<html lang=\"en\">\n",
    "<head>\n",
    "    <meta charset=\"UTF-8\">\n",
    "    <title>Title</title>\n",
    "    <link rel=\"stylesheet\" href=\"master.css\">\n",
    "    <link rel=\"preconnect\" href=\"https://fonts.googleapis.com\">\n",
    "<link rel=\"preconnect\" href=\"https://fonts.gstatic.com\" crossorigin>\n",
    "<link href=\"https://fonts.googleapis.com/css2?family=League+Gothic&display=swap\" rel=\"stylesheet\">\n",
    "</head>\n",
    "<body>\n",
    "\n",
    "    <h1> This is a H1 heading. </h1>\n",
    "\n",
    "    <p class=\"p_class\"> Paragraph right after H1 tag. </p>\n",
    "\n",
    "    <p id=\"list_paragraph\"> Let's see a list </p>\n",
    "\n",
    "    <ol>\n",
    "        <li> Item One </li>\n",
    "        <li> Item Two </li>\n",
    "        <li> Item Three </li>\n",
    "    </ol>\n",
    "\n",
    "    <h3> H3 heading is here. </h3>\n",
    "    <div class=\"firstDiv\">\n",
    "        <p>I'm inside the first div.  </p>\n",
    "        <p id=\"find_me\"> Find me </p>\n",
    "    </div>\n",
    "\n",
    "    <div class=\"secondDiv\">\n",
    "        <p>I'm inside the second div.  </p>\n",
    "\n",
    "    </div>\n",
    "\n",
    "    <p id=\"unique_p\"> Unique text outside both divs. </p>\n",
    "    <p class=\"p_class other_class\"> Example text </p>\n",
    "\n",
    "\n",
    "\n",
    "    <h4 class=\"other_class\"> This is heading 4. </h4>\n",
    "\n",
    "    <p> Paragraph outside the div. </p>\n",
    "    <div>\n",
    "        <p class = \"p_class\"> Paragraph inside the div. </p>\n",
    "        <p id=\"find_me\"> Find me again </p>\n",
    "        <p>Second paragraph inside the div with some text <span> inside a span.</span>  </p>\n",
    "\n",
    "    </div>\n",
    "\n",
    "</body>\n",
    "</html>\n",
    "\"\"\""
   ],
   "metadata": {
    "collapsed": false,
    "pycharm": {
     "name": "#%%\n"
    }
   }
  },
  {
   "cell_type": "markdown",
   "source": [
    "## XPath Practice"
   ],
   "metadata": {
    "collapsed": false
   }
  },
  {
   "cell_type": "code",
   "execution_count": 46,
   "outputs": [
    {
     "data": {
      "text/plain": "['<p id=\"find_me\"> Find me </p>']"
     },
     "execution_count": 46,
     "metadata": {},
     "output_type": "execute_result"
    }
   ],
   "source": [
    "# Finding \"Find me\" text\n",
    "xpath = '/html/body/div[1]/p[2]'\n",
    "sel = Selector(text=html)\n",
    "sel.xpath(xpath).extract()"
   ],
   "metadata": {
    "collapsed": false,
    "pycharm": {
     "name": "#%%\n"
    }
   }
  },
  {
   "cell_type": "code",
   "execution_count": 47,
   "outputs": [
    {
     "data": {
      "text/plain": "['<li> Item One </li>', '<li> Item Two </li>', '<li> Item Three </li>']"
     },
     "execution_count": 47,
     "metadata": {},
     "output_type": "execute_result"
    }
   ],
   "source": [
    "# Find all list items\n",
    "xpath = '/html/body/ol//li'\n",
    "sel.xpath(xpath).extract()"
   ],
   "metadata": {
    "collapsed": false,
    "pycharm": {
     "name": "#%%\n"
    }
   }
  },
  {
   "cell_type": "code",
   "execution_count": 48,
   "outputs": [
    {
     "data": {
      "text/plain": "['<p class=\"p_class\"> Paragraph inside the div. </p>',\n '<p id=\"find_me\"> Find me again </p>',\n '<p>Second paragraph inside the div with some text <span> inside a span.</span>  </p>']"
     },
     "execution_count": 48,
     "metadata": {},
     "output_type": "execute_result"
    }
   ],
   "source": [
    "# Find all paragraphs inside div[3]\n",
    "xpath = '/html/body/div[3]//p'\n",
    "sel.xpath(xpath).extract()"
   ],
   "metadata": {
    "collapsed": false,
    "pycharm": {
     "name": "#%%\n"
    }
   }
  },
  {
   "cell_type": "code",
   "execution_count": 49,
   "outputs": [
    {
     "data": {
      "text/plain": "['<p class=\"p_class\"> Paragraph right after H1 tag. </p>',\n \"<p>I'm inside the first div.  </p>\",\n \"<p>I'm inside the second div.  </p>\",\n '<p class=\"p_class\"> Paragraph inside the div. </p>']"
     },
     "execution_count": 49,
     "metadata": {},
     "output_type": "execute_result"
    }
   ],
   "source": [
    "# Finding all first P elements\n",
    "xpath = '//p[1]'\n",
    "sel.xpath(xpath).extract()"
   ],
   "metadata": {
    "collapsed": false,
    "pycharm": {
     "name": "#%%\n"
    }
   }
  },
  {
   "cell_type": "code",
   "execution_count": 50,
   "outputs": [
    {
     "data": {
      "text/plain": "['<h1> This is a H1 heading. </h1>',\n '<p class=\"p_class\"> Paragraph right after H1 tag. </p>',\n '<p id=\"list_paragraph\"> Let\\'s see a list </p>',\n '<ol>\\n        <li> Item One </li>\\n        <li> Item Two </li>\\n        <li> Item Three </li>\\n    </ol>',\n '<h3> H3 heading is here. </h3>',\n '<div class=\"firstDiv\">\\n        <p>I\\'m inside the first div.  </p>\\n        <p id=\"find_me\"> Find me </p>\\n    </div>',\n '<div class=\"secondDiv\">\\n        <p>I\\'m inside the second div.  </p>\\n\\n    </div>',\n '<p id=\"unique_p\"> Unique text outside both divs. </p>',\n '<p class=\"p_class other_class\"> Example text </p>',\n '<h4 class=\"other_class\"> This is heading 4. </h4>',\n '<p> Paragraph outside the div. </p>',\n '<div>\\n        <p class=\"p_class\"> Paragraph inside the div. </p>\\n        <p id=\"find_me\"> Find me again </p>\\n        <p>Second paragraph inside the div with some text <span> inside a span.</span>  </p>\\n\\n    </div>']"
     },
     "execution_count": 50,
     "metadata": {},
     "output_type": "execute_result"
    }
   ],
   "source": [
    "# XPath wildcard is used to ignore tag type\n",
    "xpath = '/html/body/*' #finding all children of the body element\n",
    "sel.xpath(xpath).extract()"
   ],
   "metadata": {
    "collapsed": false,
    "pycharm": {
     "name": "#%%\n"
    }
   }
  },
  {
   "cell_type": "markdown",
   "source": [
    "## XPath Attributes"
   ],
   "metadata": {
    "collapsed": false
   }
  },
  {
   "cell_type": "code",
   "execution_count": 51,
   "outputs": [
    {
     "data": {
      "text/plain": "['<p class=\"p_class\"> Paragraph right after H1 tag. </p>',\n '<p class=\"p_class\"> Paragraph inside the div. </p>']"
     },
     "execution_count": 51,
     "metadata": {},
     "output_type": "execute_result"
    }
   ],
   "source": [
    "# Finding all p elements that have class = \"p_class\"\n",
    "xpath = '//p[@class=\"p_class\"]'\n",
    "sel.xpath(xpath).extract()"
   ],
   "metadata": {
    "collapsed": false,
    "pycharm": {
     "name": "#%%\n"
    }
   }
  },
  {
   "cell_type": "code",
   "execution_count": 85,
   "outputs": [
    {
     "data": {
      "text/plain": "['<p id=\"find_me\"> Find me </p>', '<p id=\"find_me\"> Find me again </p>']"
     },
     "execution_count": 85,
     "metadata": {},
     "output_type": "execute_result"
    }
   ],
   "source": [
    "# Find all elements who have id = \"find_me\"\n",
    "xpath = '//*[@id=\"find_me\"]'\n",
    "sel.xpath(xpath).extract()"
   ],
   "metadata": {
    "collapsed": false,
    "pycharm": {
     "name": "#%%\n"
    }
   }
  },
  {
   "cell_type": "code",
   "execution_count": 86,
   "outputs": [
    {
     "data": {
      "text/plain": "['<p id=\"find_me\"> Find me </p>']"
     },
     "execution_count": 86,
     "metadata": {},
     "output_type": "execute_result"
    }
   ],
   "source": [
    "# Find Find_me using attributes\n",
    "xpath = '//div[@class=\"firstDiv\"]/p[2]'\n",
    "sel.xpath(xpath).extract()"
   ],
   "metadata": {
    "collapsed": false,
    "pycharm": {
     "name": "#%%\n"
    }
   }
  },
  {
   "cell_type": "markdown",
   "source": [
    "## XPath Attributes Contains Function"
   ],
   "metadata": {
    "collapsed": false
   }
  },
  {
   "cell_type": "code",
   "execution_count": 89,
   "outputs": [
    {
     "data": {
      "text/plain": "['<p class=\"p_class other_class\"> Example text </p>',\n '<h4 class=\"other_class\"> This is heading 4. </h4>']"
     },
     "execution_count": 89,
     "metadata": {},
     "output_type": "execute_result"
    }
   ],
   "source": [
    "# Finding all elements whose class is set to class=\"other_class\" using contains function\n",
    "xpath = '//*[contains(@class, \"other_class\")]'\n",
    "sel.xpath(xpath).extract()"
   ],
   "metadata": {
    "collapsed": false,
    "pycharm": {
     "name": "#%%\n"
    }
   }
  },
  {
   "cell_type": "code",
   "execution_count": 91,
   "outputs": [
    {
     "data": {
      "text/plain": "[<Selector xpath='/html/body/p[1]/@class' data='p_class'>]"
     },
     "execution_count": 91,
     "metadata": {},
     "output_type": "execute_result"
    }
   ],
   "source": [
    "# Finding the class name by pulling attribute using xpath\n",
    "xpath = '/html/body/p[1]/@class'\n",
    "sel.xpath(xpath)"
   ],
   "metadata": {
    "collapsed": false,
    "pycharm": {
     "name": "#%%\n"
    }
   }
  },
  {
   "cell_type": "markdown",
   "source": [
    "# Setting up a Selector Object"
   ],
   "metadata": {
    "collapsed": false
   }
  },
  {
   "cell_type": "code",
   "execution_count": 52,
   "outputs": [],
   "source": [
    "html = \"\"\"\n",
    "<!DOCTYPE html>\n",
    "<html lang=\"en\">\n",
    "<head>\n",
    "    <meta charset=\"UTF-8\">\n",
    "    <title>Title</title>\n",
    "    <link rel=\"stylesheet\" href=\"master.css\">\n",
    "    <link rel=\"preconnect\" href=\"https://fonts.googleapis.com\">\n",
    "<link rel=\"preconnect\" href=\"https://fonts.gstatic.com\" crossorigin>\n",
    "<link href=\"https://fonts.googleapis.com/css2?family=League+Gothic&display=swap\" rel=\"stylesheet\">\n",
    "</head>\n",
    "<body>\n",
    "\n",
    "    <h1> This is a H1 heading. </h1>\n",
    "\n",
    "    <p class=\"p_class\"> Paragraph right after H1 tag. </p>\n",
    "\n",
    "    <p id=\"list_paragraph\"> Let's see a list </p>\n",
    "\n",
    "    <ol>\n",
    "        <li> Item One </li>\n",
    "        <li> Item Two </li>\n",
    "        <li> Item Three </li>\n",
    "    </ol>\n",
    "\n",
    "    <h3> H3 heading is here. </h3>\n",
    "    <div class=\"firstDiv\">\n",
    "        <p>I'm inside the first div.  </p>\n",
    "        <p id=\"find_me\"> Find me </p>\n",
    "    </div>\n",
    "\n",
    "    <div class=\"secondDiv\">\n",
    "        <p>I'm inside the second div.  </p>\n",
    "\n",
    "    </div>\n",
    "\n",
    "    <p id=\"unique_p\"> Unique text outside both divs. </p>\n",
    "    <p class=\"p_class other_class\"> Example text </p>\n",
    "\n",
    "\n",
    "\n",
    "    <h4 class=\"other_class\"> This is heading 4. </h4>\n",
    "\n",
    "    <p> Paragraph outside the div. </p>\n",
    "    <div>\n",
    "        <p> Paragraph inside the div. </p>\n",
    "        <p id=\"find_me\"> Find me again </p>\n",
    "        <p>Second paragraph inside the div with some text <span> inside a span.</span>  </p>\n",
    "\n",
    "    </div>\n",
    "\n",
    "</body>\n",
    "</html>\n",
    "\"\"\""
   ],
   "metadata": {
    "collapsed": false,
    "pycharm": {
     "name": "#%%\n"
    }
   }
  },
  {
   "cell_type": "code",
   "execution_count": 53,
   "outputs": [],
   "source": [
    "sel = Selector(text = html)"
   ],
   "metadata": {
    "collapsed": false,
    "pycharm": {
     "name": "#%%\n"
    }
   }
  },
  {
   "cell_type": "code",
   "execution_count": 54,
   "outputs": [
    {
     "data": {
      "text/plain": "[<Selector xpath='//p' data='<p class=\"p_class\"> Paragraph right a...'>,\n <Selector xpath='//p' data='<p id=\"list_paragraph\"> Let\\'s see a l...'>,\n <Selector xpath='//p' data=\"<p>I'm inside the first div.  </p>\">,\n <Selector xpath='//p' data='<p id=\"find_me\"> Find me </p>'>,\n <Selector xpath='//p' data=\"<p>I'm inside the second div.  </p>\">,\n <Selector xpath='//p' data='<p id=\"unique_p\"> Unique text outside...'>,\n <Selector xpath='//p' data='<p class=\"p_class other_class\"> Examp...'>,\n <Selector xpath='//p' data='<p> Paragraph outside the div. </p>'>,\n <Selector xpath='//p' data='<p> Paragraph inside the div. </p>'>,\n <Selector xpath='//p' data='<p id=\"find_me\"> Find me again </p>'>,\n <Selector xpath='//p' data='<p>Second paragraph inside the div wi...'>]"
     },
     "execution_count": 54,
     "metadata": {},
     "output_type": "execute_result"
    }
   ],
   "source": [
    "sel.xpath('//p')"
   ],
   "metadata": {
    "collapsed": false,
    "pycharm": {
     "name": "#%%\n"
    }
   }
  },
  {
   "cell_type": "code",
   "execution_count": 55,
   "outputs": [
    {
     "data": {
      "text/plain": "['<p class=\"p_class\"> Paragraph right after H1 tag. </p>',\n '<p id=\"list_paragraph\"> Let\\'s see a list </p>',\n \"<p>I'm inside the first div.  </p>\",\n '<p id=\"find_me\"> Find me </p>',\n \"<p>I'm inside the second div.  </p>\",\n '<p id=\"unique_p\"> Unique text outside both divs. </p>',\n '<p class=\"p_class other_class\"> Example text </p>',\n '<p> Paragraph outside the div. </p>',\n '<p> Paragraph inside the div. </p>',\n '<p id=\"find_me\"> Find me again </p>',\n '<p>Second paragraph inside the div with some text <span> inside a span.</span>  </p>']"
     },
     "execution_count": 55,
     "metadata": {},
     "output_type": "execute_result"
    }
   ],
   "source": [
    "sel.xpath('//p').extract()"
   ],
   "metadata": {
    "collapsed": false,
    "pycharm": {
     "name": "#%%\n"
    }
   }
  },
  {
   "cell_type": "code",
   "execution_count": 56,
   "outputs": [
    {
     "data": {
      "text/plain": "'<p class=\"p_class\"> Paragraph right after H1 tag. </p>'"
     },
     "execution_count": 56,
     "metadata": {},
     "output_type": "execute_result"
    }
   ],
   "source": [
    "sel.xpath('//p').extract_first()"
   ],
   "metadata": {
    "collapsed": false,
    "pycharm": {
     "name": "#%%\n"
    }
   }
  },
  {
   "cell_type": "code",
   "execution_count": 57,
   "outputs": [],
   "source": [
    "p_sel_list = sel.xpath('//p')"
   ],
   "metadata": {
    "collapsed": false,
    "pycharm": {
     "name": "#%%\n"
    }
   }
  },
  {
   "cell_type": "code",
   "execution_count": 58,
   "outputs": [
    {
     "data": {
      "text/plain": "'<p>Second paragraph inside the div with some text <span> inside a span.</span>  </p>'"
     },
     "execution_count": 58,
     "metadata": {},
     "output_type": "execute_result"
    }
   ],
   "source": [
    "p_sel_list[-1].extract()"
   ],
   "metadata": {
    "collapsed": false,
    "pycharm": {
     "name": "#%%\n"
    }
   }
  },
  {
   "cell_type": "code",
   "execution_count": 59,
   "outputs": [
    {
     "name": "stdout",
     "output_type": "stream",
     "text": [
      "You have found:  31\n"
     ]
    }
   ],
   "source": [
    "print( \"You have found: \", len( sel.xpath('//*') ) )"
   ],
   "metadata": {
    "collapsed": false,
    "pycharm": {
     "name": "#%%\n"
    }
   }
  },
  {
   "cell_type": "markdown",
   "source": [
    "# Setting up Selector with Python requests library"
   ],
   "metadata": {
    "collapsed": false
   }
  },
  {
   "cell_type": "code",
   "execution_count": 60,
   "outputs": [],
   "source": [
    "import requests"
   ],
   "metadata": {
    "collapsed": false,
    "pycharm": {
     "name": "#%%\n"
    }
   }
  },
  {
   "cell_type": "code",
   "execution_count": 61,
   "outputs": [],
   "source": [
    "url = \"https://en.wikipedia.org/wiki/Python\"\n",
    "html = requests.get(url).content"
   ],
   "metadata": {
    "collapsed": false,
    "pycharm": {
     "name": "#%%\n"
    }
   }
  },
  {
   "cell_type": "code",
   "execution_count": 62,
   "outputs": [],
   "source": [
    "sel = Selector(text=html)"
   ],
   "metadata": {
    "collapsed": false,
    "pycharm": {
     "name": "#%%\n"
    }
   }
  },
  {
   "cell_type": "code",
   "execution_count": 63,
   "outputs": [
    {
     "data": {
      "text/plain": "['<h2 id=\"mw-toc-heading\">Contents</h2>',\n '<h2><span class=\"mw-headline\" id=\"Computing\">Computing</span><span class=\"mw-editsection\"><span class=\"mw-editsection-bracket\">[</span><a href=\"/w/index.php?title=Python&amp;action=edit&amp;section=1\" title=\"Edit section: Computing\">edit</a><span class=\"mw-editsection-bracket\">]</span></span></h2>',\n '<h2><span class=\"mw-headline\" id=\"People\">People</span><span class=\"mw-editsection\"><span class=\"mw-editsection-bracket\">[</span><a href=\"/w/index.php?title=Python&amp;action=edit&amp;section=2\" title=\"Edit section: People\">edit</a><span class=\"mw-editsection-bracket\">]</span></span></h2>',\n '<h2><span class=\"mw-headline\" id=\"Roller_coasters\">Roller coasters</span><span class=\"mw-editsection\"><span class=\"mw-editsection-bracket\">[</span><a href=\"/w/index.php?title=Python&amp;action=edit&amp;section=3\" title=\"Edit section: Roller coasters\">edit</a><span class=\"mw-editsection-bracket\">]</span></span></h2>',\n '<h2><span class=\"mw-headline\" id=\"Vehicles\">Vehicles</span><span class=\"mw-editsection\"><span class=\"mw-editsection-bracket\">[</span><a href=\"/w/index.php?title=Python&amp;action=edit&amp;section=4\" title=\"Edit section: Vehicles\">edit</a><span class=\"mw-editsection-bracket\">]</span></span></h2>',\n '<h2><span class=\"mw-headline\" id=\"Weaponry\">Weaponry</span><span class=\"mw-editsection\"><span class=\"mw-editsection-bracket\">[</span><a href=\"/w/index.php?title=Python&amp;action=edit&amp;section=5\" title=\"Edit section: Weaponry\">edit</a><span class=\"mw-editsection-bracket\">]</span></span></h2>',\n '<h2><span class=\"mw-headline\" id=\"Other_uses\">Other uses</span><span class=\"mw-editsection\"><span class=\"mw-editsection-bracket\">[</span><a href=\"/w/index.php?title=Python&amp;action=edit&amp;section=6\" title=\"Edit section: Other uses\">edit</a><span class=\"mw-editsection-bracket\">]</span></span></h2>',\n '<h2><span class=\"mw-headline\" id=\"See_also\">See also</span><span class=\"mw-editsection\"><span class=\"mw-editsection-bracket\">[</span><a href=\"/w/index.php?title=Python&amp;action=edit&amp;section=7\" title=\"Edit section: See also\">edit</a><span class=\"mw-editsection-bracket\">]</span></span></h2>',\n '<h2>Navigation menu</h2>']"
     },
     "execution_count": 63,
     "metadata": {},
     "output_type": "execute_result"
    }
   ],
   "source": [
    "sel.xpath('//h2').extract()"
   ],
   "metadata": {
    "collapsed": false,
    "pycharm": {
     "name": "#%%\n"
    }
   }
  },
  {
   "cell_type": "code",
   "execution_count": 64,
   "outputs": [
    {
     "name": "stdout",
     "output_type": "stream",
     "text": [
      "You have found:  597\n"
     ]
    }
   ],
   "source": [
    "print( \"You have found: \", len( sel.xpath('//*') ) )"
   ],
   "metadata": {
    "collapsed": false,
    "pycharm": {
     "name": "#%%\n"
    }
   }
  },
  {
   "cell_type": "markdown",
   "source": [
    "# CSS Locator"
   ],
   "metadata": {
    "collapsed": false
   }
  },
  {
   "cell_type": "code",
   "execution_count": 65,
   "outputs": [],
   "source": [
    "html = \"\"\"\n",
    "<!DOCTYPE html>\n",
    "<html lang=\"en\">\n",
    "<head>\n",
    "    <meta charset=\"UTF-8\">\n",
    "    <title>Title</title>\n",
    "    <link rel=\"stylesheet\" href=\"master.css\">\n",
    "    <link rel=\"preconnect\" href=\"https://fonts.googleapis.com\">\n",
    "<link rel=\"preconnect\" href=\"https://fonts.gstatic.com\" crossorigin>\n",
    "<link href=\"https://fonts.googleapis.com/css2?family=League+Gothic&display=swap\" rel=\"stylesheet\">\n",
    "</head>\n",
    "<body>\n",
    "\n",
    "    <h1> This is a H1 heading. </h1>\n",
    "\n",
    "    <p class=\"p_class\"> Paragraph right after H1 tag. </p>\n",
    "\n",
    "    <p id=\"list_paragraph\"> Let's see a list </p>\n",
    "\n",
    "    <ol>\n",
    "        <li> Item One </li>\n",
    "        <li> Item Two </li>\n",
    "        <li> Item Three </li>\n",
    "    </ol>\n",
    "\n",
    "    <h3> H3 heading is here. </h3>\n",
    "    <div class=\"firstDiv\">\n",
    "        <p>I'm inside the first div.  </p>\n",
    "        <p id=\"find_me\"> Find me </p>\n",
    "    </div>\n",
    "\n",
    "    <div class=\"secondDiv\">\n",
    "        <p>I'm inside the second div.  </p>\n",
    "\n",
    "    </div>\n",
    "\n",
    "    <p id=\"unique_p\"> Unique text outside both divs. </p>\n",
    "    <p class=\"p_class other_class\"> Example text </p>\n",
    "\n",
    "\n",
    "\n",
    "    <h4 class=\"other_class\"> This is heading 4. </h4>\n",
    "\n",
    "    <p> Paragraph outside the div. </p>\n",
    "    <div>\n",
    "        <p> Paragraph inside the div. </p>\n",
    "        <p id=\"find_me\"> Find me again </p>\n",
    "        <p>Second paragraph inside the div with some text <span> inside a span.</span>  </p>\n",
    "\n",
    "    </div>\n",
    "\n",
    "</body>\n",
    "</html>\n",
    "\"\"\""
   ],
   "metadata": {
    "collapsed": false,
    "pycharm": {
     "name": "#%%\n"
    }
   }
  },
  {
   "cell_type": "markdown",
   "source": [
    "## Rosetta CSStone"
   ],
   "metadata": {
    "collapsed": false
   }
  },
  {
   "cell_type": "code",
   "execution_count": 66,
   "outputs": [],
   "source": [
    "xpath = '/html/body/h1'"
   ],
   "metadata": {
    "collapsed": false,
    "pycharm": {
     "name": "#%%\n"
    }
   }
  },
  {
   "cell_type": "code",
   "execution_count": 67,
   "outputs": [],
   "source": [
    "sel = Selector(text=html)"
   ],
   "metadata": {
    "collapsed": false,
    "pycharm": {
     "name": "#%%\n"
    }
   }
  },
  {
   "cell_type": "code",
   "execution_count": 68,
   "outputs": [
    {
     "data": {
      "text/plain": "['<h1> This is a H1 heading. </h1>']"
     },
     "execution_count": 68,
     "metadata": {},
     "output_type": "execute_result"
    }
   ],
   "source": [
    "sel.xpath(xpath).extract()"
   ],
   "metadata": {
    "collapsed": false,
    "pycharm": {
     "name": "#%%\n"
    }
   }
  },
  {
   "cell_type": "code",
   "execution_count": 69,
   "outputs": [],
   "source": [
    "css = 'html > body > h1'"
   ],
   "metadata": {
    "collapsed": false,
    "pycharm": {
     "name": "#%%\n"
    }
   }
  },
  {
   "cell_type": "code",
   "execution_count": 70,
   "outputs": [
    {
     "data": {
      "text/plain": "['<h1> This is a H1 heading. </h1>']"
     },
     "execution_count": 70,
     "metadata": {},
     "output_type": "execute_result"
    }
   ],
   "source": [
    "sel.css(css).extract()"
   ],
   "metadata": {
    "collapsed": false,
    "pycharm": {
     "name": "#%%\n"
    }
   }
  },
  {
   "cell_type": "code",
   "execution_count": 71,
   "outputs": [],
   "source": [
    "xpath = '//p'"
   ],
   "metadata": {
    "collapsed": false,
    "pycharm": {
     "name": "#%%\n"
    }
   }
  },
  {
   "cell_type": "code",
   "execution_count": 72,
   "outputs": [
    {
     "data": {
      "text/plain": "['<p class=\"p_class\"> Paragraph right after H1 tag. </p>',\n '<p id=\"list_paragraph\"> Let\\'s see a list </p>',\n \"<p>I'm inside the first div.  </p>\",\n '<p id=\"find_me\"> Find me </p>',\n \"<p>I'm inside the second div.  </p>\",\n '<p id=\"unique_p\"> Unique text outside both divs. </p>',\n '<p class=\"p_class other_class\"> Example text </p>',\n '<p> Paragraph outside the div. </p>',\n '<p> Paragraph inside the div. </p>',\n '<p id=\"find_me\"> Find me again </p>',\n '<p>Second paragraph inside the div with some text <span> inside a span.</span>  </p>']"
     },
     "execution_count": 72,
     "metadata": {},
     "output_type": "execute_result"
    }
   ],
   "source": [
    "sel.xpath(xpath).extract()"
   ],
   "metadata": {
    "collapsed": false,
    "pycharm": {
     "name": "#%%\n"
    }
   }
  },
  {
   "cell_type": "code",
   "execution_count": 73,
   "outputs": [],
   "source": [
    "css = 'p'"
   ],
   "metadata": {
    "collapsed": false,
    "pycharm": {
     "name": "#%%\n"
    }
   }
  },
  {
   "cell_type": "code",
   "execution_count": 74,
   "outputs": [
    {
     "data": {
      "text/plain": "['<p class=\"p_class\"> Paragraph right after H1 tag. </p>',\n '<p id=\"list_paragraph\"> Let\\'s see a list </p>',\n \"<p>I'm inside the first div.  </p>\",\n '<p id=\"find_me\"> Find me </p>',\n \"<p>I'm inside the second div.  </p>\",\n '<p id=\"unique_p\"> Unique text outside both divs. </p>',\n '<p class=\"p_class other_class\"> Example text </p>',\n '<p> Paragraph outside the div. </p>',\n '<p> Paragraph inside the div. </p>',\n '<p id=\"find_me\"> Find me again </p>',\n '<p>Second paragraph inside the div with some text <span> inside a span.</span>  </p>']"
     },
     "execution_count": 74,
     "metadata": {},
     "output_type": "execute_result"
    }
   ],
   "source": [
    "sel.css(css).extract()"
   ],
   "metadata": {
    "collapsed": false,
    "pycharm": {
     "name": "#%%\n"
    }
   }
  },
  {
   "cell_type": "code",
   "execution_count": 75,
   "outputs": [],
   "source": [
    "xpath = '//p[3]'"
   ],
   "metadata": {
    "collapsed": false,
    "pycharm": {
     "name": "#%%\n"
    }
   }
  },
  {
   "cell_type": "code",
   "execution_count": 76,
   "outputs": [
    {
     "data": {
      "text/plain": "['<p id=\"unique_p\"> Unique text outside both divs. </p>',\n '<p>Second paragraph inside the div with some text <span> inside a span.</span>  </p>']"
     },
     "execution_count": 76,
     "metadata": {},
     "output_type": "execute_result"
    }
   ],
   "source": [
    "sel.xpath(xpath).extract()"
   ],
   "metadata": {
    "collapsed": false,
    "pycharm": {
     "name": "#%%\n"
    }
   }
  },
  {
   "cell_type": "code",
   "execution_count": 77,
   "outputs": [],
   "source": [
    "xpath = '/html/body/div[1]/p[2]'"
   ],
   "metadata": {
    "collapsed": false,
    "pycharm": {
     "name": "#%%\n"
    }
   }
  },
  {
   "cell_type": "code",
   "execution_count": 78,
   "outputs": [
    {
     "data": {
      "text/plain": "['<p id=\"find_me\"> Find me </p>']"
     },
     "execution_count": 78,
     "metadata": {},
     "output_type": "execute_result"
    }
   ],
   "source": [
    "sel.xpath(xpath).extract()"
   ],
   "metadata": {
    "collapsed": false,
    "pycharm": {
     "name": "#%%\n"
    }
   }
  },
  {
   "cell_type": "code",
   "execution_count": 79,
   "outputs": [],
   "source": [
    "css = 'html > body > div:nth-of-type(1) > p:nth-of-type(2)'"
   ],
   "metadata": {
    "collapsed": false,
    "pycharm": {
     "name": "#%%\n"
    }
   }
  },
  {
   "cell_type": "code",
   "execution_count": 80,
   "outputs": [
    {
     "data": {
      "text/plain": "['<p id=\"find_me\"> Find me </p>']"
     },
     "execution_count": 80,
     "metadata": {},
     "output_type": "execute_result"
    }
   ],
   "source": [
    "sel.css(css).extract()"
   ],
   "metadata": {
    "collapsed": false,
    "pycharm": {
     "name": "#%%\n"
    }
   }
  },
  {
   "cell_type": "code",
   "execution_count": 81,
   "outputs": [
    {
     "data": {
      "text/plain": "['<p id=\"find_me\"> Find me </p>', '<p id=\"find_me\"> Find me again </p>']"
     },
     "execution_count": 81,
     "metadata": {},
     "output_type": "execute_result"
    }
   ],
   "source": [
    "xpath = '/html/body//div/p[2]'\n",
    "sel.xpath(xpath).extract()"
   ],
   "metadata": {
    "collapsed": false,
    "pycharm": {
     "name": "#%%\n"
    }
   }
  },
  {
   "cell_type": "code",
   "execution_count": 82,
   "outputs": [
    {
     "data": {
      "text/plain": "['<p id=\"find_me\"> Find me </p>', '<p id=\"find_me\"> Find me again </p>']"
     },
     "execution_count": 82,
     "metadata": {},
     "output_type": "execute_result"
    }
   ],
   "source": [
    "css = 'html > body div > p:nth-of-type(2)'\n",
    "sel.css(css).extract()"
   ],
   "metadata": {
    "collapsed": false,
    "pycharm": {
     "name": "#%%\n"
    }
   }
  },
  {
   "cell_type": "code",
   "execution_count": 83,
   "outputs": [
    {
     "data": {
      "text/plain": "['<p id=\"find_me\"> Find me </p>']"
     },
     "execution_count": 83,
     "metadata": {},
     "output_type": "execute_result"
    }
   ],
   "source": [
    "css = 'div.firstDiv > p#find_me'\n",
    "sel.css(css).extract()"
   ],
   "metadata": {
    "collapsed": false,
    "pycharm": {
     "name": "#%%\n"
    }
   }
  },
  {
   "cell_type": "code",
   "execution_count": 84,
   "outputs": [
    {
     "data": {
      "text/plain": "['<p id=\"find_me\"> Find me </p>', '<p id=\"find_me\"> Find me again </p>']"
     },
     "execution_count": 84,
     "metadata": {},
     "output_type": "execute_result"
    }
   ],
   "source": [
    "css = 'p#find_me'\n",
    "sel.css(css).extract()"
   ],
   "metadata": {
    "collapsed": false,
    "pycharm": {
     "name": "#%%\n"
    }
   }
  },
  {
   "cell_type": "code",
   "execution_count": 84,
   "outputs": [],
   "source": [],
   "metadata": {
    "collapsed": false,
    "pycharm": {
     "name": "#%%\n"
    }
   }
  },
  {
   "cell_type": "code",
   "execution_count": 84,
   "outputs": [],
   "source": [],
   "metadata": {
    "collapsed": false,
    "pycharm": {
     "name": "#%%\n"
    }
   }
  }
 ],
 "metadata": {
  "kernelspec": {
   "display_name": "Python 3",
   "language": "python",
   "name": "python3"
  },
  "language_info": {
   "codemirror_mode": {
    "name": "ipython",
    "version": 2
   },
   "file_extension": ".py",
   "mimetype": "text/x-python",
   "name": "python",
   "nbconvert_exporter": "python",
   "pygments_lexer": "ipython2",
   "version": "2.7.6"
  }
 },
 "nbformat": 4,
 "nbformat_minor": 0
}