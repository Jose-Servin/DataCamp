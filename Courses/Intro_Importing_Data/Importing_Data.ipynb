{
 "cells": [
  {
   "cell_type": "code",
   "execution_count": 2,
   "outputs": [],
   "source": [
    "import h5py\n",
    "import pandas as pd\n",
    "import numpy as np\n",
    "import matplotlib.pyplot as plt"
   ],
   "metadata": {
    "collapsed": false,
    "pycharm": {
     "name": "#%%\n"
    }
   }
  },
  {
   "cell_type": "markdown",
   "source": [
    "# Reading Files"
   ],
   "metadata": {
    "collapsed": false
   }
  },
  {
   "cell_type": "markdown",
   "metadata": {},
   "source": [
    "## Reading a text file "
   ]
  },
  {
   "cell_type": "code",
   "execution_count": 3,
   "metadata": {},
   "outputs": [],
   "source": [
    "filename = '/Users/joseservin/DataCamp/Courses/Intro_Importing_Data/example_file.txt'\n",
    "\n",
    "file = open(filename, mode='r') \n",
    "text = file.read()\n",
    "file.close()"
   ]
  },
  {
   "cell_type": "code",
   "execution_count": 4,
   "metadata": {},
   "outputs": [
    {
     "name": "stdout",
     "output_type": "stream",
     "text": [
      "This is an example text file that \n",
      "will be used to explore the various\n",
      "ways txt files can be read and used using Python. \n",
      "\n"
     ]
    }
   ],
   "source": [
    "print(text)"
   ]
  },
  {
   "cell_type": "markdown",
   "metadata": {},
   "source": [
    "## Context manager with"
   ]
  },
  {
   "cell_type": "code",
   "execution_count": 5,
   "metadata": {},
   "outputs": [
    {
     "name": "stdout",
     "output_type": "stream",
     "text": [
      "This is an example text file that \n",
      "will be used to explore the various\n",
      "ways txt files can be read and used using Python. \n",
      "\n"
     ]
    }
   ],
   "source": [
    "with open(filename, 'r') as file:\n",
    "    print(file.read())"
   ]
  },
  {
   "cell_type": "markdown",
   "metadata": {},
   "source": [
    "## Context manager with (reading line by line)"
   ]
  },
  {
   "cell_type": "code",
   "execution_count": 6,
   "metadata": {},
   "outputs": [
    {
     "name": "stdout",
     "output_type": "stream",
     "text": [
      "This is an example text file that \n",
      "\n",
      "will be used to explore the various\n",
      "\n"
     ]
    }
   ],
   "source": [
    "with open(filename, 'r') as file:\n",
    "    print(file.readline())\n",
    "    print(file.readline())"
   ]
  },
  {
   "cell_type": "markdown",
   "metadata": {},
   "source": [
    "# Flat Files"
   ]
  },
  {
   "cell_type": "markdown",
   "source": [
    "* Text files containing records\n",
    "* Table Data\n",
    "* each row is a record and each column is an attribute"
   ],
   "metadata": {
    "collapsed": false
   }
  },
  {
   "cell_type": "markdown",
   "source": [
    "## Importing Flat Files using Numpy"
   ],
   "metadata": {
    "collapsed": false
   }
  },
  {
   "cell_type": "code",
   "execution_count": 7,
   "metadata": {},
   "outputs": [
    {
     "data": {
      "text/plain": "array([[1., 0., 0., ..., 0., 0., 0.],\n       [0., 0., 0., ..., 0., 0., 0.],\n       [1., 0., 0., ..., 0., 0., 0.],\n       ...,\n       [2., 0., 0., ..., 0., 0., 0.],\n       [0., 0., 0., ..., 0., 0., 0.],\n       [5., 0., 0., ..., 0., 0., 0.]])"
     },
     "execution_count": 7,
     "metadata": {},
     "output_type": "execute_result"
    }
   ],
   "source": [
    "filename = '/Users/joseservin/DataCamp/Courses/Intro_Importing_Data/MNIST.csv'\n",
    "data = np.loadtxt(filename, delimiter=',') # default delimiter is white space\n",
    "data"
   ]
  },
  {
   "cell_type": "markdown",
   "source": [
    "## Customizing Numpy Imports"
   ],
   "metadata": {
    "collapsed": false
   }
  },
  {
   "cell_type": "code",
   "execution_count": 8,
   "outputs": [
    {
     "data": {
      "text/plain": "array([[0., 0., 0., ..., 0., 0., 0.],\n       [1., 0., 0., ..., 0., 0., 0.],\n       [4., 0., 0., ..., 0., 0., 0.],\n       ...,\n       [2., 0., 0., ..., 0., 0., 0.],\n       [0., 0., 0., ..., 0., 0., 0.],\n       [5., 0., 0., ..., 0., 0., 0.]])"
     },
     "execution_count": 8,
     "metadata": {},
     "output_type": "execute_result"
    }
   ],
   "source": [
    "data = np.loadtxt(filename, delimiter=',', skiprows=1) # specify if first row should be skipped (if headers are included but don't need/want them)\n",
    "data"
   ],
   "metadata": {
    "collapsed": false,
    "pycharm": {
     "name": "#%%\n"
    }
   }
  },
  {
   "cell_type": "code",
   "execution_count": 9,
   "outputs": [
    {
     "data": {
      "text/plain": "array([[0., 0.],\n       [1., 0.],\n       [4., 0.],\n       [0., 0.],\n       [0., 0.],\n       [7., 0.],\n       [3., 0.],\n       [5., 0.],\n       [3., 0.],\n       [8., 0.],\n       [9., 0.],\n       [1., 0.],\n       [3., 0.],\n       [3., 0.],\n       [1., 0.],\n       [2., 0.],\n       [0., 0.],\n       [7., 0.],\n       [5., 0.],\n       [8., 0.],\n       [6., 0.],\n       [2., 0.],\n       [0., 0.],\n       [2., 0.],\n       [3., 0.],\n       [6., 0.],\n       [9., 0.],\n       [9., 0.],\n       [7., 0.],\n       [8., 0.],\n       [9., 0.],\n       [4., 0.],\n       [9., 0.],\n       [2., 0.],\n       [1., 0.],\n       [3., 0.],\n       [1., 0.],\n       [1., 0.],\n       [4., 0.],\n       [9., 0.],\n       [1., 0.],\n       [4., 0.],\n       [4., 0.],\n       [2., 0.],\n       [6., 0.],\n       [3., 0.],\n       [7., 0.],\n       [7., 0.],\n       [4., 0.],\n       [7., 0.],\n       [5., 0.],\n       [1., 0.],\n       [9., 0.],\n       [0., 0.],\n       [2., 0.],\n       [2., 0.],\n       [3., 0.],\n       [9., 0.],\n       [1., 0.],\n       [1., 0.],\n       [1., 0.],\n       [5., 0.],\n       [0., 0.],\n       [6., 0.],\n       [3., 0.],\n       [4., 0.],\n       [8., 0.],\n       [1., 0.],\n       [0., 0.],\n       [3., 0.],\n       [9., 0.],\n       [6., 0.],\n       [2., 0.],\n       [6., 0.],\n       [4., 0.],\n       [7., 0.],\n       [1., 0.],\n       [4., 0.],\n       [1., 0.],\n       [5., 0.],\n       [4., 0.],\n       [8., 0.],\n       [9., 0.],\n       [2., 0.],\n       [9., 0.],\n       [9., 0.],\n       [8., 0.],\n       [9., 0.],\n       [6., 0.],\n       [3., 0.],\n       [6., 0.],\n       [4., 0.],\n       [6., 0.],\n       [2., 0.],\n       [9., 0.],\n       [1., 0.],\n       [2., 0.],\n       [0., 0.],\n       [5., 0.]])"
     },
     "execution_count": 9,
     "metadata": {},
     "output_type": "execute_result"
    }
   ],
   "source": [
    "data = np.loadtxt(filename, delimiter=',', skiprows=1, usecols=[0,2]) # specify what columns to import\n",
    "data"
   ],
   "metadata": {
    "collapsed": false,
    "pycharm": {
     "name": "#%%\n"
    }
   }
  },
  {
   "cell_type": "code",
   "execution_count": 10,
   "outputs": [
    {
     "data": {
      "text/plain": "dtype('float64')"
     },
     "execution_count": 10,
     "metadata": {},
     "output_type": "execute_result"
    }
   ],
   "source": [
    "data.dtype"
   ],
   "metadata": {
    "collapsed": false,
    "pycharm": {
     "name": "#%%\n"
    }
   }
  },
  {
   "cell_type": "code",
   "execution_count": 11,
   "outputs": [
    {
     "data": {
      "text/plain": "array([['0.0', '0.0'],\n       ['1.0', '0.0'],\n       ['4.0', '0.0'],\n       ['0.0', '0.0'],\n       ['0.0', '0.0'],\n       ['7.0', '0.0'],\n       ['3.0', '0.0'],\n       ['5.0', '0.0'],\n       ['3.0', '0.0'],\n       ['8.0', '0.0'],\n       ['9.0', '0.0'],\n       ['1.0', '0.0'],\n       ['3.0', '0.0'],\n       ['3.0', '0.0'],\n       ['1.0', '0.0'],\n       ['2.0', '0.0'],\n       ['0.0', '0.0'],\n       ['7.0', '0.0'],\n       ['5.0', '0.0'],\n       ['8.0', '0.0'],\n       ['6.0', '0.0'],\n       ['2.0', '0.0'],\n       ['0.0', '0.0'],\n       ['2.0', '0.0'],\n       ['3.0', '0.0'],\n       ['6.0', '0.0'],\n       ['9.0', '0.0'],\n       ['9.0', '0.0'],\n       ['7.0', '0.0'],\n       ['8.0', '0.0'],\n       ['9.0', '0.0'],\n       ['4.0', '0.0'],\n       ['9.0', '0.0'],\n       ['2.0', '0.0'],\n       ['1.0', '0.0'],\n       ['3.0', '0.0'],\n       ['1.0', '0.0'],\n       ['1.0', '0.0'],\n       ['4.0', '0.0'],\n       ['9.0', '0.0'],\n       ['1.0', '0.0'],\n       ['4.0', '0.0'],\n       ['4.0', '0.0'],\n       ['2.0', '0.0'],\n       ['6.0', '0.0'],\n       ['3.0', '0.0'],\n       ['7.0', '0.0'],\n       ['7.0', '0.0'],\n       ['4.0', '0.0'],\n       ['7.0', '0.0'],\n       ['5.0', '0.0'],\n       ['1.0', '0.0'],\n       ['9.0', '0.0'],\n       ['0.0', '0.0'],\n       ['2.0', '0.0'],\n       ['2.0', '0.0'],\n       ['3.0', '0.0'],\n       ['9.0', '0.0'],\n       ['1.0', '0.0'],\n       ['1.0', '0.0'],\n       ['1.0', '0.0'],\n       ['5.0', '0.0'],\n       ['0.0', '0.0'],\n       ['6.0', '0.0'],\n       ['3.0', '0.0'],\n       ['4.0', '0.0'],\n       ['8.0', '0.0'],\n       ['1.0', '0.0'],\n       ['0.0', '0.0'],\n       ['3.0', '0.0'],\n       ['9.0', '0.0'],\n       ['6.0', '0.0'],\n       ['2.0', '0.0'],\n       ['6.0', '0.0'],\n       ['4.0', '0.0'],\n       ['7.0', '0.0'],\n       ['1.0', '0.0'],\n       ['4.0', '0.0'],\n       ['1.0', '0.0'],\n       ['5.0', '0.0'],\n       ['4.0', '0.0'],\n       ['8.0', '0.0'],\n       ['9.0', '0.0'],\n       ['2.0', '0.0'],\n       ['9.0', '0.0'],\n       ['9.0', '0.0'],\n       ['8.0', '0.0'],\n       ['9.0', '0.0'],\n       ['6.0', '0.0'],\n       ['3.0', '0.0'],\n       ['6.0', '0.0'],\n       ['4.0', '0.0'],\n       ['6.0', '0.0'],\n       ['2.0', '0.0'],\n       ['9.0', '0.0'],\n       ['1.0', '0.0'],\n       ['2.0', '0.0'],\n       ['0.0', '0.0'],\n       ['5.0', '0.0']], dtype='<U3')"
     },
     "execution_count": 11,
     "metadata": {},
     "output_type": "execute_result"
    }
   ],
   "source": [
    "data = np.loadtxt(filename, delimiter=',', skiprows=1, usecols=[0,2], dtype=str) # specify what data type to import data as\n",
    "data"
   ],
   "metadata": {
    "collapsed": false,
    "pycharm": {
     "name": "#%%\n"
    }
   }
  },
  {
   "cell_type": "code",
   "execution_count": 12,
   "outputs": [
    {
     "data": {
      "text/plain": "dtype('<U3')"
     },
     "execution_count": 12,
     "metadata": {},
     "output_type": "execute_result"
    }
   ],
   "source": [
    "data.dtype"
   ],
   "metadata": {
    "collapsed": false,
    "pycharm": {
     "name": "#%%\n"
    }
   }
  },
  {
   "cell_type": "code",
   "execution_count": 13,
   "outputs": [],
   "source": [
    "data = np.loadtxt(filename, delimiter=',') # default delimiter is white space"
   ],
   "metadata": {
    "collapsed": false,
    "pycharm": {
     "name": "#%%\n"
    }
   }
  },
  {
   "cell_type": "code",
   "execution_count": 14,
   "outputs": [
    {
     "data": {
      "text/plain": "<Figure size 432x288 with 1 Axes>",
      "image/png": "[encoded data removed]"
     },
     "metadata": {
      "needs_background": "light"
     },
     "output_type": "display_data"
    }
   ],
   "source": [
    "# Select and reshape a row\n",
    "im = data[21, 1:]\n",
    "im_sq = np.reshape(im, (28, 28))\n",
    "\n",
    "# Plot reshaped data (matplotlib.pyplot already loaded as plt)\n",
    "plt.imshow(im_sq, cmap='Greys', interpolation='nearest')\n",
    "plt.show()"
   ],
   "metadata": {
    "collapsed": false,
    "pycharm": {
     "name": "#%%\n"
    }
   }
  },
  {
   "cell_type": "markdown",
   "source": [
    "## Seaslug txt file"
   ],
   "metadata": {
    "collapsed": false
   }
  },
  {
   "cell_type": "code",
   "execution_count": 15,
   "outputs": [
    {
     "data": {
      "text/plain": "array([9.9e+01, 6.7e-02])"
     },
     "execution_count": 15,
     "metadata": {},
     "output_type": "execute_result"
    }
   ],
   "source": [
    "filepath = '/Users/joseservin/DataCamp/Courses/Intro_Importing_Data/seaslug.txt'\n",
    "file = np.loadtxt(filepath, delimiter='\\t', skiprows=1 )\n",
    "file[0]"
   ],
   "metadata": {
    "collapsed": false,
    "pycharm": {
     "name": "#%%\n"
    }
   }
  },
  {
   "cell_type": "code",
   "execution_count": 16,
   "outputs": [
    {
     "data": {
      "text/plain": "Text(0, 0.5, 'percentage of larvae')"
     },
     "execution_count": 16,
     "metadata": {},
     "output_type": "execute_result"
    },
    {
     "data": {
      "text/plain": "<Figure size 432x288 with 1 Axes>",
      "image/png": "[encoded data removed]"
     },
     "metadata": {
      "needs_background": "light"
     },
     "output_type": "display_data"
    }
   ],
   "source": [
    "plt.scatter(\n",
    "    file[:,0],\n",
    "    file[:,1]\n",
    ")\n",
    "plt.xlabel('time(min)')\n",
    "plt.ylabel('percentage of larvae')"
   ],
   "metadata": {
    "collapsed": false,
    "pycharm": {
     "name": "#%%\n"
    }
   }
  },
  {
   "cell_type": "markdown",
   "source": [
    "## Working with mixed datatypes using Numpy"
   ],
   "metadata": {
    "collapsed": false
   }
  },
  {
   "cell_type": "markdown",
   "source": [
    "### genfromtxt()"
   ],
   "metadata": {
    "collapsed": false
   }
  },
  {
   "cell_type": "code",
   "execution_count": 17,
   "outputs": [
    {
     "name": "stderr",
     "output_type": "stream",
     "text": [
      "/var/folders/77/ysxyzr2j3zdb588cls576tc00000gn/T/ipykernel_25537/2091240059.py:2: VisibleDeprecationWarning: Reading unicode strings without specifying the encoding argument is deprecated. Set the encoding, use None for the system default.\n",
      "  titanic_numpy_data = np.genfromtxt(\n"
     ]
    }
   ],
   "source": [
    "filepath = '/Users/joseservin/DataCamp/Courses/Intro_Importing_Data/titanic_sub.csv'\n",
    "titanic_numpy_data = np.genfromtxt(\n",
    "    filepath,\n",
    "    delimiter= ',',\n",
    "    names=True,\n",
    "    dtype=None\n",
    ")"
   ],
   "metadata": {
    "collapsed": false,
    "pycharm": {
     "name": "#%%\n"
    }
   }
  },
  {
   "cell_type": "code",
   "execution_count": 18,
   "outputs": [
    {
     "data": {
      "text/plain": "array([22.  , 38.  , 26.  , 35.  , 35.  ,   nan, 54.  ,  2.  , 27.  ,\n       14.  ,  4.  , 58.  , 20.  , 39.  , 14.  , 55.  ,  2.  ,   nan,\n       31.  ,   nan, 35.  , 34.  , 15.  , 28.  ,  8.  , 38.  ,   nan,\n       19.  ,   nan,   nan, 40.  ,   nan,   nan, 66.  , 28.  , 42.  ,\n         nan, 21.  , 18.  , 14.  , 40.  , 27.  ,   nan,  3.  , 19.  ,\n         nan,   nan,   nan,   nan, 18.  ,  7.  , 21.  , 49.  , 29.  ,\n       65.  ,   nan, 21.  , 28.5 ,  5.  , 11.  , 22.  , 38.  , 45.  ,\n        4.  ,   nan,   nan, 29.  , 19.  , 17.  , 26.  , 32.  , 16.  ,\n       21.  , 26.  , 32.  , 25.  ,   nan,   nan,  0.83, 30.  , 22.  ,\n       29.  ,   nan, 28.  , 17.  , 33.  , 16.  ,   nan, 23.  , 24.  ,\n       29.  , 20.  , 46.  , 26.  , 59.  ,   nan, 71.  , 23.  , 34.  ,\n       34.  , 28.  ,   nan, 21.  , 33.  , 37.  , 28.  , 21.  ,   nan,\n       38.  ,   nan, 47.  , 14.5 , 22.  , 20.  , 17.  , 21.  , 70.5 ,\n       29.  , 24.  ,  2.  , 21.  ,   nan, 32.5 , 32.5 , 54.  , 12.  ,\n         nan, 24.  ,   nan, 45.  , 33.  , 20.  , 47.  , 29.  , 25.  ,\n       23.  , 19.  , 37.  , 16.  , 24.  ,   nan, 22.  , 24.  , 19.  ,\n       18.  , 19.  , 27.  ,  9.  , 36.5 , 42.  , 51.  , 22.  , 55.5 ,\n       40.5 ,   nan, 51.  , 16.  , 30.  ,   nan,   nan, 44.  , 40.  ,\n       26.  , 17.  ,  1.  ,  9.  ,   nan, 45.  ,   nan, 28.  , 61.  ,\n        4.  ,  1.  , 21.  , 56.  , 18.  ,   nan, 50.  , 30.  , 36.  ,\n         nan,   nan,  9.  ,  1.  ,  4.  ,   nan,   nan, 45.  , 40.  ,\n       36.  , 32.  , 19.  , 19.  ,  3.  , 44.  , 58.  ,   nan, 42.  ,\n         nan, 24.  , 28.  ,   nan, 34.  , 45.5 , 18.  ,  2.  , 32.  ,\n       26.  , 16.  , 40.  , 24.  , 35.  , 22.  , 30.  ,   nan, 31.  ,\n       27.  , 42.  , 32.  , 30.  , 16.  , 27.  , 51.  ,   nan, 38.  ,\n       22.  , 19.  , 20.5 , 18.  ,   nan, 35.  , 29.  , 59.  ,  5.  ,\n       24.  ,   nan, 44.  ,  8.  , 19.  , 33.  ,   nan,   nan, 29.  ,\n       22.  , 30.  , 44.  , 25.  , 24.  , 37.  , 54.  ,   nan, 29.  ,\n       62.  , 30.  , 41.  , 29.  ,   nan, 30.  , 35.  , 50.  ,   nan,\n        3.  , 52.  , 40.  ,   nan, 36.  , 16.  , 25.  , 58.  , 35.  ,\n         nan, 25.  , 41.  , 37.  ,   nan, 63.  , 45.  ,   nan,  7.  ,\n       35.  , 65.  , 28.  , 16.  , 19.  ,   nan, 33.  , 30.  , 22.  ,\n       42.  , 22.  , 26.  , 19.  , 36.  , 24.  , 24.  ,   nan, 23.5 ,\n        2.  ,   nan, 50.  ,   nan,   nan, 19.  ,   nan,   nan,  0.92,\n         nan, 17.  , 30.  , 30.  , 24.  , 18.  , 26.  , 28.  , 43.  ,\n       26.  , 24.  , 54.  , 31.  , 40.  , 22.  , 27.  , 30.  , 22.  ,\n         nan, 36.  , 61.  , 36.  , 31.  , 16.  ,   nan, 45.5 , 38.  ,\n       16.  ,   nan,   nan, 29.  , 41.  , 45.  , 45.  ,  2.  , 24.  ,\n       28.  , 25.  , 36.  , 24.  , 40.  ,   nan,  3.  , 42.  , 23.  ,\n         nan, 15.  , 25.  ,   nan, 28.  , 22.  , 38.  ,   nan,   nan,\n       40.  , 29.  , 45.  , 35.  ,   nan, 30.  , 60.  ,   nan,   nan,\n       24.  , 25.  , 18.  , 19.  , 22.  ,  3.  ,   nan, 22.  , 27.  ,\n       20.  , 19.  , 42.  ,  1.  , 32.  , 35.  ,   nan, 18.  ,  1.  ,\n       36.  ,   nan, 17.  , 36.  , 21.  , 28.  , 23.  , 24.  , 22.  ,\n       31.  , 46.  , 23.  , 28.  , 39.  , 26.  , 21.  , 28.  , 20.  ,\n       34.  , 51.  ,  3.  , 21.  ,   nan,   nan,   nan, 33.  ,   nan,\n       44.  ,   nan, 34.  , 18.  , 30.  , 10.  ,   nan, 21.  , 29.  ,\n       28.  , 18.  ,   nan, 28.  , 19.  ,   nan, 32.  , 28.  ,   nan,\n       42.  , 17.  , 50.  , 14.  , 21.  , 24.  , 64.  , 31.  , 45.  ,\n       20.  , 25.  , 28.  ,   nan,  4.  , 13.  , 34.  ,  5.  , 52.  ,\n       36.  ,   nan, 30.  , 49.  ,   nan, 29.  , 65.  ,   nan, 50.  ,\n         nan, 48.  , 34.  , 47.  , 48.  ,   nan, 38.  ,   nan, 56.  ,\n         nan,  0.75,   nan, 38.  , 33.  , 23.  , 22.  ,   nan, 34.  ,\n       29.  , 22.  ,  2.  ,  9.  ,   nan, 50.  , 63.  , 25.  ,   nan,\n       35.  , 58.  , 30.  ,  9.  ,   nan, 21.  , 55.  , 71.  , 21.  ,\n         nan, 54.  ,   nan, 25.  , 24.  , 17.  , 21.  ,   nan, 37.  ,\n       16.  , 18.  , 33.  ,   nan, 28.  , 26.  , 29.  ,   nan, 36.  ,\n       54.  , 24.  , 47.  , 34.  ,   nan, 36.  , 32.  , 30.  , 22.  ,\n         nan, 44.  ,   nan, 40.5 , 50.  ,   nan, 39.  , 23.  ,  2.  ,\n         nan, 17.  ,   nan, 30.  ,  7.  , 45.  , 30.  ,   nan, 22.  ,\n       36.  ,  9.  , 11.  , 32.  , 50.  , 64.  , 19.  ,   nan, 33.  ,\n        8.  , 17.  , 27.  ,   nan, 22.  , 22.  , 62.  , 48.  ,   nan,\n       39.  , 36.  ,   nan, 40.  , 28.  ,   nan,   nan, 24.  , 19.  ,\n       29.  ,   nan, 32.  , 62.  , 53.  , 36.  ,   nan, 16.  , 19.  ,\n       34.  , 39.  ,   nan, 32.  , 25.  , 39.  , 54.  , 36.  ,   nan,\n       18.  , 47.  , 60.  , 22.  ,   nan, 35.  , 52.  , 47.  ,   nan,\n       37.  , 36.  ,   nan, 49.  ,   nan, 49.  , 24.  ,   nan,   nan,\n       44.  , 35.  , 36.  , 30.  , 27.  , 22.  , 40.  , 39.  ,   nan,\n         nan,   nan, 35.  , 24.  , 34.  , 26.  ,  4.  , 26.  , 27.  ,\n       42.  , 20.  , 21.  , 21.  , 61.  , 57.  , 21.  , 26.  ,   nan,\n       80.  , 51.  , 32.  ,   nan,  9.  , 28.  , 32.  , 31.  , 41.  ,\n         nan, 20.  , 24.  ,  2.  ,   nan,  0.75, 48.  , 19.  , 56.  ,\n         nan, 23.  ,   nan, 18.  , 21.  ,   nan, 18.  , 24.  ,   nan,\n       32.  , 23.  , 58.  , 50.  , 40.  , 47.  , 36.  , 20.  , 32.  ,\n       25.  ,   nan, 43.  ,   nan, 40.  , 31.  , 70.  , 31.  ,   nan,\n       18.  , 24.5 , 18.  , 43.  , 36.  ,   nan, 27.  , 20.  , 14.  ,\n       60.  , 25.  , 14.  , 19.  , 18.  , 15.  , 31.  ,  4.  ,   nan,\n       25.  , 60.  , 52.  , 44.  ,   nan, 49.  , 42.  , 18.  , 35.  ,\n       18.  , 25.  , 26.  , 39.  , 45.  , 42.  , 22.  ,   nan, 24.  ,\n         nan, 48.  , 29.  , 52.  , 19.  , 38.  , 27.  ,   nan, 33.  ,\n        6.  , 17.  , 34.  , 50.  , 27.  , 20.  , 30.  ,   nan, 25.  ,\n       25.  , 29.  , 11.  ,   nan, 23.  , 23.  , 28.5 , 48.  , 35.  ,\n         nan,   nan,   nan, 36.  , 21.  , 24.  , 31.  , 70.  , 16.  ,\n       30.  , 19.  , 31.  ,  4.  ,  6.  , 33.  , 23.  , 48.  ,  0.67,\n       28.  , 18.  , 34.  , 33.  ,   nan, 41.  , 20.  , 36.  , 16.  ,\n       51.  ,   nan, 30.5 ,   nan, 32.  , 24.  , 48.  , 57.  ,   nan,\n       54.  , 18.  ,   nan,  5.  ,   nan, 43.  , 13.  , 17.  , 29.  ,\n         nan, 25.  , 25.  , 18.  ,  8.  ,  1.  , 46.  ,   nan, 16.  ,\n         nan,   nan, 25.  , 39.  , 49.  , 31.  , 30.  , 30.  , 34.  ,\n       31.  , 11.  ,  0.42, 27.  , 31.  , 39.  , 18.  , 39.  , 33.  ,\n       26.  , 39.  , 35.  ,  6.  , 30.5 ,   nan, 23.  , 31.  , 43.  ,\n       10.  , 52.  , 27.  , 38.  , 27.  ,  2.  ,   nan,   nan,  1.  ,\n         nan, 62.  , 15.  ,  0.83,   nan, 23.  , 18.  , 39.  , 21.  ,\n         nan, 32.  ,   nan, 20.  , 16.  , 30.  , 34.5 , 17.  , 42.  ,\n         nan, 35.  , 28.  ,   nan,  4.  , 74.  ,  9.  , 16.  , 44.  ,\n       18.  , 45.  , 51.  , 24.  ,   nan, 41.  , 21.  , 48.  ,   nan,\n       24.  , 42.  , 27.  , 31.  ,   nan,  4.  , 26.  , 47.  , 33.  ,\n       47.  , 28.  , 15.  , 20.  , 19.  ,   nan, 56.  , 25.  , 33.  ,\n       22.  , 28.  , 25.  , 39.  , 27.  , 19.  ,   nan, 26.  , 32.  ])"
     },
     "execution_count": 18,
     "metadata": {},
     "output_type": "execute_result"
    }
   ],
   "source": [
    "titanic_numpy_data['Age']"
   ],
   "metadata": {
    "collapsed": false,
    "pycharm": {
     "name": "#%%\n"
    }
   }
  },
  {
   "cell_type": "markdown",
   "source": [
    "### recfromcsv()"
   ],
   "metadata": {
    "collapsed": false
   }
  },
  {
   "cell_type": "code",
   "execution_count": 19,
   "outputs": [
    {
     "name": "stderr",
     "output_type": "stream",
     "text": [
      "/Users/joseservin/DataCamp/venv/lib/python3.9/site-packages/numpy/lib/npyio.py:2372: VisibleDeprecationWarning: Reading unicode strings without specifying the encoding argument is deprecated. Set the encoding, use None for the system default.\n",
      "  output = genfromtxt(fname, **kwargs)\n"
     ]
    },
    {
     "data": {
      "text/plain": "rec.array([(1, 0, 3, b'male', 22., 1, 0, b'A/5 21171',  7.25  , b'', b'S'),\n           (2, 1, 1, b'female', 38., 1, 0, b'PC 17599', 71.2833, b'C85', b'C'),\n           (3, 1, 3, b'female', 26., 0, 0, b'STON/O2. 3101282',  7.925 , b'', b'S')],\n          dtype=[('passengerid', '<i8'), ('survived', '<i8'), ('pclass', '<i8'), ('sex', 'S6'), ('age', '<f8'), ('sibsp', '<i8'), ('parch', '<i8'), ('ticket', 'S18'), ('fare', '<f8'), ('cabin', 'S15'), ('embarked', 'S1')])"
     },
     "execution_count": 19,
     "metadata": {},
     "output_type": "execute_result"
    }
   ],
   "source": [
    "titanic_numpy_data = np.recfromcsv(filepath)\n",
    "titanic_numpy_data[:3]"
   ],
   "metadata": {
    "collapsed": false,
    "pycharm": {
     "name": "#%%\n"
    }
   }
  },
  {
   "cell_type": "markdown",
   "source": [
    "## Importing flat files using Pandas"
   ],
   "metadata": {
    "collapsed": false
   }
  },
  {
   "cell_type": "code",
   "execution_count": 20,
   "outputs": [
    {
     "data": {
      "text/plain": "   PassengerId  Survived  Pclass     Sex   Age  SibSp  Parch  \\\n0            1         0       3    male  22.0      1      0   \n1            2         1       1  female  38.0      1      0   \n2            3         1       3  female  26.0      0      0   \n3            4         1       1  female  35.0      1      0   \n4            5         0       3    male  35.0      0      0   \n\n             Ticket     Fare Cabin Embarked  \n0         A/5 21171   7.2500   NaN        S  \n1          PC 17599  71.2833   C85        C  \n2  STON/O2. 3101282   7.9250   NaN        S  \n3            113803  53.1000  C123        S  \n4            373450   8.0500   NaN        S  ",
      "text/html": "<div>\n<style scoped>\n    .dataframe tbody tr th:only-of-type {\n        vertical-align: middle;\n    }\n\n    .dataframe tbody tr th {\n        vertical-align: top;\n    }\n\n    .dataframe thead th {\n        text-align: right;\n    }\n</style>\n<table border=\"1\" class=\"dataframe\">\n  <thead>\n    <tr style=\"text-align: right;\">\n      <th></th>\n      <th>PassengerId</th>\n      <th>Survived</th>\n      <th>Pclass</th>\n      <th>Sex</th>\n      <th>Age</th>\n      <th>SibSp</th>\n      <th>Parch</th>\n      <th>Ticket</th>\n      <th>Fare</th>\n      <th>Cabin</th>\n      <th>Embarked</th>\n    </tr>\n  </thead>\n  <tbody>\n    <tr>\n      <th>0</th>\n      <td>1</td>\n      <td>0</td>\n      <td>3</td>\n      <td>male</td>\n      <td>22.0</td>\n      <td>1</td>\n      <td>0</td>\n      <td>A/5 21171</td>\n      <td>7.2500</td>\n      <td>NaN</td>\n      <td>S</td>\n    </tr>\n    <tr>\n      <th>1</th>\n      <td>2</td>\n      <td>1</td>\n      <td>1</td>\n      <td>female</td>\n      <td>38.0</td>\n      <td>1</td>\n      <td>0</td>\n      <td>PC 17599</td>\n      <td>71.2833</td>\n      <td>C85</td>\n      <td>C</td>\n    </tr>\n    <tr>\n      <th>2</th>\n      <td>3</td>\n      <td>1</td>\n      <td>3</td>\n      <td>female</td>\n      <td>26.0</td>\n      <td>0</td>\n      <td>0</td>\n      <td>STON/O2. 3101282</td>\n      <td>7.9250</td>\n      <td>NaN</td>\n      <td>S</td>\n    </tr>\n    <tr>\n      <th>3</th>\n      <td>4</td>\n      <td>1</td>\n      <td>1</td>\n      <td>female</td>\n      <td>35.0</td>\n      <td>1</td>\n      <td>0</td>\n      <td>113803</td>\n      <td>53.1000</td>\n      <td>C123</td>\n      <td>S</td>\n    </tr>\n    <tr>\n      <th>4</th>\n      <td>5</td>\n      <td>0</td>\n      <td>3</td>\n      <td>male</td>\n      <td>35.0</td>\n      <td>0</td>\n      <td>0</td>\n      <td>373450</td>\n      <td>8.0500</td>\n      <td>NaN</td>\n      <td>S</td>\n    </tr>\n  </tbody>\n</table>\n</div>"
     },
     "execution_count": 20,
     "metadata": {},
     "output_type": "execute_result"
    }
   ],
   "source": [
    "titanic_df = pd.read_csv(filepath)\n",
    "titanic_df.head()"
   ],
   "metadata": {
    "collapsed": false,
    "pycharm": {
     "name": "#%%\n"
    }
   }
  },
  {
   "cell_type": "code",
   "execution_count": 21,
   "outputs": [
    {
     "name": "stdout",
     "output_type": "stream",
     "text": [
      "<class 'pandas.core.frame.DataFrame'>\n",
      "RangeIndex: 891 entries, 0 to 890\n",
      "Data columns (total 11 columns):\n",
      " #   Column       Non-Null Count  Dtype  \n",
      "---  ------       --------------  -----  \n",
      " 0   PassengerId  891 non-null    int64  \n",
      " 1   Survived     891 non-null    int64  \n",
      " 2   Pclass       891 non-null    int64  \n",
      " 3   Sex          891 non-null    object \n",
      " 4   Age          714 non-null    float64\n",
      " 5   SibSp        891 non-null    int64  \n",
      " 6   Parch        891 non-null    int64  \n",
      " 7   Ticket       891 non-null    object \n",
      " 8   Fare         891 non-null    float64\n",
      " 9   Cabin        204 non-null    object \n",
      " 10  Embarked     889 non-null    object \n",
      "dtypes: float64(2), int64(5), object(4)\n",
      "memory usage: 76.7+ KB\n"
     ]
    }
   ],
   "source": [
    "titanic_df.info()"
   ],
   "metadata": {
    "collapsed": false,
    "pycharm": {
     "name": "#%%\n"
    }
   }
  },
  {
   "cell_type": "markdown",
   "source": [
    "### reading n rows using pd.read_csv()"
   ],
   "metadata": {
    "collapsed": false
   }
  },
  {
   "cell_type": "code",
   "execution_count": 22,
   "outputs": [
    {
     "data": {
      "text/plain": "   PassengerId  Survived  Pclass     Sex   Age  SibSp  Parch  \\\n0            1         0       3    male  22.0      1      0   \n1            2         1       1  female  38.0      1      0   \n2            3         1       3  female  26.0      0      0   \n3            4         1       1  female  35.0      1      0   \n4            5         0       3    male  35.0      0      0   \n5            6         0       3    male   NaN      0      0   \n6            7         0       1    male  54.0      0      0   \n\n             Ticket     Fare Cabin Embarked  \n0         A/5 21171   7.2500   NaN        S  \n1          PC 17599  71.2833   C85        C  \n2  STON/O2. 3101282   7.9250   NaN        S  \n3            113803  53.1000  C123        S  \n4            373450   8.0500   NaN        S  \n5            330877   8.4583   NaN        Q  \n6             17463  51.8625   E46        S  ",
      "text/html": "<div>\n<style scoped>\n    .dataframe tbody tr th:only-of-type {\n        vertical-align: middle;\n    }\n\n    .dataframe tbody tr th {\n        vertical-align: top;\n    }\n\n    .dataframe thead th {\n        text-align: right;\n    }\n</style>\n<table border=\"1\" class=\"dataframe\">\n  <thead>\n    <tr style=\"text-align: right;\">\n      <th></th>\n      <th>PassengerId</th>\n      <th>Survived</th>\n      <th>Pclass</th>\n      <th>Sex</th>\n      <th>Age</th>\n      <th>SibSp</th>\n      <th>Parch</th>\n      <th>Ticket</th>\n      <th>Fare</th>\n      <th>Cabin</th>\n      <th>Embarked</th>\n    </tr>\n  </thead>\n  <tbody>\n    <tr>\n      <th>0</th>\n      <td>1</td>\n      <td>0</td>\n      <td>3</td>\n      <td>male</td>\n      <td>22.0</td>\n      <td>1</td>\n      <td>0</td>\n      <td>A/5 21171</td>\n      <td>7.2500</td>\n      <td>NaN</td>\n      <td>S</td>\n    </tr>\n    <tr>\n      <th>1</th>\n      <td>2</td>\n      <td>1</td>\n      <td>1</td>\n      <td>female</td>\n      <td>38.0</td>\n      <td>1</td>\n      <td>0</td>\n      <td>PC 17599</td>\n      <td>71.2833</td>\n      <td>C85</td>\n      <td>C</td>\n    </tr>\n    <tr>\n      <th>2</th>\n      <td>3</td>\n      <td>1</td>\n      <td>3</td>\n      <td>female</td>\n      <td>26.0</td>\n      <td>0</td>\n      <td>0</td>\n      <td>STON/O2. 3101282</td>\n      <td>7.9250</td>\n      <td>NaN</td>\n      <td>S</td>\n    </tr>\n    <tr>\n      <th>3</th>\n      <td>4</td>\n      <td>1</td>\n      <td>1</td>\n      <td>female</td>\n      <td>35.0</td>\n      <td>1</td>\n      <td>0</td>\n      <td>113803</td>\n      <td>53.1000</td>\n      <td>C123</td>\n      <td>S</td>\n    </tr>\n    <tr>\n      <th>4</th>\n      <td>5</td>\n      <td>0</td>\n      <td>3</td>\n      <td>male</td>\n      <td>35.0</td>\n      <td>0</td>\n      <td>0</td>\n      <td>373450</td>\n      <td>8.0500</td>\n      <td>NaN</td>\n      <td>S</td>\n    </tr>\n    <tr>\n      <th>5</th>\n      <td>6</td>\n      <td>0</td>\n      <td>3</td>\n      <td>male</td>\n      <td>NaN</td>\n      <td>0</td>\n      <td>0</td>\n      <td>330877</td>\n      <td>8.4583</td>\n      <td>NaN</td>\n      <td>Q</td>\n    </tr>\n    <tr>\n      <th>6</th>\n      <td>7</td>\n      <td>0</td>\n      <td>1</td>\n      <td>male</td>\n      <td>54.0</td>\n      <td>0</td>\n      <td>0</td>\n      <td>17463</td>\n      <td>51.8625</td>\n      <td>E46</td>\n      <td>S</td>\n    </tr>\n  </tbody>\n</table>\n</div>"
     },
     "execution_count": 22,
     "metadata": {},
     "output_type": "execute_result"
    }
   ],
   "source": [
    "titanic_df = pd.read_csv(filepath, nrows=7)\n",
    "titanic_df"
   ],
   "metadata": {
    "collapsed": false,
    "pycharm": {
     "name": "#%%\n"
    }
   }
  },
  {
   "cell_type": "markdown",
   "source": [
    "# Introduction to Other File Types"
   ],
   "metadata": {
    "collapsed": false
   }
  },
  {
   "cell_type": "markdown",
   "source": [
    "## Pickled Files"
   ],
   "metadata": {
    "collapsed": false
   }
  },
  {
   "cell_type": "markdown",
   "source": [
    "* File type native to Python\n",
    "* Pickled files are serialized"
   ],
   "metadata": {
    "collapsed": false
   }
  },
  {
   "cell_type": "code",
   "execution_count": 23,
   "outputs": [],
   "source": [
    "import pickle"
   ],
   "metadata": {
    "collapsed": false,
    "pycharm": {
     "name": "#%%\n"
    }
   }
  },
  {
   "cell_type": "code",
   "execution_count": 23,
   "outputs": [],
   "source": [
    "# with open (file_path, 'rb') as file: # rb specifies read only and binary file type\n",
    "#   data = pickle.load(file)\n",
    "# print(data)"
   ],
   "metadata": {
    "collapsed": false,
    "pycharm": {
     "name": "#%%\n"
    }
   }
  },
  {
   "cell_type": "markdown",
   "source": [
    "## Excel Spreadsheets"
   ],
   "metadata": {
    "collapsed": false
   }
  },
  {
   "cell_type": "code",
   "execution_count": 30,
   "outputs": [
    {
     "data": {
      "text/plain": "['Sheet1']"
     },
     "execution_count": 30,
     "metadata": {},
     "output_type": "execute_result"
    }
   ],
   "source": [
    "filepath = '/Users/joseservin/DataCamp/Courses/Intro_Importing_Data/pets_income.xlsx'\n",
    "data = pd.ExcelFile(filepath)\n",
    "data.sheet_names"
   ],
   "metadata": {
    "collapsed": false,
    "pycharm": {
     "name": "#%%\n"
    }
   }
  },
  {
   "cell_type": "code",
   "execution_count": 35,
   "outputs": [
    {
     "data": {
      "text/plain": "     Name  Age  Income\n0   Baker    9    5000\n1  Camila    2    3000\n2   Bella    8    7000",
      "text/html": "<div>\n<style scoped>\n    .dataframe tbody tr th:only-of-type {\n        vertical-align: middle;\n    }\n\n    .dataframe tbody tr th {\n        vertical-align: top;\n    }\n\n    .dataframe thead th {\n        text-align: right;\n    }\n</style>\n<table border=\"1\" class=\"dataframe\">\n  <thead>\n    <tr style=\"text-align: right;\">\n      <th></th>\n      <th>Name</th>\n      <th>Age</th>\n      <th>Income</th>\n    </tr>\n  </thead>\n  <tbody>\n    <tr>\n      <th>0</th>\n      <td>Baker</td>\n      <td>9</td>\n      <td>5000</td>\n    </tr>\n    <tr>\n      <th>1</th>\n      <td>Camila</td>\n      <td>2</td>\n      <td>3000</td>\n    </tr>\n    <tr>\n      <th>2</th>\n      <td>Bella</td>\n      <td>8</td>\n      <td>7000</td>\n    </tr>\n  </tbody>\n</table>\n</div>"
     },
     "execution_count": 35,
     "metadata": {},
     "output_type": "execute_result"
    }
   ],
   "source": [
    "data.parse('Sheet1')"
   ],
   "metadata": {
    "collapsed": false,
    "pycharm": {
     "name": "#%%\n"
    }
   }
  },
  {
   "cell_type": "code",
   "execution_count": 37,
   "outputs": [
    {
     "data": {
      "text/plain": "  Name of Pet  Age of Pet  Income of Household\n0      Camila           2                 3000\n1       Bella           8                 7000",
      "text/html": "<div>\n<style scoped>\n    .dataframe tbody tr th:only-of-type {\n        vertical-align: middle;\n    }\n\n    .dataframe tbody tr th {\n        vertical-align: top;\n    }\n\n    .dataframe thead th {\n        text-align: right;\n    }\n</style>\n<table border=\"1\" class=\"dataframe\">\n  <thead>\n    <tr style=\"text-align: right;\">\n      <th></th>\n      <th>Name of Pet</th>\n      <th>Age of Pet</th>\n      <th>Income of Household</th>\n    </tr>\n  </thead>\n  <tbody>\n    <tr>\n      <th>0</th>\n      <td>Camila</td>\n      <td>2</td>\n      <td>3000</td>\n    </tr>\n    <tr>\n      <th>1</th>\n      <td>Bella</td>\n      <td>8</td>\n      <td>7000</td>\n    </tr>\n  </tbody>\n</table>\n</div>"
     },
     "execution_count": 37,
     "metadata": {},
     "output_type": "execute_result"
    }
   ],
   "source": [
    "data.parse(0, skiprows=[0], names = ['Name of Pet','Age of Pet','Income of Household'])"
   ],
   "metadata": {
    "collapsed": false,
    "pycharm": {
     "name": "#%%\n"
    }
   }
  },
  {
   "cell_type": "code",
   "execution_count": 38,
   "outputs": [
    {
     "data": {
      "text/plain": "  Name of Pet\n0       Baker\n1      Camila\n2       Bella",
      "text/html": "<div>\n<style scoped>\n    .dataframe tbody tr th:only-of-type {\n        vertical-align: middle;\n    }\n\n    .dataframe tbody tr th {\n        vertical-align: top;\n    }\n\n    .dataframe thead th {\n        text-align: right;\n    }\n</style>\n<table border=\"1\" class=\"dataframe\">\n  <thead>\n    <tr style=\"text-align: right;\">\n      <th></th>\n      <th>Name of Pet</th>\n    </tr>\n  </thead>\n  <tbody>\n    <tr>\n      <th>0</th>\n      <td>Baker</td>\n    </tr>\n    <tr>\n      <th>1</th>\n      <td>Camila</td>\n    </tr>\n    <tr>\n      <th>2</th>\n      <td>Bella</td>\n    </tr>\n  </tbody>\n</table>\n</div>"
     },
     "execution_count": 38,
     "metadata": {},
     "output_type": "execute_result"
    }
   ],
   "source": [
    "data.parse(0, usecols=[0], names = ['Name of Pet'])"
   ],
   "metadata": {
    "collapsed": false,
    "pycharm": {
     "name": "#%%\n"
    }
   }
  },
  {
   "cell_type": "markdown",
   "source": [
    "## Importing SAS/Stata Files using Pandas"
   ],
   "metadata": {
    "collapsed": false
   }
  },
  {
   "cell_type": "markdown",
   "source": [
    "* SAS: Statistical Analysis System --> popular in business analytics and biostatistics\n",
    "* Stata: \"Statistics\" + data --> popular in academic social science research"
   ],
   "metadata": {
    "collapsed": false
   }
  },
  {
   "cell_type": "markdown",
   "source": [
    "### SAS file import"
   ],
   "metadata": {
    "collapsed": false
   }
  },
  {
   "cell_type": "code",
   "execution_count": 39,
   "outputs": [],
   "source": [
    "from sas7bdat import SAS7BDAT"
   ],
   "metadata": {
    "collapsed": false,
    "pycharm": {
     "name": "#%%\n"
    }
   }
  },
  {
   "cell_type": "code",
   "execution_count": 40,
   "outputs": [],
   "source": [
    "with SAS7BDAT('/Users/joseservin/DataCamp/Courses/Intro_Importing_Data/sales.sas7bdat') as file:\n",
    "    df_sas = file.to_data_frame()"
   ],
   "metadata": {
    "collapsed": false,
    "pycharm": {
     "name": "#%%\n"
    }
   }
  },
  {
   "cell_type": "code",
   "execution_count": 41,
   "outputs": [
    {
     "data": {
      "text/plain": "      YEAR           P            S\n0   1950.0   12.900000   181.899994\n1   1951.0   11.900000   245.000000\n2   1952.0   10.700000   250.199997\n3   1953.0   11.300000   265.899994\n4   1954.0   11.200000   248.500000\n5   1955.0   15.100000   278.399994\n6   1956.0   16.200001   307.299988\n7   1957.0   15.400000   320.000000\n8   1958.0   12.700000   305.299988\n9   1959.0   16.299999   338.000000\n10  1960.0   15.200000   345.700012\n11  1961.0   15.300000   356.399994\n12  1962.0   17.700001   389.399994\n13  1963.0   19.500000   412.700012\n14  1964.0   23.200001   443.100006\n15  1965.0   27.500000   492.200012\n16  1966.0   30.900000   554.200012\n17  1967.0   29.000000   575.400024\n18  1968.0   32.099998   631.900024\n19  1969.0   33.200001   694.599976\n20  1970.0   28.600000   708.799988\n21  1971.0   31.000000   751.099976\n22  1972.0   36.500000   849.500000\n23  1973.0   48.099998  1017.200012\n24  1974.0   58.700001  1060.599976\n25  1975.0   49.099998  1065.199951\n26  1976.0   64.500000  1203.199951\n27  1977.0   70.400002  1328.099976\n28  1978.0   81.099998  1496.400024\n29  1979.0   98.699997  1741.800049\n30  1980.0   92.599998  1912.800049\n31  1981.0  101.300003  2144.699951\n32  1982.0   70.900002  2039.400024\n33  1983.0   85.800003  2114.300049\n34  1984.0  107.599998  2335.000000\n35  1985.0   87.599998  2331.399902",
      "text/html": "<div>\n<style scoped>\n    .dataframe tbody tr th:only-of-type {\n        vertical-align: middle;\n    }\n\n    .dataframe tbody tr th {\n        vertical-align: top;\n    }\n\n    .dataframe thead th {\n        text-align: right;\n    }\n</style>\n<table border=\"1\" class=\"dataframe\">\n  <thead>\n    <tr style=\"text-align: right;\">\n      <th></th>\n      <th>YEAR</th>\n      <th>P</th>\n      <th>S</th>\n    </tr>\n  </thead>\n  <tbody>\n    <tr>\n      <th>0</th>\n      <td>1950.0</td>\n      <td>12.900000</td>\n      <td>181.899994</td>\n    </tr>\n    <tr>\n      <th>1</th>\n      <td>1951.0</td>\n      <td>11.900000</td>\n      <td>245.000000</td>\n    </tr>\n    <tr>\n      <th>2</th>\n      <td>1952.0</td>\n      <td>10.700000</td>\n      <td>250.199997</td>\n    </tr>\n    <tr>\n      <th>3</th>\n      <td>1953.0</td>\n      <td>11.300000</td>\n      <td>265.899994</td>\n    </tr>\n    <tr>\n      <th>4</th>\n      <td>1954.0</td>\n      <td>11.200000</td>\n      <td>248.500000</td>\n    </tr>\n    <tr>\n      <th>5</th>\n      <td>1955.0</td>\n      <td>15.100000</td>\n      <td>278.399994</td>\n    </tr>\n    <tr>\n      <th>6</th>\n      <td>1956.0</td>\n      <td>16.200001</td>\n      <td>307.299988</td>\n    </tr>\n    <tr>\n      <th>7</th>\n      <td>1957.0</td>\n      <td>15.400000</td>\n      <td>320.000000</td>\n    </tr>\n    <tr>\n      <th>8</th>\n      <td>1958.0</td>\n      <td>12.700000</td>\n      <td>305.299988</td>\n    </tr>\n    <tr>\n      <th>9</th>\n      <td>1959.0</td>\n      <td>16.299999</td>\n      <td>338.000000</td>\n    </tr>\n    <tr>\n      <th>10</th>\n      <td>1960.0</td>\n      <td>15.200000</td>\n      <td>345.700012</td>\n    </tr>\n    <tr>\n      <th>11</th>\n      <td>1961.0</td>\n      <td>15.300000</td>\n      <td>356.399994</td>\n    </tr>\n    <tr>\n      <th>12</th>\n      <td>1962.0</td>\n      <td>17.700001</td>\n      <td>389.399994</td>\n    </tr>\n    <tr>\n      <th>13</th>\n      <td>1963.0</td>\n      <td>19.500000</td>\n      <td>412.700012</td>\n    </tr>\n    <tr>\n      <th>14</th>\n      <td>1964.0</td>\n      <td>23.200001</td>\n      <td>443.100006</td>\n    </tr>\n    <tr>\n      <th>15</th>\n      <td>1965.0</td>\n      <td>27.500000</td>\n      <td>492.200012</td>\n    </tr>\n    <tr>\n      <th>16</th>\n      <td>1966.0</td>\n      <td>30.900000</td>\n      <td>554.200012</td>\n    </tr>\n    <tr>\n      <th>17</th>\n      <td>1967.0</td>\n      <td>29.000000</td>\n      <td>575.400024</td>\n    </tr>\n    <tr>\n      <th>18</th>\n      <td>1968.0</td>\n      <td>32.099998</td>\n      <td>631.900024</td>\n    </tr>\n    <tr>\n      <th>19</th>\n      <td>1969.0</td>\n      <td>33.200001</td>\n      <td>694.599976</td>\n    </tr>\n    <tr>\n      <th>20</th>\n      <td>1970.0</td>\n      <td>28.600000</td>\n      <td>708.799988</td>\n    </tr>\n    <tr>\n      <th>21</th>\n      <td>1971.0</td>\n      <td>31.000000</td>\n      <td>751.099976</td>\n    </tr>\n    <tr>\n      <th>22</th>\n      <td>1972.0</td>\n      <td>36.500000</td>\n      <td>849.500000</td>\n    </tr>\n    <tr>\n      <th>23</th>\n      <td>1973.0</td>\n      <td>48.099998</td>\n      <td>1017.200012</td>\n    </tr>\n    <tr>\n      <th>24</th>\n      <td>1974.0</td>\n      <td>58.700001</td>\n      <td>1060.599976</td>\n    </tr>\n    <tr>\n      <th>25</th>\n      <td>1975.0</td>\n      <td>49.099998</td>\n      <td>1065.199951</td>\n    </tr>\n    <tr>\n      <th>26</th>\n      <td>1976.0</td>\n      <td>64.500000</td>\n      <td>1203.199951</td>\n    </tr>\n    <tr>\n      <th>27</th>\n      <td>1977.0</td>\n      <td>70.400002</td>\n      <td>1328.099976</td>\n    </tr>\n    <tr>\n      <th>28</th>\n      <td>1978.0</td>\n      <td>81.099998</td>\n      <td>1496.400024</td>\n    </tr>\n    <tr>\n      <th>29</th>\n      <td>1979.0</td>\n      <td>98.699997</td>\n      <td>1741.800049</td>\n    </tr>\n    <tr>\n      <th>30</th>\n      <td>1980.0</td>\n      <td>92.599998</td>\n      <td>1912.800049</td>\n    </tr>\n    <tr>\n      <th>31</th>\n      <td>1981.0</td>\n      <td>101.300003</td>\n      <td>2144.699951</td>\n    </tr>\n    <tr>\n      <th>32</th>\n      <td>1982.0</td>\n      <td>70.900002</td>\n      <td>2039.400024</td>\n    </tr>\n    <tr>\n      <th>33</th>\n      <td>1983.0</td>\n      <td>85.800003</td>\n      <td>2114.300049</td>\n    </tr>\n    <tr>\n      <th>34</th>\n      <td>1984.0</td>\n      <td>107.599998</td>\n      <td>2335.000000</td>\n    </tr>\n    <tr>\n      <th>35</th>\n      <td>1985.0</td>\n      <td>87.599998</td>\n      <td>2331.399902</td>\n    </tr>\n  </tbody>\n</table>\n</div>"
     },
     "execution_count": 41,
     "metadata": {},
     "output_type": "execute_result"
    }
   ],
   "source": [
    "df_sas"
   ],
   "metadata": {
    "collapsed": false,
    "pycharm": {
     "name": "#%%\n"
    }
   }
  },
  {
   "cell_type": "markdown",
   "source": [
    "### Stata File Import"
   ],
   "metadata": {
    "collapsed": false
   }
  },
  {
   "cell_type": "code",
   "execution_count": 42,
   "outputs": [],
   "source": [
    "data = pd.read_stata('/Users/joseservin/DataCamp/Courses/Intro_Importing_Data/disarea.dta')"
   ],
   "metadata": {
    "collapsed": false,
    "pycharm": {
     "name": "#%%\n"
    }
   }
  },
  {
   "cell_type": "code",
   "execution_count": 43,
   "outputs": [
    {
     "data": {
      "text/plain": "    wbcode               country  disa1  disa2  disa3  disa4  disa5  disa6  \\\n0      AFG           Afghanistan   0.00   0.00   0.76   0.73    0.0   0.00   \n1      AGO                Angola   0.32   0.02   0.56   0.00    0.0   0.00   \n2      ALB               Albania   0.00   0.00   0.02   0.00    0.0   0.00   \n3      ARE  United Arab Emirates   0.00   0.00   0.00   0.00    0.0   0.00   \n4      ARG             Argentina   0.00   0.24   0.24   0.00    0.0   0.23   \n..     ...                   ...    ...    ...    ...    ...    ...    ...   \n159    YEM                 Yemen   0.00   0.03   0.00   0.00    0.0   0.00   \n160    ZAF          South Africa   0.00   0.28   0.92   0.00    0.0   0.00   \n161    ZAR                 Zaire   0.95   0.00   0.88   0.00    0.0   0.00   \n162    ZMB                Zambia   0.16   0.16   0.44   0.00    0.0   0.00   \n163    ZWE              Zimbabwe   0.00   0.00   0.98   0.00    0.0   0.00   \n\n     disa7  disa8  ...  disa16  disa17  disa18  disa19  disa20  disa21  \\\n0     0.00   0.00  ...    0.00    0.00    0.00    0.00    0.00    0.00   \n1     0.56   0.00  ...    0.00    0.40    0.00    0.61    0.00    0.00   \n2     0.00   0.00  ...    0.00    0.00    0.00    0.00    0.00    0.00   \n3     0.00   0.00  ...    0.00    0.00    0.00    0.00    0.00    0.00   \n4     0.00   0.00  ...    0.00    0.00    0.00    0.00    0.05    0.00   \n..     ...    ...  ...     ...     ...     ...     ...     ...     ...   \n159   0.24   0.09  ...    0.00    0.19    0.00    0.00    0.00    0.00   \n160   0.32   0.15  ...    0.00    0.00    0.00    0.00    0.00    0.00   \n161   0.84   0.86  ...    0.66    0.85    0.85    0.85    0.03    0.04   \n162   0.53   0.41  ...    0.00    0.00    0.00    0.44    0.00    0.00   \n163   1.00   0.43  ...    0.00    0.00    0.00    0.00    0.00    0.00   \n\n     disa22  disa23  disa24  disa25  \n0      0.00    0.02    0.00    0.00  \n1      0.99    0.98    0.61    0.00  \n2      0.00    0.00    0.00    0.16  \n3      0.00    0.00    0.00    0.00  \n4      0.00    0.01    0.00    0.11  \n..      ...     ...     ...     ...  \n159    0.00    0.00    0.00    0.00  \n160    0.00    0.01    0.00    0.00  \n161    0.90    0.99    1.00    0.00  \n162    0.15    0.02    0.75    0.00  \n163    0.00    0.05    0.51    0.00  \n\n[164 rows x 27 columns]",
      "text/html": "<div>\n<style scoped>\n    .dataframe tbody tr th:only-of-type {\n        vertical-align: middle;\n    }\n\n    .dataframe tbody tr th {\n        vertical-align: top;\n    }\n\n    .dataframe thead th {\n        text-align: right;\n    }\n</style>\n<table border=\"1\" class=\"dataframe\">\n  <thead>\n    <tr style=\"text-align: right;\">\n      <th></th>\n      <th>wbcode</th>\n      <th>country</th>\n      <th>disa1</th>\n      <th>disa2</th>\n      <th>disa3</th>\n      <th>disa4</th>\n      <th>disa5</th>\n      <th>disa6</th>\n      <th>disa7</th>\n      <th>disa8</th>\n      <th>...</th>\n      <th>disa16</th>\n      <th>disa17</th>\n      <th>disa18</th>\n      <th>disa19</th>\n      <th>disa20</th>\n      <th>disa21</th>\n      <th>disa22</th>\n      <th>disa23</th>\n      <th>disa24</th>\n      <th>disa25</th>\n    </tr>\n  </thead>\n  <tbody>\n    <tr>\n      <th>0</th>\n      <td>AFG</td>\n      <td>Afghanistan</td>\n      <td>0.00</td>\n      <td>0.00</td>\n      <td>0.76</td>\n      <td>0.73</td>\n      <td>0.0</td>\n      <td>0.00</td>\n      <td>0.00</td>\n      <td>0.00</td>\n      <td>...</td>\n      <td>0.00</td>\n      <td>0.00</td>\n      <td>0.00</td>\n      <td>0.00</td>\n      <td>0.00</td>\n      <td>0.00</td>\n      <td>0.00</td>\n      <td>0.02</td>\n      <td>0.00</td>\n      <td>0.00</td>\n    </tr>\n    <tr>\n      <th>1</th>\n      <td>AGO</td>\n      <td>Angola</td>\n      <td>0.32</td>\n      <td>0.02</td>\n      <td>0.56</td>\n      <td>0.00</td>\n      <td>0.0</td>\n      <td>0.00</td>\n      <td>0.56</td>\n      <td>0.00</td>\n      <td>...</td>\n      <td>0.00</td>\n      <td>0.40</td>\n      <td>0.00</td>\n      <td>0.61</td>\n      <td>0.00</td>\n      <td>0.00</td>\n      <td>0.99</td>\n      <td>0.98</td>\n      <td>0.61</td>\n      <td>0.00</td>\n    </tr>\n    <tr>\n      <th>2</th>\n      <td>ALB</td>\n      <td>Albania</td>\n      <td>0.00</td>\n      <td>0.00</td>\n      <td>0.02</td>\n      <td>0.00</td>\n      <td>0.0</td>\n      <td>0.00</td>\n      <td>0.00</td>\n      <td>0.00</td>\n      <td>...</td>\n      <td>0.00</td>\n      <td>0.00</td>\n      <td>0.00</td>\n      <td>0.00</td>\n      <td>0.00</td>\n      <td>0.00</td>\n      <td>0.00</td>\n      <td>0.00</td>\n      <td>0.00</td>\n      <td>0.16</td>\n    </tr>\n    <tr>\n      <th>3</th>\n      <td>ARE</td>\n      <td>United Arab Emirates</td>\n      <td>0.00</td>\n      <td>0.00</td>\n      <td>0.00</td>\n      <td>0.00</td>\n      <td>0.0</td>\n      <td>0.00</td>\n      <td>0.00</td>\n      <td>0.00</td>\n      <td>...</td>\n      <td>0.00</td>\n      <td>0.00</td>\n      <td>0.00</td>\n      <td>0.00</td>\n      <td>0.00</td>\n      <td>0.00</td>\n      <td>0.00</td>\n      <td>0.00</td>\n      <td>0.00</td>\n      <td>0.00</td>\n    </tr>\n    <tr>\n      <th>4</th>\n      <td>ARG</td>\n      <td>Argentina</td>\n      <td>0.00</td>\n      <td>0.24</td>\n      <td>0.24</td>\n      <td>0.00</td>\n      <td>0.0</td>\n      <td>0.23</td>\n      <td>0.00</td>\n      <td>0.00</td>\n      <td>...</td>\n      <td>0.00</td>\n      <td>0.00</td>\n      <td>0.00</td>\n      <td>0.00</td>\n      <td>0.05</td>\n      <td>0.00</td>\n      <td>0.00</td>\n      <td>0.01</td>\n      <td>0.00</td>\n      <td>0.11</td>\n    </tr>\n    <tr>\n      <th>...</th>\n      <td>...</td>\n      <td>...</td>\n      <td>...</td>\n      <td>...</td>\n      <td>...</td>\n      <td>...</td>\n      <td>...</td>\n      <td>...</td>\n      <td>...</td>\n      <td>...</td>\n      <td>...</td>\n      <td>...</td>\n      <td>...</td>\n      <td>...</td>\n      <td>...</td>\n      <td>...</td>\n      <td>...</td>\n      <td>...</td>\n      <td>...</td>\n      <td>...</td>\n      <td>...</td>\n    </tr>\n    <tr>\n      <th>159</th>\n      <td>YEM</td>\n      <td>Yemen</td>\n      <td>0.00</td>\n      <td>0.03</td>\n      <td>0.00</td>\n      <td>0.00</td>\n      <td>0.0</td>\n      <td>0.00</td>\n      <td>0.24</td>\n      <td>0.09</td>\n      <td>...</td>\n      <td>0.00</td>\n      <td>0.19</td>\n      <td>0.00</td>\n      <td>0.00</td>\n      <td>0.00</td>\n      <td>0.00</td>\n      <td>0.00</td>\n      <td>0.00</td>\n      <td>0.00</td>\n      <td>0.00</td>\n    </tr>\n    <tr>\n      <th>160</th>\n      <td>ZAF</td>\n      <td>South Africa</td>\n      <td>0.00</td>\n      <td>0.28</td>\n      <td>0.92</td>\n      <td>0.00</td>\n      <td>0.0</td>\n      <td>0.00</td>\n      <td>0.32</td>\n      <td>0.15</td>\n      <td>...</td>\n      <td>0.00</td>\n      <td>0.00</td>\n      <td>0.00</td>\n      <td>0.00</td>\n      <td>0.00</td>\n      <td>0.00</td>\n      <td>0.00</td>\n      <td>0.01</td>\n      <td>0.00</td>\n      <td>0.00</td>\n    </tr>\n    <tr>\n      <th>161</th>\n      <td>ZAR</td>\n      <td>Zaire</td>\n      <td>0.95</td>\n      <td>0.00</td>\n      <td>0.88</td>\n      <td>0.00</td>\n      <td>0.0</td>\n      <td>0.00</td>\n      <td>0.84</td>\n      <td>0.86</td>\n      <td>...</td>\n      <td>0.66</td>\n      <td>0.85</td>\n      <td>0.85</td>\n      <td>0.85</td>\n      <td>0.03</td>\n      <td>0.04</td>\n      <td>0.90</td>\n      <td>0.99</td>\n      <td>1.00</td>\n      <td>0.00</td>\n    </tr>\n    <tr>\n      <th>162</th>\n      <td>ZMB</td>\n      <td>Zambia</td>\n      <td>0.16</td>\n      <td>0.16</td>\n      <td>0.44</td>\n      <td>0.00</td>\n      <td>0.0</td>\n      <td>0.00</td>\n      <td>0.53</td>\n      <td>0.41</td>\n      <td>...</td>\n      <td>0.00</td>\n      <td>0.00</td>\n      <td>0.00</td>\n      <td>0.44</td>\n      <td>0.00</td>\n      <td>0.00</td>\n      <td>0.15</td>\n      <td>0.02</td>\n      <td>0.75</td>\n      <td>0.00</td>\n    </tr>\n    <tr>\n      <th>163</th>\n      <td>ZWE</td>\n      <td>Zimbabwe</td>\n      <td>0.00</td>\n      <td>0.00</td>\n      <td>0.98</td>\n      <td>0.00</td>\n      <td>0.0</td>\n      <td>0.00</td>\n      <td>1.00</td>\n      <td>0.43</td>\n      <td>...</td>\n      <td>0.00</td>\n      <td>0.00</td>\n      <td>0.00</td>\n      <td>0.00</td>\n      <td>0.00</td>\n      <td>0.00</td>\n      <td>0.00</td>\n      <td>0.05</td>\n      <td>0.51</td>\n      <td>0.00</td>\n    </tr>\n  </tbody>\n</table>\n<p>164 rows × 27 columns</p>\n</div>"
     },
     "execution_count": 43,
     "metadata": {},
     "output_type": "execute_result"
    }
   ],
   "source": [
    "data"
   ],
   "metadata": {
    "collapsed": false,
    "pycharm": {
     "name": "#%%\n"
    }
   }
  },
  {
   "cell_type": "markdown",
   "source": [
    "## Importing HDF5 Files"
   ],
   "metadata": {
    "collapsed": false
   }
  },
  {
   "cell_type": "code",
   "execution_count": 44,
   "outputs": [],
   "source": [
    "import h5py"
   ],
   "metadata": {
    "collapsed": false,
    "pycharm": {
     "name": "#%%\n"
    }
   }
  },
  {
   "cell_type": "code",
   "execution_count": 45,
   "outputs": [
    {
     "data": {
      "text/plain": "h5py._hl.files.File"
     },
     "execution_count": 45,
     "metadata": {},
     "output_type": "execute_result"
    }
   ],
   "source": [
    "filepath = '/Users/joseservin/DataCamp/Courses/Intro_Importing_Data/L-L1_LOSC_4_V1-1126259446-32.hdf5'\n",
    "data = h5py.File(filepath, 'r') # reading in file with 'r'\n",
    "type(data)"
   ],
   "metadata": {
    "collapsed": false,
    "pycharm": {
     "name": "#%%\n"
    }
   }
  },
  {
   "cell_type": "code",
   "execution_count": 46,
   "outputs": [
    {
     "name": "stdout",
     "output_type": "stream",
     "text": [
      "meta\n",
      "quality\n",
      "strain\n"
     ]
    }
   ],
   "source": [
    "for keys in data.keys():\n",
    "    print(keys)"
   ],
   "metadata": {
    "collapsed": false,
    "pycharm": {
     "name": "#%%\n"
    }
   }
  },
  {
   "cell_type": "code",
   "execution_count": 47,
   "outputs": [
    {
     "name": "stdout",
     "output_type": "stream",
     "text": [
      "Description\n",
      "DescriptionURL\n",
      "Detector\n",
      "Duration\n",
      "GPSstart\n",
      "Observatory\n",
      "Type\n",
      "UTCstart\n"
     ]
    }
   ],
   "source": [
    "for key in data['meta'].keys():\n",
    "    print (key)"
   ],
   "metadata": {
    "collapsed": false,
    "pycharm": {
     "name": "#%%\n"
    }
   }
  },
  {
   "cell_type": "markdown",
   "source": [
    "## Importing MATLAB Files"
   ],
   "metadata": {
    "collapsed": false
   }
  },
  {
   "cell_type": "markdown",
   "source": [
    "* MATLAB: \"matrix laboratory\""
   ],
   "metadata": {
    "collapsed": false
   }
  },
  {
   "cell_type": "code",
   "execution_count": 54,
   "outputs": [],
   "source": [
    "import scipy.io"
   ],
   "metadata": {
    "collapsed": false,
    "pycharm": {
     "name": "#%%\n"
    }
   }
  },
  {
   "cell_type": "code",
   "execution_count": 55,
   "outputs": [
    {
     "data": {
      "text/plain": "dict"
     },
     "execution_count": 55,
     "metadata": {},
     "output_type": "execute_result"
    }
   ],
   "source": [
    "filepath = '/Users/joseservin/DataCamp/Courses/Intro_Importing_Data/ja_data2.mat'\n",
    "mat = scipy.io.loadmat(filepath)\n",
    "type(mat)"
   ],
   "metadata": {
    "collapsed": false,
    "pycharm": {
     "name": "#%%\n"
    }
   }
  },
  {
   "cell_type": "markdown",
   "source": [
    "* keys = MATLAB variable names\n",
    "* values = objects assigned to variables"
   ],
   "metadata": {
    "collapsed": false
   }
  },
  {
   "cell_type": "code",
   "execution_count": null,
   "outputs": [],
   "source": [],
   "metadata": {
    "collapsed": false,
    "pycharm": {
     "name": "#%%\n"
    }
   }
  }
 ],
 "metadata": {
  "interpreter": {
   "hash": "aee8b7b246df8f9039afb4144a1f6fd8d2ca17a180786b69acc140d282b71a49"
  },
  "kernelspec": {
   "display_name": "Python 3 (ipykernel)",
   "language": "python",
   "name": "python3"
  },
  "language_info": {
   "codemirror_mode": {
    "name": "ipython",
    "version": 3
   },
   "file_extension": ".py",
   "mimetype": "text/x-python",
   "name": "python",
   "nbconvert_exporter": "python",
   "pygments_lexer": "ipython3",
   "version": "3.9.7"
  }
 },
 "nbformat": 4,
 "nbformat_minor": 2
}