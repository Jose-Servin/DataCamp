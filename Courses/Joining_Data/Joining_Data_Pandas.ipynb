{
 "cells": [
  {
   "cell_type": "markdown",
   "metadata": {},
   "source": [
    "# Subject: Joining Data\n",
    "\n",
    "## Jose Servin\n",
    "\n",
    "### Data used: https://www.chicago.gov/city/en/depts/other/dataset/wards.html"
   ]
  },
  {
   "cell_type": "code",
   "execution_count": 2,
   "metadata": {},
   "outputs": [],
   "source": [
    "import pandas as pd\n",
    "import numpy as np\n",
    "import matplotlib.pyplot as plt\n",
    "import plotly.express as px"
   ]
  },
  {
   "cell_type": "markdown",
   "metadata": {},
   "source": [
    "# Importing data and DF definition"
   ]
  },
  {
   "cell_type": "code",
   "execution_count": 3,
   "metadata": {},
   "outputs": [
    {
     "data": {
      "text/html": [
       "<div>\n",
       "<style scoped>\n",
       "    .dataframe tbody tr th:only-of-type {\n",
       "        vertical-align: middle;\n",
       "    }\n",
       "\n",
       "    .dataframe tbody tr th {\n",
       "        vertical-align: top;\n",
       "    }\n",
       "\n",
       "    .dataframe thead th {\n",
       "        text-align: right;\n",
       "    }\n",
       "</style>\n",
       "<table border=\"1\" class=\"dataframe\">\n",
       "  <thead>\n",
       "    <tr style=\"text-align: right;\">\n",
       "      <th></th>\n",
       "      <th>ward</th>\n",
       "      <th>alderman</th>\n",
       "      <th>address</th>\n",
       "      <th>zipcode</th>\n",
       "    </tr>\n",
       "  </thead>\n",
       "  <tbody>\n",
       "    <tr>\n",
       "      <th>0</th>\n",
       "      <td>33</td>\n",
       "      <td>Rodriguez Sanchez, Rossana</td>\n",
       "      <td>3001 West Irving Park Road</td>\n",
       "      <td>60618</td>\n",
       "    </tr>\n",
       "    <tr>\n",
       "      <th>1</th>\n",
       "      <td>17</td>\n",
       "      <td>Moore, David H.</td>\n",
       "      <td>1344 West 79th Street</td>\n",
       "      <td>60636</td>\n",
       "    </tr>\n",
       "    <tr>\n",
       "      <th>2</th>\n",
       "      <td>44</td>\n",
       "      <td>Tunney, Thomas</td>\n",
       "      <td>3223 North Sheffield Avenue, Suite A</td>\n",
       "      <td>60657</td>\n",
       "    </tr>\n",
       "    <tr>\n",
       "      <th>3</th>\n",
       "      <td>37</td>\n",
       "      <td>Mitts, Emma</td>\n",
       "      <td>5344 West North Avenue</td>\n",
       "      <td>60651</td>\n",
       "    </tr>\n",
       "    <tr>\n",
       "      <th>4</th>\n",
       "      <td>4</td>\n",
       "      <td>King, Sophia D.</td>\n",
       "      <td>435 East 35th Street</td>\n",
       "      <td>60616</td>\n",
       "    </tr>\n",
       "  </tbody>\n",
       "</table>\n",
       "</div>"
      ],
      "text/plain": [
       "   ward                    alderman                               address  \\\n",
       "0    33  Rodriguez Sanchez, Rossana            3001 West Irving Park Road   \n",
       "1    17             Moore, David H.                 1344 West 79th Street   \n",
       "2    44              Tunney, Thomas  3223 North Sheffield Avenue, Suite A   \n",
       "3    37                 Mitts, Emma                5344 West North Avenue   \n",
       "4     4             King, Sophia D.                  435 East 35th Street   \n",
       "\n",
       "   zipcode  \n",
       "0    60618  \n",
       "1    60636  \n",
       "2    60657  \n",
       "3    60651  \n",
       "4    60616  "
      ]
     },
     "execution_count": 3,
     "metadata": {},
     "output_type": "execute_result"
    }
   ],
   "source": [
    "wards = pd.read_csv('/Users/joseservin/DataCamp/Courses/Joining_Data/Ward_Offices.csv')\n",
    "wards = wards[['WARD', 'ALDERMAN', 'ADDRESS','ZIPCODE']].copy()\n",
    "wards.columns = [x.lower() for x in wards.columns]\n",
    "wards.head()\n"
   ]
  },
  {
   "cell_type": "code",
   "execution_count": 4,
   "metadata": {},
   "outputs": [
    {
     "data": {
      "text/plain": [
       "ward         int64\n",
       "alderman    object\n",
       "address     object\n",
       "zipcode      int64\n",
       "dtype: object"
      ]
     },
     "execution_count": 4,
     "metadata": {},
     "output_type": "execute_result"
    }
   ],
   "source": [
    "wards.dtypes"
   ]
  },
  {
   "cell_type": "code",
   "execution_count": 5,
   "metadata": {},
   "outputs": [
    {
     "data": {
      "text/html": [
       "<div>\n",
       "<style scoped>\n",
       "    .dataframe tbody tr th:only-of-type {\n",
       "        vertical-align: middle;\n",
       "    }\n",
       "\n",
       "    .dataframe tbody tr th {\n",
       "        vertical-align: top;\n",
       "    }\n",
       "\n",
       "    .dataframe thead th {\n",
       "        text-align: right;\n",
       "    }\n",
       "</style>\n",
       "<table border=\"1\" class=\"dataframe\">\n",
       "  <thead>\n",
       "    <tr style=\"text-align: right;\">\n",
       "      <th></th>\n",
       "      <th>ward</th>\n",
       "      <th>pop_2010</th>\n",
       "      <th>pop_2016</th>\n",
       "      <th>pct_change</th>\n",
       "      <th>address</th>\n",
       "      <th>zip_code</th>\n",
       "    </tr>\n",
       "  </thead>\n",
       "  <tbody>\n",
       "    <tr>\n",
       "      <th>0</th>\n",
       "      <td>1</td>\n",
       "      <td>56,149</td>\n",
       "      <td>56,661</td>\n",
       "      <td>1%</td>\n",
       "      <td>1958 North Milwaukee Avenue</td>\n",
       "      <td>60647</td>\n",
       "    </tr>\n",
       "    <tr>\n",
       "      <th>1</th>\n",
       "      <td>2</td>\n",
       "      <td>55,805</td>\n",
       "      <td>57,705</td>\n",
       "      <td>3%</td>\n",
       "      <td>1400 North Ashland Avenue</td>\n",
       "      <td>60622</td>\n",
       "    </tr>\n",
       "    <tr>\n",
       "      <th>2</th>\n",
       "      <td>3</td>\n",
       "      <td>53,039</td>\n",
       "      <td>55,763</td>\n",
       "      <td>5%</td>\n",
       "      <td>5046 South State Street</td>\n",
       "      <td>60609</td>\n",
       "    </tr>\n",
       "    <tr>\n",
       "      <th>3</th>\n",
       "      <td>4</td>\n",
       "      <td>54,589</td>\n",
       "      <td>57,301</td>\n",
       "      <td>5%</td>\n",
       "      <td>435 East 35th Street</td>\n",
       "      <td>60616</td>\n",
       "    </tr>\n",
       "    <tr>\n",
       "      <th>4</th>\n",
       "      <td>5</td>\n",
       "      <td>51,455</td>\n",
       "      <td>52,073</td>\n",
       "      <td>1%</td>\n",
       "      <td>2325 East 71st Street</td>\n",
       "      <td>60649</td>\n",
       "    </tr>\n",
       "  </tbody>\n",
       "</table>\n",
       "</div>"
      ],
      "text/plain": [
       "   ward pop_2010 pop_2016 pct_change                      address  zip_code\n",
       "0     1   56,149   56,661         1%  1958 North Milwaukee Avenue     60647\n",
       "1     2   55,805   57,705         3%    1400 North Ashland Avenue     60622\n",
       "2     3   53,039   55,763         5%      5046 South State Street     60609\n",
       "3     4   54,589   57,301         5%         435 East 35th Street     60616\n",
       "4     5   51,455   52,073         1%        2325 East 71st Street     60649"
      ]
     },
     "execution_count": 5,
     "metadata": {},
     "output_type": "execute_result"
    }
   ],
   "source": [
    "census = pd.read_csv('/Users/joseservin/DataCamp/Courses/Joining_Data/ward_population.csv')\n",
    "census.head()"
   ]
  },
  {
   "cell_type": "code",
   "execution_count": 6,
   "metadata": {},
   "outputs": [
    {
     "data": {
      "text/plain": [
       "ward           int64\n",
       "pop_2010      object\n",
       "pop_2016      object\n",
       "pct_change    object\n",
       "address       object\n",
       "zip_code       int64\n",
       "dtype: object"
      ]
     },
     "execution_count": 6,
     "metadata": {},
     "output_type": "execute_result"
    }
   ],
   "source": [
    "census.dtypes"
   ]
  },
  {
   "cell_type": "code",
   "execution_count": 7,
   "metadata": {},
   "outputs": [],
   "source": [
    "census['ward'] = census['ward'].astype(int)\n"
   ]
  },
  {
   "cell_type": "code",
   "execution_count": 8,
   "metadata": {},
   "outputs": [
    {
     "data": {
      "text/plain": [
       "ward           int64\n",
       "pop_2010      object\n",
       "pop_2016      object\n",
       "pct_change    object\n",
       "address       object\n",
       "zip_code       int64\n",
       "dtype: object"
      ]
     },
     "execution_count": 8,
     "metadata": {},
     "output_type": "execute_result"
    }
   ],
   "source": [
    "census.dtypes"
   ]
  },
  {
   "cell_type": "code",
   "execution_count": 9,
   "metadata": {},
   "outputs": [],
   "source": [
    "census['pop_2010'] = census['pop_2010'].apply(lambda x: int(x.split()[0].replace(',', '')))"
   ]
  },
  {
   "cell_type": "code",
   "execution_count": 10,
   "metadata": {},
   "outputs": [
    {
     "data": {
      "text/plain": [
       "ward           int64\n",
       "pop_2010       int64\n",
       "pop_2016      object\n",
       "pct_change    object\n",
       "address       object\n",
       "zip_code       int64\n",
       "dtype: object"
      ]
     },
     "execution_count": 10,
     "metadata": {},
     "output_type": "execute_result"
    }
   ],
   "source": [
    "census.dtypes"
   ]
  },
  {
   "cell_type": "code",
   "execution_count": 11,
   "metadata": {},
   "outputs": [],
   "source": [
    "census['pop_2016'] = census['pop_2016'].apply(lambda x: int(x.split()[0].replace(',', '')))"
   ]
  },
  {
   "cell_type": "code",
   "execution_count": 12,
   "metadata": {},
   "outputs": [
    {
     "data": {
      "text/plain": [
       "ward           int64\n",
       "pop_2010       int64\n",
       "pop_2016       int64\n",
       "pct_change    object\n",
       "address       object\n",
       "zip_code       int64\n",
       "dtype: object"
      ]
     },
     "execution_count": 12,
     "metadata": {},
     "output_type": "execute_result"
    }
   ],
   "source": [
    "census.dtypes"
   ]
  },
  {
   "cell_type": "code",
   "execution_count": 13,
   "metadata": {},
   "outputs": [],
   "source": [
    "census['pct_change'] = census['pct_change'].str.rstrip('%').astype('float') / 100.0\n"
   ]
  },
  {
   "cell_type": "code",
   "execution_count": 14,
   "metadata": {},
   "outputs": [
    {
     "data": {
      "text/plain": [
       "ward            int64\n",
       "pop_2010        int64\n",
       "pop_2016        int64\n",
       "pct_change    float64\n",
       "address        object\n",
       "zip_code        int64\n",
       "dtype: object"
      ]
     },
     "execution_count": 14,
     "metadata": {},
     "output_type": "execute_result"
    }
   ],
   "source": [
    "census.dtypes"
   ]
  },
  {
   "cell_type": "code",
   "execution_count": 15,
   "metadata": {},
   "outputs": [
    {
     "data": {
      "text/html": [
       "<div>\n",
       "<style scoped>\n",
       "    .dataframe tbody tr th:only-of-type {\n",
       "        vertical-align: middle;\n",
       "    }\n",
       "\n",
       "    .dataframe tbody tr th {\n",
       "        vertical-align: top;\n",
       "    }\n",
       "\n",
       "    .dataframe thead th {\n",
       "        text-align: right;\n",
       "    }\n",
       "</style>\n",
       "<table border=\"1\" class=\"dataframe\">\n",
       "  <thead>\n",
       "    <tr style=\"text-align: right;\">\n",
       "      <th></th>\n",
       "      <th>ward</th>\n",
       "      <th>pop_2010</th>\n",
       "      <th>pop_2016</th>\n",
       "      <th>pct_change</th>\n",
       "      <th>address</th>\n",
       "      <th>zip_code</th>\n",
       "    </tr>\n",
       "  </thead>\n",
       "  <tbody>\n",
       "    <tr>\n",
       "      <th>0</th>\n",
       "      <td>1</td>\n",
       "      <td>56149</td>\n",
       "      <td>56661</td>\n",
       "      <td>0.01</td>\n",
       "      <td>1958 North Milwaukee Avenue</td>\n",
       "      <td>60647</td>\n",
       "    </tr>\n",
       "    <tr>\n",
       "      <th>1</th>\n",
       "      <td>2</td>\n",
       "      <td>55805</td>\n",
       "      <td>57705</td>\n",
       "      <td>0.03</td>\n",
       "      <td>1400 North Ashland Avenue</td>\n",
       "      <td>60622</td>\n",
       "    </tr>\n",
       "    <tr>\n",
       "      <th>2</th>\n",
       "      <td>3</td>\n",
       "      <td>53039</td>\n",
       "      <td>55763</td>\n",
       "      <td>0.05</td>\n",
       "      <td>5046 South State Street</td>\n",
       "      <td>60609</td>\n",
       "    </tr>\n",
       "    <tr>\n",
       "      <th>3</th>\n",
       "      <td>4</td>\n",
       "      <td>54589</td>\n",
       "      <td>57301</td>\n",
       "      <td>0.05</td>\n",
       "      <td>435 East 35th Street</td>\n",
       "      <td>60616</td>\n",
       "    </tr>\n",
       "    <tr>\n",
       "      <th>4</th>\n",
       "      <td>5</td>\n",
       "      <td>51455</td>\n",
       "      <td>52073</td>\n",
       "      <td>0.01</td>\n",
       "      <td>2325 East 71st Street</td>\n",
       "      <td>60649</td>\n",
       "    </tr>\n",
       "  </tbody>\n",
       "</table>\n",
       "</div>"
      ],
      "text/plain": [
       "   ward  pop_2010  pop_2016  pct_change                      address  zip_code\n",
       "0     1     56149     56661        0.01  1958 North Milwaukee Avenue     60647\n",
       "1     2     55805     57705        0.03    1400 North Ashland Avenue     60622\n",
       "2     3     53039     55763        0.05      5046 South State Street     60609\n",
       "3     4     54589     57301        0.05         435 East 35th Street     60616\n",
       "4     5     51455     52073        0.01        2325 East 71st Street     60649"
      ]
     },
     "execution_count": 15,
     "metadata": {},
     "output_type": "execute_result"
    }
   ],
   "source": [
    "census.head()"
   ]
  },
  {
   "cell_type": "code",
   "execution_count": 16,
   "metadata": {},
   "outputs": [
    {
     "data": {
      "text/plain": [
       "ward         int64\n",
       "alderman    object\n",
       "address     object\n",
       "zipcode      int64\n",
       "dtype: object"
      ]
     },
     "execution_count": 16,
     "metadata": {},
     "output_type": "execute_result"
    }
   ],
   "source": [
    "wards.dtypes"
   ]
  },
  {
   "cell_type": "code",
   "execution_count": 17,
   "metadata": {},
   "outputs": [
    {
     "data": {
      "text/html": [
       "<div>\n",
       "<style scoped>\n",
       "    .dataframe tbody tr th:only-of-type {\n",
       "        vertical-align: middle;\n",
       "    }\n",
       "\n",
       "    .dataframe tbody tr th {\n",
       "        vertical-align: top;\n",
       "    }\n",
       "\n",
       "    .dataframe thead th {\n",
       "        text-align: right;\n",
       "    }\n",
       "</style>\n",
       "<table border=\"1\" class=\"dataframe\">\n",
       "  <thead>\n",
       "    <tr style=\"text-align: right;\">\n",
       "      <th></th>\n",
       "      <th>ward</th>\n",
       "      <th>alderman</th>\n",
       "      <th>address</th>\n",
       "      <th>zipcode</th>\n",
       "    </tr>\n",
       "  </thead>\n",
       "  <tbody>\n",
       "    <tr>\n",
       "      <th>0</th>\n",
       "      <td>33</td>\n",
       "      <td>Rodriguez Sanchez, Rossana</td>\n",
       "      <td>3001 West Irving Park Road</td>\n",
       "      <td>60618</td>\n",
       "    </tr>\n",
       "    <tr>\n",
       "      <th>1</th>\n",
       "      <td>17</td>\n",
       "      <td>Moore, David H.</td>\n",
       "      <td>1344 West 79th Street</td>\n",
       "      <td>60636</td>\n",
       "    </tr>\n",
       "    <tr>\n",
       "      <th>2</th>\n",
       "      <td>44</td>\n",
       "      <td>Tunney, Thomas</td>\n",
       "      <td>3223 North Sheffield Avenue, Suite A</td>\n",
       "      <td>60657</td>\n",
       "    </tr>\n",
       "    <tr>\n",
       "      <th>3</th>\n",
       "      <td>37</td>\n",
       "      <td>Mitts, Emma</td>\n",
       "      <td>5344 West North Avenue</td>\n",
       "      <td>60651</td>\n",
       "    </tr>\n",
       "    <tr>\n",
       "      <th>4</th>\n",
       "      <td>4</td>\n",
       "      <td>King, Sophia D.</td>\n",
       "      <td>435 East 35th Street</td>\n",
       "      <td>60616</td>\n",
       "    </tr>\n",
       "  </tbody>\n",
       "</table>\n",
       "</div>"
      ],
      "text/plain": [
       "   ward                    alderman                               address  \\\n",
       "0    33  Rodriguez Sanchez, Rossana            3001 West Irving Park Road   \n",
       "1    17             Moore, David H.                 1344 West 79th Street   \n",
       "2    44              Tunney, Thomas  3223 North Sheffield Avenue, Suite A   \n",
       "3    37                 Mitts, Emma                5344 West North Avenue   \n",
       "4     4             King, Sophia D.                  435 East 35th Street   \n",
       "\n",
       "   zipcode  \n",
       "0    60618  \n",
       "1    60636  \n",
       "2    60657  \n",
       "3    60651  \n",
       "4    60616  "
      ]
     },
     "execution_count": 17,
     "metadata": {},
     "output_type": "execute_result"
    }
   ],
   "source": [
    "wards.head()"
   ]
  },
  {
   "cell_type": "markdown",
   "metadata": {},
   "source": [
    "# Inner Join: only returns matching values in both tables"
   ]
  },
  {
   "cell_type": "code",
   "execution_count": 18,
   "metadata": {},
   "outputs": [
    {
     "data": {
      "text/html": [
       "<div>\n",
       "<style scoped>\n",
       "    .dataframe tbody tr th:only-of-type {\n",
       "        vertical-align: middle;\n",
       "    }\n",
       "\n",
       "    .dataframe tbody tr th {\n",
       "        vertical-align: top;\n",
       "    }\n",
       "\n",
       "    .dataframe thead th {\n",
       "        text-align: right;\n",
       "    }\n",
       "</style>\n",
       "<table border=\"1\" class=\"dataframe\">\n",
       "  <thead>\n",
       "    <tr style=\"text-align: right;\">\n",
       "      <th></th>\n",
       "      <th>ward</th>\n",
       "      <th>alderman</th>\n",
       "      <th>address_ward</th>\n",
       "      <th>zipcode</th>\n",
       "      <th>pop_2010</th>\n",
       "      <th>pop_2016</th>\n",
       "      <th>pct_change</th>\n",
       "      <th>address_cens</th>\n",
       "      <th>zip_code</th>\n",
       "    </tr>\n",
       "  </thead>\n",
       "  <tbody>\n",
       "    <tr>\n",
       "      <th>0</th>\n",
       "      <td>33</td>\n",
       "      <td>Rodriguez Sanchez, Rossana</td>\n",
       "      <td>3001 West Irving Park Road</td>\n",
       "      <td>60618</td>\n",
       "      <td>55598</td>\n",
       "      <td>56121</td>\n",
       "      <td>0.01</td>\n",
       "      <td>3001 West Irving Park Road</td>\n",
       "      <td>60618</td>\n",
       "    </tr>\n",
       "    <tr>\n",
       "      <th>1</th>\n",
       "      <td>17</td>\n",
       "      <td>Moore, David H.</td>\n",
       "      <td>1344 West 79th Street</td>\n",
       "      <td>60636</td>\n",
       "      <td>51846</td>\n",
       "      <td>49271</td>\n",
       "      <td>-0.05</td>\n",
       "      <td>1344 West 79th Street</td>\n",
       "      <td>60636</td>\n",
       "    </tr>\n",
       "    <tr>\n",
       "      <th>2</th>\n",
       "      <td>44</td>\n",
       "      <td>Tunney, Thomas</td>\n",
       "      <td>3223 North Sheffield Avenue, Suite A</td>\n",
       "      <td>60657</td>\n",
       "      <td>56058</td>\n",
       "      <td>59871</td>\n",
       "      <td>0.07</td>\n",
       "      <td>3223 North Sheffield Avenue, Suite A</td>\n",
       "      <td>60657</td>\n",
       "    </tr>\n",
       "    <tr>\n",
       "      <th>3</th>\n",
       "      <td>37</td>\n",
       "      <td>Mitts, Emma</td>\n",
       "      <td>5344 West North Avenue</td>\n",
       "      <td>60651</td>\n",
       "      <td>51538</td>\n",
       "      <td>51178</td>\n",
       "      <td>-0.01</td>\n",
       "      <td>5344 West North Avenue</td>\n",
       "      <td>60651</td>\n",
       "    </tr>\n",
       "    <tr>\n",
       "      <th>4</th>\n",
       "      <td>4</td>\n",
       "      <td>King, Sophia D.</td>\n",
       "      <td>435 East 35th Street</td>\n",
       "      <td>60616</td>\n",
       "      <td>54589</td>\n",
       "      <td>57301</td>\n",
       "      <td>0.05</td>\n",
       "      <td>435 East 35th Street</td>\n",
       "      <td>60616</td>\n",
       "    </tr>\n",
       "  </tbody>\n",
       "</table>\n",
       "</div>"
      ],
      "text/plain": [
       "   ward                    alderman                          address_ward  \\\n",
       "0    33  Rodriguez Sanchez, Rossana            3001 West Irving Park Road   \n",
       "1    17             Moore, David H.                 1344 West 79th Street   \n",
       "2    44              Tunney, Thomas  3223 North Sheffield Avenue, Suite A   \n",
       "3    37                 Mitts, Emma                5344 West North Avenue   \n",
       "4     4             King, Sophia D.                  435 East 35th Street   \n",
       "\n",
       "   zipcode  pop_2010  pop_2016  pct_change  \\\n",
       "0    60618     55598     56121        0.01   \n",
       "1    60636     51846     49271       -0.05   \n",
       "2    60657     56058     59871        0.07   \n",
       "3    60651     51538     51178       -0.01   \n",
       "4    60616     54589     57301        0.05   \n",
       "\n",
       "                           address_cens  zip_code  \n",
       "0            3001 West Irving Park Road     60618  \n",
       "1                 1344 West 79th Street     60636  \n",
       "2  3223 North Sheffield Avenue, Suite A     60657  \n",
       "3                5344 West North Avenue     60651  \n",
       "4                  435 East 35th Street     60616  "
      ]
     },
     "execution_count": 18,
     "metadata": {},
     "output_type": "execute_result"
    }
   ],
   "source": [
    "wards_census  = wards.merge(census, on='ward', suffixes=('_ward','_cens'))\n",
    "wards_census.head()"
   ]
  },
  {
   "cell_type": "code",
   "execution_count": 19,
   "metadata": {},
   "outputs": [
    {
     "data": {
      "text/plain": [
       "(50, 9)"
      ]
     },
     "execution_count": 19,
     "metadata": {},
     "output_type": "execute_result"
    }
   ],
   "source": [
    "wards_census.shape"
   ]
  },
  {
   "cell_type": "code",
   "execution_count": 20,
   "metadata": {},
   "outputs": [
    {
     "data": {
      "text/plain": [
       "60618    3\n",
       "60609    3\n",
       "60628    2\n",
       "60639    2\n",
       "60636    2\n",
       "60608    2\n",
       "60622    2\n",
       "60612    2\n",
       "60630    2\n",
       "60659    2\n",
       "60614    2\n",
       "60640    2\n",
       "60617    2\n",
       "60619    2\n",
       "60643    1\n",
       "60626    1\n",
       "60647    1\n",
       "60629    1\n",
       "60621    1\n",
       "60649    1\n",
       "60634    1\n",
       "60631    1\n",
       "60632    1\n",
       "60623    1\n",
       "60652    1\n",
       "60607    1\n",
       "60602    1\n",
       "60624    1\n",
       "60620    1\n",
       "60641    1\n",
       "60616    1\n",
       "60651    1\n",
       "60657    1\n",
       "60638    1\n",
       "Name: zipcode, dtype: int64"
      ]
     },
     "execution_count": 20,
     "metadata": {},
     "output_type": "execute_result"
    }
   ],
   "source": [
    "# value_counts() of zipcodes in wards_census DF\n",
    "wards_census['zipcode'].value_counts()"
   ]
  },
  {
   "cell_type": "markdown",
   "metadata": {},
   "source": [
    "# One-to-Many Relationships"
   ]
  },
  {
   "cell_type": "code",
   "execution_count": 21,
   "metadata": {},
   "outputs": [
    {
     "data": {
      "text/plain": [
       "Index(['ID', 'LICENSE ID', 'ACCOUNT NUMBER', 'SITE NUMBER', 'LEGAL NAME',\n",
       "       'DOING BUSINESS AS NAME', 'ADDRESS', 'CITY', 'STATE', 'ZIP CODE',\n",
       "       'WARD', 'PRECINCT', 'WARD PRECINCT', 'POLICE DISTRICT', 'LICENSE CODE',\n",
       "       'LICENSE DESCRIPTION', 'BUSINESS ACTIVITY ID', 'BUSINESS ACTIVITY',\n",
       "       'LICENSE NUMBER', 'APPLICATION TYPE', 'APPLICATION CREATED DATE',\n",
       "       'APPLICATION REQUIREMENTS COMPLETE', 'PAYMENT DATE',\n",
       "       'CONDITIONAL APPROVAL', 'LICENSE TERM START DATE',\n",
       "       'LICENSE TERM EXPIRATION DATE', 'LICENSE APPROVED FOR ISSUANCE',\n",
       "       'DATE ISSUED', 'LICENSE STATUS', 'LICENSE STATUS CHANGE DATE', 'SSA',\n",
       "       'LATITUDE', 'LONGITUDE', 'LOCATION'],\n",
       "      dtype='object')"
      ]
     },
     "execution_count": 21,
     "metadata": {},
     "output_type": "execute_result"
    }
   ],
   "source": [
    "# Import Buiness_Licenses csv containing active businesses in each ward\n",
    "wards_businesses = pd.read_csv('/Users/joseservin/DataCamp/Courses/Joining_Data/Business_Licenses.csv')\n",
    "wards_businesses.columns"
   ]
  },
  {
   "cell_type": "code",
   "execution_count": 22,
   "metadata": {},
   "outputs": [],
   "source": [
    "wards_businesses = wards_businesses[['ACCOUNT NUMBER','WARD','LICENSE NUMBER','LEGAL NAME','ADDRESS','ZIP CODE']]"
   ]
  },
  {
   "cell_type": "code",
   "execution_count": 23,
   "metadata": {},
   "outputs": [
    {
     "data": {
      "text/html": [
       "<div>\n",
       "<style scoped>\n",
       "    .dataframe tbody tr th:only-of-type {\n",
       "        vertical-align: middle;\n",
       "    }\n",
       "\n",
       "    .dataframe tbody tr th {\n",
       "        vertical-align: top;\n",
       "    }\n",
       "\n",
       "    .dataframe thead th {\n",
       "        text-align: right;\n",
       "    }\n",
       "</style>\n",
       "<table border=\"1\" class=\"dataframe\">\n",
       "  <thead>\n",
       "    <tr style=\"text-align: right;\">\n",
       "      <th></th>\n",
       "      <th>account number</th>\n",
       "      <th>ward</th>\n",
       "      <th>license number</th>\n",
       "      <th>legal name</th>\n",
       "      <th>address</th>\n",
       "      <th>zip code</th>\n",
       "    </tr>\n",
       "  </thead>\n",
       "  <tbody>\n",
       "    <tr>\n",
       "      <th>0</th>\n",
       "      <td>406944</td>\n",
       "      <td>42.0</td>\n",
       "      <td>2818099</td>\n",
       "      <td>GERMAN AMERICAN EVENTS, LLC</td>\n",
       "      <td>150 N MICHIGAN AVE 35TH</td>\n",
       "      <td>60601</td>\n",
       "    </tr>\n",
       "    <tr>\n",
       "      <th>1</th>\n",
       "      <td>337918</td>\n",
       "      <td>42.0</td>\n",
       "      <td>2818166</td>\n",
       "      <td>THE NOBLE GRAPE CORPORATION</td>\n",
       "      <td>50 W WASHINGTON ST</td>\n",
       "      <td>60602</td>\n",
       "    </tr>\n",
       "    <tr>\n",
       "      <th>2</th>\n",
       "      <td>385905</td>\n",
       "      <td>44.0</td>\n",
       "      <td>2822280</td>\n",
       "      <td>Patrick Markham</td>\n",
       "      <td>3252 N BROADWAY</td>\n",
       "      <td>60657</td>\n",
       "    </tr>\n",
       "    <tr>\n",
       "      <th>3</th>\n",
       "      <td>385905</td>\n",
       "      <td>47.0</td>\n",
       "      <td>2822276</td>\n",
       "      <td>Patrick Markham</td>\n",
       "      <td>4560 N LINCOLN AVE</td>\n",
       "      <td>60625</td>\n",
       "    </tr>\n",
       "    <tr>\n",
       "      <th>4</th>\n",
       "      <td>385905</td>\n",
       "      <td>1.0</td>\n",
       "      <td>2822277</td>\n",
       "      <td>Patrick Markham</td>\n",
       "      <td>2439 W FULLERTON AVE</td>\n",
       "      <td>60647</td>\n",
       "    </tr>\n",
       "  </tbody>\n",
       "</table>\n",
       "</div>"
      ],
      "text/plain": [
       "   account number  ward  license number                   legal name  \\\n",
       "0          406944  42.0         2818099  GERMAN AMERICAN EVENTS, LLC   \n",
       "1          337918  42.0         2818166  THE NOBLE GRAPE CORPORATION   \n",
       "2          385905  44.0         2822280              Patrick Markham   \n",
       "3          385905  47.0         2822276              Patrick Markham   \n",
       "4          385905   1.0         2822277              Patrick Markham   \n",
       "\n",
       "                   address  zip code  \n",
       "0  150 N MICHIGAN AVE 35TH     60601  \n",
       "1       50 W WASHINGTON ST     60602  \n",
       "2          3252 N BROADWAY     60657  \n",
       "3       4560 N LINCOLN AVE     60625  \n",
       "4     2439 W FULLERTON AVE     60647  "
      ]
     },
     "execution_count": 23,
     "metadata": {},
     "output_type": "execute_result"
    }
   ],
   "source": [
    "wards_businesses.columns = [x.lower() for x in wards_businesses.columns]\n",
    "wards_businesses.head()"
   ]
  },
  {
   "cell_type": "code",
   "execution_count": 24,
   "metadata": {},
   "outputs": [
    {
     "data": {
      "text/plain": [
       "account number     0\n",
       "ward              32\n",
       "license number     0\n",
       "legal name         0\n",
       "address            0\n",
       "zip code           0\n",
       "dtype: int64"
      ]
     },
     "execution_count": 24,
     "metadata": {},
     "output_type": "execute_result"
    }
   ],
   "source": [
    "wards_businesses.isna().sum()"
   ]
  },
  {
   "cell_type": "code",
   "execution_count": 25,
   "metadata": {},
   "outputs": [],
   "source": [
    "wards_businesses = wards_businesses[wards_businesses['ward'].notna()]"
   ]
  },
  {
   "cell_type": "code",
   "execution_count": 26,
   "metadata": {},
   "outputs": [
    {
     "data": {
      "text/plain": [
       "account number    0\n",
       "ward              0\n",
       "license number    0\n",
       "legal name        0\n",
       "address           0\n",
       "zip code          0\n",
       "dtype: int64"
      ]
     },
     "execution_count": 26,
     "metadata": {},
     "output_type": "execute_result"
    }
   ],
   "source": [
    "wards_businesses.isna().sum()"
   ]
  },
  {
   "cell_type": "code",
   "execution_count": 27,
   "metadata": {},
   "outputs": [],
   "source": [
    "wards_businesses = wards_businesses[wards_businesses['license number'].notna()]"
   ]
  },
  {
   "cell_type": "code",
   "execution_count": 28,
   "metadata": {},
   "outputs": [
    {
     "data": {
      "text/plain": [
       "account number    0\n",
       "ward              0\n",
       "license number    0\n",
       "legal name        0\n",
       "address           0\n",
       "zip code          0\n",
       "dtype: int64"
      ]
     },
     "execution_count": 28,
     "metadata": {},
     "output_type": "execute_result"
    }
   ],
   "source": [
    "wards_businesses.isna().sum()"
   ]
  },
  {
   "cell_type": "code",
   "execution_count": 29,
   "metadata": {},
   "outputs": [],
   "source": [
    "wards_businesses = wards_businesses[wards_businesses['zip code'].notna()]"
   ]
  },
  {
   "cell_type": "code",
   "execution_count": 30,
   "metadata": {},
   "outputs": [
    {
     "data": {
      "text/plain": [
       "account number    0\n",
       "ward              0\n",
       "license number    0\n",
       "legal name        0\n",
       "address           0\n",
       "zip code          0\n",
       "dtype: int64"
      ]
     },
     "execution_count": 30,
     "metadata": {},
     "output_type": "execute_result"
    }
   ],
   "source": [
    "wards_businesses.isna().sum()"
   ]
  },
  {
   "cell_type": "code",
   "execution_count": 31,
   "metadata": {},
   "outputs": [],
   "source": [
    "wards_businesses['ward'] = wards_businesses['ward'].astype(int)"
   ]
  },
  {
   "cell_type": "code",
   "execution_count": 32,
   "metadata": {},
   "outputs": [],
   "source": [
    "wards_businesses['zip code'] = wards_businesses['zip code'].astype(int)"
   ]
  },
  {
   "cell_type": "code",
   "execution_count": 33,
   "metadata": {},
   "outputs": [
    {
     "data": {
      "text/plain": [
       "account number     int64\n",
       "ward               int64\n",
       "license number     int64\n",
       "legal name        object\n",
       "address           object\n",
       "zip code           int64\n",
       "dtype: object"
      ]
     },
     "execution_count": 33,
     "metadata": {},
     "output_type": "execute_result"
    }
   ],
   "source": [
    "wards_businesses.dtypes"
   ]
  },
  {
   "cell_type": "code",
   "execution_count": 34,
   "metadata": {},
   "outputs": [
    {
     "data": {
      "text/plain": [
       "(267, 6)"
      ]
     },
     "execution_count": 34,
     "metadata": {},
     "output_type": "execute_result"
    }
   ],
   "source": [
    "wards_businesses.shape"
   ]
  },
  {
   "cell_type": "code",
   "execution_count": 35,
   "metadata": {},
   "outputs": [],
   "source": [
    "wards_businesses_merge = wards.merge(wards_businesses, on='ward', suffixes=('_wards','_buissiness'))"
   ]
  },
  {
   "cell_type": "code",
   "execution_count": 36,
   "metadata": {},
   "outputs": [
    {
     "data": {
      "text/html": [
       "<div>\n",
       "<style scoped>\n",
       "    .dataframe tbody tr th:only-of-type {\n",
       "        vertical-align: middle;\n",
       "    }\n",
       "\n",
       "    .dataframe tbody tr th {\n",
       "        vertical-align: top;\n",
       "    }\n",
       "\n",
       "    .dataframe thead th {\n",
       "        text-align: right;\n",
       "    }\n",
       "</style>\n",
       "<table border=\"1\" class=\"dataframe\">\n",
       "  <thead>\n",
       "    <tr style=\"text-align: right;\">\n",
       "      <th></th>\n",
       "      <th>ward</th>\n",
       "      <th>alderman</th>\n",
       "      <th>address_wards</th>\n",
       "      <th>zipcode</th>\n",
       "      <th>account number</th>\n",
       "      <th>license number</th>\n",
       "      <th>legal name</th>\n",
       "      <th>address_buissiness</th>\n",
       "      <th>zip code</th>\n",
       "    </tr>\n",
       "  </thead>\n",
       "  <tbody>\n",
       "    <tr>\n",
       "      <th>150</th>\n",
       "      <td>1</td>\n",
       "      <td>La Spata, Daniel</td>\n",
       "      <td>1958 North Milwaukee Avenue</td>\n",
       "      <td>60647</td>\n",
       "      <td>385905</td>\n",
       "      <td>2822277</td>\n",
       "      <td>Patrick Markham</td>\n",
       "      <td>2439 W FULLERTON AVE</td>\n",
       "      <td>60647</td>\n",
       "    </tr>\n",
       "    <tr>\n",
       "      <th>151</th>\n",
       "      <td>1</td>\n",
       "      <td>La Spata, Daniel</td>\n",
       "      <td>1958 North Milwaukee Avenue</td>\n",
       "      <td>60647</td>\n",
       "      <td>477200</td>\n",
       "      <td>2802928</td>\n",
       "      <td>CHICAGO MAKERS POP UP LLC</td>\n",
       "      <td>1821 W CHICAGO AVE</td>\n",
       "      <td>60622</td>\n",
       "    </tr>\n",
       "    <tr>\n",
       "      <th>152</th>\n",
       "      <td>1</td>\n",
       "      <td>La Spata, Daniel</td>\n",
       "      <td>1958 North Milwaukee Avenue</td>\n",
       "      <td>60647</td>\n",
       "      <td>203814</td>\n",
       "      <td>2812570</td>\n",
       "      <td>CHIPP INN, INC.</td>\n",
       "      <td>832 N GREENVIEW AVE SIDEWALK</td>\n",
       "      <td>60642</td>\n",
       "    </tr>\n",
       "    <tr>\n",
       "      <th>153</th>\n",
       "      <td>1</td>\n",
       "      <td>La Spata, Daniel</td>\n",
       "      <td>1958 North Milwaukee Avenue</td>\n",
       "      <td>60647</td>\n",
       "      <td>15848</td>\n",
       "      <td>2812560</td>\n",
       "      <td>FIGUEROA BAR, INC.</td>\n",
       "      <td>1958 W HURON ST</td>\n",
       "      <td>60622</td>\n",
       "    </tr>\n",
       "    <tr>\n",
       "      <th>154</th>\n",
       "      <td>1</td>\n",
       "      <td>La Spata, Daniel</td>\n",
       "      <td>1958 North Milwaukee Avenue</td>\n",
       "      <td>60647</td>\n",
       "      <td>377484</td>\n",
       "      <td>2797224</td>\n",
       "      <td>YUM DUM INC.</td>\n",
       "      <td>1420 N WOOD ST</td>\n",
       "      <td>60622</td>\n",
       "    </tr>\n",
       "    <tr>\n",
       "      <th>...</th>\n",
       "      <td>...</td>\n",
       "      <td>...</td>\n",
       "      <td>...</td>\n",
       "      <td>...</td>\n",
       "      <td>...</td>\n",
       "      <td>...</td>\n",
       "      <td>...</td>\n",
       "      <td>...</td>\n",
       "      <td>...</td>\n",
       "    </tr>\n",
       "    <tr>\n",
       "      <th>19</th>\n",
       "      <td>48</td>\n",
       "      <td>Osterman, Harry</td>\n",
       "      <td>5533 North Broadway</td>\n",
       "      <td>60640</td>\n",
       "      <td>3649</td>\n",
       "      <td>2802977</td>\n",
       "      <td>BROADWAY JOE'S INC</td>\n",
       "      <td>6036 N BROADWAY</td>\n",
       "      <td>60660</td>\n",
       "    </tr>\n",
       "    <tr>\n",
       "      <th>165</th>\n",
       "      <td>49</td>\n",
       "      <td>Hadden, Maria E.</td>\n",
       "      <td>1447 West Morse Avenue</td>\n",
       "      <td>60626</td>\n",
       "      <td>299612</td>\n",
       "      <td>2803847</td>\n",
       "      <td>LAPDOG, INC.</td>\n",
       "      <td>1508 W JARVIS AVE</td>\n",
       "      <td>60626</td>\n",
       "    </tr>\n",
       "    <tr>\n",
       "      <th>164</th>\n",
       "      <td>49</td>\n",
       "      <td>Hadden, Maria E.</td>\n",
       "      <td>1447 West Morse Avenue</td>\n",
       "      <td>60626</td>\n",
       "      <td>36746</td>\n",
       "      <td>2803812</td>\n",
       "      <td>STINDLE, INC.</td>\n",
       "      <td>1500-1524 W JARVIS AVE</td>\n",
       "      <td>60626</td>\n",
       "    </tr>\n",
       "    <tr>\n",
       "      <th>166</th>\n",
       "      <td>49</td>\n",
       "      <td>Hadden, Maria E.</td>\n",
       "      <td>1447 West Morse Avenue</td>\n",
       "      <td>60626</td>\n",
       "      <td>313311</td>\n",
       "      <td>2803844</td>\n",
       "      <td>FLANGELATO, LLC</td>\n",
       "      <td>1500-1524 W JARVIS AVE</td>\n",
       "      <td>60626</td>\n",
       "    </tr>\n",
       "    <tr>\n",
       "      <th>176</th>\n",
       "      <td>50</td>\n",
       "      <td>Silverstein, Debra L.</td>\n",
       "      <td>2949 West Devon Avenue</td>\n",
       "      <td>60659</td>\n",
       "      <td>465176</td>\n",
       "      <td>2708649</td>\n",
       "      <td>BAWARCHI ON OAKLEY INC.</td>\n",
       "      <td>6406-6408 N OAKLEY AVE</td>\n",
       "      <td>60645</td>\n",
       "    </tr>\n",
       "  </tbody>\n",
       "</table>\n",
       "<p>267 rows × 9 columns</p>\n",
       "</div>"
      ],
      "text/plain": [
       "     ward               alderman                address_wards  zipcode  \\\n",
       "150     1       La Spata, Daniel  1958 North Milwaukee Avenue    60647   \n",
       "151     1       La Spata, Daniel  1958 North Milwaukee Avenue    60647   \n",
       "152     1       La Spata, Daniel  1958 North Milwaukee Avenue    60647   \n",
       "153     1       La Spata, Daniel  1958 North Milwaukee Avenue    60647   \n",
       "154     1       La Spata, Daniel  1958 North Milwaukee Avenue    60647   \n",
       "..    ...                    ...                          ...      ...   \n",
       "19     48        Osterman, Harry          5533 North Broadway    60640   \n",
       "165    49       Hadden, Maria E.       1447 West Morse Avenue    60626   \n",
       "164    49       Hadden, Maria E.       1447 West Morse Avenue    60626   \n",
       "166    49       Hadden, Maria E.       1447 West Morse Avenue    60626   \n",
       "176    50  Silverstein, Debra L.       2949 West Devon Avenue    60659   \n",
       "\n",
       "     account number  license number                 legal name  \\\n",
       "150          385905         2822277            Patrick Markham   \n",
       "151          477200         2802928  CHICAGO MAKERS POP UP LLC   \n",
       "152          203814         2812570            CHIPP INN, INC.   \n",
       "153           15848         2812560         FIGUEROA BAR, INC.   \n",
       "154          377484         2797224               YUM DUM INC.   \n",
       "..              ...             ...                        ...   \n",
       "19             3649         2802977         BROADWAY JOE'S INC   \n",
       "165          299612         2803847               LAPDOG, INC.   \n",
       "164           36746         2803812              STINDLE, INC.   \n",
       "166          313311         2803844            FLANGELATO, LLC   \n",
       "176          465176         2708649    BAWARCHI ON OAKLEY INC.   \n",
       "\n",
       "               address_buissiness  zip code  \n",
       "150          2439 W FULLERTON AVE     60647  \n",
       "151            1821 W CHICAGO AVE     60622  \n",
       "152  832 N GREENVIEW AVE SIDEWALK     60642  \n",
       "153               1958 W HURON ST     60622  \n",
       "154                1420 N WOOD ST     60622  \n",
       "..                            ...       ...  \n",
       "19                6036 N BROADWAY     60660  \n",
       "165             1508 W JARVIS AVE     60626  \n",
       "164        1500-1524 W JARVIS AVE     60626  \n",
       "166        1500-1524 W JARVIS AVE     60626  \n",
       "176        6406-6408 N OAKLEY AVE     60645  \n",
       "\n",
       "[267 rows x 9 columns]"
      ]
     },
     "execution_count": 36,
     "metadata": {},
     "output_type": "execute_result"
    }
   ],
   "source": [
    "wards_businesses_merge.sort_values('ward')"
   ]
  },
  {
   "cell_type": "code",
   "execution_count": 37,
   "metadata": {},
   "outputs": [],
   "source": [
    "wards_businesses.to_csv('/Users/joseservin/DataCamp/Courses/Joining_Data/ward_businesses.csv', index=False)"
   ]
  },
  {
   "cell_type": "markdown",
   "metadata": {},
   "source": [
    "# Mergin Multiple DataFrames"
   ]
  },
  {
   "cell_type": "code",
   "execution_count": 38,
   "metadata": {},
   "outputs": [
    {
     "data": {
      "text/plain": [
       "Index(['address', 'zip code', 'INCENTIVE AMOUNT', 'grant', 'company'], dtype='object')"
      ]
     },
     "execution_count": 38,
     "metadata": {},
     "output_type": "execute_result"
    }
   ],
   "source": [
    "# Introduce business_grants DataFrame\n",
    "business_grants = pd.read_csv('/Users/joseservin/DataCamp/Courses/Joining_Data/business_grants.csv')\n",
    "business_grants.columns"
   ]
  },
  {
   "cell_type": "code",
   "execution_count": 39,
   "metadata": {},
   "outputs": [],
   "source": [
    "business_grants = business_grants[['address','zip code','grant','company']]"
   ]
  },
  {
   "cell_type": "code",
   "execution_count": 40,
   "metadata": {},
   "outputs": [
    {
     "data": {
      "text/plain": [
       "Index(['account number', 'ward', 'license number', 'legal name', 'address',\n",
       "       'zip code'],\n",
       "      dtype='object')"
      ]
     },
     "execution_count": 40,
     "metadata": {},
     "output_type": "execute_result"
    }
   ],
   "source": [
    "wards_businesses.columns"
   ]
  },
  {
   "cell_type": "code",
   "execution_count": 41,
   "metadata": {},
   "outputs": [
    {
     "data": {
      "text/plain": [
       "Index(['ward', 'alderman', 'address', 'zipcode'], dtype='object')"
      ]
     },
     "execution_count": 41,
     "metadata": {},
     "output_type": "execute_result"
    }
   ],
   "source": [
    "wards.columns"
   ]
  },
  {
   "cell_type": "code",
   "execution_count": 42,
   "metadata": {},
   "outputs": [
    {
     "data": {
      "text/html": [
       "<div>\n",
       "<style scoped>\n",
       "    .dataframe tbody tr th:only-of-type {\n",
       "        vertical-align: middle;\n",
       "    }\n",
       "\n",
       "    .dataframe tbody tr th {\n",
       "        vertical-align: top;\n",
       "    }\n",
       "\n",
       "    .dataframe thead th {\n",
       "        text-align: right;\n",
       "    }\n",
       "</style>\n",
       "<table border=\"1\" class=\"dataframe\">\n",
       "  <thead>\n",
       "    <tr style=\"text-align: right;\">\n",
       "      <th></th>\n",
       "      <th>address</th>\n",
       "      <th>zip code</th>\n",
       "      <th>grant</th>\n",
       "      <th>company</th>\n",
       "      <th>account number</th>\n",
       "      <th>ward</th>\n",
       "      <th>license number</th>\n",
       "      <th>legal name</th>\n",
       "    </tr>\n",
       "  </thead>\n",
       "  <tbody>\n",
       "    <tr>\n",
       "      <th>0</th>\n",
       "      <td>150 N MICHIGAN AVE 35TH</td>\n",
       "      <td>60601</td>\n",
       "      <td>150000.00</td>\n",
       "      <td>GERMAN AMERICAN EVENTS, LLC</td>\n",
       "      <td>406944</td>\n",
       "      <td>42</td>\n",
       "      <td>2818099</td>\n",
       "      <td>GERMAN AMERICAN EVENTS, LLC</td>\n",
       "    </tr>\n",
       "    <tr>\n",
       "      <th>1</th>\n",
       "      <td>150 N MICHIGAN AVE 35TH</td>\n",
       "      <td>60601</td>\n",
       "      <td>150000.00</td>\n",
       "      <td>GERMAN AMERICAN EVENTS, LLC</td>\n",
       "      <td>406944</td>\n",
       "      <td>42</td>\n",
       "      <td>2818216</td>\n",
       "      <td>GERMAN AMERICAN EVENTS, LLC</td>\n",
       "    </tr>\n",
       "    <tr>\n",
       "      <th>2</th>\n",
       "      <td>150 N MICHIGAN AVE 35TH</td>\n",
       "      <td>60601</td>\n",
       "      <td>117072.04</td>\n",
       "      <td>GERMAN AMERICAN EVENTS, LLC</td>\n",
       "      <td>406944</td>\n",
       "      <td>42</td>\n",
       "      <td>2818099</td>\n",
       "      <td>GERMAN AMERICAN EVENTS, LLC</td>\n",
       "    </tr>\n",
       "    <tr>\n",
       "      <th>3</th>\n",
       "      <td>150 N MICHIGAN AVE 35TH</td>\n",
       "      <td>60601</td>\n",
       "      <td>117072.04</td>\n",
       "      <td>GERMAN AMERICAN EVENTS, LLC</td>\n",
       "      <td>406944</td>\n",
       "      <td>42</td>\n",
       "      <td>2818216</td>\n",
       "      <td>GERMAN AMERICAN EVENTS, LLC</td>\n",
       "    </tr>\n",
       "    <tr>\n",
       "      <th>4</th>\n",
       "      <td>50 W WASHINGTON ST</td>\n",
       "      <td>60602</td>\n",
       "      <td>150000.00</td>\n",
       "      <td>THE NOBLE GRAPE CORPORATION</td>\n",
       "      <td>337918</td>\n",
       "      <td>42</td>\n",
       "      <td>2818166</td>\n",
       "      <td>THE NOBLE GRAPE CORPORATION</td>\n",
       "    </tr>\n",
       "    <tr>\n",
       "      <th>...</th>\n",
       "      <td>...</td>\n",
       "      <td>...</td>\n",
       "      <td>...</td>\n",
       "      <td>...</td>\n",
       "      <td>...</td>\n",
       "      <td>...</td>\n",
       "      <td>...</td>\n",
       "      <td>...</td>\n",
       "    </tr>\n",
       "    <tr>\n",
       "      <th>276</th>\n",
       "      <td>6150 S NEENAH AVE 1 1</td>\n",
       "      <td>60638</td>\n",
       "      <td>19500.00</td>\n",
       "      <td>STANISLAW ZALINSKI</td>\n",
       "      <td>306119</td>\n",
       "      <td>13</td>\n",
       "      <td>2207151</td>\n",
       "      <td>STANISLAW ZALINSKI</td>\n",
       "    </tr>\n",
       "    <tr>\n",
       "      <th>277</th>\n",
       "      <td>4912 S CICERO AVE 1ST</td>\n",
       "      <td>60638</td>\n",
       "      <td>50000.00</td>\n",
       "      <td>ALI M AGEL &amp; GERMAN ARGUETA</td>\n",
       "      <td>26906</td>\n",
       "      <td>22</td>\n",
       "      <td>2213934</td>\n",
       "      <td>ALI M AGEL &amp; GERMAN ARGUETA</td>\n",
       "    </tr>\n",
       "    <tr>\n",
       "      <th>278</th>\n",
       "      <td>7634 S BISHOP ST</td>\n",
       "      <td>60620</td>\n",
       "      <td>50000.00</td>\n",
       "      <td>Southside Clothing LLC</td>\n",
       "      <td>463965</td>\n",
       "      <td>17</td>\n",
       "      <td>2698815</td>\n",
       "      <td>Southside Clothing LLC</td>\n",
       "    </tr>\n",
       "    <tr>\n",
       "      <th>279</th>\n",
       "      <td>9150 S PAXTON AVE</td>\n",
       "      <td>60617</td>\n",
       "      <td>100000.00</td>\n",
       "      <td>JAMES R. KING</td>\n",
       "      <td>403109</td>\n",
       "      <td>7</td>\n",
       "      <td>2442462</td>\n",
       "      <td>JAMES R. KING</td>\n",
       "    </tr>\n",
       "    <tr>\n",
       "      <th>280</th>\n",
       "      <td>5788-5790 S ARCHER AVE 1</td>\n",
       "      <td>60638</td>\n",
       "      <td>68149.00</td>\n",
       "      <td>RUDY &amp; ANNA'S LOUNGE, INC.</td>\n",
       "      <td>340031</td>\n",
       "      <td>14</td>\n",
       "      <td>1948617</td>\n",
       "      <td>RUDY &amp; ANNA'S LOUNGE, INC.</td>\n",
       "    </tr>\n",
       "  </tbody>\n",
       "</table>\n",
       "<p>281 rows × 8 columns</p>\n",
       "</div>"
      ],
      "text/plain": [
       "                      address  zip code      grant  \\\n",
       "0     150 N MICHIGAN AVE 35TH     60601  150000.00   \n",
       "1     150 N MICHIGAN AVE 35TH     60601  150000.00   \n",
       "2     150 N MICHIGAN AVE 35TH     60601  117072.04   \n",
       "3     150 N MICHIGAN AVE 35TH     60601  117072.04   \n",
       "4          50 W WASHINGTON ST     60602  150000.00   \n",
       "..                        ...       ...        ...   \n",
       "276     6150 S NEENAH AVE 1 1     60638   19500.00   \n",
       "277     4912 S CICERO AVE 1ST     60638   50000.00   \n",
       "278          7634 S BISHOP ST     60620   50000.00   \n",
       "279         9150 S PAXTON AVE     60617  100000.00   \n",
       "280  5788-5790 S ARCHER AVE 1     60638   68149.00   \n",
       "\n",
       "                         company  account number  ward  license number  \\\n",
       "0    GERMAN AMERICAN EVENTS, LLC          406944    42         2818099   \n",
       "1    GERMAN AMERICAN EVENTS, LLC          406944    42         2818216   \n",
       "2    GERMAN AMERICAN EVENTS, LLC          406944    42         2818099   \n",
       "3    GERMAN AMERICAN EVENTS, LLC          406944    42         2818216   \n",
       "4    THE NOBLE GRAPE CORPORATION          337918    42         2818166   \n",
       "..                           ...             ...   ...             ...   \n",
       "276           STANISLAW ZALINSKI          306119    13         2207151   \n",
       "277  ALI M AGEL & GERMAN ARGUETA           26906    22         2213934   \n",
       "278       Southside Clothing LLC          463965    17         2698815   \n",
       "279                JAMES R. KING          403109     7         2442462   \n",
       "280   RUDY & ANNA'S LOUNGE, INC.          340031    14         1948617   \n",
       "\n",
       "                      legal name  \n",
       "0    GERMAN AMERICAN EVENTS, LLC  \n",
       "1    GERMAN AMERICAN EVENTS, LLC  \n",
       "2    GERMAN AMERICAN EVENTS, LLC  \n",
       "3    GERMAN AMERICAN EVENTS, LLC  \n",
       "4    THE NOBLE GRAPE CORPORATION  \n",
       "..                           ...  \n",
       "276           STANISLAW ZALINSKI  \n",
       "277  ALI M AGEL & GERMAN ARGUETA  \n",
       "278       Southside Clothing LLC  \n",
       "279                JAMES R. KING  \n",
       "280   RUDY & ANNA'S LOUNGE, INC.  \n",
       "\n",
       "[281 rows x 8 columns]"
      ]
     },
     "execution_count": 42,
     "metadata": {},
     "output_type": "execute_result"
    }
   ],
   "source": [
    "business_grants.merge(wards_businesses, on=['address','zip code'])"
   ]
  },
  {
   "cell_type": "code",
   "execution_count": 43,
   "metadata": {},
   "outputs": [],
   "source": [
    "grants_licenses_ward = business_grants.merge(wards_businesses, on=['address','zip code']) \\\n",
    "    .merge(wards, on='ward', suffixes = ('_bus','_ward'))"
   ]
  },
  {
   "cell_type": "code",
   "execution_count": 44,
   "metadata": {},
   "outputs": [
    {
     "data": {
      "text/plain": [
       "(281, 11)"
      ]
     },
     "execution_count": 44,
     "metadata": {},
     "output_type": "execute_result"
    }
   ],
   "source": [
    "grants_licenses_ward.shape"
   ]
  },
  {
   "cell_type": "code",
   "execution_count": 45,
   "metadata": {},
   "outputs": [
    {
     "data": {
      "text/plain": [
       "address_bus        object\n",
       "zip code            int64\n",
       "grant             float64\n",
       "company            object\n",
       "account number      int64\n",
       "ward                int64\n",
       "license number      int64\n",
       "legal name         object\n",
       "alderman           object\n",
       "address_ward       object\n",
       "zipcode             int64\n",
       "dtype: object"
      ]
     },
     "execution_count": 45,
     "metadata": {},
     "output_type": "execute_result"
    }
   ],
   "source": [
    "grants_licenses_ward.dtypes"
   ]
  },
  {
   "cell_type": "markdown",
   "metadata": {},
   "source": [
    "# Final Data Cleaning needed for plot"
   ]
  },
  {
   "cell_type": "code",
   "execution_count": 46,
   "metadata": {},
   "outputs": [],
   "source": [
    "grants_licenses_ward['zip code'] = grants_licenses_ward['zip code'].astype(object)"
   ]
  },
  {
   "cell_type": "code",
   "execution_count": 47,
   "metadata": {},
   "outputs": [],
   "source": [
    "grants_licenses_ward['account number'] = grants_licenses_ward['account number'].astype(object)"
   ]
  },
  {
   "cell_type": "code",
   "execution_count": 48,
   "metadata": {},
   "outputs": [],
   "source": [
    "grants_licenses_ward['zipcode'] = grants_licenses_ward['zipcode'].astype(object)"
   ]
  },
  {
   "cell_type": "code",
   "execution_count": 49,
   "metadata": {},
   "outputs": [],
   "source": [
    "grants_licenses_ward['license number'] = grants_licenses_ward['license number'].astype(object)"
   ]
  },
  {
   "cell_type": "code",
   "execution_count": 50,
   "metadata": {},
   "outputs": [
    {
     "data": {
      "text/plain": [
       "<AxesSubplot:xlabel='ward'>"
      ]
     },
     "execution_count": 50,
     "metadata": {},
     "output_type": "execute_result"
    },
    {
     "data": {
      "image/png": "[encoded data removed]",
      "text/plain": [
       "<Figure size 432x288 with 1 Axes>"
      ]
     },
     "metadata": {
      "needs_background": "light"
     },
     "output_type": "display_data"
    }
   ],
   "source": [
    "grants_licenses_ward.groupby('ward').agg('sum').plot(kind='bar')"
   ]
  },
  {
   "cell_type": "markdown",
   "metadata": {},
   "source": [
    "#### \n",
    "df1.merge(df2, on'col') \\ \n",
    "    .merge(df3, on'col')"
   ]
  },
  {
   "cell_type": "markdown",
   "metadata": {},
   "source": [
    "# Left Join"
   ]
  },
  {
   "cell_type": "code",
   "execution_count": 55,
   "metadata": {},
   "outputs": [
    {
     "data": {
      "text/plain": [
       "Index(['account number', 'ward', 'license number', 'legal name', 'address',\n",
       "       'zip code'],\n",
       "      dtype='object')"
      ]
     },
     "execution_count": 55,
     "metadata": {},
     "output_type": "execute_result"
    }
   ],
   "source": [
    "wards_businesses.columns"
   ]
  },
  {
   "cell_type": "code",
   "execution_count": 59,
   "metadata": {},
   "outputs": [
    {
     "data": {
      "text/plain": [
       "Index(['ward', 'alderman', 'address', 'zipcode'], dtype='object')"
      ]
     },
     "execution_count": 59,
     "metadata": {},
     "output_type": "execute_result"
    }
   ],
   "source": [
    "wards.columns"
   ]
  },
  {
   "cell_type": "code",
   "execution_count": 62,
   "metadata": {},
   "outputs": [
    {
     "data": {
      "text/html": [
       "<div>\n",
       "<style scoped>\n",
       "    .dataframe tbody tr th:only-of-type {\n",
       "        vertical-align: middle;\n",
       "    }\n",
       "\n",
       "    .dataframe tbody tr th {\n",
       "        vertical-align: top;\n",
       "    }\n",
       "\n",
       "    .dataframe thead th {\n",
       "        text-align: right;\n",
       "    }\n",
       "</style>\n",
       "<table border=\"1\" class=\"dataframe\">\n",
       "  <thead>\n",
       "    <tr style=\"text-align: right;\">\n",
       "      <th></th>\n",
       "      <th>ward</th>\n",
       "      <th>alderman</th>\n",
       "      <th>address_x</th>\n",
       "      <th>zipcode</th>\n",
       "      <th>account number</th>\n",
       "      <th>license number</th>\n",
       "      <th>legal name</th>\n",
       "      <th>address_y</th>\n",
       "      <th>zip code</th>\n",
       "    </tr>\n",
       "  </thead>\n",
       "  <tbody>\n",
       "    <tr>\n",
       "      <th>0</th>\n",
       "      <td>33</td>\n",
       "      <td>Rodriguez Sanchez, Rossana</td>\n",
       "      <td>3001 West Irving Park Road</td>\n",
       "      <td>60618</td>\n",
       "      <td>454772.0</td>\n",
       "      <td>2636960.0</td>\n",
       "      <td>ALBANY PARK SMOKE SHOP, INC.</td>\n",
       "      <td>4643 N KEDZIE AVE 1ST</td>\n",
       "      <td>60625.0</td>\n",
       "    </tr>\n",
       "    <tr>\n",
       "      <th>1</th>\n",
       "      <td>33</td>\n",
       "      <td>Rodriguez Sanchez, Rossana</td>\n",
       "      <td>3001 West Irving Park Road</td>\n",
       "      <td>60618</td>\n",
       "      <td>421907.0</td>\n",
       "      <td>2560268.0</td>\n",
       "      <td>4225 GIDDINGS INC</td>\n",
       "      <td>4225 N KEDZIE AVE 1</td>\n",
       "      <td>60618.0</td>\n",
       "    </tr>\n",
       "    <tr>\n",
       "      <th>2</th>\n",
       "      <td>17</td>\n",
       "      <td>Moore, David H.</td>\n",
       "      <td>1344 West 79th Street</td>\n",
       "      <td>60636</td>\n",
       "      <td>463965.0</td>\n",
       "      <td>2698815.0</td>\n",
       "      <td>Southside Clothing LLC</td>\n",
       "      <td>7634 S BISHOP ST</td>\n",
       "      <td>60620.0</td>\n",
       "    </tr>\n",
       "    <tr>\n",
       "      <th>3</th>\n",
       "      <td>44</td>\n",
       "      <td>Tunney, Thomas</td>\n",
       "      <td>3223 North Sheffield Avenue, Suite A</td>\n",
       "      <td>60657</td>\n",
       "      <td>385905.0</td>\n",
       "      <td>2822280.0</td>\n",
       "      <td>Patrick Markham</td>\n",
       "      <td>3252 N BROADWAY</td>\n",
       "      <td>60657.0</td>\n",
       "    </tr>\n",
       "    <tr>\n",
       "      <th>4</th>\n",
       "      <td>44</td>\n",
       "      <td>Tunney, Thomas</td>\n",
       "      <td>3223 North Sheffield Avenue, Suite A</td>\n",
       "      <td>60657</td>\n",
       "      <td>345964.0</td>\n",
       "      <td>2797838.0</td>\n",
       "      <td>DS CANTINA, INC.</td>\n",
       "      <td>3350 N HALSTED ST</td>\n",
       "      <td>60657.0</td>\n",
       "    </tr>\n",
       "    <tr>\n",
       "      <th>...</th>\n",
       "      <td>...</td>\n",
       "      <td>...</td>\n",
       "      <td>...</td>\n",
       "      <td>...</td>\n",
       "      <td>...</td>\n",
       "      <td>...</td>\n",
       "      <td>...</td>\n",
       "      <td>...</td>\n",
       "      <td>...</td>\n",
       "    </tr>\n",
       "    <tr>\n",
       "      <th>265</th>\n",
       "      <td>25</td>\n",
       "      <td>Sigcho-Lopez, Byron</td>\n",
       "      <td>1645 South Blue Island Avenue</td>\n",
       "      <td>60608</td>\n",
       "      <td>49826.0</td>\n",
       "      <td>2812562.0</td>\n",
       "      <td>AMERICA BUSINESS COLLEGE INC.</td>\n",
       "      <td>2530 S ARTESIAN AVE</td>\n",
       "      <td>60608.0</td>\n",
       "    </tr>\n",
       "    <tr>\n",
       "      <th>266</th>\n",
       "      <td>25</td>\n",
       "      <td>Sigcho-Lopez, Byron</td>\n",
       "      <td>1645 South Blue Island Avenue</td>\n",
       "      <td>60608</td>\n",
       "      <td>314119.0</td>\n",
       "      <td>1801089.0</td>\n",
       "      <td>F &amp; B FOOD MART, LLC</td>\n",
       "      <td>2403 S BLUE ISLAND AVE</td>\n",
       "      <td>60608.0</td>\n",
       "    </tr>\n",
       "    <tr>\n",
       "      <th>267</th>\n",
       "      <td>25</td>\n",
       "      <td>Sigcho-Lopez, Byron</td>\n",
       "      <td>1645 South Blue Island Avenue</td>\n",
       "      <td>60608</td>\n",
       "      <td>357932.0</td>\n",
       "      <td>2073814.0</td>\n",
       "      <td>BLUE ISLAND ENTERPRISES, INC.</td>\n",
       "      <td>2578-2584 S BLUE ISLAND AVE 1</td>\n",
       "      <td>60608.0</td>\n",
       "    </tr>\n",
       "    <tr>\n",
       "      <th>268</th>\n",
       "      <td>25</td>\n",
       "      <td>Sigcho-Lopez, Byron</td>\n",
       "      <td>1645 South Blue Island Avenue</td>\n",
       "      <td>60608</td>\n",
       "      <td>367395.0</td>\n",
       "      <td>2192808.0</td>\n",
       "      <td>LUXOTTICA OF AMERICA INC.</td>\n",
       "      <td>1101 W JACKSON BLVD 1</td>\n",
       "      <td>60607.0</td>\n",
       "    </tr>\n",
       "    <tr>\n",
       "      <th>269</th>\n",
       "      <td>25</td>\n",
       "      <td>Sigcho-Lopez, Byron</td>\n",
       "      <td>1645 South Blue Island Avenue</td>\n",
       "      <td>60608</td>\n",
       "      <td>5273.0</td>\n",
       "      <td>2232478.0</td>\n",
       "      <td>ALDI INC.</td>\n",
       "      <td>1739 W CERMAK RD  1ST 6</td>\n",
       "      <td>60608.0</td>\n",
       "    </tr>\n",
       "  </tbody>\n",
       "</table>\n",
       "<p>270 rows × 9 columns</p>\n",
       "</div>"
      ],
      "text/plain": [
       "     ward                    alderman                             address_x  \\\n",
       "0      33  Rodriguez Sanchez, Rossana            3001 West Irving Park Road   \n",
       "1      33  Rodriguez Sanchez, Rossana            3001 West Irving Park Road   \n",
       "2      17             Moore, David H.                 1344 West 79th Street   \n",
       "3      44              Tunney, Thomas  3223 North Sheffield Avenue, Suite A   \n",
       "4      44              Tunney, Thomas  3223 North Sheffield Avenue, Suite A   \n",
       "..    ...                         ...                                   ...   \n",
       "265    25         Sigcho-Lopez, Byron         1645 South Blue Island Avenue   \n",
       "266    25         Sigcho-Lopez, Byron         1645 South Blue Island Avenue   \n",
       "267    25         Sigcho-Lopez, Byron         1645 South Blue Island Avenue   \n",
       "268    25         Sigcho-Lopez, Byron         1645 South Blue Island Avenue   \n",
       "269    25         Sigcho-Lopez, Byron         1645 South Blue Island Avenue   \n",
       "\n",
       "     zipcode  account number  license number                     legal name  \\\n",
       "0      60618        454772.0       2636960.0   ALBANY PARK SMOKE SHOP, INC.   \n",
       "1      60618        421907.0       2560268.0              4225 GIDDINGS INC   \n",
       "2      60636        463965.0       2698815.0         Southside Clothing LLC   \n",
       "3      60657        385905.0       2822280.0                Patrick Markham   \n",
       "4      60657        345964.0       2797838.0               DS CANTINA, INC.   \n",
       "..       ...             ...             ...                            ...   \n",
       "265    60608         49826.0       2812562.0  AMERICA BUSINESS COLLEGE INC.   \n",
       "266    60608        314119.0       1801089.0           F & B FOOD MART, LLC   \n",
       "267    60608        357932.0       2073814.0  BLUE ISLAND ENTERPRISES, INC.   \n",
       "268    60608        367395.0       2192808.0      LUXOTTICA OF AMERICA INC.   \n",
       "269    60608          5273.0       2232478.0                      ALDI INC.   \n",
       "\n",
       "                         address_y  zip code  \n",
       "0            4643 N KEDZIE AVE 1ST   60625.0  \n",
       "1              4225 N KEDZIE AVE 1   60618.0  \n",
       "2                 7634 S BISHOP ST   60620.0  \n",
       "3                  3252 N BROADWAY   60657.0  \n",
       "4                3350 N HALSTED ST   60657.0  \n",
       "..                             ...       ...  \n",
       "265            2530 S ARTESIAN AVE   60608.0  \n",
       "266         2403 S BLUE ISLAND AVE   60608.0  \n",
       "267  2578-2584 S BLUE ISLAND AVE 1   60608.0  \n",
       "268          1101 W JACKSON BLVD 1   60607.0  \n",
       "269        1739 W CERMAK RD  1ST 6   60608.0  \n",
       "\n",
       "[270 rows x 9 columns]"
      ]
     },
     "execution_count": 62,
     "metadata": {},
     "output_type": "execute_result"
    }
   ],
   "source": [
    "left_merge_df = wards.merge(wards_businesses, on='ward', how='left')\n",
    "left_merge_df"
   ]
  },
  {
   "cell_type": "code",
   "execution_count": 65,
   "metadata": {},
   "outputs": [
    {
     "data": {
      "text/html": [
       "<div>\n",
       "<style scoped>\n",
       "    .dataframe tbody tr th:only-of-type {\n",
       "        vertical-align: middle;\n",
       "    }\n",
       "\n",
       "    .dataframe tbody tr th {\n",
       "        vertical-align: top;\n",
       "    }\n",
       "\n",
       "    .dataframe thead th {\n",
       "        text-align: right;\n",
       "    }\n",
       "</style>\n",
       "<table border=\"1\" class=\"dataframe\">\n",
       "  <thead>\n",
       "    <tr style=\"text-align: right;\">\n",
       "      <th></th>\n",
       "      <th>account number</th>\n",
       "      <th>ward</th>\n",
       "      <th>license number</th>\n",
       "      <th>legal name</th>\n",
       "      <th>address_x</th>\n",
       "      <th>zip code</th>\n",
       "      <th>alderman</th>\n",
       "      <th>address_y</th>\n",
       "      <th>zipcode</th>\n",
       "    </tr>\n",
       "  </thead>\n",
       "  <tbody>\n",
       "    <tr>\n",
       "      <th>0</th>\n",
       "      <td>406944</td>\n",
       "      <td>42</td>\n",
       "      <td>2818099</td>\n",
       "      <td>GERMAN AMERICAN EVENTS, LLC</td>\n",
       "      <td>150 N MICHIGAN AVE 35TH</td>\n",
       "      <td>60601</td>\n",
       "      <td>Reilly, Brendan</td>\n",
       "      <td>121 N LaSalle St</td>\n",
       "      <td>60602</td>\n",
       "    </tr>\n",
       "    <tr>\n",
       "      <th>1</th>\n",
       "      <td>337918</td>\n",
       "      <td>42</td>\n",
       "      <td>2818166</td>\n",
       "      <td>THE NOBLE GRAPE CORPORATION</td>\n",
       "      <td>50 W WASHINGTON ST</td>\n",
       "      <td>60602</td>\n",
       "      <td>Reilly, Brendan</td>\n",
       "      <td>121 N LaSalle St</td>\n",
       "      <td>60602</td>\n",
       "    </tr>\n",
       "    <tr>\n",
       "      <th>2</th>\n",
       "      <td>385905</td>\n",
       "      <td>44</td>\n",
       "      <td>2822280</td>\n",
       "      <td>Patrick Markham</td>\n",
       "      <td>3252 N BROADWAY</td>\n",
       "      <td>60657</td>\n",
       "      <td>Tunney, Thomas</td>\n",
       "      <td>3223 North Sheffield Avenue, Suite A</td>\n",
       "      <td>60657</td>\n",
       "    </tr>\n",
       "    <tr>\n",
       "      <th>3</th>\n",
       "      <td>385905</td>\n",
       "      <td>47</td>\n",
       "      <td>2822276</td>\n",
       "      <td>Patrick Markham</td>\n",
       "      <td>4560 N LINCOLN AVE</td>\n",
       "      <td>60625</td>\n",
       "      <td>Martin, Matthew J.</td>\n",
       "      <td>4243 North Lincoln Avenue</td>\n",
       "      <td>60618</td>\n",
       "    </tr>\n",
       "    <tr>\n",
       "      <th>4</th>\n",
       "      <td>385905</td>\n",
       "      <td>1</td>\n",
       "      <td>2822277</td>\n",
       "      <td>Patrick Markham</td>\n",
       "      <td>2439 W FULLERTON AVE</td>\n",
       "      <td>60647</td>\n",
       "      <td>La Spata, Daniel</td>\n",
       "      <td>1958 North Milwaukee Avenue</td>\n",
       "      <td>60647</td>\n",
       "    </tr>\n",
       "    <tr>\n",
       "      <th>...</th>\n",
       "      <td>...</td>\n",
       "      <td>...</td>\n",
       "      <td>...</td>\n",
       "      <td>...</td>\n",
       "      <td>...</td>\n",
       "      <td>...</td>\n",
       "      <td>...</td>\n",
       "      <td>...</td>\n",
       "      <td>...</td>\n",
       "    </tr>\n",
       "    <tr>\n",
       "      <th>262</th>\n",
       "      <td>306119</td>\n",
       "      <td>13</td>\n",
       "      <td>2207151</td>\n",
       "      <td>STANISLAW ZALINSKI</td>\n",
       "      <td>6150 S NEENAH AVE 1 1</td>\n",
       "      <td>60638</td>\n",
       "      <td>Quinn, Marty</td>\n",
       "      <td>6500 South Pulaski Road</td>\n",
       "      <td>60629</td>\n",
       "    </tr>\n",
       "    <tr>\n",
       "      <th>263</th>\n",
       "      <td>26906</td>\n",
       "      <td>22</td>\n",
       "      <td>2213934</td>\n",
       "      <td>ALI M AGEL &amp; GERMAN ARGUETA</td>\n",
       "      <td>4912 S CICERO AVE 1ST</td>\n",
       "      <td>60638</td>\n",
       "      <td>Rodriguez, Michael D.</td>\n",
       "      <td>2500 South St. Louis Avenue</td>\n",
       "      <td>60623</td>\n",
       "    </tr>\n",
       "    <tr>\n",
       "      <th>264</th>\n",
       "      <td>463965</td>\n",
       "      <td>17</td>\n",
       "      <td>2698815</td>\n",
       "      <td>Southside Clothing LLC</td>\n",
       "      <td>7634 S BISHOP ST</td>\n",
       "      <td>60620</td>\n",
       "      <td>Moore, David H.</td>\n",
       "      <td>1344 West 79th Street</td>\n",
       "      <td>60636</td>\n",
       "    </tr>\n",
       "    <tr>\n",
       "      <th>265</th>\n",
       "      <td>403109</td>\n",
       "      <td>7</td>\n",
       "      <td>2442462</td>\n",
       "      <td>JAMES R. KING</td>\n",
       "      <td>9150 S PAXTON AVE</td>\n",
       "      <td>60617</td>\n",
       "      <td>Mitchell, Gregory I.</td>\n",
       "      <td>2249 East 95th Street</td>\n",
       "      <td>60617</td>\n",
       "    </tr>\n",
       "    <tr>\n",
       "      <th>266</th>\n",
       "      <td>340031</td>\n",
       "      <td>14</td>\n",
       "      <td>1948617</td>\n",
       "      <td>RUDY &amp; ANNA'S LOUNGE, INC.</td>\n",
       "      <td>5788-5790 S ARCHER AVE 1</td>\n",
       "      <td>60638</td>\n",
       "      <td>Burke, Edward M.</td>\n",
       "      <td>2650 West 51st Street</td>\n",
       "      <td>60632</td>\n",
       "    </tr>\n",
       "  </tbody>\n",
       "</table>\n",
       "<p>267 rows × 9 columns</p>\n",
       "</div>"
      ],
      "text/plain": [
       "     account number  ward  license number                   legal name  \\\n",
       "0            406944    42         2818099  GERMAN AMERICAN EVENTS, LLC   \n",
       "1            337918    42         2818166  THE NOBLE GRAPE CORPORATION   \n",
       "2            385905    44         2822280              Patrick Markham   \n",
       "3            385905    47         2822276              Patrick Markham   \n",
       "4            385905     1         2822277              Patrick Markham   \n",
       "..              ...   ...             ...                          ...   \n",
       "262          306119    13         2207151           STANISLAW ZALINSKI   \n",
       "263           26906    22         2213934  ALI M AGEL & GERMAN ARGUETA   \n",
       "264          463965    17         2698815       Southside Clothing LLC   \n",
       "265          403109     7         2442462                JAMES R. KING   \n",
       "266          340031    14         1948617   RUDY & ANNA'S LOUNGE, INC.   \n",
       "\n",
       "                    address_x  zip code               alderman  \\\n",
       "0     150 N MICHIGAN AVE 35TH     60601        Reilly, Brendan   \n",
       "1          50 W WASHINGTON ST     60602        Reilly, Brendan   \n",
       "2             3252 N BROADWAY     60657         Tunney, Thomas   \n",
       "3          4560 N LINCOLN AVE     60625     Martin, Matthew J.   \n",
       "4        2439 W FULLERTON AVE     60647       La Spata, Daniel   \n",
       "..                        ...       ...                    ...   \n",
       "262     6150 S NEENAH AVE 1 1     60638           Quinn, Marty   \n",
       "263     4912 S CICERO AVE 1ST     60638  Rodriguez, Michael D.   \n",
       "264          7634 S BISHOP ST     60620        Moore, David H.   \n",
       "265         9150 S PAXTON AVE     60617   Mitchell, Gregory I.   \n",
       "266  5788-5790 S ARCHER AVE 1     60638       Burke, Edward M.   \n",
       "\n",
       "                                address_y  zipcode  \n",
       "0                        121 N LaSalle St    60602  \n",
       "1                        121 N LaSalle St    60602  \n",
       "2    3223 North Sheffield Avenue, Suite A    60657  \n",
       "3               4243 North Lincoln Avenue    60618  \n",
       "4             1958 North Milwaukee Avenue    60647  \n",
       "..                                    ...      ...  \n",
       "262               6500 South Pulaski Road    60629  \n",
       "263           2500 South St. Louis Avenue    60623  \n",
       "264                 1344 West 79th Street    60636  \n",
       "265                 2249 East 95th Street    60617  \n",
       "266                 2650 West 51st Street    60632  \n",
       "\n",
       "[267 rows x 9 columns]"
      ]
     },
     "execution_count": 65,
     "metadata": {},
     "output_type": "execute_result"
    }
   ],
   "source": [
    "left_merge_df_2 = wards_businesses.merge(wards, on='ward', how='left')\n",
    "left_merge_df_2"
   ]
  },
  {
   "cell_type": "code",
   "execution_count": null,
   "metadata": {},
   "outputs": [],
   "source": []
  }
 ],
 "metadata": {
  "interpreter": {
   "hash": "aee8b7b246df8f9039afb4144a1f6fd8d2ca17a180786b69acc140d282b71a49"
  },
  "kernelspec": {
   "display_name": "Python 3.9.9 64-bit",
   "language": "python",
   "name": "python3"
  },
  "language_info": {
   "codemirror_mode": {
    "name": "ipython",
    "version": 3
   },
   "file_extension": ".py",
   "mimetype": "text/x-python",
   "name": "python",
   "nbconvert_exporter": "python",
   "pygments_lexer": "ipython3",
   "version": "3.9.9"
  },
  "orig_nbformat": 4
 },
 "nbformat": 4,
 "nbformat_minor": 2
}
