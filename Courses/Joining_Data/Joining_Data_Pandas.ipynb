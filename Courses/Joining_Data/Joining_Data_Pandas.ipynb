{
 "cells": [
  {
   "cell_type": "markdown",
   "metadata": {},
   "source": [
    "# Subject: Joining Data\n",
    "\n",
    "## Jose Servin\n",
    "\n",
    "### Data used: https://www.chicago.gov/city/en/depts/other/dataset/wards.html"
   ]
  },
  {
   "cell_type": "code",
   "execution_count": 61,
   "metadata": {},
   "outputs": [],
   "source": [
    "import pandas as pd\n",
    "import numpy as np\n",
    "import matplotlib.pyplot as plt\n",
    "import plotly.express as px"
   ]
  },
  {
   "cell_type": "markdown",
   "metadata": {},
   "source": [
    "# Importing data and DF definition"
   ]
  },
  {
   "cell_type": "code",
   "execution_count": 62,
   "metadata": {},
   "outputs": [
    {
     "data": {
      "text/html": [
       "<div>\n",
       "<style scoped>\n",
       "    .dataframe tbody tr th:only-of-type {\n",
       "        vertical-align: middle;\n",
       "    }\n",
       "\n",
       "    .dataframe tbody tr th {\n",
       "        vertical-align: top;\n",
       "    }\n",
       "\n",
       "    .dataframe thead th {\n",
       "        text-align: right;\n",
       "    }\n",
       "</style>\n",
       "<table border=\"1\" class=\"dataframe\">\n",
       "  <thead>\n",
       "    <tr style=\"text-align: right;\">\n",
       "      <th></th>\n",
       "      <th>ward</th>\n",
       "      <th>alderman</th>\n",
       "      <th>address</th>\n",
       "      <th>zipcode</th>\n",
       "    </tr>\n",
       "  </thead>\n",
       "  <tbody>\n",
       "    <tr>\n",
       "      <th>0</th>\n",
       "      <td>33</td>\n",
       "      <td>Rodriguez Sanchez, Rossana</td>\n",
       "      <td>3001 West Irving Park Road</td>\n",
       "      <td>60618</td>\n",
       "    </tr>\n",
       "    <tr>\n",
       "      <th>1</th>\n",
       "      <td>17</td>\n",
       "      <td>Moore, David H.</td>\n",
       "      <td>1344 West 79th Street</td>\n",
       "      <td>60636</td>\n",
       "    </tr>\n",
       "    <tr>\n",
       "      <th>2</th>\n",
       "      <td>44</td>\n",
       "      <td>Tunney, Thomas</td>\n",
       "      <td>3223 North Sheffield Avenue, Suite A</td>\n",
       "      <td>60657</td>\n",
       "    </tr>\n",
       "    <tr>\n",
       "      <th>3</th>\n",
       "      <td>37</td>\n",
       "      <td>Mitts, Emma</td>\n",
       "      <td>5344 West North Avenue</td>\n",
       "      <td>60651</td>\n",
       "    </tr>\n",
       "    <tr>\n",
       "      <th>4</th>\n",
       "      <td>4</td>\n",
       "      <td>King, Sophia D.</td>\n",
       "      <td>435 East 35th Street</td>\n",
       "      <td>60616</td>\n",
       "    </tr>\n",
       "  </tbody>\n",
       "</table>\n",
       "</div>"
      ],
      "text/plain": [
       "   ward                    alderman                               address  \\\n",
       "0    33  Rodriguez Sanchez, Rossana            3001 West Irving Park Road   \n",
       "1    17             Moore, David H.                 1344 West 79th Street   \n",
       "2    44              Tunney, Thomas  3223 North Sheffield Avenue, Suite A   \n",
       "3    37                 Mitts, Emma                5344 West North Avenue   \n",
       "4     4             King, Sophia D.                  435 East 35th Street   \n",
       "\n",
       "   zipcode  \n",
       "0    60618  \n",
       "1    60636  \n",
       "2    60657  \n",
       "3    60651  \n",
       "4    60616  "
      ]
     },
     "execution_count": 62,
     "metadata": {},
     "output_type": "execute_result"
    }
   ],
   "source": [
    "wards = pd.read_csv('/Users/joseservin/DataCamp/Courses/Joining_Data/Ward_Offices.csv')\n",
    "wards = wards[['WARD', 'ALDERMAN', 'ADDRESS','ZIPCODE']].copy()\n",
    "wards.columns = [x.lower() for x in wards.columns]\n",
    "wards.head()\n"
   ]
  },
  {
   "cell_type": "code",
   "execution_count": 63,
   "metadata": {},
   "outputs": [
    {
     "data": {
      "text/plain": [
       "ward         int64\n",
       "alderman    object\n",
       "address     object\n",
       "zipcode      int64\n",
       "dtype: object"
      ]
     },
     "execution_count": 63,
     "metadata": {},
     "output_type": "execute_result"
    }
   ],
   "source": [
    "wards.dtypes"
   ]
  },
  {
   "cell_type": "code",
   "execution_count": 64,
   "metadata": {},
   "outputs": [
    {
     "data": {
      "text/html": [
       "<div>\n",
       "<style scoped>\n",
       "    .dataframe tbody tr th:only-of-type {\n",
       "        vertical-align: middle;\n",
       "    }\n",
       "\n",
       "    .dataframe tbody tr th {\n",
       "        vertical-align: top;\n",
       "    }\n",
       "\n",
       "    .dataframe thead th {\n",
       "        text-align: right;\n",
       "    }\n",
       "</style>\n",
       "<table border=\"1\" class=\"dataframe\">\n",
       "  <thead>\n",
       "    <tr style=\"text-align: right;\">\n",
       "      <th></th>\n",
       "      <th>ward</th>\n",
       "      <th>pop_2010</th>\n",
       "      <th>pop_2016</th>\n",
       "      <th>pct_change</th>\n",
       "      <th>address</th>\n",
       "      <th>zip_code</th>\n",
       "    </tr>\n",
       "  </thead>\n",
       "  <tbody>\n",
       "    <tr>\n",
       "      <th>0</th>\n",
       "      <td>1</td>\n",
       "      <td>56,149</td>\n",
       "      <td>56,661</td>\n",
       "      <td>1%</td>\n",
       "      <td>1958 North Milwaukee Avenue</td>\n",
       "      <td>60647</td>\n",
       "    </tr>\n",
       "    <tr>\n",
       "      <th>1</th>\n",
       "      <td>2</td>\n",
       "      <td>55,805</td>\n",
       "      <td>57,705</td>\n",
       "      <td>3%</td>\n",
       "      <td>1400 North Ashland Avenue</td>\n",
       "      <td>60622</td>\n",
       "    </tr>\n",
       "    <tr>\n",
       "      <th>2</th>\n",
       "      <td>3</td>\n",
       "      <td>53,039</td>\n",
       "      <td>55,763</td>\n",
       "      <td>5%</td>\n",
       "      <td>5046 South State Street</td>\n",
       "      <td>60609</td>\n",
       "    </tr>\n",
       "    <tr>\n",
       "      <th>3</th>\n",
       "      <td>4</td>\n",
       "      <td>54,589</td>\n",
       "      <td>57,301</td>\n",
       "      <td>5%</td>\n",
       "      <td>435 East 35th Street</td>\n",
       "      <td>60616</td>\n",
       "    </tr>\n",
       "    <tr>\n",
       "      <th>4</th>\n",
       "      <td>5</td>\n",
       "      <td>51,455</td>\n",
       "      <td>52,073</td>\n",
       "      <td>1%</td>\n",
       "      <td>2325 East 71st Street</td>\n",
       "      <td>60649</td>\n",
       "    </tr>\n",
       "  </tbody>\n",
       "</table>\n",
       "</div>"
      ],
      "text/plain": [
       "   ward pop_2010 pop_2016 pct_change                      address  zip_code\n",
       "0     1   56,149   56,661         1%  1958 North Milwaukee Avenue     60647\n",
       "1     2   55,805   57,705         3%    1400 North Ashland Avenue     60622\n",
       "2     3   53,039   55,763         5%      5046 South State Street     60609\n",
       "3     4   54,589   57,301         5%         435 East 35th Street     60616\n",
       "4     5   51,455   52,073         1%        2325 East 71st Street     60649"
      ]
     },
     "execution_count": 64,
     "metadata": {},
     "output_type": "execute_result"
    }
   ],
   "source": [
    "census = pd.read_csv('/Users/joseservin/DataCamp/Courses/Joining_Data/ward_population.csv')\n",
    "census.head()"
   ]
  },
  {
   "cell_type": "code",
   "execution_count": 65,
   "metadata": {},
   "outputs": [
    {
     "data": {
      "text/plain": [
       "ward           int64\n",
       "pop_2010      object\n",
       "pop_2016      object\n",
       "pct_change    object\n",
       "address       object\n",
       "zip_code       int64\n",
       "dtype: object"
      ]
     },
     "execution_count": 65,
     "metadata": {},
     "output_type": "execute_result"
    }
   ],
   "source": [
    "census.dtypes"
   ]
  },
  {
   "cell_type": "code",
   "execution_count": 66,
   "metadata": {},
   "outputs": [],
   "source": [
    "census['ward'] = census['ward'].astype(int)\n"
   ]
  },
  {
   "cell_type": "code",
   "execution_count": 67,
   "metadata": {},
   "outputs": [
    {
     "data": {
      "text/plain": [
       "ward           int64\n",
       "pop_2010      object\n",
       "pop_2016      object\n",
       "pct_change    object\n",
       "address       object\n",
       "zip_code       int64\n",
       "dtype: object"
      ]
     },
     "execution_count": 67,
     "metadata": {},
     "output_type": "execute_result"
    }
   ],
   "source": [
    "census.dtypes"
   ]
  },
  {
   "cell_type": "code",
   "execution_count": 68,
   "metadata": {},
   "outputs": [],
   "source": [
    "census['pop_2010'] = census['pop_2010'].apply(lambda x: int(x.split()[0].replace(',', '')))"
   ]
  },
  {
   "cell_type": "code",
   "execution_count": 69,
   "metadata": {},
   "outputs": [
    {
     "data": {
      "text/plain": [
       "ward           int64\n",
       "pop_2010       int64\n",
       "pop_2016      object\n",
       "pct_change    object\n",
       "address       object\n",
       "zip_code       int64\n",
       "dtype: object"
      ]
     },
     "execution_count": 69,
     "metadata": {},
     "output_type": "execute_result"
    }
   ],
   "source": [
    "census.dtypes"
   ]
  },
  {
   "cell_type": "code",
   "execution_count": 70,
   "metadata": {},
   "outputs": [],
   "source": [
    "census['pop_2016'] = census['pop_2016'].apply(lambda x: int(x.split()[0].replace(',', '')))"
   ]
  },
  {
   "cell_type": "code",
   "execution_count": 71,
   "metadata": {},
   "outputs": [
    {
     "data": {
      "text/plain": [
       "ward           int64\n",
       "pop_2010       int64\n",
       "pop_2016       int64\n",
       "pct_change    object\n",
       "address       object\n",
       "zip_code       int64\n",
       "dtype: object"
      ]
     },
     "execution_count": 71,
     "metadata": {},
     "output_type": "execute_result"
    }
   ],
   "source": [
    "census.dtypes"
   ]
  },
  {
   "cell_type": "code",
   "execution_count": 72,
   "metadata": {},
   "outputs": [],
   "source": [
    "census['pct_change'] = census['pct_change'].str.rstrip('%').astype('float') / 100.0\n"
   ]
  },
  {
   "cell_type": "code",
   "execution_count": 73,
   "metadata": {},
   "outputs": [
    {
     "data": {
      "text/plain": [
       "ward            int64\n",
       "pop_2010        int64\n",
       "pop_2016        int64\n",
       "pct_change    float64\n",
       "address        object\n",
       "zip_code        int64\n",
       "dtype: object"
      ]
     },
     "execution_count": 73,
     "metadata": {},
     "output_type": "execute_result"
    }
   ],
   "source": [
    "census.dtypes"
   ]
  },
  {
   "cell_type": "code",
   "execution_count": 74,
   "metadata": {},
   "outputs": [
    {
     "data": {
      "text/html": [
       "<div>\n",
       "<style scoped>\n",
       "    .dataframe tbody tr th:only-of-type {\n",
       "        vertical-align: middle;\n",
       "    }\n",
       "\n",
       "    .dataframe tbody tr th {\n",
       "        vertical-align: top;\n",
       "    }\n",
       "\n",
       "    .dataframe thead th {\n",
       "        text-align: right;\n",
       "    }\n",
       "</style>\n",
       "<table border=\"1\" class=\"dataframe\">\n",
       "  <thead>\n",
       "    <tr style=\"text-align: right;\">\n",
       "      <th></th>\n",
       "      <th>ward</th>\n",
       "      <th>pop_2010</th>\n",
       "      <th>pop_2016</th>\n",
       "      <th>pct_change</th>\n",
       "      <th>address</th>\n",
       "      <th>zip_code</th>\n",
       "    </tr>\n",
       "  </thead>\n",
       "  <tbody>\n",
       "    <tr>\n",
       "      <th>0</th>\n",
       "      <td>1</td>\n",
       "      <td>56149</td>\n",
       "      <td>56661</td>\n",
       "      <td>0.01</td>\n",
       "      <td>1958 North Milwaukee Avenue</td>\n",
       "      <td>60647</td>\n",
       "    </tr>\n",
       "    <tr>\n",
       "      <th>1</th>\n",
       "      <td>2</td>\n",
       "      <td>55805</td>\n",
       "      <td>57705</td>\n",
       "      <td>0.03</td>\n",
       "      <td>1400 North Ashland Avenue</td>\n",
       "      <td>60622</td>\n",
       "    </tr>\n",
       "    <tr>\n",
       "      <th>2</th>\n",
       "      <td>3</td>\n",
       "      <td>53039</td>\n",
       "      <td>55763</td>\n",
       "      <td>0.05</td>\n",
       "      <td>5046 South State Street</td>\n",
       "      <td>60609</td>\n",
       "    </tr>\n",
       "    <tr>\n",
       "      <th>3</th>\n",
       "      <td>4</td>\n",
       "      <td>54589</td>\n",
       "      <td>57301</td>\n",
       "      <td>0.05</td>\n",
       "      <td>435 East 35th Street</td>\n",
       "      <td>60616</td>\n",
       "    </tr>\n",
       "    <tr>\n",
       "      <th>4</th>\n",
       "      <td>5</td>\n",
       "      <td>51455</td>\n",
       "      <td>52073</td>\n",
       "      <td>0.01</td>\n",
       "      <td>2325 East 71st Street</td>\n",
       "      <td>60649</td>\n",
       "    </tr>\n",
       "  </tbody>\n",
       "</table>\n",
       "</div>"
      ],
      "text/plain": [
       "   ward  pop_2010  pop_2016  pct_change                      address  zip_code\n",
       "0     1     56149     56661        0.01  1958 North Milwaukee Avenue     60647\n",
       "1     2     55805     57705        0.03    1400 North Ashland Avenue     60622\n",
       "2     3     53039     55763        0.05      5046 South State Street     60609\n",
       "3     4     54589     57301        0.05         435 East 35th Street     60616\n",
       "4     5     51455     52073        0.01        2325 East 71st Street     60649"
      ]
     },
     "execution_count": 74,
     "metadata": {},
     "output_type": "execute_result"
    }
   ],
   "source": [
    "census.head()"
   ]
  },
  {
   "cell_type": "code",
   "execution_count": 75,
   "metadata": {},
   "outputs": [
    {
     "data": {
      "text/plain": [
       "ward         int64\n",
       "alderman    object\n",
       "address     object\n",
       "zipcode      int64\n",
       "dtype: object"
      ]
     },
     "execution_count": 75,
     "metadata": {},
     "output_type": "execute_result"
    }
   ],
   "source": [
    "wards.dtypes"
   ]
  },
  {
   "cell_type": "code",
   "execution_count": 76,
   "metadata": {},
   "outputs": [
    {
     "data": {
      "text/html": [
       "<div>\n",
       "<style scoped>\n",
       "    .dataframe tbody tr th:only-of-type {\n",
       "        vertical-align: middle;\n",
       "    }\n",
       "\n",
       "    .dataframe tbody tr th {\n",
       "        vertical-align: top;\n",
       "    }\n",
       "\n",
       "    .dataframe thead th {\n",
       "        text-align: right;\n",
       "    }\n",
       "</style>\n",
       "<table border=\"1\" class=\"dataframe\">\n",
       "  <thead>\n",
       "    <tr style=\"text-align: right;\">\n",
       "      <th></th>\n",
       "      <th>ward</th>\n",
       "      <th>alderman</th>\n",
       "      <th>address</th>\n",
       "      <th>zipcode</th>\n",
       "    </tr>\n",
       "  </thead>\n",
       "  <tbody>\n",
       "    <tr>\n",
       "      <th>0</th>\n",
       "      <td>33</td>\n",
       "      <td>Rodriguez Sanchez, Rossana</td>\n",
       "      <td>3001 West Irving Park Road</td>\n",
       "      <td>60618</td>\n",
       "    </tr>\n",
       "    <tr>\n",
       "      <th>1</th>\n",
       "      <td>17</td>\n",
       "      <td>Moore, David H.</td>\n",
       "      <td>1344 West 79th Street</td>\n",
       "      <td>60636</td>\n",
       "    </tr>\n",
       "    <tr>\n",
       "      <th>2</th>\n",
       "      <td>44</td>\n",
       "      <td>Tunney, Thomas</td>\n",
       "      <td>3223 North Sheffield Avenue, Suite A</td>\n",
       "      <td>60657</td>\n",
       "    </tr>\n",
       "    <tr>\n",
       "      <th>3</th>\n",
       "      <td>37</td>\n",
       "      <td>Mitts, Emma</td>\n",
       "      <td>5344 West North Avenue</td>\n",
       "      <td>60651</td>\n",
       "    </tr>\n",
       "    <tr>\n",
       "      <th>4</th>\n",
       "      <td>4</td>\n",
       "      <td>King, Sophia D.</td>\n",
       "      <td>435 East 35th Street</td>\n",
       "      <td>60616</td>\n",
       "    </tr>\n",
       "  </tbody>\n",
       "</table>\n",
       "</div>"
      ],
      "text/plain": [
       "   ward                    alderman                               address  \\\n",
       "0    33  Rodriguez Sanchez, Rossana            3001 West Irving Park Road   \n",
       "1    17             Moore, David H.                 1344 West 79th Street   \n",
       "2    44              Tunney, Thomas  3223 North Sheffield Avenue, Suite A   \n",
       "3    37                 Mitts, Emma                5344 West North Avenue   \n",
       "4     4             King, Sophia D.                  435 East 35th Street   \n",
       "\n",
       "   zipcode  \n",
       "0    60618  \n",
       "1    60636  \n",
       "2    60657  \n",
       "3    60651  \n",
       "4    60616  "
      ]
     },
     "execution_count": 76,
     "metadata": {},
     "output_type": "execute_result"
    }
   ],
   "source": [
    "wards.head()"
   ]
  },
  {
   "cell_type": "markdown",
   "metadata": {},
   "source": [
    "# Inner Join: only returns matching values in both tables"
   ]
  },
  {
   "cell_type": "code",
   "execution_count": 77,
   "metadata": {},
   "outputs": [
    {
     "data": {
      "text/html": [
       "<div>\n",
       "<style scoped>\n",
       "    .dataframe tbody tr th:only-of-type {\n",
       "        vertical-align: middle;\n",
       "    }\n",
       "\n",
       "    .dataframe tbody tr th {\n",
       "        vertical-align: top;\n",
       "    }\n",
       "\n",
       "    .dataframe thead th {\n",
       "        text-align: right;\n",
       "    }\n",
       "</style>\n",
       "<table border=\"1\" class=\"dataframe\">\n",
       "  <thead>\n",
       "    <tr style=\"text-align: right;\">\n",
       "      <th></th>\n",
       "      <th>ward</th>\n",
       "      <th>alderman</th>\n",
       "      <th>address_ward</th>\n",
       "      <th>zipcode</th>\n",
       "      <th>pop_2010</th>\n",
       "      <th>pop_2016</th>\n",
       "      <th>pct_change</th>\n",
       "      <th>address_cens</th>\n",
       "      <th>zip_code</th>\n",
       "    </tr>\n",
       "  </thead>\n",
       "  <tbody>\n",
       "    <tr>\n",
       "      <th>0</th>\n",
       "      <td>33</td>\n",
       "      <td>Rodriguez Sanchez, Rossana</td>\n",
       "      <td>3001 West Irving Park Road</td>\n",
       "      <td>60618</td>\n",
       "      <td>55598</td>\n",
       "      <td>56121</td>\n",
       "      <td>0.01</td>\n",
       "      <td>3001 West Irving Park Road</td>\n",
       "      <td>60618</td>\n",
       "    </tr>\n",
       "    <tr>\n",
       "      <th>1</th>\n",
       "      <td>17</td>\n",
       "      <td>Moore, David H.</td>\n",
       "      <td>1344 West 79th Street</td>\n",
       "      <td>60636</td>\n",
       "      <td>51846</td>\n",
       "      <td>49271</td>\n",
       "      <td>-0.05</td>\n",
       "      <td>1344 West 79th Street</td>\n",
       "      <td>60636</td>\n",
       "    </tr>\n",
       "    <tr>\n",
       "      <th>2</th>\n",
       "      <td>44</td>\n",
       "      <td>Tunney, Thomas</td>\n",
       "      <td>3223 North Sheffield Avenue, Suite A</td>\n",
       "      <td>60657</td>\n",
       "      <td>56058</td>\n",
       "      <td>59871</td>\n",
       "      <td>0.07</td>\n",
       "      <td>3223 North Sheffield Avenue, Suite A</td>\n",
       "      <td>60657</td>\n",
       "    </tr>\n",
       "    <tr>\n",
       "      <th>3</th>\n",
       "      <td>37</td>\n",
       "      <td>Mitts, Emma</td>\n",
       "      <td>5344 West North Avenue</td>\n",
       "      <td>60651</td>\n",
       "      <td>51538</td>\n",
       "      <td>51178</td>\n",
       "      <td>-0.01</td>\n",
       "      <td>5344 West North Avenue</td>\n",
       "      <td>60651</td>\n",
       "    </tr>\n",
       "    <tr>\n",
       "      <th>4</th>\n",
       "      <td>4</td>\n",
       "      <td>King, Sophia D.</td>\n",
       "      <td>435 East 35th Street</td>\n",
       "      <td>60616</td>\n",
       "      <td>54589</td>\n",
       "      <td>57301</td>\n",
       "      <td>0.05</td>\n",
       "      <td>435 East 35th Street</td>\n",
       "      <td>60616</td>\n",
       "    </tr>\n",
       "  </tbody>\n",
       "</table>\n",
       "</div>"
      ],
      "text/plain": [
       "   ward                    alderman                          address_ward  \\\n",
       "0    33  Rodriguez Sanchez, Rossana            3001 West Irving Park Road   \n",
       "1    17             Moore, David H.                 1344 West 79th Street   \n",
       "2    44              Tunney, Thomas  3223 North Sheffield Avenue, Suite A   \n",
       "3    37                 Mitts, Emma                5344 West North Avenue   \n",
       "4     4             King, Sophia D.                  435 East 35th Street   \n",
       "\n",
       "   zipcode  pop_2010  pop_2016  pct_change  \\\n",
       "0    60618     55598     56121        0.01   \n",
       "1    60636     51846     49271       -0.05   \n",
       "2    60657     56058     59871        0.07   \n",
       "3    60651     51538     51178       -0.01   \n",
       "4    60616     54589     57301        0.05   \n",
       "\n",
       "                           address_cens  zip_code  \n",
       "0            3001 West Irving Park Road     60618  \n",
       "1                 1344 West 79th Street     60636  \n",
       "2  3223 North Sheffield Avenue, Suite A     60657  \n",
       "3                5344 West North Avenue     60651  \n",
       "4                  435 East 35th Street     60616  "
      ]
     },
     "execution_count": 77,
     "metadata": {},
     "output_type": "execute_result"
    }
   ],
   "source": [
    "wards_census  = wards.merge(census, on='ward', suffixes=('_ward','_cens'))\n",
    "wards_census.head()"
   ]
  },
  {
   "cell_type": "code",
   "execution_count": 78,
   "metadata": {},
   "outputs": [
    {
     "data": {
      "text/plain": [
       "(50, 9)"
      ]
     },
     "execution_count": 78,
     "metadata": {},
     "output_type": "execute_result"
    }
   ],
   "source": [
    "wards_census.shape"
   ]
  },
  {
   "cell_type": "code",
   "execution_count": 79,
   "metadata": {},
   "outputs": [
    {
     "data": {
      "text/plain": [
       "60618    3\n",
       "60609    3\n",
       "60628    2\n",
       "60639    2\n",
       "60636    2\n",
       "60608    2\n",
       "60622    2\n",
       "60612    2\n",
       "60630    2\n",
       "60659    2\n",
       "60614    2\n",
       "60640    2\n",
       "60617    2\n",
       "60619    2\n",
       "60643    1\n",
       "60626    1\n",
       "60647    1\n",
       "60629    1\n",
       "60621    1\n",
       "60649    1\n",
       "60634    1\n",
       "60631    1\n",
       "60632    1\n",
       "60623    1\n",
       "60652    1\n",
       "60607    1\n",
       "60602    1\n",
       "60624    1\n",
       "60620    1\n",
       "60641    1\n",
       "60616    1\n",
       "60651    1\n",
       "60657    1\n",
       "60638    1\n",
       "Name: zipcode, dtype: int64"
      ]
     },
     "execution_count": 79,
     "metadata": {},
     "output_type": "execute_result"
    }
   ],
   "source": [
    "# value_counts() of zipcodes in wards_census DF\n",
    "wards_census['zipcode'].value_counts()"
   ]
  },
  {
   "cell_type": "markdown",
   "metadata": {},
   "source": [
    "# One-to-Many Relationships"
   ]
  },
  {
   "cell_type": "code",
   "execution_count": 80,
   "metadata": {},
   "outputs": [
    {
     "name": "stderr",
     "output_type": "stream",
     "text": [
      "/Library/Frameworks/Python.framework/Versions/3.9/lib/python3.9/site-packages/IPython/core/interactiveshell.py:3457: DtypeWarning: Columns (9) have mixed types.Specify dtype option on import or set low_memory=False.\n",
      "  exec(code_obj, self.user_global_ns, self.user_ns)\n"
     ]
    },
    {
     "data": {
      "text/plain": [
       "Index(['ID', 'LICENSE ID', 'ACCOUNT NUMBER', 'SITE NUMBER', 'LEGAL NAME',\n",
       "       'DOING BUSINESS AS NAME', 'ADDRESS', 'CITY', 'STATE', 'ZIP CODE',\n",
       "       'WARD', 'PRECINCT', 'WARD PRECINCT', 'POLICE DISTRICT', 'LICENSE CODE',\n",
       "       'LICENSE DESCRIPTION', 'BUSINESS ACTIVITY ID', 'BUSINESS ACTIVITY',\n",
       "       'LICENSE NUMBER', 'APPLICATION TYPE', 'APPLICATION CREATED DATE',\n",
       "       'APPLICATION REQUIREMENTS COMPLETE', 'PAYMENT DATE',\n",
       "       'CONDITIONAL APPROVAL', 'LICENSE TERM START DATE',\n",
       "       'LICENSE TERM EXPIRATION DATE', 'LICENSE APPROVED FOR ISSUANCE',\n",
       "       'DATE ISSUED', 'LICENSE STATUS', 'LICENSE STATUS CHANGE DATE', 'SSA',\n",
       "       'LATITUDE', 'LONGITUDE', 'LOCATION'],\n",
       "      dtype='object')"
      ]
     },
     "execution_count": 80,
     "metadata": {},
     "output_type": "execute_result"
    }
   ],
   "source": [
    "# Import Buiness_Licenses csv containing active businesses in each ward\n",
    "wards_businesses = pd.read_csv('/Users/joseservin/DataCamp/Courses/Joining_Data/Business_Licenses.csv')\n",
    "wards_businesses.columns"
   ]
  },
  {
   "cell_type": "code",
   "execution_count": 81,
   "metadata": {},
   "outputs": [],
   "source": [
    "wards_businesses = wards_businesses[['ACCOUNT NUMBER','WARD','LICENSE NUMBER','LEGAL NAME','ADDRESS','ZIP CODE']]"
   ]
  },
  {
   "cell_type": "code",
   "execution_count": 82,
   "metadata": {},
   "outputs": [
    {
     "data": {
      "text/html": [
       "<div>\n",
       "<style scoped>\n",
       "    .dataframe tbody tr th:only-of-type {\n",
       "        vertical-align: middle;\n",
       "    }\n",
       "\n",
       "    .dataframe tbody tr th {\n",
       "        vertical-align: top;\n",
       "    }\n",
       "\n",
       "    .dataframe thead th {\n",
       "        text-align: right;\n",
       "    }\n",
       "</style>\n",
       "<table border=\"1\" class=\"dataframe\">\n",
       "  <thead>\n",
       "    <tr style=\"text-align: right;\">\n",
       "      <th></th>\n",
       "      <th>account number</th>\n",
       "      <th>ward</th>\n",
       "      <th>license number</th>\n",
       "      <th>legal name</th>\n",
       "      <th>address</th>\n",
       "      <th>zip code</th>\n",
       "    </tr>\n",
       "  </thead>\n",
       "  <tbody>\n",
       "    <tr>\n",
       "      <th>0</th>\n",
       "      <td>406944</td>\n",
       "      <td>42.0</td>\n",
       "      <td>2818099</td>\n",
       "      <td>GERMAN AMERICAN EVENTS, LLC</td>\n",
       "      <td>150 N MICHIGAN AVE 35TH</td>\n",
       "      <td>60601</td>\n",
       "    </tr>\n",
       "    <tr>\n",
       "      <th>1</th>\n",
       "      <td>337918</td>\n",
       "      <td>42.0</td>\n",
       "      <td>2818166</td>\n",
       "      <td>THE NOBLE GRAPE CORPORATION</td>\n",
       "      <td>50 W WASHINGTON ST</td>\n",
       "      <td>60602</td>\n",
       "    </tr>\n",
       "    <tr>\n",
       "      <th>2</th>\n",
       "      <td>385905</td>\n",
       "      <td>44.0</td>\n",
       "      <td>2822280</td>\n",
       "      <td>Patrick Markham</td>\n",
       "      <td>3252 N BROADWAY</td>\n",
       "      <td>60657</td>\n",
       "    </tr>\n",
       "    <tr>\n",
       "      <th>3</th>\n",
       "      <td>385905</td>\n",
       "      <td>47.0</td>\n",
       "      <td>2822276</td>\n",
       "      <td>Patrick Markham</td>\n",
       "      <td>4560 N LINCOLN AVE</td>\n",
       "      <td>60625</td>\n",
       "    </tr>\n",
       "    <tr>\n",
       "      <th>4</th>\n",
       "      <td>385905</td>\n",
       "      <td>1.0</td>\n",
       "      <td>2822277</td>\n",
       "      <td>Patrick Markham</td>\n",
       "      <td>2439 W FULLERTON AVE</td>\n",
       "      <td>60647</td>\n",
       "    </tr>\n",
       "  </tbody>\n",
       "</table>\n",
       "</div>"
      ],
      "text/plain": [
       "   account number  ward  license number                   legal name  \\\n",
       "0          406944  42.0         2818099  GERMAN AMERICAN EVENTS, LLC   \n",
       "1          337918  42.0         2818166  THE NOBLE GRAPE CORPORATION   \n",
       "2          385905  44.0         2822280              Patrick Markham   \n",
       "3          385905  47.0         2822276              Patrick Markham   \n",
       "4          385905   1.0         2822277              Patrick Markham   \n",
       "\n",
       "                   address zip code  \n",
       "0  150 N MICHIGAN AVE 35TH    60601  \n",
       "1       50 W WASHINGTON ST    60602  \n",
       "2          3252 N BROADWAY    60657  \n",
       "3       4560 N LINCOLN AVE    60625  \n",
       "4     2439 W FULLERTON AVE    60647  "
      ]
     },
     "execution_count": 82,
     "metadata": {},
     "output_type": "execute_result"
    }
   ],
   "source": [
    "wards_businesses.columns = [x.lower() for x in wards_businesses.columns]\n",
    "wards_businesses.head()"
   ]
  },
  {
   "cell_type": "code",
   "execution_count": 83,
   "metadata": {},
   "outputs": [
    {
     "data": {
      "text/plain": [
       "account number       0\n",
       "ward              4313\n",
       "license number       0\n",
       "legal name           0\n",
       "address              0\n",
       "zip code             7\n",
       "dtype: int64"
      ]
     },
     "execution_count": 83,
     "metadata": {},
     "output_type": "execute_result"
    }
   ],
   "source": [
    "wards_businesses.isna().sum()"
   ]
  },
  {
   "cell_type": "code",
   "execution_count": 84,
   "metadata": {},
   "outputs": [],
   "source": [
    "wards_businesses = wards_businesses[wards_businesses['ward'].notna()]"
   ]
  },
  {
   "cell_type": "code",
   "execution_count": 85,
   "metadata": {},
   "outputs": [
    {
     "data": {
      "text/plain": [
       "account number    0\n",
       "ward              0\n",
       "license number    0\n",
       "legal name        0\n",
       "address           0\n",
       "zip code          1\n",
       "dtype: int64"
      ]
     },
     "execution_count": 85,
     "metadata": {},
     "output_type": "execute_result"
    }
   ],
   "source": [
    "wards_businesses.isna().sum()"
   ]
  },
  {
   "cell_type": "code",
   "execution_count": 88,
   "metadata": {},
   "outputs": [],
   "source": [
    "wards_businesses = wards_businesses[wards_businesses['license number'].notna()]"
   ]
  },
  {
   "cell_type": "code",
   "execution_count": 89,
   "metadata": {},
   "outputs": [
    {
     "data": {
      "text/plain": [
       "account number    0\n",
       "ward              0\n",
       "license number    0\n",
       "legal name        0\n",
       "address           0\n",
       "zip code          1\n",
       "dtype: int64"
      ]
     },
     "execution_count": 89,
     "metadata": {},
     "output_type": "execute_result"
    }
   ],
   "source": [
    "wards_businesses.isna().sum()"
   ]
  },
  {
   "cell_type": "code",
   "execution_count": 90,
   "metadata": {},
   "outputs": [],
   "source": [
    "wards_businesses = wards_businesses[wards_businesses['zip code'].notna()]"
   ]
  },
  {
   "cell_type": "code",
   "execution_count": 91,
   "metadata": {},
   "outputs": [
    {
     "data": {
      "text/plain": [
       "account number    0\n",
       "ward              0\n",
       "license number    0\n",
       "legal name        0\n",
       "address           0\n",
       "zip code          0\n",
       "dtype: int64"
      ]
     },
     "execution_count": 91,
     "metadata": {},
     "output_type": "execute_result"
    }
   ],
   "source": [
    "wards_businesses.isna().sum()"
   ]
  },
  {
   "cell_type": "code",
   "execution_count": 92,
   "metadata": {},
   "outputs": [],
   "source": [
    "wards_businesses['ward'] = wards_businesses['ward'].astype(int)"
   ]
  },
  {
   "cell_type": "code",
   "execution_count": 93,
   "metadata": {},
   "outputs": [],
   "source": [
    "wards_businesses['zip code'] = wards_businesses['zip code'].astype(int)"
   ]
  },
  {
   "cell_type": "code",
   "execution_count": 94,
   "metadata": {},
   "outputs": [
    {
     "data": {
      "text/plain": [
       "account number     int64\n",
       "ward               int64\n",
       "license number     int64\n",
       "legal name        object\n",
       "address           object\n",
       "zip code           int64\n",
       "dtype: object"
      ]
     },
     "execution_count": 94,
     "metadata": {},
     "output_type": "execute_result"
    }
   ],
   "source": [
    "wards_businesses.dtypes"
   ]
  },
  {
   "cell_type": "code",
   "execution_count": 95,
   "metadata": {},
   "outputs": [
    {
     "data": {
      "text/plain": [
       "(50720, 6)"
      ]
     },
     "execution_count": 95,
     "metadata": {},
     "output_type": "execute_result"
    }
   ],
   "source": [
    "wards_businesses.shape"
   ]
  },
  {
   "cell_type": "code",
   "execution_count": 96,
   "metadata": {},
   "outputs": [],
   "source": [
    "wards_businesses_merge = wards.merge(wards_businesses, on='ward', suffixes=('_wards','_buissiness'))"
   ]
  },
  {
   "cell_type": "code",
   "execution_count": 99,
   "metadata": {},
   "outputs": [
    {
     "data": {
      "text/html": [
       "<div>\n",
       "<style scoped>\n",
       "    .dataframe tbody tr th:only-of-type {\n",
       "        vertical-align: middle;\n",
       "    }\n",
       "\n",
       "    .dataframe tbody tr th {\n",
       "        vertical-align: top;\n",
       "    }\n",
       "\n",
       "    .dataframe thead th {\n",
       "        text-align: right;\n",
       "    }\n",
       "</style>\n",
       "<table border=\"1\" class=\"dataframe\">\n",
       "  <thead>\n",
       "    <tr style=\"text-align: right;\">\n",
       "      <th></th>\n",
       "      <th>ward</th>\n",
       "      <th>alderman</th>\n",
       "      <th>address_wards</th>\n",
       "      <th>zipcode</th>\n",
       "      <th>account number</th>\n",
       "      <th>license number</th>\n",
       "      <th>legal name</th>\n",
       "      <th>address_buissiness</th>\n",
       "      <th>zip code</th>\n",
       "    </tr>\n",
       "  </thead>\n",
       "  <tbody>\n",
       "    <tr>\n",
       "      <th>33052</th>\n",
       "      <td>1</td>\n",
       "      <td>La Spata, Daniel</td>\n",
       "      <td>1958 North Milwaukee Avenue</td>\n",
       "      <td>60647</td>\n",
       "      <td>286789</td>\n",
       "      <td>1741804</td>\n",
       "      <td>THE GREEN ROOM, INC</td>\n",
       "      <td>1915 W CHICAGO AVE 1 1F</td>\n",
       "      <td>60622</td>\n",
       "    </tr>\n",
       "    <tr>\n",
       "      <th>33758</th>\n",
       "      <td>1</td>\n",
       "      <td>La Spata, Daniel</td>\n",
       "      <td>1958 North Milwaukee Avenue</td>\n",
       "      <td>60647</td>\n",
       "      <td>25756</td>\n",
       "      <td>7932</td>\n",
       "      <td>SHILVOCK COMPANY, INC.</td>\n",
       "      <td>2226 N MILWAUKEE AVE 1ST</td>\n",
       "      <td>60647</td>\n",
       "    </tr>\n",
       "    <tr>\n",
       "      <th>33759</th>\n",
       "      <td>1</td>\n",
       "      <td>La Spata, Daniel</td>\n",
       "      <td>1958 North Milwaukee Avenue</td>\n",
       "      <td>60647</td>\n",
       "      <td>340581</td>\n",
       "      <td>1954909</td>\n",
       "      <td>THOMAS ROBINSON</td>\n",
       "      <td>2416 W NORTH AVE 1</td>\n",
       "      <td>60647</td>\n",
       "    </tr>\n",
       "    <tr>\n",
       "      <th>33760</th>\n",
       "      <td>1</td>\n",
       "      <td>La Spata, Daniel</td>\n",
       "      <td>1958 North Milwaukee Avenue</td>\n",
       "      <td>60647</td>\n",
       "      <td>334474</td>\n",
       "      <td>2078720</td>\n",
       "      <td>REVOLUTION BREWING, LLC</td>\n",
       "      <td>2323 N MILWAUKEE AVE 1 &amp; 2</td>\n",
       "      <td>60647</td>\n",
       "    </tr>\n",
       "    <tr>\n",
       "      <th>33761</th>\n",
       "      <td>1</td>\n",
       "      <td>La Spata, Daniel</td>\n",
       "      <td>1958 North Milwaukee Avenue</td>\n",
       "      <td>60647</td>\n",
       "      <td>260219</td>\n",
       "      <td>2206206</td>\n",
       "      <td>RANDEL  ELECTRIC , INC.</td>\n",
       "      <td>2307 W NORTH AVE</td>\n",
       "      <td>60647</td>\n",
       "    </tr>\n",
       "    <tr>\n",
       "      <th>...</th>\n",
       "      <td>...</td>\n",
       "      <td>...</td>\n",
       "      <td>...</td>\n",
       "      <td>...</td>\n",
       "      <td>...</td>\n",
       "      <td>...</td>\n",
       "      <td>...</td>\n",
       "      <td>...</td>\n",
       "      <td>...</td>\n",
       "    </tr>\n",
       "    <tr>\n",
       "      <th>37171</th>\n",
       "      <td>50</td>\n",
       "      <td>Silverstein, Debra L.</td>\n",
       "      <td>2949 West Devon Avenue</td>\n",
       "      <td>60659</td>\n",
       "      <td>427110</td>\n",
       "      <td>2595253</td>\n",
       "      <td>Andhra Darbar, Inc</td>\n",
       "      <td>2240-2242 W DEVON AVE</td>\n",
       "      <td>60659</td>\n",
       "    </tr>\n",
       "    <tr>\n",
       "      <th>37172</th>\n",
       "      <td>50</td>\n",
       "      <td>Silverstein, Debra L.</td>\n",
       "      <td>2949 West Devon Avenue</td>\n",
       "      <td>60659</td>\n",
       "      <td>373220</td>\n",
       "      <td>2158657</td>\n",
       "      <td>SHAMA ONE INC.</td>\n",
       "      <td>2504 W DEVON AVE 1ST</td>\n",
       "      <td>60659</td>\n",
       "    </tr>\n",
       "    <tr>\n",
       "      <th>37173</th>\n",
       "      <td>50</td>\n",
       "      <td>Silverstein, Debra L.</td>\n",
       "      <td>2949 West Devon Avenue</td>\n",
       "      <td>60659</td>\n",
       "      <td>408547</td>\n",
       "      <td>2583245</td>\n",
       "      <td>MUJIDAT OLAIDE LAWAL</td>\n",
       "      <td>7441 N WESTERN AVE 1ST</td>\n",
       "      <td>60645</td>\n",
       "    </tr>\n",
       "    <tr>\n",
       "      <th>37175</th>\n",
       "      <td>50</td>\n",
       "      <td>Silverstein, Debra L.</td>\n",
       "      <td>2949 West Devon Avenue</td>\n",
       "      <td>60659</td>\n",
       "      <td>419728</td>\n",
       "      <td>2549651</td>\n",
       "      <td>IRINA  MOTAESCU</td>\n",
       "      <td>[REDACTED FOR PRIVACY]</td>\n",
       "      <td>60645</td>\n",
       "    </tr>\n",
       "    <tr>\n",
       "      <th>37656</th>\n",
       "      <td>50</td>\n",
       "      <td>Silverstein, Debra L.</td>\n",
       "      <td>2949 West Devon Avenue</td>\n",
       "      <td>60659</td>\n",
       "      <td>284056</td>\n",
       "      <td>1545187</td>\n",
       "      <td>DIPTIS SALON INC</td>\n",
       "      <td>2714 W TOUHY AVE</td>\n",
       "      <td>60645</td>\n",
       "    </tr>\n",
       "  </tbody>\n",
       "</table>\n",
       "<p>50720 rows × 9 columns</p>\n",
       "</div>"
      ],
      "text/plain": [
       "       ward               alderman                address_wards  zipcode  \\\n",
       "33052     1       La Spata, Daniel  1958 North Milwaukee Avenue    60647   \n",
       "33758     1       La Spata, Daniel  1958 North Milwaukee Avenue    60647   \n",
       "33759     1       La Spata, Daniel  1958 North Milwaukee Avenue    60647   \n",
       "33760     1       La Spata, Daniel  1958 North Milwaukee Avenue    60647   \n",
       "33761     1       La Spata, Daniel  1958 North Milwaukee Avenue    60647   \n",
       "...     ...                    ...                          ...      ...   \n",
       "37171    50  Silverstein, Debra L.       2949 West Devon Avenue    60659   \n",
       "37172    50  Silverstein, Debra L.       2949 West Devon Avenue    60659   \n",
       "37173    50  Silverstein, Debra L.       2949 West Devon Avenue    60659   \n",
       "37175    50  Silverstein, Debra L.       2949 West Devon Avenue    60659   \n",
       "37656    50  Silverstein, Debra L.       2949 West Devon Avenue    60659   \n",
       "\n",
       "       account number  license number               legal name  \\\n",
       "33052          286789         1741804      THE GREEN ROOM, INC   \n",
       "33758           25756            7932   SHILVOCK COMPANY, INC.   \n",
       "33759          340581         1954909          THOMAS ROBINSON   \n",
       "33760          334474         2078720  REVOLUTION BREWING, LLC   \n",
       "33761          260219         2206206  RANDEL  ELECTRIC , INC.   \n",
       "...               ...             ...                      ...   \n",
       "37171          427110         2595253       Andhra Darbar, Inc   \n",
       "37172          373220         2158657           SHAMA ONE INC.   \n",
       "37173          408547         2583245     MUJIDAT OLAIDE LAWAL   \n",
       "37175          419728         2549651          IRINA  MOTAESCU   \n",
       "37656          284056         1545187         DIPTIS SALON INC   \n",
       "\n",
       "               address_buissiness  zip code  \n",
       "33052     1915 W CHICAGO AVE 1 1F     60622  \n",
       "33758    2226 N MILWAUKEE AVE 1ST     60647  \n",
       "33759          2416 W NORTH AVE 1     60647  \n",
       "33760  2323 N MILWAUKEE AVE 1 & 2     60647  \n",
       "33761            2307 W NORTH AVE     60647  \n",
       "...                           ...       ...  \n",
       "37171       2240-2242 W DEVON AVE     60659  \n",
       "37172        2504 W DEVON AVE 1ST     60659  \n",
       "37173      7441 N WESTERN AVE 1ST     60645  \n",
       "37175      [REDACTED FOR PRIVACY]     60645  \n",
       "37656            2714 W TOUHY AVE     60645  \n",
       "\n",
       "[50720 rows x 9 columns]"
      ]
     },
     "execution_count": 99,
     "metadata": {},
     "output_type": "execute_result"
    }
   ],
   "source": [
    "wards_businesses_merge.sort_values('ward')"
   ]
  },
  {
   "cell_type": "code",
   "execution_count": 102,
   "metadata": {},
   "outputs": [],
   "source": [
    "wards_businesses.to_csv('/Users/joseservin/DataCamp/Courses/Joining_Data/ward_businesses.csv', index=False)"
   ]
  },
  {
   "cell_type": "markdown",
   "metadata": {},
   "source": [
    "# Mergin Multiple DataFrames"
   ]
  },
  {
   "cell_type": "code",
   "execution_count": 103,
   "metadata": {},
   "outputs": [
    {
     "data": {
      "text/plain": [
       "Index(['address', 'zip code', 'INCENTIVE AMOUNT', 'grant', 'company'], dtype='object')"
      ]
     },
     "execution_count": 103,
     "metadata": {},
     "output_type": "execute_result"
    }
   ],
   "source": [
    "# Introduce business_grants DataFrame\n",
    "business_grants = pd.read_csv('/Users/joseservin/DataCamp/Courses/Joining_Data/business_grants.csv')\n",
    "business_grants.columns"
   ]
  },
  {
   "cell_type": "code",
   "execution_count": 104,
   "metadata": {},
   "outputs": [],
   "source": [
    "business_grants = business_grants[['address','zip code','grant','company']]"
   ]
  },
  {
   "cell_type": "code",
   "execution_count": 107,
   "metadata": {},
   "outputs": [
    {
     "data": {
      "text/plain": [
       "Index(['account number', 'ward', 'license number', 'legal name', 'address',\n",
       "       'zip code'],\n",
       "      dtype='object')"
      ]
     },
     "execution_count": 107,
     "metadata": {},
     "output_type": "execute_result"
    }
   ],
   "source": [
    "wards_businesses.columns"
   ]
  },
  {
   "cell_type": "code",
   "execution_count": 113,
   "metadata": {},
   "outputs": [
    {
     "data": {
      "text/plain": [
       "Index(['ward', 'alderman', 'address', 'zipcode'], dtype='object')"
      ]
     },
     "execution_count": 113,
     "metadata": {},
     "output_type": "execute_result"
    }
   ],
   "source": [
    "wards.columns"
   ]
  },
  {
   "cell_type": "code",
   "execution_count": 106,
   "metadata": {},
   "outputs": [
    {
     "data": {
      "text/html": [
       "<div>\n",
       "<style scoped>\n",
       "    .dataframe tbody tr th:only-of-type {\n",
       "        vertical-align: middle;\n",
       "    }\n",
       "\n",
       "    .dataframe tbody tr th {\n",
       "        vertical-align: top;\n",
       "    }\n",
       "\n",
       "    .dataframe thead th {\n",
       "        text-align: right;\n",
       "    }\n",
       "</style>\n",
       "<table border=\"1\" class=\"dataframe\">\n",
       "  <thead>\n",
       "    <tr style=\"text-align: right;\">\n",
       "      <th></th>\n",
       "      <th>address</th>\n",
       "      <th>zip code</th>\n",
       "      <th>grant</th>\n",
       "      <th>company</th>\n",
       "      <th>account number</th>\n",
       "      <th>ward</th>\n",
       "      <th>license number</th>\n",
       "      <th>legal name</th>\n",
       "    </tr>\n",
       "  </thead>\n",
       "  <tbody>\n",
       "    <tr>\n",
       "      <th>0</th>\n",
       "      <td>150 N MICHIGAN AVE 35TH</td>\n",
       "      <td>60601</td>\n",
       "      <td>150000.00000</td>\n",
       "      <td>GERMAN AMERICAN EVENTS, LLC</td>\n",
       "      <td>406944</td>\n",
       "      <td>42</td>\n",
       "      <td>2818099</td>\n",
       "      <td>GERMAN AMERICAN EVENTS, LLC</td>\n",
       "    </tr>\n",
       "    <tr>\n",
       "      <th>1</th>\n",
       "      <td>150 N MICHIGAN AVE 35TH</td>\n",
       "      <td>60601</td>\n",
       "      <td>150000.00000</td>\n",
       "      <td>GERMAN AMERICAN EVENTS, LLC</td>\n",
       "      <td>406944</td>\n",
       "      <td>42</td>\n",
       "      <td>2818216</td>\n",
       "      <td>GERMAN AMERICAN EVENTS, LLC</td>\n",
       "    </tr>\n",
       "    <tr>\n",
       "      <th>2</th>\n",
       "      <td>150 N MICHIGAN AVE 35TH</td>\n",
       "      <td>60601</td>\n",
       "      <td>117072.04000</td>\n",
       "      <td>GERMAN AMERICAN EVENTS, LLC</td>\n",
       "      <td>406944</td>\n",
       "      <td>42</td>\n",
       "      <td>2818099</td>\n",
       "      <td>GERMAN AMERICAN EVENTS, LLC</td>\n",
       "    </tr>\n",
       "    <tr>\n",
       "      <th>3</th>\n",
       "      <td>150 N MICHIGAN AVE 35TH</td>\n",
       "      <td>60601</td>\n",
       "      <td>117072.04000</td>\n",
       "      <td>GERMAN AMERICAN EVENTS, LLC</td>\n",
       "      <td>406944</td>\n",
       "      <td>42</td>\n",
       "      <td>2818216</td>\n",
       "      <td>GERMAN AMERICAN EVENTS, LLC</td>\n",
       "    </tr>\n",
       "    <tr>\n",
       "      <th>4</th>\n",
       "      <td>50 W WASHINGTON ST</td>\n",
       "      <td>60602</td>\n",
       "      <td>150000.00000</td>\n",
       "      <td>THE NOBLE GRAPE CORPORATION</td>\n",
       "      <td>337918</td>\n",
       "      <td>42</td>\n",
       "      <td>2818166</td>\n",
       "      <td>THE NOBLE GRAPE CORPORATION</td>\n",
       "    </tr>\n",
       "    <tr>\n",
       "      <th>...</th>\n",
       "      <td>...</td>\n",
       "      <td>...</td>\n",
       "      <td>...</td>\n",
       "      <td>...</td>\n",
       "      <td>...</td>\n",
       "      <td>...</td>\n",
       "      <td>...</td>\n",
       "      <td>...</td>\n",
       "    </tr>\n",
       "    <tr>\n",
       "      <th>134721</th>\n",
       "      <td>2700 W 25TH ST</td>\n",
       "      <td>60608</td>\n",
       "      <td>34330.12719</td>\n",
       "      <td>STOP &amp; SAVE SHOP INC</td>\n",
       "      <td>481467</td>\n",
       "      <td>12</td>\n",
       "      <td>2822708</td>\n",
       "      <td>STOP &amp; SAVE SHOP INC</td>\n",
       "    </tr>\n",
       "    <tr>\n",
       "      <th>134722</th>\n",
       "      <td>141 W JACKSON BLVD  A50</td>\n",
       "      <td>60604</td>\n",
       "      <td>34332.07524</td>\n",
       "      <td>SALON MAJ CORPORATION</td>\n",
       "      <td>478274</td>\n",
       "      <td>42</td>\n",
       "      <td>2807862</td>\n",
       "      <td>SALON MAJ CORPORATION</td>\n",
       "    </tr>\n",
       "    <tr>\n",
       "      <th>134723</th>\n",
       "      <td>6700 S SOUTH SHORE DR 21B</td>\n",
       "      <td>60649</td>\n",
       "      <td>34339.86744</td>\n",
       "      <td>Estrela Enterprises, LLC</td>\n",
       "      <td>482147</td>\n",
       "      <td>5</td>\n",
       "      <td>2827368</td>\n",
       "      <td>Estrela Enterprises, LLC</td>\n",
       "    </tr>\n",
       "    <tr>\n",
       "      <th>134724</th>\n",
       "      <td>3950 N LAKE SHORE DR  928</td>\n",
       "      <td>60613</td>\n",
       "      <td>34351.55575</td>\n",
       "      <td>XIQIAO XU</td>\n",
       "      <td>296732</td>\n",
       "      <td>46</td>\n",
       "      <td>2822426</td>\n",
       "      <td>XIQIAO XU</td>\n",
       "    </tr>\n",
       "    <tr>\n",
       "      <th>134725</th>\n",
       "      <td>1803 W 47TH ST  STOREFRONT</td>\n",
       "      <td>60609</td>\n",
       "      <td>34928.17869</td>\n",
       "      <td>PEDRO DIAZ</td>\n",
       "      <td>388548</td>\n",
       "      <td>15</td>\n",
       "      <td>2827230</td>\n",
       "      <td>PEDRO DIAZ</td>\n",
       "    </tr>\n",
       "  </tbody>\n",
       "</table>\n",
       "<p>134726 rows × 8 columns</p>\n",
       "</div>"
      ],
      "text/plain": [
       "                           address  zip code         grant  \\\n",
       "0          150 N MICHIGAN AVE 35TH     60601  150000.00000   \n",
       "1          150 N MICHIGAN AVE 35TH     60601  150000.00000   \n",
       "2          150 N MICHIGAN AVE 35TH     60601  117072.04000   \n",
       "3          150 N MICHIGAN AVE 35TH     60601  117072.04000   \n",
       "4               50 W WASHINGTON ST     60602  150000.00000   \n",
       "...                            ...       ...           ...   \n",
       "134721              2700 W 25TH ST     60608   34330.12719   \n",
       "134722     141 W JACKSON BLVD  A50     60604   34332.07524   \n",
       "134723   6700 S SOUTH SHORE DR 21B     60649   34339.86744   \n",
       "134724   3950 N LAKE SHORE DR  928     60613   34351.55575   \n",
       "134725  1803 W 47TH ST  STOREFRONT     60609   34928.17869   \n",
       "\n",
       "                            company  account number  ward  license number  \\\n",
       "0       GERMAN AMERICAN EVENTS, LLC          406944    42         2818099   \n",
       "1       GERMAN AMERICAN EVENTS, LLC          406944    42         2818216   \n",
       "2       GERMAN AMERICAN EVENTS, LLC          406944    42         2818099   \n",
       "3       GERMAN AMERICAN EVENTS, LLC          406944    42         2818216   \n",
       "4       THE NOBLE GRAPE CORPORATION          337918    42         2818166   \n",
       "...                             ...             ...   ...             ...   \n",
       "134721         STOP & SAVE SHOP INC          481467    12         2822708   \n",
       "134722        SALON MAJ CORPORATION          478274    42         2807862   \n",
       "134723     Estrela Enterprises, LLC          482147     5         2827368   \n",
       "134724                    XIQIAO XU          296732    46         2822426   \n",
       "134725                   PEDRO DIAZ          388548    15         2827230   \n",
       "\n",
       "                         legal name  \n",
       "0       GERMAN AMERICAN EVENTS, LLC  \n",
       "1       GERMAN AMERICAN EVENTS, LLC  \n",
       "2       GERMAN AMERICAN EVENTS, LLC  \n",
       "3       GERMAN AMERICAN EVENTS, LLC  \n",
       "4       THE NOBLE GRAPE CORPORATION  \n",
       "...                             ...  \n",
       "134721         STOP & SAVE SHOP INC  \n",
       "134722        SALON MAJ CORPORATION  \n",
       "134723     Estrela Enterprises, LLC  \n",
       "134724                    XIQIAO XU  \n",
       "134725                   PEDRO DIAZ  \n",
       "\n",
       "[134726 rows x 8 columns]"
      ]
     },
     "execution_count": 106,
     "metadata": {},
     "output_type": "execute_result"
    }
   ],
   "source": [
    "business_grants.merge(wards_businesses, on=['address','zip code'])"
   ]
  },
  {
   "cell_type": "code",
   "execution_count": 114,
   "metadata": {},
   "outputs": [],
   "source": [
    "grants_licenses_ward = business_grants.merge(wards_businesses, on=['address','zip code']) \\\n",
    "    .merge(wards, on='ward', suffixes = ('_bus','_ward'))"
   ]
  },
  {
   "cell_type": "code",
   "execution_count": 115,
   "metadata": {},
   "outputs": [
    {
     "data": {
      "text/html": [
       "<div>\n",
       "<style scoped>\n",
       "    .dataframe tbody tr th:only-of-type {\n",
       "        vertical-align: middle;\n",
       "    }\n",
       "\n",
       "    .dataframe tbody tr th {\n",
       "        vertical-align: top;\n",
       "    }\n",
       "\n",
       "    .dataframe thead th {\n",
       "        text-align: right;\n",
       "    }\n",
       "</style>\n",
       "<table border=\"1\" class=\"dataframe\">\n",
       "  <thead>\n",
       "    <tr style=\"text-align: right;\">\n",
       "      <th></th>\n",
       "      <th>address_bus</th>\n",
       "      <th>zip code</th>\n",
       "      <th>grant</th>\n",
       "      <th>company</th>\n",
       "      <th>account number</th>\n",
       "      <th>ward</th>\n",
       "      <th>license number</th>\n",
       "      <th>legal name</th>\n",
       "      <th>alderman</th>\n",
       "      <th>address_ward</th>\n",
       "      <th>zipcode</th>\n",
       "    </tr>\n",
       "  </thead>\n",
       "  <tbody>\n",
       "    <tr>\n",
       "      <th>0</th>\n",
       "      <td>150 N MICHIGAN AVE 35TH</td>\n",
       "      <td>60601</td>\n",
       "      <td>150000.00</td>\n",
       "      <td>GERMAN AMERICAN EVENTS, LLC</td>\n",
       "      <td>406944</td>\n",
       "      <td>42</td>\n",
       "      <td>2818099</td>\n",
       "      <td>GERMAN AMERICAN EVENTS, LLC</td>\n",
       "      <td>Reilly, Brendan</td>\n",
       "      <td>121 N LaSalle St</td>\n",
       "      <td>60602</td>\n",
       "    </tr>\n",
       "    <tr>\n",
       "      <th>1</th>\n",
       "      <td>150 N MICHIGAN AVE 35TH</td>\n",
       "      <td>60601</td>\n",
       "      <td>150000.00</td>\n",
       "      <td>GERMAN AMERICAN EVENTS, LLC</td>\n",
       "      <td>406944</td>\n",
       "      <td>42</td>\n",
       "      <td>2818216</td>\n",
       "      <td>GERMAN AMERICAN EVENTS, LLC</td>\n",
       "      <td>Reilly, Brendan</td>\n",
       "      <td>121 N LaSalle St</td>\n",
       "      <td>60602</td>\n",
       "    </tr>\n",
       "    <tr>\n",
       "      <th>2</th>\n",
       "      <td>150 N MICHIGAN AVE 35TH</td>\n",
       "      <td>60601</td>\n",
       "      <td>117072.04</td>\n",
       "      <td>GERMAN AMERICAN EVENTS, LLC</td>\n",
       "      <td>406944</td>\n",
       "      <td>42</td>\n",
       "      <td>2818099</td>\n",
       "      <td>GERMAN AMERICAN EVENTS, LLC</td>\n",
       "      <td>Reilly, Brendan</td>\n",
       "      <td>121 N LaSalle St</td>\n",
       "      <td>60602</td>\n",
       "    </tr>\n",
       "    <tr>\n",
       "      <th>3</th>\n",
       "      <td>150 N MICHIGAN AVE 35TH</td>\n",
       "      <td>60601</td>\n",
       "      <td>117072.04</td>\n",
       "      <td>GERMAN AMERICAN EVENTS, LLC</td>\n",
       "      <td>406944</td>\n",
       "      <td>42</td>\n",
       "      <td>2818216</td>\n",
       "      <td>GERMAN AMERICAN EVENTS, LLC</td>\n",
       "      <td>Reilly, Brendan</td>\n",
       "      <td>121 N LaSalle St</td>\n",
       "      <td>60602</td>\n",
       "    </tr>\n",
       "    <tr>\n",
       "      <th>4</th>\n",
       "      <td>50 W WASHINGTON ST</td>\n",
       "      <td>60602</td>\n",
       "      <td>150000.00</td>\n",
       "      <td>THE NOBLE GRAPE CORPORATION</td>\n",
       "      <td>337918</td>\n",
       "      <td>42</td>\n",
       "      <td>2818166</td>\n",
       "      <td>THE NOBLE GRAPE CORPORATION</td>\n",
       "      <td>Reilly, Brendan</td>\n",
       "      <td>121 N LaSalle St</td>\n",
       "      <td>60602</td>\n",
       "    </tr>\n",
       "  </tbody>\n",
       "</table>\n",
       "</div>"
      ],
      "text/plain": [
       "               address_bus  zip code      grant                      company  \\\n",
       "0  150 N MICHIGAN AVE 35TH     60601  150000.00  GERMAN AMERICAN EVENTS, LLC   \n",
       "1  150 N MICHIGAN AVE 35TH     60601  150000.00  GERMAN AMERICAN EVENTS, LLC   \n",
       "2  150 N MICHIGAN AVE 35TH     60601  117072.04  GERMAN AMERICAN EVENTS, LLC   \n",
       "3  150 N MICHIGAN AVE 35TH     60601  117072.04  GERMAN AMERICAN EVENTS, LLC   \n",
       "4       50 W WASHINGTON ST     60602  150000.00  THE NOBLE GRAPE CORPORATION   \n",
       "\n",
       "   account number  ward  license number                   legal name  \\\n",
       "0          406944    42         2818099  GERMAN AMERICAN EVENTS, LLC   \n",
       "1          406944    42         2818216  GERMAN AMERICAN EVENTS, LLC   \n",
       "2          406944    42         2818099  GERMAN AMERICAN EVENTS, LLC   \n",
       "3          406944    42         2818216  GERMAN AMERICAN EVENTS, LLC   \n",
       "4          337918    42         2818166  THE NOBLE GRAPE CORPORATION   \n",
       "\n",
       "          alderman      address_ward  zipcode  \n",
       "0  Reilly, Brendan  121 N LaSalle St    60602  \n",
       "1  Reilly, Brendan  121 N LaSalle St    60602  \n",
       "2  Reilly, Brendan  121 N LaSalle St    60602  \n",
       "3  Reilly, Brendan  121 N LaSalle St    60602  \n",
       "4  Reilly, Brendan  121 N LaSalle St    60602  "
      ]
     },
     "execution_count": 115,
     "metadata": {},
     "output_type": "execute_result"
    }
   ],
   "source": [
    "grants_licenses_ward.head()"
   ]
  },
  {
   "cell_type": "code",
   "execution_count": null,
   "metadata": {},
   "outputs": [],
   "source": [
    "grants_licenses_ward.groupby('ward').agg('sum').plot(kind='bar')"
   ]
  },
  {
   "cell_type": "markdown",
   "metadata": {},
   "source": [
    "#### \n",
    "df1.merge(df2, on'col') \\ \n",
    "    .merge(df3, on'col')"
   ]
  },
  {
   "cell_type": "code",
   "execution_count": null,
   "metadata": {},
   "outputs": [],
   "source": []
  }
 ],
 "metadata": {
  "interpreter": {
   "hash": "aee8b7b246df8f9039afb4144a1f6fd8d2ca17a180786b69acc140d282b71a49"
  },
  "kernelspec": {
   "display_name": "Python 3.9.9 64-bit",
   "language": "python",
   "name": "python3"
  },
  "language_info": {
   "codemirror_mode": {
    "name": "ipython",
    "version": 3
   },
   "file_extension": ".py",
   "mimetype": "text/x-python",
   "name": "python",
   "nbconvert_exporter": "python",
   "pygments_lexer": "ipython3",
   "version": "3.9.9"
  },
  "orig_nbformat": 4
 },
 "nbformat": 4,
 "nbformat_minor": 2
}
