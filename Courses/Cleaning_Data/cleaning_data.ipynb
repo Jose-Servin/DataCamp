{
 "cells": [
  {
   "cell_type": "markdown",
   "source": [
    "# Data Process"
   ],
   "metadata": {
    "collapsed": false
   }
  },
  {
   "cell_type": "markdown",
   "source": [
    "* Access Data\n",
    "* Explore and Process Data\n",
    "* Extract Insight\n",
    "* Report Insight"
   ],
   "metadata": {
    "collapsed": false
   }
  },
  {
   "cell_type": "code",
   "execution_count": 2240,
   "outputs": [],
   "source": [
    "import pandas as pd\n",
    "import matplotlib.pyplot as plt\n",
    "import datetime as dt\n",
    "import seaborn as sns\n",
    "import numpy as np"
   ],
   "metadata": {
    "collapsed": false,
    "pycharm": {
     "name": "#%%\n"
    }
   }
  },
  {
   "cell_type": "markdown",
   "source": [
    "# Data type constraints"
   ],
   "metadata": {
    "collapsed": false
   }
  },
  {
   "cell_type": "markdown",
   "source": [
    "## string to integers"
   ],
   "metadata": {
    "collapsed": false
   }
  },
  {
   "cell_type": "code",
   "execution_count": 2241,
   "metadata": {
    "collapsed": true,
    "pycharm": {
     "name": "#%%\n"
    }
   },
   "outputs": [
    {
     "data": {
      "text/plain": "   SalesOrderID Revenue  Quantity\n0          1001  23154$        43\n1          1002   8748$         3",
      "text/html": "<div>\n<style scoped>\n    .dataframe tbody tr th:only-of-type {\n        vertical-align: middle;\n    }\n\n    .dataframe tbody tr th {\n        vertical-align: top;\n    }\n\n    .dataframe thead th {\n        text-align: right;\n    }\n</style>\n<table border=\"1\" class=\"dataframe\">\n  <thead>\n    <tr style=\"text-align: right;\">\n      <th></th>\n      <th>SalesOrderID</th>\n      <th>Revenue</th>\n      <th>Quantity</th>\n    </tr>\n  </thead>\n  <tbody>\n    <tr>\n      <th>0</th>\n      <td>1001</td>\n      <td>23154$</td>\n      <td>43</td>\n    </tr>\n    <tr>\n      <th>1</th>\n      <td>1002</td>\n      <td>8748$</td>\n      <td>3</td>\n    </tr>\n  </tbody>\n</table>\n</div>"
     },
     "execution_count": 2241,
     "metadata": {},
     "output_type": "execute_result"
    }
   ],
   "source": [
    "data = {\n",
    "    'SalesOrderID':[1001, 1002],\n",
    "    'Revenue':['23154$','8748$'],\n",
    "    'Quantity':[43,3]\n",
    "}\n",
    "example_df = pd.DataFrame(data)\n",
    "example_df.head()"
   ]
  },
  {
   "cell_type": "code",
   "execution_count": 2242,
   "outputs": [
    {
     "name": "stdout",
     "output_type": "stream",
     "text": [
      "<class 'pandas.core.frame.DataFrame'>\n",
      "RangeIndex: 2 entries, 0 to 1\n",
      "Data columns (total 3 columns):\n",
      " #   Column        Non-Null Count  Dtype \n",
      "---  ------        --------------  ----- \n",
      " 0   SalesOrderID  2 non-null      int64 \n",
      " 1   Revenue       2 non-null      object\n",
      " 2   Quantity      2 non-null      int64 \n",
      "dtypes: int64(2), object(1)\n",
      "memory usage: 176.0+ bytes\n"
     ]
    }
   ],
   "source": [
    "example_df.info()"
   ],
   "metadata": {
    "collapsed": false,
    "pycharm": {
     "name": "#%%\n"
    }
   }
  },
  {
   "cell_type": "code",
   "execution_count": 2243,
   "outputs": [
    {
     "name": "stdout",
     "output_type": "stream",
     "text": [
      "<class 'pandas.core.frame.DataFrame'>\n",
      "RangeIndex: 2 entries, 0 to 1\n",
      "Data columns (total 3 columns):\n",
      " #   Column        Non-Null Count  Dtype\n",
      "---  ------        --------------  -----\n",
      " 0   SalesOrderID  2 non-null      int64\n",
      " 1   Revenue       2 non-null      int64\n",
      " 2   Quantity      2 non-null      int64\n",
      "dtypes: int64(3)\n",
      "memory usage: 176.0 bytes\n"
     ]
    }
   ],
   "source": [
    "example_df['Revenue'] = example_df['Revenue'].str.strip('$')\n",
    "example_df['Revenue'] = example_df['Revenue'].astype(int)\n",
    "example_df.info()"
   ],
   "metadata": {
    "collapsed": false,
    "pycharm": {
     "name": "#%%\n"
    }
   }
  },
  {
   "cell_type": "code",
   "execution_count": 2244,
   "outputs": [
    {
     "data": {
      "text/plain": "   SalesOrderID  Revenue  Quantity\n0          1001    23154        43\n1          1002     8748         3",
      "text/html": "<div>\n<style scoped>\n    .dataframe tbody tr th:only-of-type {\n        vertical-align: middle;\n    }\n\n    .dataframe tbody tr th {\n        vertical-align: top;\n    }\n\n    .dataframe thead th {\n        text-align: right;\n    }\n</style>\n<table border=\"1\" class=\"dataframe\">\n  <thead>\n    <tr style=\"text-align: right;\">\n      <th></th>\n      <th>SalesOrderID</th>\n      <th>Revenue</th>\n      <th>Quantity</th>\n    </tr>\n  </thead>\n  <tbody>\n    <tr>\n      <th>0</th>\n      <td>1001</td>\n      <td>23154</td>\n      <td>43</td>\n    </tr>\n    <tr>\n      <th>1</th>\n      <td>1002</td>\n      <td>8748</td>\n      <td>3</td>\n    </tr>\n  </tbody>\n</table>\n</div>"
     },
     "execution_count": 2244,
     "metadata": {},
     "output_type": "execute_result"
    }
   ],
   "source": [
    "example_df"
   ],
   "metadata": {
    "collapsed": false,
    "pycharm": {
     "name": "#%%\n"
    }
   }
  },
  {
   "cell_type": "code",
   "execution_count": 2245,
   "outputs": [],
   "source": [
    "assert example_df['Revenue'].dtype == int"
   ],
   "metadata": {
    "collapsed": false,
    "pycharm": {
     "name": "#%%\n"
    }
   }
  },
  {
   "cell_type": "code",
   "execution_count": 2246,
   "outputs": [],
   "source": [
    "example_df['OnSale'] = [0,1]"
   ],
   "metadata": {
    "collapsed": false,
    "pycharm": {
     "name": "#%%\n"
    }
   }
  },
  {
   "cell_type": "code",
   "execution_count": 2247,
   "outputs": [
    {
     "name": "stdout",
     "output_type": "stream",
     "text": [
      "<class 'pandas.core.frame.DataFrame'>\n",
      "RangeIndex: 2 entries, 0 to 1\n",
      "Data columns (total 4 columns):\n",
      " #   Column        Non-Null Count  Dtype\n",
      "---  ------        --------------  -----\n",
      " 0   SalesOrderID  2 non-null      int64\n",
      " 1   Revenue       2 non-null      int64\n",
      " 2   Quantity      2 non-null      int64\n",
      " 3   OnSale        2 non-null      int64\n",
      "dtypes: int64(4)\n",
      "memory usage: 192.0 bytes\n"
     ]
    }
   ],
   "source": [
    "example_df.info()"
   ],
   "metadata": {
    "collapsed": false,
    "pycharm": {
     "name": "#%%\n"
    }
   }
  },
  {
   "cell_type": "markdown",
   "source": [
    "## number to categorical"
   ],
   "metadata": {
    "collapsed": false
   }
  },
  {
   "cell_type": "code",
   "execution_count": 2248,
   "outputs": [],
   "source": [
    "example_df['OnSale'] = example_df['OnSale'].astype('category')"
   ],
   "metadata": {
    "collapsed": false,
    "pycharm": {
     "name": "#%%\n"
    }
   }
  },
  {
   "cell_type": "code",
   "execution_count": 2249,
   "outputs": [
    {
     "name": "stdout",
     "output_type": "stream",
     "text": [
      "<class 'pandas.core.frame.DataFrame'>\n",
      "RangeIndex: 2 entries, 0 to 1\n",
      "Data columns (total 4 columns):\n",
      " #   Column        Non-Null Count  Dtype   \n",
      "---  ------        --------------  -----   \n",
      " 0   SalesOrderID  2 non-null      int64   \n",
      " 1   Revenue       2 non-null      int64   \n",
      " 2   Quantity      2 non-null      int64   \n",
      " 3   OnSale        2 non-null      category\n",
      "dtypes: category(1), int64(3)\n",
      "memory usage: 302.0 bytes\n"
     ]
    }
   ],
   "source": [
    "example_df.info()"
   ],
   "metadata": {
    "collapsed": false,
    "pycharm": {
     "name": "#%%\n"
    }
   }
  },
  {
   "cell_type": "code",
   "execution_count": 2250,
   "outputs": [
    {
     "data": {
      "text/plain": "       SalesOrderID      Revenue   Quantity\ncount      2.000000      2.00000   2.000000\nmean    1001.500000  15951.00000  23.000000\nstd        0.707107  10186.58029  28.284271\nmin     1001.000000   8748.00000   3.000000\n25%     1001.250000  12349.50000  13.000000\n50%     1001.500000  15951.00000  23.000000\n75%     1001.750000  19552.50000  33.000000\nmax     1002.000000  23154.00000  43.000000",
      "text/html": "<div>\n<style scoped>\n    .dataframe tbody tr th:only-of-type {\n        vertical-align: middle;\n    }\n\n    .dataframe tbody tr th {\n        vertical-align: top;\n    }\n\n    .dataframe thead th {\n        text-align: right;\n    }\n</style>\n<table border=\"1\" class=\"dataframe\">\n  <thead>\n    <tr style=\"text-align: right;\">\n      <th></th>\n      <th>SalesOrderID</th>\n      <th>Revenue</th>\n      <th>Quantity</th>\n    </tr>\n  </thead>\n  <tbody>\n    <tr>\n      <th>count</th>\n      <td>2.000000</td>\n      <td>2.00000</td>\n      <td>2.000000</td>\n    </tr>\n    <tr>\n      <th>mean</th>\n      <td>1001.500000</td>\n      <td>15951.00000</td>\n      <td>23.000000</td>\n    </tr>\n    <tr>\n      <th>std</th>\n      <td>0.707107</td>\n      <td>10186.58029</td>\n      <td>28.284271</td>\n    </tr>\n    <tr>\n      <th>min</th>\n      <td>1001.000000</td>\n      <td>8748.00000</td>\n      <td>3.000000</td>\n    </tr>\n    <tr>\n      <th>25%</th>\n      <td>1001.250000</td>\n      <td>12349.50000</td>\n      <td>13.000000</td>\n    </tr>\n    <tr>\n      <th>50%</th>\n      <td>1001.500000</td>\n      <td>15951.00000</td>\n      <td>23.000000</td>\n    </tr>\n    <tr>\n      <th>75%</th>\n      <td>1001.750000</td>\n      <td>19552.50000</td>\n      <td>33.000000</td>\n    </tr>\n    <tr>\n      <th>max</th>\n      <td>1002.000000</td>\n      <td>23154.00000</td>\n      <td>43.000000</td>\n    </tr>\n  </tbody>\n</table>\n</div>"
     },
     "execution_count": 2250,
     "metadata": {},
     "output_type": "execute_result"
    }
   ],
   "source": [
    "example_df.describe()"
   ],
   "metadata": {
    "collapsed": false,
    "pycharm": {
     "name": "#%%\n"
    }
   }
  },
  {
   "cell_type": "markdown",
   "source": [
    "# San Francisco ride sharing data"
   ],
   "metadata": {
    "collapsed": false
   }
  },
  {
   "cell_type": "code",
   "execution_count": 2251,
   "outputs": [
    {
     "data": {
      "text/plain": "   Unnamed: 0    duration  station_A_id  \\\n0           0  12 minutes            81   \n1           1  24 minutes             3   \n2           2   8 minutes            67   \n3           3   4 minutes            16   \n4           4  11 minutes            22   \n\n                                      station_A_name  station_B_id  \\\n0                                 Berry St at 4th St           323   \n1       Powell St BART Station (Market St at 4th St)           118   \n2  San Francisco Caltrain Station 2  (Townsend St...            23   \n3                            Steuart St at Market St            28   \n4                              Howard St at Beale St           350   \n\n                    station_B_name  bike_id  user_type  user_birth_year  \\\n0               Broadway at Kearny     5480          2             1959   \n1  Eureka Valley Recreation Center     5193          2             1965   \n2    The Embarcadero at Steuart St     3652          3             1993   \n3     The Embarcadero at Bryant St     1883          1             1979   \n4             8th St at Brannan St     4626          2             1994   \n\n  user_gender  \n0        Male  \n1        Male  \n2        Male  \n3        Male  \n4        Male  ",
      "text/html": "<div>\n<style scoped>\n    .dataframe tbody tr th:only-of-type {\n        vertical-align: middle;\n    }\n\n    .dataframe tbody tr th {\n        vertical-align: top;\n    }\n\n    .dataframe thead th {\n        text-align: right;\n    }\n</style>\n<table border=\"1\" class=\"dataframe\">\n  <thead>\n    <tr style=\"text-align: right;\">\n      <th></th>\n      <th>Unnamed: 0</th>\n      <th>duration</th>\n      <th>station_A_id</th>\n      <th>station_A_name</th>\n      <th>station_B_id</th>\n      <th>station_B_name</th>\n      <th>bike_id</th>\n      <th>user_type</th>\n      <th>user_birth_year</th>\n      <th>user_gender</th>\n    </tr>\n  </thead>\n  <tbody>\n    <tr>\n      <th>0</th>\n      <td>0</td>\n      <td>12 minutes</td>\n      <td>81</td>\n      <td>Berry St at 4th St</td>\n      <td>323</td>\n      <td>Broadway at Kearny</td>\n      <td>5480</td>\n      <td>2</td>\n      <td>1959</td>\n      <td>Male</td>\n    </tr>\n    <tr>\n      <th>1</th>\n      <td>1</td>\n      <td>24 minutes</td>\n      <td>3</td>\n      <td>Powell St BART Station (Market St at 4th St)</td>\n      <td>118</td>\n      <td>Eureka Valley Recreation Center</td>\n      <td>5193</td>\n      <td>2</td>\n      <td>1965</td>\n      <td>Male</td>\n    </tr>\n    <tr>\n      <th>2</th>\n      <td>2</td>\n      <td>8 minutes</td>\n      <td>67</td>\n      <td>San Francisco Caltrain Station 2  (Townsend St...</td>\n      <td>23</td>\n      <td>The Embarcadero at Steuart St</td>\n      <td>3652</td>\n      <td>3</td>\n      <td>1993</td>\n      <td>Male</td>\n    </tr>\n    <tr>\n      <th>3</th>\n      <td>3</td>\n      <td>4 minutes</td>\n      <td>16</td>\n      <td>Steuart St at Market St</td>\n      <td>28</td>\n      <td>The Embarcadero at Bryant St</td>\n      <td>1883</td>\n      <td>1</td>\n      <td>1979</td>\n      <td>Male</td>\n    </tr>\n    <tr>\n      <th>4</th>\n      <td>4</td>\n      <td>11 minutes</td>\n      <td>22</td>\n      <td>Howard St at Beale St</td>\n      <td>350</td>\n      <td>8th St at Brannan St</td>\n      <td>4626</td>\n      <td>2</td>\n      <td>1994</td>\n      <td>Male</td>\n    </tr>\n  </tbody>\n</table>\n</div>"
     },
     "execution_count": 2251,
     "metadata": {},
     "output_type": "execute_result"
    }
   ],
   "source": [
    "ride_sharing = pd.read_csv('/Users/joseservin/DataCamp/Courses/Cleaning_Data/ride_sharing_new.csv')\n",
    "ride_sharing.head()"
   ],
   "metadata": {
    "collapsed": false,
    "pycharm": {
     "name": "#%%\n"
    }
   }
  },
  {
   "cell_type": "code",
   "execution_count": 2252,
   "outputs": [
    {
     "data": {
      "text/plain": "count    25760.000000\nmean         2.008385\nstd          0.704541\nmin          1.000000\n25%          2.000000\n50%          2.000000\n75%          3.000000\nmax          3.000000\nName: user_type, dtype: float64"
     },
     "execution_count": 2252,
     "metadata": {},
     "output_type": "execute_result"
    }
   ],
   "source": [
    "ride_sharing['user_type'].describe()"
   ],
   "metadata": {
    "collapsed": false,
    "pycharm": {
     "name": "#%%\n"
    }
   }
  },
  {
   "cell_type": "markdown",
   "source": [
    "## converting int to categorical column"
   ],
   "metadata": {
    "collapsed": false
   }
  },
  {
   "cell_type": "code",
   "execution_count": 2253,
   "outputs": [],
   "source": [
    "ride_sharing['user_type'] = ride_sharing['user_type'].astype('category')"
   ],
   "metadata": {
    "collapsed": false,
    "pycharm": {
     "name": "#%%\n"
    }
   }
  },
  {
   "cell_type": "code",
   "execution_count": 2254,
   "outputs": [],
   "source": [
    "assert ride_sharing['user_type'].dtype == 'category'"
   ],
   "metadata": {
    "collapsed": false,
    "pycharm": {
     "name": "#%%\n"
    }
   }
  },
  {
   "cell_type": "code",
   "execution_count": 2255,
   "outputs": [
    {
     "name": "stdout",
     "output_type": "stream",
     "text": [
      "<class 'pandas.core.frame.DataFrame'>\n",
      "RangeIndex: 25760 entries, 0 to 25759\n",
      "Data columns (total 10 columns):\n",
      " #   Column           Non-Null Count  Dtype   \n",
      "---  ------           --------------  -----   \n",
      " 0   Unnamed: 0       25760 non-null  int64   \n",
      " 1   duration         25760 non-null  object  \n",
      " 2   station_A_id     25760 non-null  int64   \n",
      " 3   station_A_name   25760 non-null  object  \n",
      " 4   station_B_id     25760 non-null  int64   \n",
      " 5   station_B_name   25760 non-null  object  \n",
      " 6   bike_id          25760 non-null  int64   \n",
      " 7   user_type        25760 non-null  category\n",
      " 8   user_birth_year  25760 non-null  int64   \n",
      " 9   user_gender      25760 non-null  object  \n",
      "dtypes: category(1), int64(5), object(4)\n",
      "memory usage: 1.8+ MB\n"
     ]
    }
   ],
   "source": [
    "ride_sharing.info()"
   ],
   "metadata": {
    "collapsed": false,
    "pycharm": {
     "name": "#%%\n"
    }
   }
  },
  {
   "cell_type": "code",
   "execution_count": 2256,
   "outputs": [
    {
     "data": {
      "text/plain": "count     25760\nunique        3\ntop           2\nfreq      12972\nName: user_type, dtype: int64"
     },
     "execution_count": 2256,
     "metadata": {},
     "output_type": "execute_result"
    }
   ],
   "source": [
    "ride_sharing['user_type'].describe() # now describe shows us relevant information about the categorical variable user_type"
   ],
   "metadata": {
    "collapsed": false,
    "pycharm": {
     "name": "#%%\n"
    }
   }
  },
  {
   "cell_type": "markdown",
   "source": [
    "## string manipulation to convert object to integer"
   ],
   "metadata": {
    "collapsed": false
   }
  },
  {
   "cell_type": "code",
   "execution_count": 2257,
   "outputs": [],
   "source": [
    "ride_sharing['duration_trim'] = ride_sharing['duration'].str.strip('minutes')"
   ],
   "metadata": {
    "collapsed": false,
    "pycharm": {
     "name": "#%%\n"
    }
   }
  },
  {
   "cell_type": "code",
   "execution_count": 2258,
   "outputs": [
    {
     "data": {
      "text/plain": "       Unnamed: 0    duration  station_A_id  \\\n0               0  12 minutes            81   \n1               1  24 minutes             3   \n2               2   8 minutes            67   \n3               3   4 minutes            16   \n4               4  11 minutes            22   \n...           ...         ...           ...   \n25755       25755  11 minutes            15   \n25756       25756  10 minutes            15   \n25757       25757  14 minutes            15   \n25758       25758  14 minutes            15   \n25759       25759  29 minutes            16   \n\n                                          station_A_name  station_B_id  \\\n0                                     Berry St at 4th St           323   \n1           Powell St BART Station (Market St at 4th St)           118   \n2      San Francisco Caltrain Station 2  (Townsend St...            23   \n3                                Steuart St at Market St            28   \n4                                  Howard St at Beale St           350   \n...                                                  ...           ...   \n25755  San Francisco Ferry Building (Harry Bridges Pl...            34   \n25756  San Francisco Ferry Building (Harry Bridges Pl...            34   \n25757  San Francisco Ferry Building (Harry Bridges Pl...            42   \n25758  San Francisco Ferry Building (Harry Bridges Pl...            42   \n25759                            Steuart St at Market St           115   \n\n                                      station_B_name  bike_id user_type  \\\n0                                 Broadway at Kearny     5480         2   \n1                    Eureka Valley Recreation Center     5193         2   \n2                      The Embarcadero at Steuart St     3652         3   \n3                       The Embarcadero at Bryant St     1883         1   \n4                               8th St at Brannan St     4626         2   \n...                                              ...      ...       ...   \n25755                 Father Alfred E Boeddeker Park     5063         1   \n25756                 Father Alfred E Boeddeker Park     5411         2   \n25757  San Francisco City Hall (Polk St at Grove St)     5157         2   \n25758  San Francisco City Hall (Polk St at Grove St)     4438         2   \n25759                             Jackson Playground     1705         3   \n\n       user_birth_year user_gender duration_trim  \n0                 1959        Male           12   \n1                 1965        Male           24   \n2                 1993        Male            8   \n3                 1979        Male            4   \n4                 1994        Male           11   \n...                ...         ...           ...  \n25755             2000        Male           11   \n25756             1998        Male           10   \n25757             1995        Male           14   \n25758             1995        Male           14   \n25759             1990        Male           29   \n\n[25760 rows x 11 columns]",
      "text/html": "<div>\n<style scoped>\n    .dataframe tbody tr th:only-of-type {\n        vertical-align: middle;\n    }\n\n    .dataframe tbody tr th {\n        vertical-align: top;\n    }\n\n    .dataframe thead th {\n        text-align: right;\n    }\n</style>\n<table border=\"1\" class=\"dataframe\">\n  <thead>\n    <tr style=\"text-align: right;\">\n      <th></th>\n      <th>Unnamed: 0</th>\n      <th>duration</th>\n      <th>station_A_id</th>\n      <th>station_A_name</th>\n      <th>station_B_id</th>\n      <th>station_B_name</th>\n      <th>bike_id</th>\n      <th>user_type</th>\n      <th>user_birth_year</th>\n      <th>user_gender</th>\n      <th>duration_trim</th>\n    </tr>\n  </thead>\n  <tbody>\n    <tr>\n      <th>0</th>\n      <td>0</td>\n      <td>12 minutes</td>\n      <td>81</td>\n      <td>Berry St at 4th St</td>\n      <td>323</td>\n      <td>Broadway at Kearny</td>\n      <td>5480</td>\n      <td>2</td>\n      <td>1959</td>\n      <td>Male</td>\n      <td>12</td>\n    </tr>\n    <tr>\n      <th>1</th>\n      <td>1</td>\n      <td>24 minutes</td>\n      <td>3</td>\n      <td>Powell St BART Station (Market St at 4th St)</td>\n      <td>118</td>\n      <td>Eureka Valley Recreation Center</td>\n      <td>5193</td>\n      <td>2</td>\n      <td>1965</td>\n      <td>Male</td>\n      <td>24</td>\n    </tr>\n    <tr>\n      <th>2</th>\n      <td>2</td>\n      <td>8 minutes</td>\n      <td>67</td>\n      <td>San Francisco Caltrain Station 2  (Townsend St...</td>\n      <td>23</td>\n      <td>The Embarcadero at Steuart St</td>\n      <td>3652</td>\n      <td>3</td>\n      <td>1993</td>\n      <td>Male</td>\n      <td>8</td>\n    </tr>\n    <tr>\n      <th>3</th>\n      <td>3</td>\n      <td>4 minutes</td>\n      <td>16</td>\n      <td>Steuart St at Market St</td>\n      <td>28</td>\n      <td>The Embarcadero at Bryant St</td>\n      <td>1883</td>\n      <td>1</td>\n      <td>1979</td>\n      <td>Male</td>\n      <td>4</td>\n    </tr>\n    <tr>\n      <th>4</th>\n      <td>4</td>\n      <td>11 minutes</td>\n      <td>22</td>\n      <td>Howard St at Beale St</td>\n      <td>350</td>\n      <td>8th St at Brannan St</td>\n      <td>4626</td>\n      <td>2</td>\n      <td>1994</td>\n      <td>Male</td>\n      <td>11</td>\n    </tr>\n    <tr>\n      <th>...</th>\n      <td>...</td>\n      <td>...</td>\n      <td>...</td>\n      <td>...</td>\n      <td>...</td>\n      <td>...</td>\n      <td>...</td>\n      <td>...</td>\n      <td>...</td>\n      <td>...</td>\n      <td>...</td>\n    </tr>\n    <tr>\n      <th>25755</th>\n      <td>25755</td>\n      <td>11 minutes</td>\n      <td>15</td>\n      <td>San Francisco Ferry Building (Harry Bridges Pl...</td>\n      <td>34</td>\n      <td>Father Alfred E Boeddeker Park</td>\n      <td>5063</td>\n      <td>1</td>\n      <td>2000</td>\n      <td>Male</td>\n      <td>11</td>\n    </tr>\n    <tr>\n      <th>25756</th>\n      <td>25756</td>\n      <td>10 minutes</td>\n      <td>15</td>\n      <td>San Francisco Ferry Building (Harry Bridges Pl...</td>\n      <td>34</td>\n      <td>Father Alfred E Boeddeker Park</td>\n      <td>5411</td>\n      <td>2</td>\n      <td>1998</td>\n      <td>Male</td>\n      <td>10</td>\n    </tr>\n    <tr>\n      <th>25757</th>\n      <td>25757</td>\n      <td>14 minutes</td>\n      <td>15</td>\n      <td>San Francisco Ferry Building (Harry Bridges Pl...</td>\n      <td>42</td>\n      <td>San Francisco City Hall (Polk St at Grove St)</td>\n      <td>5157</td>\n      <td>2</td>\n      <td>1995</td>\n      <td>Male</td>\n      <td>14</td>\n    </tr>\n    <tr>\n      <th>25758</th>\n      <td>25758</td>\n      <td>14 minutes</td>\n      <td>15</td>\n      <td>San Francisco Ferry Building (Harry Bridges Pl...</td>\n      <td>42</td>\n      <td>San Francisco City Hall (Polk St at Grove St)</td>\n      <td>4438</td>\n      <td>2</td>\n      <td>1995</td>\n      <td>Male</td>\n      <td>14</td>\n    </tr>\n    <tr>\n      <th>25759</th>\n      <td>25759</td>\n      <td>29 minutes</td>\n      <td>16</td>\n      <td>Steuart St at Market St</td>\n      <td>115</td>\n      <td>Jackson Playground</td>\n      <td>1705</td>\n      <td>3</td>\n      <td>1990</td>\n      <td>Male</td>\n      <td>29</td>\n    </tr>\n  </tbody>\n</table>\n<p>25760 rows × 11 columns</p>\n</div>"
     },
     "execution_count": 2258,
     "metadata": {},
     "output_type": "execute_result"
    }
   ],
   "source": [
    "ride_sharing"
   ],
   "metadata": {
    "collapsed": false,
    "pycharm": {
     "name": "#%%\n"
    }
   }
  },
  {
   "cell_type": "code",
   "execution_count": 2259,
   "outputs": [],
   "source": [
    "ride_sharing['duration_time'] = ride_sharing['duration_trim'].astype(int)"
   ],
   "metadata": {
    "collapsed": false,
    "pycharm": {
     "name": "#%%\n"
    }
   }
  },
  {
   "cell_type": "code",
   "execution_count": 2260,
   "outputs": [],
   "source": [
    "assert ride_sharing['duration_time'].dtype == 'int'"
   ],
   "metadata": {
    "collapsed": false,
    "pycharm": {
     "name": "#%%\n"
    }
   }
  },
  {
   "cell_type": "code",
   "execution_count": 2261,
   "outputs": [
    {
     "data": {
      "text/plain": "11.389052795031056"
     },
     "execution_count": 2261,
     "metadata": {},
     "output_type": "execute_result"
    }
   ],
   "source": [
    "ride_sharing['duration_time'].mean()"
   ],
   "metadata": {
    "collapsed": false,
    "pycharm": {
     "name": "#%%\n"
    }
   }
  },
  {
   "cell_type": "markdown",
   "source": [
    "# Data Range Constraints"
   ],
   "metadata": {
    "collapsed": false,
    "pycharm": {
     "name": "#%% md\n"
    }
   }
  },
  {
   "cell_type": "markdown",
   "source": [
    "* Given: rating can be any integer between 1 - 5"
   ],
   "metadata": {
    "collapsed": false
   }
  },
  {
   "cell_type": "code",
   "execution_count": 2262,
   "outputs": [
    {
     "data": {
      "text/plain": "  Movie_Name  avg_rating\n0     Movie1           6\n1     Movie2           5\n2     Movie3           3\n3     Movie4           2\n4     Movie5           4",
      "text/html": "<div>\n<style scoped>\n    .dataframe tbody tr th:only-of-type {\n        vertical-align: middle;\n    }\n\n    .dataframe tbody tr th {\n        vertical-align: top;\n    }\n\n    .dataframe thead th {\n        text-align: right;\n    }\n</style>\n<table border=\"1\" class=\"dataframe\">\n  <thead>\n    <tr style=\"text-align: right;\">\n      <th></th>\n      <th>Movie_Name</th>\n      <th>avg_rating</th>\n    </tr>\n  </thead>\n  <tbody>\n    <tr>\n      <th>0</th>\n      <td>Movie1</td>\n      <td>6</td>\n    </tr>\n    <tr>\n      <th>1</th>\n      <td>Movie2</td>\n      <td>5</td>\n    </tr>\n    <tr>\n      <th>2</th>\n      <td>Movie3</td>\n      <td>3</td>\n    </tr>\n    <tr>\n      <th>3</th>\n      <td>Movie4</td>\n      <td>2</td>\n    </tr>\n    <tr>\n      <th>4</th>\n      <td>Movie5</td>\n      <td>4</td>\n    </tr>\n  </tbody>\n</table>\n</div>"
     },
     "execution_count": 2262,
     "metadata": {},
     "output_type": "execute_result"
    }
   ],
   "source": [
    "movies = {\n",
    "    'Movie_Name':['Movie1','Movie2','Movie3','Movie4','Movie5'],\n",
    "    'avg_rating' : [6,5,3,2,4]\n",
    "}\n",
    "movies = pd.DataFrame(movies)\n",
    "movies"
   ],
   "metadata": {
    "collapsed": false,
    "pycharm": {
     "name": "#%%\n"
    }
   }
  },
  {
   "cell_type": "code",
   "execution_count": 2263,
   "outputs": [
    {
     "data": {
      "text/plain": "  Movie_Name  avg_rating\n0     Movie1           6",
      "text/html": "<div>\n<style scoped>\n    .dataframe tbody tr th:only-of-type {\n        vertical-align: middle;\n    }\n\n    .dataframe tbody tr th {\n        vertical-align: top;\n    }\n\n    .dataframe thead th {\n        text-align: right;\n    }\n</style>\n<table border=\"1\" class=\"dataframe\">\n  <thead>\n    <tr style=\"text-align: right;\">\n      <th></th>\n      <th>Movie_Name</th>\n      <th>avg_rating</th>\n    </tr>\n  </thead>\n  <tbody>\n    <tr>\n      <th>0</th>\n      <td>Movie1</td>\n      <td>6</td>\n    </tr>\n  </tbody>\n</table>\n</div>"
     },
     "execution_count": 2263,
     "metadata": {},
     "output_type": "execute_result"
    }
   ],
   "source": [
    "# isolate movies that are out of range\n",
    "movies[movies['avg_rating'] > 5]"
   ],
   "metadata": {
    "collapsed": false,
    "pycharm": {
     "name": "#%%\n"
    }
   }
  },
  {
   "cell_type": "code",
   "execution_count": 2264,
   "outputs": [
    {
     "data": {
      "text/plain": "<AxesSubplot:xlabel='avg_rating', ylabel='count'>"
     },
     "execution_count": 2264,
     "metadata": {},
     "output_type": "execute_result"
    },
    {
     "data": {
      "text/plain": "<Figure size 432x288 with 1 Axes>",
      "image/png": "[encoded data removed]"
     },
     "metadata": {
      "needs_background": "light"
     },
     "output_type": "display_data"
    }
   ],
   "source": [
    "sns.countplot(x='avg_rating', data=movies)"
   ],
   "metadata": {
    "collapsed": false,
    "pycharm": {
     "name": "#%%\n"
    }
   }
  },
  {
   "cell_type": "markdown",
   "source": [
    "## Drop values using filtration"
   ],
   "metadata": {
    "collapsed": false
   }
  },
  {
   "cell_type": "code",
   "execution_count": 2265,
   "outputs": [
    {
     "data": {
      "text/plain": "  Movie_Name  avg_rating\n1     Movie2           5\n2     Movie3           3\n3     Movie4           2\n4     Movie5           4",
      "text/html": "<div>\n<style scoped>\n    .dataframe tbody tr th:only-of-type {\n        vertical-align: middle;\n    }\n\n    .dataframe tbody tr th {\n        vertical-align: top;\n    }\n\n    .dataframe thead th {\n        text-align: right;\n    }\n</style>\n<table border=\"1\" class=\"dataframe\">\n  <thead>\n    <tr style=\"text-align: right;\">\n      <th></th>\n      <th>Movie_Name</th>\n      <th>avg_rating</th>\n    </tr>\n  </thead>\n  <tbody>\n    <tr>\n      <th>1</th>\n      <td>Movie2</td>\n      <td>5</td>\n    </tr>\n    <tr>\n      <th>2</th>\n      <td>Movie3</td>\n      <td>3</td>\n    </tr>\n    <tr>\n      <th>3</th>\n      <td>Movie4</td>\n      <td>2</td>\n    </tr>\n    <tr>\n      <th>4</th>\n      <td>Movie5</td>\n      <td>4</td>\n    </tr>\n  </tbody>\n</table>\n</div>"
     },
     "execution_count": 2265,
     "metadata": {},
     "output_type": "execute_result"
    }
   ],
   "source": [
    "movies = movies[movies['avg_rating'] <= 5]\n",
    "movies"
   ],
   "metadata": {
    "collapsed": false,
    "pycharm": {
     "name": "#%%\n"
    }
   }
  },
  {
   "cell_type": "code",
   "execution_count": 2266,
   "outputs": [
    {
     "data": {
      "text/plain": "<AxesSubplot:xlabel='avg_rating', ylabel='count'>"
     },
     "execution_count": 2266,
     "metadata": {},
     "output_type": "execute_result"
    },
    {
     "data": {
      "text/plain": "<Figure size 432x288 with 1 Axes>",
      "image/png": "[encoded data removed]"
     },
     "metadata": {
      "needs_background": "light"
     },
     "output_type": "display_data"
    }
   ],
   "source": [
    "sns.countplot(x='avg_rating', data=movies)"
   ],
   "metadata": {
    "collapsed": false,
    "pycharm": {
     "name": "#%%\n"
    }
   }
  },
  {
   "cell_type": "markdown",
   "source": [
    "## Drop values using .drop()"
   ],
   "metadata": {
    "collapsed": false
   }
  },
  {
   "cell_type": "code",
   "execution_count": 2267,
   "outputs": [],
   "source": [
    "movies = {\n",
    "    'Movie_Name':['Movie1','Movie2','Movie3','Movie4','Movie5'],\n",
    "    'avg_rating' : [6,5,3,2,4]\n",
    "}\n",
    "movies = pd.DataFrame(movies)"
   ],
   "metadata": {
    "collapsed": false,
    "pycharm": {
     "name": "#%%\n"
    }
   }
  },
  {
   "cell_type": "code",
   "execution_count": 2268,
   "outputs": [],
   "source": [
    "movies.drop(movies[movies['avg_rating'] > 5].index, inplace=True)"
   ],
   "metadata": {
    "collapsed": false,
    "pycharm": {
     "name": "#%%\n"
    }
   }
  },
  {
   "cell_type": "code",
   "execution_count": 2269,
   "outputs": [],
   "source": [
    "assert movies['avg_rating'].max()  <= 5"
   ],
   "metadata": {
    "collapsed": false,
    "pycharm": {
     "name": "#%%\n"
    }
   }
  },
  {
   "cell_type": "code",
   "execution_count": 2270,
   "outputs": [
    {
     "data": {
      "text/plain": "<AxesSubplot:xlabel='avg_rating', ylabel='count'>"
     },
     "execution_count": 2270,
     "metadata": {},
     "output_type": "execute_result"
    },
    {
     "data": {
      "text/plain": "<Figure size 432x288 with 1 Axes>",
      "image/png": "[encoded data removed]"
     },
     "metadata": {
      "needs_background": "light"
     },
     "output_type": "display_data"
    }
   ],
   "source": [
    "sns.countplot(x='avg_rating', data=movies)"
   ],
   "metadata": {
    "collapsed": false,
    "pycharm": {
     "name": "#%%\n"
    }
   }
  },
  {
   "cell_type": "code",
   "execution_count": 2271,
   "outputs": [
    {
     "name": "stdout",
     "output_type": "stream",
     "text": [
      "<class 'pandas.core.frame.DataFrame'>\n",
      "RangeIndex: 3 entries, 0 to 2\n",
      "Data columns (total 2 columns):\n",
      " #   Column           Non-Null Count  Dtype         \n",
      "---  ------           --------------  -----         \n",
      " 0   Date             3 non-null      datetime64[ns]\n",
      " 1   Membership_Type  3 non-null      object        \n",
      "dtypes: datetime64[ns](1), object(1)\n",
      "memory usage: 176.0+ bytes\n"
     ]
    }
   ],
   "source": [
    "sub_dates = {\n",
    "    'Date':['02/15/2022','02/02/2021','02/18/2026'],\n",
    "    'Membership_Type':['Gold','Gold','Silver']\n",
    "}\n",
    "sub_dates = pd.DataFrame(sub_dates)\n",
    "sub_dates['Date'] = pd.to_datetime(sub_dates['Date'])\n",
    "sub_dates.info()"
   ],
   "metadata": {
    "collapsed": false,
    "pycharm": {
     "name": "#%%\n"
    }
   }
  },
  {
   "cell_type": "markdown",
   "source": [
    "## Checking if there are dates in the future"
   ],
   "metadata": {
    "collapsed": false
   }
  },
  {
   "cell_type": "code",
   "execution_count": 2272,
   "outputs": [
    {
     "data": {
      "text/plain": "        Date Membership_Type\n2 2026-02-18          Silver",
      "text/html": "<div>\n<style scoped>\n    .dataframe tbody tr th:only-of-type {\n        vertical-align: middle;\n    }\n\n    .dataframe tbody tr th {\n        vertical-align: top;\n    }\n\n    .dataframe thead th {\n        text-align: right;\n    }\n</style>\n<table border=\"1\" class=\"dataframe\">\n  <thead>\n    <tr style=\"text-align: right;\">\n      <th></th>\n      <th>Date</th>\n      <th>Membership_Type</th>\n    </tr>\n  </thead>\n  <tbody>\n    <tr>\n      <th>2</th>\n      <td>2026-02-18</td>\n      <td>Silver</td>\n    </tr>\n  </tbody>\n</table>\n</div>"
     },
     "execution_count": 2272,
     "metadata": {},
     "output_type": "execute_result"
    }
   ],
   "source": [
    "sub_dates[sub_dates['Date'] > dt.datetime.today()] # need to compare datetime with datetime and not datetime vs date"
   ],
   "metadata": {
    "collapsed": false,
    "pycharm": {
     "name": "#%%\n"
    }
   }
  },
  {
   "cell_type": "markdown",
   "source": [
    "## Drop data for dates in the future"
   ],
   "metadata": {
    "collapsed": false
   }
  },
  {
   "cell_type": "code",
   "execution_count": 2273,
   "outputs": [
    {
     "data": {
      "text/plain": "        Date Membership_Type\n0 2022-02-15            Gold\n1 2021-02-02            Gold",
      "text/html": "<div>\n<style scoped>\n    .dataframe tbody tr th:only-of-type {\n        vertical-align: middle;\n    }\n\n    .dataframe tbody tr th {\n        vertical-align: top;\n    }\n\n    .dataframe thead th {\n        text-align: right;\n    }\n</style>\n<table border=\"1\" class=\"dataframe\">\n  <thead>\n    <tr style=\"text-align: right;\">\n      <th></th>\n      <th>Date</th>\n      <th>Membership_Type</th>\n    </tr>\n  </thead>\n  <tbody>\n    <tr>\n      <th>0</th>\n      <td>2022-02-15</td>\n      <td>Gold</td>\n    </tr>\n    <tr>\n      <th>1</th>\n      <td>2021-02-02</td>\n      <td>Gold</td>\n    </tr>\n  </tbody>\n</table>\n</div>"
     },
     "execution_count": 2273,
     "metadata": {},
     "output_type": "execute_result"
    }
   ],
   "source": [
    "sub_dates = sub_dates[sub_dates['Date'] < dt.datetime.today()]\n",
    "sub_dates"
   ],
   "metadata": {
    "collapsed": false,
    "pycharm": {
     "name": "#%%\n"
    }
   }
  },
  {
   "cell_type": "markdown",
   "source": [
    "## Setting hard limits for dates"
   ],
   "metadata": {
    "collapsed": false
   }
  },
  {
   "cell_type": "code",
   "execution_count": 2274,
   "outputs": [],
   "source": [
    "sub_dates = {\n",
    "    'Date':['02/15/2022','02/02/2021','02/18/2026'],\n",
    "    'Membership_Type':['Gold','Gold','Silver']\n",
    "}\n",
    "sub_dates = pd.DataFrame(sub_dates)\n",
    "sub_dates['Date'] = pd.to_datetime(sub_dates['Date'])"
   ],
   "metadata": {
    "collapsed": false,
    "pycharm": {
     "name": "#%%\n"
    }
   }
  },
  {
   "cell_type": "code",
   "execution_count": 2275,
   "outputs": [
    {
     "data": {
      "text/plain": "                        Date Membership_Type\n0 2022-02-15 00:00:00.000000            Gold\n1 2021-02-02 00:00:00.000000            Gold\n2 2022-02-17 22:20:22.437380          Silver",
      "text/html": "<div>\n<style scoped>\n    .dataframe tbody tr th:only-of-type {\n        vertical-align: middle;\n    }\n\n    .dataframe tbody tr th {\n        vertical-align: top;\n    }\n\n    .dataframe thead th {\n        text-align: right;\n    }\n</style>\n<table border=\"1\" class=\"dataframe\">\n  <thead>\n    <tr style=\"text-align: right;\">\n      <th></th>\n      <th>Date</th>\n      <th>Membership_Type</th>\n    </tr>\n  </thead>\n  <tbody>\n    <tr>\n      <th>0</th>\n      <td>2022-02-15 00:00:00.000000</td>\n      <td>Gold</td>\n    </tr>\n    <tr>\n      <th>1</th>\n      <td>2021-02-02 00:00:00.000000</td>\n      <td>Gold</td>\n    </tr>\n    <tr>\n      <th>2</th>\n      <td>2022-02-17 22:20:22.437380</td>\n      <td>Silver</td>\n    </tr>\n  </tbody>\n</table>\n</div>"
     },
     "execution_count": 2275,
     "metadata": {},
     "output_type": "execute_result"
    }
   ],
   "source": [
    "today = dt.datetime.today()\n",
    "sub_dates.loc[sub_dates['Date'] > today, 'Date'] = today\n",
    "sub_dates"
   ],
   "metadata": {
    "collapsed": false,
    "pycharm": {
     "name": "#%%\n"
    }
   }
  },
  {
   "cell_type": "markdown",
   "source": [
    "## Setting hard limits to ranges"
   ],
   "metadata": {
    "collapsed": false
   }
  },
  {
   "cell_type": "code",
   "execution_count": 2276,
   "outputs": [],
   "source": [
    "movies = {\n",
    "    'Movie_Name':['Movie1','Movie2','Movie3','Movie4','Movie5'],\n",
    "    'avg_rating' : [6,5,3,2,4]\n",
    "}\n",
    "movies = pd.DataFrame(movies)"
   ],
   "metadata": {
    "collapsed": false,
    "pycharm": {
     "name": "#%%\n"
    }
   }
  },
  {
   "cell_type": "markdown",
   "source": [
    "* using loc reads as \"for all rows where avg_rating is greater than 5, insert 5 for that row in column avg_rating"
   ],
   "metadata": {
    "collapsed": false
   }
  },
  {
   "cell_type": "code",
   "execution_count": 2277,
   "outputs": [],
   "source": [
    "movies.loc[movies['avg_rating']>5 ,'avg_rating'] = 5 # this will change Movie1 to have a rating of 5 instead of 6 since we are setting a hard limit"
   ],
   "metadata": {
    "collapsed": false,
    "pycharm": {
     "name": "#%%\n"
    }
   }
  },
  {
   "cell_type": "code",
   "execution_count": 2278,
   "outputs": [
    {
     "data": {
      "text/plain": "  Movie_Name  avg_rating\n0     Movie1           5\n1     Movie2           5\n2     Movie3           3\n3     Movie4           2\n4     Movie5           4",
      "text/html": "<div>\n<style scoped>\n    .dataframe tbody tr th:only-of-type {\n        vertical-align: middle;\n    }\n\n    .dataframe tbody tr th {\n        vertical-align: top;\n    }\n\n    .dataframe thead th {\n        text-align: right;\n    }\n</style>\n<table border=\"1\" class=\"dataframe\">\n  <thead>\n    <tr style=\"text-align: right;\">\n      <th></th>\n      <th>Movie_Name</th>\n      <th>avg_rating</th>\n    </tr>\n  </thead>\n  <tbody>\n    <tr>\n      <th>0</th>\n      <td>Movie1</td>\n      <td>5</td>\n    </tr>\n    <tr>\n      <th>1</th>\n      <td>Movie2</td>\n      <td>5</td>\n    </tr>\n    <tr>\n      <th>2</th>\n      <td>Movie3</td>\n      <td>3</td>\n    </tr>\n    <tr>\n      <th>3</th>\n      <td>Movie4</td>\n      <td>2</td>\n    </tr>\n    <tr>\n      <th>4</th>\n      <td>Movie5</td>\n      <td>4</td>\n    </tr>\n  </tbody>\n</table>\n</div>"
     },
     "execution_count": 2278,
     "metadata": {},
     "output_type": "execute_result"
    }
   ],
   "source": [
    "movies"
   ],
   "metadata": {
    "collapsed": false,
    "pycharm": {
     "name": "#%%\n"
    }
   }
  },
  {
   "cell_type": "markdown",
   "source": [
    "# Uniqueness Constraints"
   ],
   "metadata": {
    "collapsed": false
   }
  },
  {
   "cell_type": "code",
   "execution_count": 2279,
   "outputs": [
    {
     "data": {
      "text/plain": "  first_name last_name  Age\n0       Jose    Servin   25\n1      Baker    Servin   25\n2     Camila    Servin    9\n3      Bella       Cat    8\n4      Baker    Servin   21\n5       Jose    Servin   25\n6      Baker    Servin   19",
      "text/html": "<div>\n<style scoped>\n    .dataframe tbody tr th:only-of-type {\n        vertical-align: middle;\n    }\n\n    .dataframe tbody tr th {\n        vertical-align: top;\n    }\n\n    .dataframe thead th {\n        text-align: right;\n    }\n</style>\n<table border=\"1\" class=\"dataframe\">\n  <thead>\n    <tr style=\"text-align: right;\">\n      <th></th>\n      <th>first_name</th>\n      <th>last_name</th>\n      <th>Age</th>\n    </tr>\n  </thead>\n  <tbody>\n    <tr>\n      <th>0</th>\n      <td>Jose</td>\n      <td>Servin</td>\n      <td>25</td>\n    </tr>\n    <tr>\n      <th>1</th>\n      <td>Baker</td>\n      <td>Servin</td>\n      <td>25</td>\n    </tr>\n    <tr>\n      <th>2</th>\n      <td>Camila</td>\n      <td>Servin</td>\n      <td>9</td>\n    </tr>\n    <tr>\n      <th>3</th>\n      <td>Bella</td>\n      <td>Cat</td>\n      <td>8</td>\n    </tr>\n    <tr>\n      <th>4</th>\n      <td>Baker</td>\n      <td>Servin</td>\n      <td>21</td>\n    </tr>\n    <tr>\n      <th>5</th>\n      <td>Jose</td>\n      <td>Servin</td>\n      <td>25</td>\n    </tr>\n    <tr>\n      <th>6</th>\n      <td>Baker</td>\n      <td>Servin</td>\n      <td>19</td>\n    </tr>\n  </tbody>\n</table>\n</div>"
     },
     "execution_count": 2279,
     "metadata": {},
     "output_type": "execute_result"
    }
   ],
   "source": [
    "members = {\n",
    "    'first_name':['Jose','Baker','Camila','Bella','Baker','Jose','Baker'],\n",
    "    'last_name':['Servin','Servin','Servin','Cat','Servin','Servin','Servin'],\n",
    "    'Age':[25,25,9,8,21,25, 19]\n",
    "}\n",
    "members = pd.DataFrame(members)\n",
    "members"
   ],
   "metadata": {
    "collapsed": false,
    "pycharm": {
     "name": "#%%\n"
    }
   }
  },
  {
   "cell_type": "markdown",
   "source": [
    "## using duplicated() method with default arguments"
   ],
   "metadata": {
    "collapsed": false
   }
  },
  {
   "cell_type": "code",
   "execution_count": 2280,
   "outputs": [
    {
     "data": {
      "text/plain": "  first_name last_name  Age\n5       Jose    Servin   25",
      "text/html": "<div>\n<style scoped>\n    .dataframe tbody tr th:only-of-type {\n        vertical-align: middle;\n    }\n\n    .dataframe tbody tr th {\n        vertical-align: top;\n    }\n\n    .dataframe thead th {\n        text-align: right;\n    }\n</style>\n<table border=\"1\" class=\"dataframe\">\n  <thead>\n    <tr style=\"text-align: right;\">\n      <th></th>\n      <th>first_name</th>\n      <th>last_name</th>\n      <th>Age</th>\n    </tr>\n  </thead>\n  <tbody>\n    <tr>\n      <th>5</th>\n      <td>Jose</td>\n      <td>Servin</td>\n      <td>25</td>\n    </tr>\n  </tbody>\n</table>\n</div>"
     },
     "execution_count": 2280,
     "metadata": {},
     "output_type": "execute_result"
    }
   ],
   "source": [
    "duplicated = members.duplicated() # this will return all occurrences except the first for duplicated values in ALL columns\n",
    "members[duplicated]"
   ],
   "metadata": {
    "collapsed": false,
    "pycharm": {
     "name": "#%%\n"
    }
   }
  },
  {
   "cell_type": "markdown",
   "source": [
    "## using duplicated() method with arguments"
   ],
   "metadata": {
    "collapsed": false
   }
  },
  {
   "cell_type": "code",
   "execution_count": 2281,
   "outputs": [
    {
     "data": {
      "text/plain": "  first_name last_name  Age\n1      Baker    Servin   25\n4      Baker    Servin   21\n6      Baker    Servin   19\n0       Jose    Servin   25\n5       Jose    Servin   25",
      "text/html": "<div>\n<style scoped>\n    .dataframe tbody tr th:only-of-type {\n        vertical-align: middle;\n    }\n\n    .dataframe tbody tr th {\n        vertical-align: top;\n    }\n\n    .dataframe thead th {\n        text-align: right;\n    }\n</style>\n<table border=\"1\" class=\"dataframe\">\n  <thead>\n    <tr style=\"text-align: right;\">\n      <th></th>\n      <th>first_name</th>\n      <th>last_name</th>\n      <th>Age</th>\n    </tr>\n  </thead>\n  <tbody>\n    <tr>\n      <th>1</th>\n      <td>Baker</td>\n      <td>Servin</td>\n      <td>25</td>\n    </tr>\n    <tr>\n      <th>4</th>\n      <td>Baker</td>\n      <td>Servin</td>\n      <td>21</td>\n    </tr>\n    <tr>\n      <th>6</th>\n      <td>Baker</td>\n      <td>Servin</td>\n      <td>19</td>\n    </tr>\n    <tr>\n      <th>0</th>\n      <td>Jose</td>\n      <td>Servin</td>\n      <td>25</td>\n    </tr>\n    <tr>\n      <th>5</th>\n      <td>Jose</td>\n      <td>Servin</td>\n      <td>25</td>\n    </tr>\n  </tbody>\n</table>\n</div>"
     },
     "execution_count": 2281,
     "metadata": {},
     "output_type": "execute_result"
    }
   ],
   "source": [
    "col_names = ['first_name','last_name']\n",
    "duplicated_rows = members.duplicated(subset=col_names, keep=False)\n",
    "members[duplicated_rows].sort_values('first_name')"
   ],
   "metadata": {
    "collapsed": false,
    "pycharm": {
     "name": "#%%\n"
    }
   }
  },
  {
   "cell_type": "markdown",
   "source": [
    "## drop duplicates"
   ],
   "metadata": {
    "collapsed": false
   }
  },
  {
   "cell_type": "code",
   "execution_count": 2282,
   "outputs": [
    {
     "data": {
      "text/plain": "  first_name last_name  Age\n0       Jose    Servin   25\n1      Baker    Servin   25\n2     Camila    Servin    9\n3      Bella       Cat    8\n4      Baker    Servin   21\n6      Baker    Servin   19",
      "text/html": "<div>\n<style scoped>\n    .dataframe tbody tr th:only-of-type {\n        vertical-align: middle;\n    }\n\n    .dataframe tbody tr th {\n        vertical-align: top;\n    }\n\n    .dataframe thead th {\n        text-align: right;\n    }\n</style>\n<table border=\"1\" class=\"dataframe\">\n  <thead>\n    <tr style=\"text-align: right;\">\n      <th></th>\n      <th>first_name</th>\n      <th>last_name</th>\n      <th>Age</th>\n    </tr>\n  </thead>\n  <tbody>\n    <tr>\n      <th>0</th>\n      <td>Jose</td>\n      <td>Servin</td>\n      <td>25</td>\n    </tr>\n    <tr>\n      <th>1</th>\n      <td>Baker</td>\n      <td>Servin</td>\n      <td>25</td>\n    </tr>\n    <tr>\n      <th>2</th>\n      <td>Camila</td>\n      <td>Servin</td>\n      <td>9</td>\n    </tr>\n    <tr>\n      <th>3</th>\n      <td>Bella</td>\n      <td>Cat</td>\n      <td>8</td>\n    </tr>\n    <tr>\n      <th>4</th>\n      <td>Baker</td>\n      <td>Servin</td>\n      <td>21</td>\n    </tr>\n    <tr>\n      <th>6</th>\n      <td>Baker</td>\n      <td>Servin</td>\n      <td>19</td>\n    </tr>\n  </tbody>\n</table>\n</div>"
     },
     "execution_count": 2282,
     "metadata": {},
     "output_type": "execute_result"
    }
   ],
   "source": [
    "members.drop_duplicates(inplace=True) # default action is to drop rows with all duplicated column values which is what you want to do when you have the same entry twice\n",
    "members"
   ],
   "metadata": {
    "collapsed": false,
    "pycharm": {
     "name": "#%%\n"
    }
   }
  },
  {
   "cell_type": "code",
   "execution_count": 2283,
   "outputs": [
    {
     "data": {
      "text/plain": "  first_name last_name  Age\n1      Baker    Servin   25\n4      Baker    Servin   21\n6      Baker    Servin   19",
      "text/html": "<div>\n<style scoped>\n    .dataframe tbody tr th:only-of-type {\n        vertical-align: middle;\n    }\n\n    .dataframe tbody tr th {\n        vertical-align: top;\n    }\n\n    .dataframe thead th {\n        text-align: right;\n    }\n</style>\n<table border=\"1\" class=\"dataframe\">\n  <thead>\n    <tr style=\"text-align: right;\">\n      <th></th>\n      <th>first_name</th>\n      <th>last_name</th>\n      <th>Age</th>\n    </tr>\n  </thead>\n  <tbody>\n    <tr>\n      <th>1</th>\n      <td>Baker</td>\n      <td>Servin</td>\n      <td>25</td>\n    </tr>\n    <tr>\n      <th>4</th>\n      <td>Baker</td>\n      <td>Servin</td>\n      <td>21</td>\n    </tr>\n    <tr>\n      <th>6</th>\n      <td>Baker</td>\n      <td>Servin</td>\n      <td>19</td>\n    </tr>\n  </tbody>\n</table>\n</div>"
     },
     "execution_count": 2283,
     "metadata": {},
     "output_type": "execute_result"
    }
   ],
   "source": [
    "col_names = ['first_name','last_name']\n",
    "duplicated_rows = members.duplicated(subset=col_names, keep=False)\n",
    "members[duplicated_rows].sort_values('first_name')"
   ],
   "metadata": {
    "collapsed": false,
    "pycharm": {
     "name": "#%%\n"
    }
   }
  },
  {
   "cell_type": "markdown",
   "source": [
    "## using statistical measure to combine duplicated rows"
   ],
   "metadata": {
    "collapsed": false
   }
  },
  {
   "cell_type": "code",
   "execution_count": 2284,
   "outputs": [
    {
     "data": {
      "text/plain": "                            Age\nfirst_name last_name           \nBaker      Servin     21.666667\nBella      Cat         8.000000\nCamila     Servin      9.000000\nJose       Servin     25.000000",
      "text/html": "<div>\n<style scoped>\n    .dataframe tbody tr th:only-of-type {\n        vertical-align: middle;\n    }\n\n    .dataframe tbody tr th {\n        vertical-align: top;\n    }\n\n    .dataframe thead th {\n        text-align: right;\n    }\n</style>\n<table border=\"1\" class=\"dataframe\">\n  <thead>\n    <tr style=\"text-align: right;\">\n      <th></th>\n      <th></th>\n      <th>Age</th>\n    </tr>\n    <tr>\n      <th>first_name</th>\n      <th>last_name</th>\n      <th></th>\n    </tr>\n  </thead>\n  <tbody>\n    <tr>\n      <th>Baker</th>\n      <th>Servin</th>\n      <td>21.666667</td>\n    </tr>\n    <tr>\n      <th>Bella</th>\n      <th>Cat</th>\n      <td>8.000000</td>\n    </tr>\n    <tr>\n      <th>Camila</th>\n      <th>Servin</th>\n      <td>9.000000</td>\n    </tr>\n    <tr>\n      <th>Jose</th>\n      <th>Servin</th>\n      <td>25.000000</td>\n    </tr>\n  </tbody>\n</table>\n</div>"
     },
     "execution_count": 2284,
     "metadata": {},
     "output_type": "execute_result"
    }
   ],
   "source": [
    "stat_summaries = {'Age':'mean'}\n",
    "members = members.groupby(col_names).agg(stat_summaries) # index columns will be columns you group by\n",
    "members"
   ],
   "metadata": {
    "collapsed": false,
    "pycharm": {
     "name": "#%%\n"
    }
   }
  },
  {
   "cell_type": "code",
   "execution_count": 2285,
   "outputs": [
    {
     "data": {
      "text/plain": "  first_name last_name        Age\n0      Baker    Servin  21.666667\n1      Bella       Cat   8.000000\n2     Camila    Servin   9.000000\n3       Jose    Servin  25.000000",
      "text/html": "<div>\n<style scoped>\n    .dataframe tbody tr th:only-of-type {\n        vertical-align: middle;\n    }\n\n    .dataframe tbody tr th {\n        vertical-align: top;\n    }\n\n    .dataframe thead th {\n        text-align: right;\n    }\n</style>\n<table border=\"1\" class=\"dataframe\">\n  <thead>\n    <tr style=\"text-align: right;\">\n      <th></th>\n      <th>first_name</th>\n      <th>last_name</th>\n      <th>Age</th>\n    </tr>\n  </thead>\n  <tbody>\n    <tr>\n      <th>0</th>\n      <td>Baker</td>\n      <td>Servin</td>\n      <td>21.666667</td>\n    </tr>\n    <tr>\n      <th>1</th>\n      <td>Bella</td>\n      <td>Cat</td>\n      <td>8.000000</td>\n    </tr>\n    <tr>\n      <th>2</th>\n      <td>Camila</td>\n      <td>Servin</td>\n      <td>9.000000</td>\n    </tr>\n    <tr>\n      <th>3</th>\n      <td>Jose</td>\n      <td>Servin</td>\n      <td>25.000000</td>\n    </tr>\n  </tbody>\n</table>\n</div>"
     },
     "execution_count": 2285,
     "metadata": {},
     "output_type": "execute_result"
    }
   ],
   "source": [
    "stat_summaries = {'Age':'mean'}\n",
    "members = members.groupby(col_names).agg(stat_summaries).reset_index() # returns index back to numeric values\n",
    "members"
   ],
   "metadata": {
    "collapsed": false,
    "pycharm": {
     "name": "#%%\n"
    }
   }
  },
  {
   "cell_type": "markdown",
   "source": [
    "# Membership Constraints"
   ],
   "metadata": {
    "collapsed": false
   }
  },
  {
   "cell_type": "code",
   "execution_count": 2286,
   "outputs": [
    {
     "data": {
      "text/plain": "     name Grade\n0    Jose     A\n1   Baker     B\n2  Camila     C\n3   Bella     Z",
      "text/html": "<div>\n<style scoped>\n    .dataframe tbody tr th:only-of-type {\n        vertical-align: middle;\n    }\n\n    .dataframe tbody tr th {\n        vertical-align: top;\n    }\n\n    .dataframe thead th {\n        text-align: right;\n    }\n</style>\n<table border=\"1\" class=\"dataframe\">\n  <thead>\n    <tr style=\"text-align: right;\">\n      <th></th>\n      <th>name</th>\n      <th>Grade</th>\n    </tr>\n  </thead>\n  <tbody>\n    <tr>\n      <th>0</th>\n      <td>Jose</td>\n      <td>A</td>\n    </tr>\n    <tr>\n      <th>1</th>\n      <td>Baker</td>\n      <td>B</td>\n    </tr>\n    <tr>\n      <th>2</th>\n      <td>Camila</td>\n      <td>C</td>\n    </tr>\n    <tr>\n      <th>3</th>\n      <td>Bella</td>\n      <td>Z</td>\n    </tr>\n  </tbody>\n</table>\n</div>"
     },
     "execution_count": 2286,
     "metadata": {},
     "output_type": "execute_result"
    }
   ],
   "source": [
    "reported_grades = {\n",
    "    'name':['Jose','Baker','Camila','Bella'],\n",
    "    'Grade':['A','B','C','Z']\n",
    "}\n",
    "reported_grades = pd.DataFrame(reported_grades)\n",
    "reported_grades"
   ],
   "metadata": {
    "collapsed": false,
    "pycharm": {
     "name": "#%%\n"
    }
   }
  },
  {
   "cell_type": "code",
   "execution_count": 2287,
   "outputs": [
    {
     "data": {
      "text/plain": "  possible_grades\n0               A\n1               B\n2               C\n3               D\n4               F",
      "text/html": "<div>\n<style scoped>\n    .dataframe tbody tr th:only-of-type {\n        vertical-align: middle;\n    }\n\n    .dataframe tbody tr th {\n        vertical-align: top;\n    }\n\n    .dataframe thead th {\n        text-align: right;\n    }\n</style>\n<table border=\"1\" class=\"dataframe\">\n  <thead>\n    <tr style=\"text-align: right;\">\n      <th></th>\n      <th>possible_grades</th>\n    </tr>\n  </thead>\n  <tbody>\n    <tr>\n      <th>0</th>\n      <td>A</td>\n    </tr>\n    <tr>\n      <th>1</th>\n      <td>B</td>\n    </tr>\n    <tr>\n      <th>2</th>\n      <td>C</td>\n    </tr>\n    <tr>\n      <th>3</th>\n      <td>D</td>\n    </tr>\n    <tr>\n      <th>4</th>\n      <td>F</td>\n    </tr>\n  </tbody>\n</table>\n</div>"
     },
     "execution_count": 2287,
     "metadata": {},
     "output_type": "execute_result"
    }
   ],
   "source": [
    "# log of all possible categorical data\n",
    "grades = ['A','B','C','D','F']\n",
    "grades = pd.DataFrame(grades, columns=['possible_grades'])\n",
    "grades"
   ],
   "metadata": {
    "collapsed": false,
    "pycharm": {
     "name": "#%%\n"
    }
   }
  },
  {
   "cell_type": "markdown",
   "source": [
    "## Finding inconsistent categories"
   ],
   "metadata": {
    "collapsed": false
   }
  },
  {
   "cell_type": "code",
   "execution_count": 2288,
   "outputs": [
    {
     "data": {
      "text/plain": "{'Z'}"
     },
     "execution_count": 2288,
     "metadata": {},
     "output_type": "execute_result"
    }
   ],
   "source": [
    "# first find the values via anti-join to see what values are not in the grade log\n",
    "inconsistent_grades = set(reported_grades['Grade']).difference(grades['possible_grades'])\n",
    "inconsistent_grades"
   ],
   "metadata": {
    "collapsed": false,
    "pycharm": {
     "name": "#%%\n"
    }
   }
  },
  {
   "cell_type": "code",
   "execution_count": 2289,
   "outputs": [
    {
     "data": {
      "text/plain": "    name Grade\n3  Bella     Z",
      "text/html": "<div>\n<style scoped>\n    .dataframe tbody tr th:only-of-type {\n        vertical-align: middle;\n    }\n\n    .dataframe tbody tr th {\n        vertical-align: top;\n    }\n\n    .dataframe thead th {\n        text-align: right;\n    }\n</style>\n<table border=\"1\" class=\"dataframe\">\n  <thead>\n    <tr style=\"text-align: right;\">\n      <th></th>\n      <th>name</th>\n      <th>Grade</th>\n    </tr>\n  </thead>\n  <tbody>\n    <tr>\n      <th>3</th>\n      <td>Bella</td>\n      <td>Z</td>\n    </tr>\n  </tbody>\n</table>\n</div>"
     },
     "execution_count": 2289,
     "metadata": {},
     "output_type": "execute_result"
    }
   ],
   "source": [
    "# find the rows from the DataFrame that are inconsistent\n",
    "inconsistent_rows = reported_grades['Grade'].isin(inconsistent_grades)\n",
    "# subset DataFrame with  this boolean series created which holds True for categorical values that are inconsistent\n",
    "reported_grades[inconsistent_rows]"
   ],
   "metadata": {
    "collapsed": false,
    "pycharm": {
     "name": "#%%\n"
    }
   }
  },
  {
   "cell_type": "markdown",
   "source": [
    "## Dropping inconsistent categories"
   ],
   "metadata": {
    "collapsed": false
   }
  },
  {
   "cell_type": "code",
   "execution_count": 2290,
   "outputs": [
    {
     "data": {
      "text/plain": "     name Grade\n0    Jose     A\n1   Baker     B\n2  Camila     C",
      "text/html": "<div>\n<style scoped>\n    .dataframe tbody tr th:only-of-type {\n        vertical-align: middle;\n    }\n\n    .dataframe tbody tr th {\n        vertical-align: top;\n    }\n\n    .dataframe thead th {\n        text-align: right;\n    }\n</style>\n<table border=\"1\" class=\"dataframe\">\n  <thead>\n    <tr style=\"text-align: right;\">\n      <th></th>\n      <th>name</th>\n      <th>Grade</th>\n    </tr>\n  </thead>\n  <tbody>\n    <tr>\n      <th>0</th>\n      <td>Jose</td>\n      <td>A</td>\n    </tr>\n    <tr>\n      <th>1</th>\n      <td>Baker</td>\n      <td>B</td>\n    </tr>\n    <tr>\n      <th>2</th>\n      <td>Camila</td>\n      <td>C</td>\n    </tr>\n  </tbody>\n</table>\n</div>"
     },
     "execution_count": 2290,
     "metadata": {},
     "output_type": "execute_result"
    }
   ],
   "source": [
    "reported_grades_correct = reported_grades[~inconsistent_rows] # != for DataFrame subsetting\n",
    "reported_grades_correct"
   ],
   "metadata": {
    "collapsed": false,
    "pycharm": {
     "name": "#%%\n"
    }
   }
  },
  {
   "cell_type": "markdown",
   "source": [
    "# Airlines Data"
   ],
   "metadata": {
    "collapsed": false
   }
  },
  {
   "cell_type": "code",
   "execution_count": 2291,
   "outputs": [
    {
     "name": "stdout",
     "output_type": "stream",
     "text": [
      "<class 'pandas.core.frame.DataFrame'>\n",
      "RangeIndex: 2477 entries, 0 to 2476\n",
      "Data columns (total 13 columns):\n",
      " #   Column         Non-Null Count  Dtype  \n",
      "---  ------         --------------  -----  \n",
      " 0   Unnamed: 0     2477 non-null   int64  \n",
      " 1   id             2477 non-null   int64  \n",
      " 2   day            2477 non-null   object \n",
      " 3   airline        2477 non-null   object \n",
      " 4   destination    2477 non-null   object \n",
      " 5   dest_region    2477 non-null   object \n",
      " 6   dest_size      2477 non-null   object \n",
      " 7   boarding_area  2477 non-null   object \n",
      " 8   dept_time      2477 non-null   object \n",
      " 9   wait_min       2477 non-null   float64\n",
      " 10  cleanliness    2477 non-null   object \n",
      " 11  safety         2477 non-null   object \n",
      " 12  satisfaction   2477 non-null   object \n",
      "dtypes: float64(1), int64(2), object(10)\n",
      "memory usage: 251.7+ KB\n"
     ]
    }
   ],
   "source": [
    "airlines = pd.read_csv('/Users/joseservin/DataCamp/Courses/Cleaning_Data/airlines_final.csv')\n",
    "airlines.info()"
   ],
   "metadata": {
    "collapsed": false,
    "pycharm": {
     "name": "#%%\n"
    }
   }
  },
  {
   "cell_type": "markdown",
   "source": [
    "## fixing columns that should be categorical type"
   ],
   "metadata": {
    "collapsed": false
   }
  },
  {
   "cell_type": "code",
   "execution_count": 2292,
   "outputs": [],
   "source": [
    "airlines['cleanliness'] = airlines['cleanliness'].astype('category')\n",
    "airlines['safety'] = airlines['safety'].astype('category')\n",
    "airlines['satisfaction'] = airlines['satisfaction'].astype('category')"
   ],
   "metadata": {
    "collapsed": false,
    "pycharm": {
     "name": "#%%\n"
    }
   }
  },
  {
   "cell_type": "code",
   "execution_count": 2293,
   "outputs": [
    {
     "name": "stdout",
     "output_type": "stream",
     "text": [
      "<class 'pandas.core.frame.DataFrame'>\n",
      "RangeIndex: 2477 entries, 0 to 2476\n",
      "Data columns (total 13 columns):\n",
      " #   Column         Non-Null Count  Dtype   \n",
      "---  ------         --------------  -----   \n",
      " 0   Unnamed: 0     2477 non-null   int64   \n",
      " 1   id             2477 non-null   int64   \n",
      " 2   day            2477 non-null   object  \n",
      " 3   airline        2477 non-null   object  \n",
      " 4   destination    2477 non-null   object  \n",
      " 5   dest_region    2477 non-null   object  \n",
      " 6   dest_size      2477 non-null   object  \n",
      " 7   boarding_area  2477 non-null   object  \n",
      " 8   dept_time      2477 non-null   object  \n",
      " 9   wait_min       2477 non-null   float64 \n",
      " 10  cleanliness    2477 non-null   category\n",
      " 11  safety         2477 non-null   category\n",
      " 12  satisfaction   2477 non-null   category\n",
      "dtypes: category(3), float64(1), int64(2), object(7)\n",
      "memory usage: 201.5+ KB\n"
     ]
    }
   ],
   "source": [
    "airlines.info()"
   ],
   "metadata": {
    "collapsed": false,
    "pycharm": {
     "name": "#%%\n"
    }
   }
  },
  {
   "cell_type": "code",
   "execution_count": 2294,
   "outputs": [
    {
     "name": "stdout",
     "output_type": "stream",
     "text": [
      "['Clean', 'Average', 'Somewhat clean', 'Somewhat dirty', 'Dirty']\n",
      "Categories (5, object): ['Average', 'Clean', 'Dirty', 'Somewhat clean', 'Somewhat dirty']\n"
     ]
    }
   ],
   "source": [
    "print(airlines['cleanliness'].unique())"
   ],
   "metadata": {
    "collapsed": false,
    "pycharm": {
     "name": "#%%\n"
    }
   }
  },
  {
   "cell_type": "code",
   "execution_count": 2295,
   "outputs": [
    {
     "name": "stdout",
     "output_type": "stream",
     "text": [
      "['Neutral', 'Very safe', 'Somewhat safe', 'Very unsafe', 'Somewhat unsafe']\n",
      "Categories (5, object): ['Neutral', 'Somewhat safe', 'Somewhat unsafe', 'Very safe', 'Very unsafe']\n"
     ]
    }
   ],
   "source": [
    "print(airlines['safety'].unique())"
   ],
   "metadata": {
    "collapsed": false,
    "pycharm": {
     "name": "#%%\n"
    }
   }
  },
  {
   "cell_type": "code",
   "execution_count": 2296,
   "outputs": [
    {
     "name": "stdout",
     "output_type": "stream",
     "text": [
      "['Very satisfied', 'Neutral', 'Somewhat satsified', 'Somewhat unsatisfied', 'Very unsatisfied']\n",
      "Categories (5, object): ['Neutral', 'Somewhat satsified', 'Somewhat unsatisfied', 'Very satisfied', 'Very unsatisfied']\n"
     ]
    }
   ],
   "source": [
    "print(airlines['satisfaction'].unique())"
   ],
   "metadata": {
    "collapsed": false,
    "pycharm": {
     "name": "#%%\n"
    }
   }
  },
  {
   "cell_type": "code",
   "execution_count": 2297,
   "outputs": [
    {
     "data": {
      "text/plain": "       categories\n0           Clean\n1         Average\n2  Somewhat clean\n3  Somewhat dirty\n4           Dirty",
      "text/html": "<div>\n<style scoped>\n    .dataframe tbody tr th:only-of-type {\n        vertical-align: middle;\n    }\n\n    .dataframe tbody tr th {\n        vertical-align: top;\n    }\n\n    .dataframe thead th {\n        text-align: right;\n    }\n</style>\n<table border=\"1\" class=\"dataframe\">\n  <thead>\n    <tr style=\"text-align: right;\">\n      <th></th>\n      <th>categories</th>\n    </tr>\n  </thead>\n  <tbody>\n    <tr>\n      <th>0</th>\n      <td>Clean</td>\n    </tr>\n    <tr>\n      <th>1</th>\n      <td>Average</td>\n    </tr>\n    <tr>\n      <th>2</th>\n      <td>Somewhat clean</td>\n    </tr>\n    <tr>\n      <th>3</th>\n      <td>Somewhat dirty</td>\n    </tr>\n    <tr>\n      <th>4</th>\n      <td>Dirty</td>\n    </tr>\n  </tbody>\n</table>\n</div>"
     },
     "execution_count": 2297,
     "metadata": {},
     "output_type": "execute_result"
    }
   ],
   "source": [
    "categories = pd.DataFrame(airlines['cleanliness'].unique(), columns=['categories'])\n",
    "categories"
   ],
   "metadata": {
    "collapsed": false,
    "pycharm": {
     "name": "#%%\n"
    }
   }
  },
  {
   "cell_type": "code",
   "execution_count": 2298,
   "outputs": [
    {
     "data": {
      "text/plain": "set()"
     },
     "execution_count": 2298,
     "metadata": {},
     "output_type": "execute_result"
    }
   ],
   "source": [
    "cat_diff = set(airlines['cleanliness']).difference(categories['categories'])\n",
    "cat_diff # this returns an empty set since there are no values that are different from category log"
   ],
   "metadata": {
    "collapsed": false,
    "pycharm": {
     "name": "#%%\n"
    }
   }
  },
  {
   "cell_type": "markdown",
   "source": [
    "# Categorical Variables"
   ],
   "metadata": {
    "collapsed": false
   }
  },
  {
   "cell_type": "markdown",
   "source": [
    "## value consistency"
   ],
   "metadata": {
    "collapsed": false
   }
  },
  {
   "cell_type": "code",
   "execution_count": 2299,
   "outputs": [
    {
     "data": {
      "text/plain": "  first_name   status\n0       Jose   online\n1      Baker   ONLINE\n2     Camila     away\n3      Bella     away\n4      Baker   online\n5       Jose  meeting\n6      Baker  MEETING",
      "text/html": "<div>\n<style scoped>\n    .dataframe tbody tr th:only-of-type {\n        vertical-align: middle;\n    }\n\n    .dataframe tbody tr th {\n        vertical-align: top;\n    }\n\n    .dataframe thead th {\n        text-align: right;\n    }\n</style>\n<table border=\"1\" class=\"dataframe\">\n  <thead>\n    <tr style=\"text-align: right;\">\n      <th></th>\n      <th>first_name</th>\n      <th>status</th>\n    </tr>\n  </thead>\n  <tbody>\n    <tr>\n      <th>0</th>\n      <td>Jose</td>\n      <td>online</td>\n    </tr>\n    <tr>\n      <th>1</th>\n      <td>Baker</td>\n      <td>ONLINE</td>\n    </tr>\n    <tr>\n      <th>2</th>\n      <td>Camila</td>\n      <td>away</td>\n    </tr>\n    <tr>\n      <th>3</th>\n      <td>Bella</td>\n      <td>away</td>\n    </tr>\n    <tr>\n      <th>4</th>\n      <td>Baker</td>\n      <td>online</td>\n    </tr>\n    <tr>\n      <th>5</th>\n      <td>Jose</td>\n      <td>meeting</td>\n    </tr>\n    <tr>\n      <th>6</th>\n      <td>Baker</td>\n      <td>MEETING</td>\n    </tr>\n  </tbody>\n</table>\n</div>"
     },
     "execution_count": 2299,
     "metadata": {},
     "output_type": "execute_result"
    }
   ],
   "source": [
    "people = {\n",
    "    'first_name':['Jose','Baker','Camila','Bella','Baker','Jose','Baker'],\n",
    "    'status':['online','ONLINE','away',' away','online','meeting','MEETING']\n",
    "}\n",
    "people = pd.DataFrame(people)\n",
    "people"
   ],
   "metadata": {
    "collapsed": false,
    "pycharm": {
     "name": "#%%\n"
    }
   }
  },
  {
   "cell_type": "code",
   "execution_count": 2300,
   "outputs": [
    {
     "data": {
      "text/plain": "<AxesSubplot:>"
     },
     "execution_count": 2300,
     "metadata": {},
     "output_type": "execute_result"
    },
    {
     "data": {
      "text/plain": "<Figure size 432x288 with 1 Axes>",
      "image/png": "[encoded data removed]"
     },
     "metadata": {
      "needs_background": "light"
     },
     "output_type": "display_data"
    }
   ],
   "source": [
    "people['status'].value_counts().plot.bar() # value_counts() only works on a series"
   ],
   "metadata": {
    "collapsed": false,
    "pycharm": {
     "name": "#%%\n"
    }
   }
  },
  {
   "cell_type": "code",
   "execution_count": 2301,
   "outputs": [
    {
     "data": {
      "text/plain": "         first_name\nstatus             \n away             1\nMEETING           1\nONLINE            1\naway              1\nmeeting           1\nonline            2",
      "text/html": "<div>\n<style scoped>\n    .dataframe tbody tr th:only-of-type {\n        vertical-align: middle;\n    }\n\n    .dataframe tbody tr th {\n        vertical-align: top;\n    }\n\n    .dataframe thead th {\n        text-align: right;\n    }\n</style>\n<table border=\"1\" class=\"dataframe\">\n  <thead>\n    <tr style=\"text-align: right;\">\n      <th></th>\n      <th>first_name</th>\n    </tr>\n    <tr>\n      <th>status</th>\n      <th></th>\n    </tr>\n  </thead>\n  <tbody>\n    <tr>\n      <th>away</th>\n      <td>1</td>\n    </tr>\n    <tr>\n      <th>MEETING</th>\n      <td>1</td>\n    </tr>\n    <tr>\n      <th>ONLINE</th>\n      <td>1</td>\n    </tr>\n    <tr>\n      <th>away</th>\n      <td>1</td>\n    </tr>\n    <tr>\n      <th>meeting</th>\n      <td>1</td>\n    </tr>\n    <tr>\n      <th>online</th>\n      <td>2</td>\n    </tr>\n  </tbody>\n</table>\n</div>"
     },
     "execution_count": 2301,
     "metadata": {},
     "output_type": "execute_result"
    }
   ],
   "source": [
    "people.groupby('status').count() # groupby and count is used when inspecting value consistency in DataFrames"
   ],
   "metadata": {
    "collapsed": false,
    "pycharm": {
     "name": "#%%\n"
    }
   }
  },
  {
   "cell_type": "markdown",
   "source": [
    "## Fixing categorical values with string case inconsistencies"
   ],
   "metadata": {
    "collapsed": false
   }
  },
  {
   "cell_type": "code",
   "execution_count": 2302,
   "outputs": [
    {
     "data": {
      "text/plain": "ONLINE     3\nMEETING    2\nAWAY       1\n AWAY      1\nName: status, dtype: int64"
     },
     "execution_count": 2302,
     "metadata": {},
     "output_type": "execute_result"
    }
   ],
   "source": [
    "people['status'] = people['status'].str.upper()\n",
    "people['status'].value_counts()"
   ],
   "metadata": {
    "collapsed": false,
    "pycharm": {
     "name": "#%%\n"
    }
   }
  },
  {
   "cell_type": "code",
   "execution_count": 2303,
   "outputs": [
    {
     "data": {
      "text/plain": "online     3\nmeeting    2\naway       1\n away      1\nName: status, dtype: int64"
     },
     "execution_count": 2303,
     "metadata": {},
     "output_type": "execute_result"
    }
   ],
   "source": [
    "people['status'] = people['status'].str.lower()\n",
    "people['status'].value_counts()"
   ],
   "metadata": {
    "collapsed": false,
    "pycharm": {
     "name": "#%%\n"
    }
   }
  },
  {
   "cell_type": "markdown",
   "source": [
    "## Fixing categorical values with trailing or leading whitespace"
   ],
   "metadata": {
    "collapsed": false
   }
  },
  {
   "cell_type": "code",
   "execution_count": 2304,
   "outputs": [],
   "source": [
    "people['status'] = people['status'].str.strip()"
   ],
   "metadata": {
    "collapsed": false,
    "pycharm": {
     "name": "#%%\n"
    }
   }
  },
  {
   "cell_type": "code",
   "execution_count": 2305,
   "outputs": [
    {
     "data": {
      "text/plain": "online     3\naway       2\nmeeting    2\nName: status, dtype: int64"
     },
     "execution_count": 2305,
     "metadata": {},
     "output_type": "execute_result"
    }
   ],
   "source": [
    "people['status'].value_counts()"
   ],
   "metadata": {
    "collapsed": false,
    "pycharm": {
     "name": "#%%\n"
    }
   }
  },
  {
   "cell_type": "markdown",
   "source": [
    "## Collapsing data into categories using qcut()"
   ],
   "metadata": {
    "collapsed": false
   }
  },
  {
   "cell_type": "code",
   "execution_count": 2306,
   "outputs": [],
   "source": [
    "people = {\n",
    "    'name':['Jose','Baker','Camila','Bella','Baker','Jose','Baker'],\n",
    "    'income':[50000,65000,55000,70000,98000,25000,100000]\n",
    "}\n",
    "people = pd.DataFrame(people)"
   ],
   "metadata": {
    "collapsed": false,
    "pycharm": {
     "name": "#%%\n"
    }
   }
  },
  {
   "cell_type": "code",
   "execution_count": 2307,
   "outputs": [
    {
     "data": {
      "text/plain": "     name  income  income_cat\n0    Jose   50000       0-70k\n1   Baker   65000   70k - 85k\n2  Camila   55000       0-70k\n3   Bella   70000   70k - 85k\n4   Baker   98000  85k - 120k\n5    Jose   25000       0-70k\n6   Baker  100000  85k - 120k",
      "text/html": "<div>\n<style scoped>\n    .dataframe tbody tr th:only-of-type {\n        vertical-align: middle;\n    }\n\n    .dataframe tbody tr th {\n        vertical-align: top;\n    }\n\n    .dataframe thead th {\n        text-align: right;\n    }\n</style>\n<table border=\"1\" class=\"dataframe\">\n  <thead>\n    <tr style=\"text-align: right;\">\n      <th></th>\n      <th>name</th>\n      <th>income</th>\n      <th>income_cat</th>\n    </tr>\n  </thead>\n  <tbody>\n    <tr>\n      <th>0</th>\n      <td>Jose</td>\n      <td>50000</td>\n      <td>0-70k</td>\n    </tr>\n    <tr>\n      <th>1</th>\n      <td>Baker</td>\n      <td>65000</td>\n      <td>70k - 85k</td>\n    </tr>\n    <tr>\n      <th>2</th>\n      <td>Camila</td>\n      <td>55000</td>\n      <td>0-70k</td>\n    </tr>\n    <tr>\n      <th>3</th>\n      <td>Bella</td>\n      <td>70000</td>\n      <td>70k - 85k</td>\n    </tr>\n    <tr>\n      <th>4</th>\n      <td>Baker</td>\n      <td>98000</td>\n      <td>85k - 120k</td>\n    </tr>\n    <tr>\n      <th>5</th>\n      <td>Jose</td>\n      <td>25000</td>\n      <td>0-70k</td>\n    </tr>\n    <tr>\n      <th>6</th>\n      <td>Baker</td>\n      <td>100000</td>\n      <td>85k - 120k</td>\n    </tr>\n  </tbody>\n</table>\n</div>"
     },
     "execution_count": 2307,
     "metadata": {},
     "output_type": "execute_result"
    }
   ],
   "source": [
    "group_names = ['0-70k','70k - 85k','85k - 120k']\n",
    "people['income_cat'] = pd.qcut(\n",
    "    people['income'],\n",
    "    q = 3,\n",
    "    labels=group_names\n",
    ")\n",
    "people"
   ],
   "metadata": {
    "collapsed": false,
    "pycharm": {
     "name": "#%%\n"
    }
   }
  },
  {
   "cell_type": "markdown",
   "source": [
    "## Collapsing data into categories using cut()"
   ],
   "metadata": {
    "collapsed": false
   }
  },
  {
   "cell_type": "code",
   "execution_count": 2308,
   "outputs": [
    {
     "data": {
      "text/plain": "     name  income  income_cat income_cat_cut\n5    Jose   25000       0-70k          0-50k\n0    Jose   50000       0-70k          0-50k\n2  Camila   55000       0-70k      50k - 85k\n1   Baker   65000   70k - 85k      50k - 85k\n3   Bella   70000   70k - 85k      50k - 85k\n4   Baker   98000  85k - 120k           85k+\n6   Baker  100000  85k - 120k           85k+",
      "text/html": "<div>\n<style scoped>\n    .dataframe tbody tr th:only-of-type {\n        vertical-align: middle;\n    }\n\n    .dataframe tbody tr th {\n        vertical-align: top;\n    }\n\n    .dataframe thead th {\n        text-align: right;\n    }\n</style>\n<table border=\"1\" class=\"dataframe\">\n  <thead>\n    <tr style=\"text-align: right;\">\n      <th></th>\n      <th>name</th>\n      <th>income</th>\n      <th>income_cat</th>\n      <th>income_cat_cut</th>\n    </tr>\n  </thead>\n  <tbody>\n    <tr>\n      <th>5</th>\n      <td>Jose</td>\n      <td>25000</td>\n      <td>0-70k</td>\n      <td>0-50k</td>\n    </tr>\n    <tr>\n      <th>0</th>\n      <td>Jose</td>\n      <td>50000</td>\n      <td>0-70k</td>\n      <td>0-50k</td>\n    </tr>\n    <tr>\n      <th>2</th>\n      <td>Camila</td>\n      <td>55000</td>\n      <td>0-70k</td>\n      <td>50k - 85k</td>\n    </tr>\n    <tr>\n      <th>1</th>\n      <td>Baker</td>\n      <td>65000</td>\n      <td>70k - 85k</td>\n      <td>50k - 85k</td>\n    </tr>\n    <tr>\n      <th>3</th>\n      <td>Bella</td>\n      <td>70000</td>\n      <td>70k - 85k</td>\n      <td>50k - 85k</td>\n    </tr>\n    <tr>\n      <th>4</th>\n      <td>Baker</td>\n      <td>98000</td>\n      <td>85k - 120k</td>\n      <td>85k+</td>\n    </tr>\n    <tr>\n      <th>6</th>\n      <td>Baker</td>\n      <td>100000</td>\n      <td>85k - 120k</td>\n      <td>85k+</td>\n    </tr>\n  </tbody>\n</table>\n</div>"
     },
     "execution_count": 2308,
     "metadata": {},
     "output_type": "execute_result"
    }
   ],
   "source": [
    "# define ranges and names\n",
    "ranges = [0, 50000, 85000, np.inf]\n",
    "names = ['0-50k','50k - 85k','85k+']\n",
    "\n",
    "# create new category column\n",
    "people['income_cat_cut'] = pd.cut(\n",
    "    people['income'],\n",
    "    bins = ranges,\n",
    "    labels= names\n",
    ")\n",
    "\n",
    "people.sort_values('income')"
   ],
   "metadata": {
    "collapsed": false,
    "pycharm": {
     "name": "#%%\n"
    }
   }
  },
  {
   "cell_type": "markdown",
   "source": [
    "## Map categories to fewer ones"
   ],
   "metadata": {
    "collapsed": false
   }
  },
  {
   "cell_type": "code",
   "execution_count": 2309,
   "outputs": [
    {
     "data": {
      "text/plain": "['lower_class', 'middle_class', 'high_class']\nCategories (3, object): ['lower_class' < 'middle_class' < 'high_class']"
     },
     "execution_count": 2309,
     "metadata": {},
     "output_type": "execute_result"
    }
   ],
   "source": [
    "# define map using key equal to current categories and value to new category\n",
    "mapping = {\n",
    "    '0-50k':'lower_class',\n",
    "    '50k - 85k':'middle_class',\n",
    "    '85k+':'high_class'\n",
    "}\n",
    "people['income_cat_cut'] = people['income_cat_cut'].replace(mapping)\n",
    "people['income_cat_cut'].unique() # this should return 3 values since that how any new values were created from keys in mapping dictionary"
   ],
   "metadata": {
    "collapsed": false,
    "pycharm": {
     "name": "#%%\n"
    }
   }
  },
  {
   "cell_type": "code",
   "execution_count": 2310,
   "outputs": [
    {
     "data": {
      "text/plain": "     name  income  income_cat income_cat_cut\n5    Jose   25000       0-70k    lower_class\n0    Jose   50000       0-70k    lower_class\n2  Camila   55000       0-70k   middle_class\n1   Baker   65000   70k - 85k   middle_class\n3   Bella   70000   70k - 85k   middle_class\n4   Baker   98000  85k - 120k     high_class\n6   Baker  100000  85k - 120k     high_class",
      "text/html": "<div>\n<style scoped>\n    .dataframe tbody tr th:only-of-type {\n        vertical-align: middle;\n    }\n\n    .dataframe tbody tr th {\n        vertical-align: top;\n    }\n\n    .dataframe thead th {\n        text-align: right;\n    }\n</style>\n<table border=\"1\" class=\"dataframe\">\n  <thead>\n    <tr style=\"text-align: right;\">\n      <th></th>\n      <th>name</th>\n      <th>income</th>\n      <th>income_cat</th>\n      <th>income_cat_cut</th>\n    </tr>\n  </thead>\n  <tbody>\n    <tr>\n      <th>5</th>\n      <td>Jose</td>\n      <td>25000</td>\n      <td>0-70k</td>\n      <td>lower_class</td>\n    </tr>\n    <tr>\n      <th>0</th>\n      <td>Jose</td>\n      <td>50000</td>\n      <td>0-70k</td>\n      <td>lower_class</td>\n    </tr>\n    <tr>\n      <th>2</th>\n      <td>Camila</td>\n      <td>55000</td>\n      <td>0-70k</td>\n      <td>middle_class</td>\n    </tr>\n    <tr>\n      <th>1</th>\n      <td>Baker</td>\n      <td>65000</td>\n      <td>70k - 85k</td>\n      <td>middle_class</td>\n    </tr>\n    <tr>\n      <th>3</th>\n      <td>Bella</td>\n      <td>70000</td>\n      <td>70k - 85k</td>\n      <td>middle_class</td>\n    </tr>\n    <tr>\n      <th>4</th>\n      <td>Baker</td>\n      <td>98000</td>\n      <td>85k - 120k</td>\n      <td>high_class</td>\n    </tr>\n    <tr>\n      <th>6</th>\n      <td>Baker</td>\n      <td>100000</td>\n      <td>85k - 120k</td>\n      <td>high_class</td>\n    </tr>\n  </tbody>\n</table>\n</div>"
     },
     "execution_count": 2310,
     "metadata": {},
     "output_type": "execute_result"
    }
   ],
   "source": [
    "people.sort_values('income')"
   ],
   "metadata": {
    "collapsed": false,
    "pycharm": {
     "name": "#%%\n"
    }
   }
  },
  {
   "cell_type": "markdown",
   "source": [
    "# Cleaning text data"
   ],
   "metadata": {
    "collapsed": false
   }
  },
  {
   "cell_type": "code",
   "execution_count": 2311,
   "outputs": [
    {
     "data": {
      "text/plain": "     name     phone_number\n0    Jose     123-456-7890\n1   Baker       7131231233\n2  Camila  +1-832-999-9999\n3   Bella            01152",
      "text/html": "<div>\n<style scoped>\n    .dataframe tbody tr th:only-of-type {\n        vertical-align: middle;\n    }\n\n    .dataframe tbody tr th {\n        vertical-align: top;\n    }\n\n    .dataframe thead th {\n        text-align: right;\n    }\n</style>\n<table border=\"1\" class=\"dataframe\">\n  <thead>\n    <tr style=\"text-align: right;\">\n      <th></th>\n      <th>name</th>\n      <th>phone_number</th>\n    </tr>\n  </thead>\n  <tbody>\n    <tr>\n      <th>0</th>\n      <td>Jose</td>\n      <td>123-456-7890</td>\n    </tr>\n    <tr>\n      <th>1</th>\n      <td>Baker</td>\n      <td>7131231233</td>\n    </tr>\n    <tr>\n      <th>2</th>\n      <td>Camila</td>\n      <td>+1-832-999-9999</td>\n    </tr>\n    <tr>\n      <th>3</th>\n      <td>Bella</td>\n      <td>01152</td>\n    </tr>\n  </tbody>\n</table>\n</div>"
     },
     "execution_count": 2311,
     "metadata": {},
     "output_type": "execute_result"
    }
   ],
   "source": [
    "contact_info = {\n",
    "    'name':['Jose','Baker','Camila','Bella'],\n",
    "    'phone_number':['123-456-7890', '7131231233', '+1-832-999-9999','01152']\n",
    "}\n",
    "contact_info = pd.DataFrame(contact_info)\n",
    "contact_info"
   ],
   "metadata": {
    "collapsed": false,
    "pycharm": {
     "name": "#%%\n"
    }
   }
  },
  {
   "cell_type": "markdown",
   "source": [
    "## replace a string character with another"
   ],
   "metadata": {
    "collapsed": false
   }
  },
  {
   "cell_type": "code",
   "execution_count": 2312,
   "outputs": [
    {
     "name": "stderr",
     "output_type": "stream",
     "text": [
      "/var/folders/77/ysxyzr2j3zdb588cls576tc00000gn/T/ipykernel_7327/2280590620.py:1: FutureWarning: The default value of regex will change from True to False in a future version. In addition, single character regular expressions will *not* be treated as literal strings when regex=True.\n",
      "  contact_info['phone_number'] = contact_info['phone_number'].str.replace('+','00')\n"
     ]
    },
    {
     "data": {
      "text/plain": "     name      phone_number\n0    Jose      123-456-7890\n1   Baker        7131231233\n2  Camila  001-832-999-9999\n3   Bella             01152",
      "text/html": "<div>\n<style scoped>\n    .dataframe tbody tr th:only-of-type {\n        vertical-align: middle;\n    }\n\n    .dataframe tbody tr th {\n        vertical-align: top;\n    }\n\n    .dataframe thead th {\n        text-align: right;\n    }\n</style>\n<table border=\"1\" class=\"dataframe\">\n  <thead>\n    <tr style=\"text-align: right;\">\n      <th></th>\n      <th>name</th>\n      <th>phone_number</th>\n    </tr>\n  </thead>\n  <tbody>\n    <tr>\n      <th>0</th>\n      <td>Jose</td>\n      <td>123-456-7890</td>\n    </tr>\n    <tr>\n      <th>1</th>\n      <td>Baker</td>\n      <td>7131231233</td>\n    </tr>\n    <tr>\n      <th>2</th>\n      <td>Camila</td>\n      <td>001-832-999-9999</td>\n    </tr>\n    <tr>\n      <th>3</th>\n      <td>Bella</td>\n      <td>01152</td>\n    </tr>\n  </tbody>\n</table>\n</div>"
     },
     "execution_count": 2312,
     "metadata": {},
     "output_type": "execute_result"
    }
   ],
   "source": [
    "contact_info['phone_number'] = contact_info['phone_number'].str.replace('+','00')\n",
    "contact_info"
   ],
   "metadata": {
    "collapsed": false,
    "pycharm": {
     "name": "#%%\n"
    }
   }
  },
  {
   "cell_type": "code",
   "execution_count": 2313,
   "outputs": [
    {
     "data": {
      "text/plain": "     name   phone_number\n0    Jose     1234567890\n1   Baker     7131231233\n2  Camila  0018329999999\n3   Bella          01152",
      "text/html": "<div>\n<style scoped>\n    .dataframe tbody tr th:only-of-type {\n        vertical-align: middle;\n    }\n\n    .dataframe tbody tr th {\n        vertical-align: top;\n    }\n\n    .dataframe thead th {\n        text-align: right;\n    }\n</style>\n<table border=\"1\" class=\"dataframe\">\n  <thead>\n    <tr style=\"text-align: right;\">\n      <th></th>\n      <th>name</th>\n      <th>phone_number</th>\n    </tr>\n  </thead>\n  <tbody>\n    <tr>\n      <th>0</th>\n      <td>Jose</td>\n      <td>1234567890</td>\n    </tr>\n    <tr>\n      <th>1</th>\n      <td>Baker</td>\n      <td>7131231233</td>\n    </tr>\n    <tr>\n      <th>2</th>\n      <td>Camila</td>\n      <td>0018329999999</td>\n    </tr>\n    <tr>\n      <th>3</th>\n      <td>Bella</td>\n      <td>01152</td>\n    </tr>\n  </tbody>\n</table>\n</div>"
     },
     "execution_count": 2313,
     "metadata": {},
     "output_type": "execute_result"
    }
   ],
   "source": [
    "contact_info['phone_number'] = contact_info['phone_number'].str.replace('-','')\n",
    "contact_info"
   ],
   "metadata": {
    "collapsed": false,
    "pycharm": {
     "name": "#%%\n"
    }
   }
  },
  {
   "cell_type": "markdown",
   "source": [
    "## replace a string value with NaN when a condition is not met"
   ],
   "metadata": {
    "collapsed": false
   }
  },
  {
   "cell_type": "code",
   "execution_count": 2314,
   "outputs": [
    {
     "data": {
      "text/plain": "0    10\n1    10\n2    13\n3     5\nName: phone_number, dtype: int64"
     },
     "execution_count": 2314,
     "metadata": {},
     "output_type": "execute_result"
    }
   ],
   "source": [
    "# finding the len of a string (returns series)\n",
    "digits = contact_info['phone_number'].str.len()\n",
    "digits"
   ],
   "metadata": {
    "collapsed": false,
    "pycharm": {
     "name": "#%%\n"
    }
   }
  },
  {
   "cell_type": "code",
   "execution_count": 2315,
   "outputs": [
    {
     "data": {
      "text/plain": "    name phone_number\n3  Bella        01152",
      "text/html": "<div>\n<style scoped>\n    .dataframe tbody tr th:only-of-type {\n        vertical-align: middle;\n    }\n\n    .dataframe tbody tr th {\n        vertical-align: top;\n    }\n\n    .dataframe thead th {\n        text-align: right;\n    }\n</style>\n<table border=\"1\" class=\"dataframe\">\n  <thead>\n    <tr style=\"text-align: right;\">\n      <th></th>\n      <th>name</th>\n      <th>phone_number</th>\n    </tr>\n  </thead>\n  <tbody>\n    <tr>\n      <th>3</th>\n      <td>Bella</td>\n      <td>01152</td>\n    </tr>\n  </tbody>\n</table>\n</div>"
     },
     "execution_count": 2315,
     "metadata": {},
     "output_type": "execute_result"
    }
   ],
   "source": [
    "contact_info[digits < 10]"
   ],
   "metadata": {
    "collapsed": false,
    "pycharm": {
     "name": "#%%\n"
    }
   }
  },
  {
   "cell_type": "code",
   "execution_count": 2316,
   "outputs": [
    {
     "data": {
      "text/plain": "     name   phone_number\n0    Jose     1234567890\n1   Baker     7131231233\n2  Camila  0018329999999\n3   Bella            NaN",
      "text/html": "<div>\n<style scoped>\n    .dataframe tbody tr th:only-of-type {\n        vertical-align: middle;\n    }\n\n    .dataframe tbody tr th {\n        vertical-align: top;\n    }\n\n    .dataframe thead th {\n        text-align: right;\n    }\n</style>\n<table border=\"1\" class=\"dataframe\">\n  <thead>\n    <tr style=\"text-align: right;\">\n      <th></th>\n      <th>name</th>\n      <th>phone_number</th>\n    </tr>\n  </thead>\n  <tbody>\n    <tr>\n      <th>0</th>\n      <td>Jose</td>\n      <td>1234567890</td>\n    </tr>\n    <tr>\n      <th>1</th>\n      <td>Baker</td>\n      <td>7131231233</td>\n    </tr>\n    <tr>\n      <th>2</th>\n      <td>Camila</td>\n      <td>0018329999999</td>\n    </tr>\n    <tr>\n      <th>3</th>\n      <td>Bella</td>\n      <td>NaN</td>\n    </tr>\n  </tbody>\n</table>\n</div>"
     },
     "execution_count": 2316,
     "metadata": {},
     "output_type": "execute_result"
    }
   ],
   "source": [
    "# filtering DF based off length of string not or meeting a condition\n",
    "contact_info.loc[digits < 10, 'phone_number'] = np.nan\n",
    "contact_info"
   ],
   "metadata": {
    "collapsed": false,
    "pycharm": {
     "name": "#%%\n"
    }
   }
  },
  {
   "cell_type": "code",
   "execution_count": 2317,
   "outputs": [],
   "source": [
    "digits = contact_info['phone_number'].str.len()\n",
    "assert  digits.min() >= 10"
   ],
   "metadata": {
    "collapsed": false,
    "pycharm": {
     "name": "#%%\n"
    }
   }
  },
  {
   "cell_type": "markdown",
   "source": [
    "## Regular expression"
   ],
   "metadata": {
    "collapsed": false
   }
  },
  {
   "cell_type": "code",
   "execution_count": 2318,
   "outputs": [
    {
     "data": {
      "text/plain": "     name     phone_number\n0    Jose   (123)-456-7890\n1   Baker     +(7)31231233\n2  Camila  +1-832-999-9999\n3   Bella            01152",
      "text/html": "<div>\n<style scoped>\n    .dataframe tbody tr th:only-of-type {\n        vertical-align: middle;\n    }\n\n    .dataframe tbody tr th {\n        vertical-align: top;\n    }\n\n    .dataframe thead th {\n        text-align: right;\n    }\n</style>\n<table border=\"1\" class=\"dataframe\">\n  <thead>\n    <tr style=\"text-align: right;\">\n      <th></th>\n      <th>name</th>\n      <th>phone_number</th>\n    </tr>\n  </thead>\n  <tbody>\n    <tr>\n      <th>0</th>\n      <td>Jose</td>\n      <td>(123)-456-7890</td>\n    </tr>\n    <tr>\n      <th>1</th>\n      <td>Baker</td>\n      <td>+(7)31231233</td>\n    </tr>\n    <tr>\n      <th>2</th>\n      <td>Camila</td>\n      <td>+1-832-999-9999</td>\n    </tr>\n    <tr>\n      <th>3</th>\n      <td>Bella</td>\n      <td>01152</td>\n    </tr>\n  </tbody>\n</table>\n</div>"
     },
     "execution_count": 2318,
     "metadata": {},
     "output_type": "execute_result"
    }
   ],
   "source": [
    "contact_info = {\n",
    "    'name':['Jose','Baker','Camila','Bella'],\n",
    "    'phone_number':['(123)-456-7890', '+(7)31231233', '+1-832-999-9999','01152']\n",
    "}\n",
    "contact_info = pd.DataFrame(contact_info)\n",
    "contact_info"
   ],
   "metadata": {
    "collapsed": false,
    "pycharm": {
     "name": "#%%\n"
    }
   }
  },
  {
   "cell_type": "code",
   "execution_count": 2319,
   "outputs": [
    {
     "name": "stderr",
     "output_type": "stream",
     "text": [
      "/var/folders/77/ysxyzr2j3zdb588cls576tc00000gn/T/ipykernel_7327/1746042104.py:2: FutureWarning: The default value of regex will change from True to False in a future version.\n",
      "  contact_info['phone_number'] = contact_info['phone_number'].str.replace(r'\\D+','') # replace anything that is not a digit with nothing\n"
     ]
    },
    {
     "data": {
      "text/plain": "     name phone_number\n0    Jose   1234567890\n1   Baker    731231233\n2  Camila  18329999999\n3   Bella        01152",
      "text/html": "<div>\n<style scoped>\n    .dataframe tbody tr th:only-of-type {\n        vertical-align: middle;\n    }\n\n    .dataframe tbody tr th {\n        vertical-align: top;\n    }\n\n    .dataframe thead th {\n        text-align: right;\n    }\n</style>\n<table border=\"1\" class=\"dataframe\">\n  <thead>\n    <tr style=\"text-align: right;\">\n      <th></th>\n      <th>name</th>\n      <th>phone_number</th>\n    </tr>\n  </thead>\n  <tbody>\n    <tr>\n      <th>0</th>\n      <td>Jose</td>\n      <td>1234567890</td>\n    </tr>\n    <tr>\n      <th>1</th>\n      <td>Baker</td>\n      <td>731231233</td>\n    </tr>\n    <tr>\n      <th>2</th>\n      <td>Camila</td>\n      <td>18329999999</td>\n    </tr>\n    <tr>\n      <th>3</th>\n      <td>Bella</td>\n      <td>01152</td>\n    </tr>\n  </tbody>\n</table>\n</div>"
     },
     "execution_count": 2319,
     "metadata": {},
     "output_type": "execute_result"
    }
   ],
   "source": [
    "# extracting only digits from text field\n",
    "contact_info['phone_number'] = contact_info['phone_number'].str.replace(r'\\D+','') # replace anything that is not a digit with nothing\n",
    "contact_info"
   ],
   "metadata": {
    "collapsed": false,
    "pycharm": {
     "name": "#%%\n"
    }
   }
  },
  {
   "cell_type": "code",
   "execution_count": 2319,
   "outputs": [],
   "source": [],
   "metadata": {
    "collapsed": false,
    "pycharm": {
     "name": "#%%\n"
    }
   }
  }
 ],
 "metadata": {
  "kernelspec": {
   "display_name": "Python 3",
   "language": "python",
   "name": "python3"
  },
  "language_info": {
   "codemirror_mode": {
    "name": "ipython",
    "version": 2
   },
   "file_extension": ".py",
   "mimetype": "text/x-python",
   "name": "python",
   "nbconvert_exporter": "python",
   "pygments_lexer": "ipython2",
   "version": "2.7.6"
  }
 },
 "nbformat": 4,
 "nbformat_minor": 0
}