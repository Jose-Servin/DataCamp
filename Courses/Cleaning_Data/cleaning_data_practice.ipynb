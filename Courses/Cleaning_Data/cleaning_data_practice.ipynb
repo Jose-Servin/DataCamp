{
 "cells": [
  {
   "cell_type": "code",
   "execution_count": 1,
   "metadata": {
    "collapsed": true
   },
   "outputs": [],
   "source": [
    "import pandas as pd\n",
    "import matplotlib.pyplot as plt\n",
    "import seaborn as sns\n",
    "import numpy as np\n",
    "import missingno as msno\n",
    "from fuzzywuzzy import process, fuzz\n",
    "import recordlinkage\n",
    "from datetime import datetime, date"
   ]
  },
  {
   "cell_type": "code",
   "execution_count": 2,
   "outputs": [
    {
     "name": "stdout",
     "output_type": "stream",
     "text": [
      "<class 'pandas.core.frame.DataFrame'>\n",
      "RangeIndex: 100 entries, 0 to 99\n",
      "Data columns (total 12 columns):\n",
      " #   Column            Non-Null Count  Dtype  \n",
      "---  ------            --------------  -----  \n",
      " 0   Unnamed: 0        100 non-null    int64  \n",
      " 1   cust_id           100 non-null    object \n",
      " 2   birth_date        100 non-null    object \n",
      " 3   Age               100 non-null    int64  \n",
      " 4   acct_amount       100 non-null    float64\n",
      " 5   inv_amount        100 non-null    int64  \n",
      " 6   fund_A            100 non-null    float64\n",
      " 7   fund_B            100 non-null    float64\n",
      " 8   fund_C            100 non-null    float64\n",
      " 9   fund_D            100 non-null    float64\n",
      " 10  account_opened    100 non-null    object \n",
      " 11  last_transaction  100 non-null    object \n",
      "dtypes: float64(5), int64(3), object(4)\n",
      "memory usage: 9.5+ KB\n"
     ]
    }
   ],
   "source": [
    "banking = pd.read_csv('/Users/joseservin/DataCamp/Courses/Cleaning_Data/banking_dirty.csv')\n",
    "banking.info()"
   ],
   "metadata": {
    "collapsed": false,
    "pycharm": {
     "name": "#%%\n"
    }
   }
  },
  {
   "cell_type": "code",
   "execution_count": 3,
   "outputs": [
    {
     "data": {
      "text/plain": "   Unnamed: 0   cust_id  birth_date  Age  acct_amount  inv_amount   fund_A  \\\n0           0  870A9281  1962-06-09   58     63523.31       51295  30105.0   \n1           1  166B05B0  1962-12-16   58     38175.46       15050   4995.0   \n2           2  BFC13E88  1990-09-12   34     59863.77       24567  10323.0   \n3           3  F2158F66  1985-11-03   35     84132.10       23712   3908.0   \n4           4  7A73F334  1990-05-17   30    120512.00       93230  12158.4   \n\n    fund_B   fund_C   fund_D account_opened last_transaction  \n0   4138.0   1420.0  15632.0       02-09-18         22-02-19  \n1    938.0   6696.0   2421.0       28-02-19         31-10-18  \n2   4590.0   8469.0   1185.0       25-04-18         02-04-18  \n3    492.0   6482.0  12830.0       07-11-17         08-11-18  \n4  51281.0  13434.0  18383.0       14-05-18         19-07-18  ",
      "text/html": "<div>\n<style scoped>\n    .dataframe tbody tr th:only-of-type {\n        vertical-align: middle;\n    }\n\n    .dataframe tbody tr th {\n        vertical-align: top;\n    }\n\n    .dataframe thead th {\n        text-align: right;\n    }\n</style>\n<table border=\"1\" class=\"dataframe\">\n  <thead>\n    <tr style=\"text-align: right;\">\n      <th></th>\n      <th>Unnamed: 0</th>\n      <th>cust_id</th>\n      <th>birth_date</th>\n      <th>Age</th>\n      <th>acct_amount</th>\n      <th>inv_amount</th>\n      <th>fund_A</th>\n      <th>fund_B</th>\n      <th>fund_C</th>\n      <th>fund_D</th>\n      <th>account_opened</th>\n      <th>last_transaction</th>\n    </tr>\n  </thead>\n  <tbody>\n    <tr>\n      <th>0</th>\n      <td>0</td>\n      <td>870A9281</td>\n      <td>1962-06-09</td>\n      <td>58</td>\n      <td>63523.31</td>\n      <td>51295</td>\n      <td>30105.0</td>\n      <td>4138.0</td>\n      <td>1420.0</td>\n      <td>15632.0</td>\n      <td>02-09-18</td>\n      <td>22-02-19</td>\n    </tr>\n    <tr>\n      <th>1</th>\n      <td>1</td>\n      <td>166B05B0</td>\n      <td>1962-12-16</td>\n      <td>58</td>\n      <td>38175.46</td>\n      <td>15050</td>\n      <td>4995.0</td>\n      <td>938.0</td>\n      <td>6696.0</td>\n      <td>2421.0</td>\n      <td>28-02-19</td>\n      <td>31-10-18</td>\n    </tr>\n    <tr>\n      <th>2</th>\n      <td>2</td>\n      <td>BFC13E88</td>\n      <td>1990-09-12</td>\n      <td>34</td>\n      <td>59863.77</td>\n      <td>24567</td>\n      <td>10323.0</td>\n      <td>4590.0</td>\n      <td>8469.0</td>\n      <td>1185.0</td>\n      <td>25-04-18</td>\n      <td>02-04-18</td>\n    </tr>\n    <tr>\n      <th>3</th>\n      <td>3</td>\n      <td>F2158F66</td>\n      <td>1985-11-03</td>\n      <td>35</td>\n      <td>84132.10</td>\n      <td>23712</td>\n      <td>3908.0</td>\n      <td>492.0</td>\n      <td>6482.0</td>\n      <td>12830.0</td>\n      <td>07-11-17</td>\n      <td>08-11-18</td>\n    </tr>\n    <tr>\n      <th>4</th>\n      <td>4</td>\n      <td>7A73F334</td>\n      <td>1990-05-17</td>\n      <td>30</td>\n      <td>120512.00</td>\n      <td>93230</td>\n      <td>12158.4</td>\n      <td>51281.0</td>\n      <td>13434.0</td>\n      <td>18383.0</td>\n      <td>14-05-18</td>\n      <td>19-07-18</td>\n    </tr>\n  </tbody>\n</table>\n</div>"
     },
     "execution_count": 3,
     "metadata": {},
     "output_type": "execute_result"
    }
   ],
   "source": [
    "banking.head()"
   ],
   "metadata": {
    "collapsed": false,
    "pycharm": {
     "name": "#%%\n"
    }
   }
  },
  {
   "cell_type": "code",
   "execution_count": 4,
   "outputs": [
    {
     "data": {
      "text/plain": "Unnamed: 0          0\ncust_id             0\nbirth_date          0\nAge                 0\nacct_amount         0\ninv_amount          0\nfund_A              0\nfund_B              0\nfund_C              0\nfund_D              0\naccount_opened      0\nlast_transaction    0\ndtype: int64"
     },
     "execution_count": 4,
     "metadata": {},
     "output_type": "execute_result"
    }
   ],
   "source": [
    "banking.isna().sum()"
   ],
   "metadata": {
    "collapsed": false,
    "pycharm": {
     "name": "#%%\n"
    }
   }
  },
  {
   "cell_type": "code",
   "execution_count": 5,
   "outputs": [],
   "source": [
    "columns = ['account_opened','last_transaction','birth_date']\n",
    "\n",
    "for col in columns:\n",
    "    banking[col] = ([pd.to_datetime(row) for row in banking[col]])"
   ],
   "metadata": {
    "collapsed": false,
    "pycharm": {
     "name": "#%%\n"
    }
   }
  },
  {
   "cell_type": "code",
   "execution_count": 6,
   "outputs": [],
   "source": [
    "# banking['account_opened'] = ([pd.to_datetime(i) for i in banking['account_opened']])"
   ],
   "metadata": {
    "collapsed": false,
    "pycharm": {
     "name": "#%%\n"
    }
   }
  },
  {
   "cell_type": "code",
   "execution_count": 7,
   "outputs": [
    {
     "name": "stdout",
     "output_type": "stream",
     "text": [
      "<class 'pandas.core.frame.DataFrame'>\n",
      "RangeIndex: 100 entries, 0 to 99\n",
      "Data columns (total 12 columns):\n",
      " #   Column            Non-Null Count  Dtype         \n",
      "---  ------            --------------  -----         \n",
      " 0   Unnamed: 0        100 non-null    int64         \n",
      " 1   cust_id           100 non-null    object        \n",
      " 2   birth_date        100 non-null    datetime64[ns]\n",
      " 3   Age               100 non-null    int64         \n",
      " 4   acct_amount       100 non-null    float64       \n",
      " 5   inv_amount        100 non-null    int64         \n",
      " 6   fund_A            100 non-null    float64       \n",
      " 7   fund_B            100 non-null    float64       \n",
      " 8   fund_C            100 non-null    float64       \n",
      " 9   fund_D            100 non-null    float64       \n",
      " 10  account_opened    100 non-null    datetime64[ns]\n",
      " 11  last_transaction  100 non-null    datetime64[ns]\n",
      "dtypes: datetime64[ns](3), float64(5), int64(3), object(1)\n",
      "memory usage: 9.5+ KB\n"
     ]
    }
   ],
   "source": [
    "banking.info()"
   ],
   "metadata": {
    "collapsed": false,
    "pycharm": {
     "name": "#%%\n"
    }
   }
  },
  {
   "cell_type": "code",
   "execution_count": 8,
   "outputs": [
    {
     "name": "stderr",
     "output_type": "stream",
     "text": [
      "/var/folders/77/ysxyzr2j3zdb588cls576tc00000gn/T/ipykernel_21721/577277836.py:1: FutureWarning: Treating datetime data as categorical rather than numeric in `.describe` is deprecated and will be removed in a future version of pandas. Specify `datetime_is_numeric=True` to silence this warning and adopt the future behavior now.\n",
      "  banking.describe(include='all')\n",
      "/var/folders/77/ysxyzr2j3zdb588cls576tc00000gn/T/ipykernel_21721/577277836.py:1: FutureWarning: Treating datetime data as categorical rather than numeric in `.describe` is deprecated and will be removed in a future version of pandas. Specify `datetime_is_numeric=True` to silence this warning and adopt the future behavior now.\n",
      "  banking.describe(include='all')\n",
      "/var/folders/77/ysxyzr2j3zdb588cls576tc00000gn/T/ipykernel_21721/577277836.py:1: FutureWarning: Treating datetime data as categorical rather than numeric in `.describe` is deprecated and will be removed in a future version of pandas. Specify `datetime_is_numeric=True` to silence this warning and adopt the future behavior now.\n",
      "  banking.describe(include='all')\n"
     ]
    },
    {
     "data": {
      "text/plain": "        Unnamed: 0   cust_id           birth_date         Age   acct_amount  \\\ncount   100.000000       100                  100  100.000000  1.000000e+02   \nunique         NaN       100                   99         NaN           NaN   \ntop            NaN  870A9281  1975-06-05 00:00:00         NaN           NaN   \nfreq           NaN         1                    2         NaN           NaN   \nfirst          NaN       NaN  1961-06-03 00:00:00         NaN           NaN   \nlast           NaN       NaN  1993-10-17 00:00:00         NaN           NaN   \nmean     49.500000       NaN                  NaN   43.170000  3.027560e+06   \nstd      29.011492       NaN                  NaN   10.120541  2.104214e+07   \nmin       0.000000       NaN                  NaN   27.000000  1.220984e+04   \n25%      24.750000       NaN                  NaN   34.000000  5.921813e+04   \n50%      49.500000       NaN                  NaN   45.500000  8.334416e+04   \n75%      74.250000       NaN                  NaN   51.000000  9.509747e+04   \nmax      99.000000       NaN                  NaN   63.000000  1.737431e+08   \n\n          inv_amount        fund_A       fund_B       fund_C       fund_D  \\\ncount     100.000000    100.000000    100.00000    100.00000    100.00000   \nunique           NaN           NaN          NaN          NaN          NaN   \ntop              NaN           NaN          NaN          NaN          NaN   \nfreq             NaN           NaN          NaN          NaN          NaN   \nfirst            NaN           NaN          NaN          NaN          NaN   \nlast             NaN           NaN          NaN          NaN          NaN   \nmean    46006.300000  11474.067600  11824.45330  11901.84080  10971.52570   \nstd     26526.791616  12432.069917  11081.38577  14084.34211   9487.15002   \nmin      3214.000000     41.000000    312.00000     67.00000    118.00000   \n25%     23524.250000   2317.000000   3387.50000   2272.25000   4044.75000   \n50%     45785.500000   6489.000000   8089.00000   6811.00000   8480.00000   \n75%     66595.750000  15585.000000  17678.25000  15426.75000  15754.00000   \nmax     96614.000000  58179.000000  51281.00000  75499.00000  51708.00000   \n\n             account_opened     last_transaction  \ncount                   100                  100  \nunique                   93                   94  \ntop     2018-10-18 00:00:00  2018-02-04 00:00:00  \nfreq                      2                    2  \nfirst   2017-01-08 00:00:00  2018-02-04 00:00:00  \nlast    2019-09-02 00:00:00  2020-10-02 00:00:00  \nmean                    NaN                  NaN  \nstd                     NaN                  NaN  \nmin                     NaN                  NaN  \n25%                     NaN                  NaN  \n50%                     NaN                  NaN  \n75%                     NaN                  NaN  \nmax                     NaN                  NaN  ",
      "text/html": "<div>\n<style scoped>\n    .dataframe tbody tr th:only-of-type {\n        vertical-align: middle;\n    }\n\n    .dataframe tbody tr th {\n        vertical-align: top;\n    }\n\n    .dataframe thead th {\n        text-align: right;\n    }\n</style>\n<table border=\"1\" class=\"dataframe\">\n  <thead>\n    <tr style=\"text-align: right;\">\n      <th></th>\n      <th>Unnamed: 0</th>\n      <th>cust_id</th>\n      <th>birth_date</th>\n      <th>Age</th>\n      <th>acct_amount</th>\n      <th>inv_amount</th>\n      <th>fund_A</th>\n      <th>fund_B</th>\n      <th>fund_C</th>\n      <th>fund_D</th>\n      <th>account_opened</th>\n      <th>last_transaction</th>\n    </tr>\n  </thead>\n  <tbody>\n    <tr>\n      <th>count</th>\n      <td>100.000000</td>\n      <td>100</td>\n      <td>100</td>\n      <td>100.000000</td>\n      <td>1.000000e+02</td>\n      <td>100.000000</td>\n      <td>100.000000</td>\n      <td>100.00000</td>\n      <td>100.00000</td>\n      <td>100.00000</td>\n      <td>100</td>\n      <td>100</td>\n    </tr>\n    <tr>\n      <th>unique</th>\n      <td>NaN</td>\n      <td>100</td>\n      <td>99</td>\n      <td>NaN</td>\n      <td>NaN</td>\n      <td>NaN</td>\n      <td>NaN</td>\n      <td>NaN</td>\n      <td>NaN</td>\n      <td>NaN</td>\n      <td>93</td>\n      <td>94</td>\n    </tr>\n    <tr>\n      <th>top</th>\n      <td>NaN</td>\n      <td>870A9281</td>\n      <td>1975-06-05 00:00:00</td>\n      <td>NaN</td>\n      <td>NaN</td>\n      <td>NaN</td>\n      <td>NaN</td>\n      <td>NaN</td>\n      <td>NaN</td>\n      <td>NaN</td>\n      <td>2018-10-18 00:00:00</td>\n      <td>2018-02-04 00:00:00</td>\n    </tr>\n    <tr>\n      <th>freq</th>\n      <td>NaN</td>\n      <td>1</td>\n      <td>2</td>\n      <td>NaN</td>\n      <td>NaN</td>\n      <td>NaN</td>\n      <td>NaN</td>\n      <td>NaN</td>\n      <td>NaN</td>\n      <td>NaN</td>\n      <td>2</td>\n      <td>2</td>\n    </tr>\n    <tr>\n      <th>first</th>\n      <td>NaN</td>\n      <td>NaN</td>\n      <td>1961-06-03 00:00:00</td>\n      <td>NaN</td>\n      <td>NaN</td>\n      <td>NaN</td>\n      <td>NaN</td>\n      <td>NaN</td>\n      <td>NaN</td>\n      <td>NaN</td>\n      <td>2017-01-08 00:00:00</td>\n      <td>2018-02-04 00:00:00</td>\n    </tr>\n    <tr>\n      <th>last</th>\n      <td>NaN</td>\n      <td>NaN</td>\n      <td>1993-10-17 00:00:00</td>\n      <td>NaN</td>\n      <td>NaN</td>\n      <td>NaN</td>\n      <td>NaN</td>\n      <td>NaN</td>\n      <td>NaN</td>\n      <td>NaN</td>\n      <td>2019-09-02 00:00:00</td>\n      <td>2020-10-02 00:00:00</td>\n    </tr>\n    <tr>\n      <th>mean</th>\n      <td>49.500000</td>\n      <td>NaN</td>\n      <td>NaN</td>\n      <td>43.170000</td>\n      <td>3.027560e+06</td>\n      <td>46006.300000</td>\n      <td>11474.067600</td>\n      <td>11824.45330</td>\n      <td>11901.84080</td>\n      <td>10971.52570</td>\n      <td>NaN</td>\n      <td>NaN</td>\n    </tr>\n    <tr>\n      <th>std</th>\n      <td>29.011492</td>\n      <td>NaN</td>\n      <td>NaN</td>\n      <td>10.120541</td>\n      <td>2.104214e+07</td>\n      <td>26526.791616</td>\n      <td>12432.069917</td>\n      <td>11081.38577</td>\n      <td>14084.34211</td>\n      <td>9487.15002</td>\n      <td>NaN</td>\n      <td>NaN</td>\n    </tr>\n    <tr>\n      <th>min</th>\n      <td>0.000000</td>\n      <td>NaN</td>\n      <td>NaN</td>\n      <td>27.000000</td>\n      <td>1.220984e+04</td>\n      <td>3214.000000</td>\n      <td>41.000000</td>\n      <td>312.00000</td>\n      <td>67.00000</td>\n      <td>118.00000</td>\n      <td>NaN</td>\n      <td>NaN</td>\n    </tr>\n    <tr>\n      <th>25%</th>\n      <td>24.750000</td>\n      <td>NaN</td>\n      <td>NaN</td>\n      <td>34.000000</td>\n      <td>5.921813e+04</td>\n      <td>23524.250000</td>\n      <td>2317.000000</td>\n      <td>3387.50000</td>\n      <td>2272.25000</td>\n      <td>4044.75000</td>\n      <td>NaN</td>\n      <td>NaN</td>\n    </tr>\n    <tr>\n      <th>50%</th>\n      <td>49.500000</td>\n      <td>NaN</td>\n      <td>NaN</td>\n      <td>45.500000</td>\n      <td>8.334416e+04</td>\n      <td>45785.500000</td>\n      <td>6489.000000</td>\n      <td>8089.00000</td>\n      <td>6811.00000</td>\n      <td>8480.00000</td>\n      <td>NaN</td>\n      <td>NaN</td>\n    </tr>\n    <tr>\n      <th>75%</th>\n      <td>74.250000</td>\n      <td>NaN</td>\n      <td>NaN</td>\n      <td>51.000000</td>\n      <td>9.509747e+04</td>\n      <td>66595.750000</td>\n      <td>15585.000000</td>\n      <td>17678.25000</td>\n      <td>15426.75000</td>\n      <td>15754.00000</td>\n      <td>NaN</td>\n      <td>NaN</td>\n    </tr>\n    <tr>\n      <th>max</th>\n      <td>99.000000</td>\n      <td>NaN</td>\n      <td>NaN</td>\n      <td>63.000000</td>\n      <td>1.737431e+08</td>\n      <td>96614.000000</td>\n      <td>58179.000000</td>\n      <td>51281.00000</td>\n      <td>75499.00000</td>\n      <td>51708.00000</td>\n      <td>NaN</td>\n      <td>NaN</td>\n    </tr>\n  </tbody>\n</table>\n</div>"
     },
     "execution_count": 8,
     "metadata": {},
     "output_type": "execute_result"
    }
   ],
   "source": [
    "banking.describe(include='all')"
   ],
   "metadata": {
    "collapsed": false,
    "pycharm": {
     "name": "#%%\n"
    }
   }
  },
  {
   "cell_type": "markdown",
   "source": [
    "# Univariate Analysis"
   ],
   "metadata": {
    "collapsed": false
   }
  },
  {
   "cell_type": "code",
   "execution_count": 9,
   "outputs": [
    {
     "data": {
      "text/plain": "    Unnamed: 0   cust_id birth_date  Age  acct_amount  inv_amount   fund_A  \\\n0            0  870A9281 1962-06-09   58     63523.31       51295  30105.0   \n1            1  166B05B0 1962-12-16   58     38175.46       15050   4995.0   \n2            2  BFC13E88 1990-09-12   34     59863.77       24567  10323.0   \n3            3  F2158F66 1985-11-03   35     84132.10       23712   3908.0   \n4            4  7A73F334 1990-05-17   30    120512.00       93230  12158.4   \n..         ...       ...        ...  ...          ...         ...      ...   \n95          95  CA507BA1 1974-08-10   46     12209.84        7515    190.0   \n96          96  B99CD662 1989-12-12   31     92838.44       49089   2453.0   \n97          97  13770971 1984-11-29   36     92750.87       27962   3352.0   \n98          98  93E78DA3 1969-12-14   51     41942.23       29662   1758.0   \n99          99  AC91D689 1993-05-18   27     99490.61       32149   2184.0   \n\n     fund_B   fund_C   fund_D account_opened last_transaction  \n0    4138.0   1420.0  15632.0     2018-02-09       2019-02-22  \n1     938.0   6696.0   2421.0     2019-02-28       2018-10-31  \n2    4590.0   8469.0   1185.0     2018-04-25       2018-02-04  \n3     492.0   6482.0  12830.0     2017-07-11       2018-08-11  \n4   51281.0  13434.0  18383.0     2018-05-14       2018-07-19  \n..      ...      ...      ...            ...              ...  \n95    931.0   1451.0   4943.0     2018-05-26       2019-11-09  \n96   7892.0  31486.0   7258.0     2017-04-05       2019-12-03  \n97   7547.0   8486.0   8577.0     2017-08-16       2019-04-24  \n98  11174.0  11650.0   5080.0     2017-09-10       2018-04-15  \n99  17918.0   6714.0   5333.0     2017-01-08       2019-04-08  \n\n[100 rows x 12 columns]",
      "text/html": "<div>\n<style scoped>\n    .dataframe tbody tr th:only-of-type {\n        vertical-align: middle;\n    }\n\n    .dataframe tbody tr th {\n        vertical-align: top;\n    }\n\n    .dataframe thead th {\n        text-align: right;\n    }\n</style>\n<table border=\"1\" class=\"dataframe\">\n  <thead>\n    <tr style=\"text-align: right;\">\n      <th></th>\n      <th>Unnamed: 0</th>\n      <th>cust_id</th>\n      <th>birth_date</th>\n      <th>Age</th>\n      <th>acct_amount</th>\n      <th>inv_amount</th>\n      <th>fund_A</th>\n      <th>fund_B</th>\n      <th>fund_C</th>\n      <th>fund_D</th>\n      <th>account_opened</th>\n      <th>last_transaction</th>\n    </tr>\n  </thead>\n  <tbody>\n    <tr>\n      <th>0</th>\n      <td>0</td>\n      <td>870A9281</td>\n      <td>1962-06-09</td>\n      <td>58</td>\n      <td>63523.31</td>\n      <td>51295</td>\n      <td>30105.0</td>\n      <td>4138.0</td>\n      <td>1420.0</td>\n      <td>15632.0</td>\n      <td>2018-02-09</td>\n      <td>2019-02-22</td>\n    </tr>\n    <tr>\n      <th>1</th>\n      <td>1</td>\n      <td>166B05B0</td>\n      <td>1962-12-16</td>\n      <td>58</td>\n      <td>38175.46</td>\n      <td>15050</td>\n      <td>4995.0</td>\n      <td>938.0</td>\n      <td>6696.0</td>\n      <td>2421.0</td>\n      <td>2019-02-28</td>\n      <td>2018-10-31</td>\n    </tr>\n    <tr>\n      <th>2</th>\n      <td>2</td>\n      <td>BFC13E88</td>\n      <td>1990-09-12</td>\n      <td>34</td>\n      <td>59863.77</td>\n      <td>24567</td>\n      <td>10323.0</td>\n      <td>4590.0</td>\n      <td>8469.0</td>\n      <td>1185.0</td>\n      <td>2018-04-25</td>\n      <td>2018-02-04</td>\n    </tr>\n    <tr>\n      <th>3</th>\n      <td>3</td>\n      <td>F2158F66</td>\n      <td>1985-11-03</td>\n      <td>35</td>\n      <td>84132.10</td>\n      <td>23712</td>\n      <td>3908.0</td>\n      <td>492.0</td>\n      <td>6482.0</td>\n      <td>12830.0</td>\n      <td>2017-07-11</td>\n      <td>2018-08-11</td>\n    </tr>\n    <tr>\n      <th>4</th>\n      <td>4</td>\n      <td>7A73F334</td>\n      <td>1990-05-17</td>\n      <td>30</td>\n      <td>120512.00</td>\n      <td>93230</td>\n      <td>12158.4</td>\n      <td>51281.0</td>\n      <td>13434.0</td>\n      <td>18383.0</td>\n      <td>2018-05-14</td>\n      <td>2018-07-19</td>\n    </tr>\n    <tr>\n      <th>...</th>\n      <td>...</td>\n      <td>...</td>\n      <td>...</td>\n      <td>...</td>\n      <td>...</td>\n      <td>...</td>\n      <td>...</td>\n      <td>...</td>\n      <td>...</td>\n      <td>...</td>\n      <td>...</td>\n      <td>...</td>\n    </tr>\n    <tr>\n      <th>95</th>\n      <td>95</td>\n      <td>CA507BA1</td>\n      <td>1974-08-10</td>\n      <td>46</td>\n      <td>12209.84</td>\n      <td>7515</td>\n      <td>190.0</td>\n      <td>931.0</td>\n      <td>1451.0</td>\n      <td>4943.0</td>\n      <td>2018-05-26</td>\n      <td>2019-11-09</td>\n    </tr>\n    <tr>\n      <th>96</th>\n      <td>96</td>\n      <td>B99CD662</td>\n      <td>1989-12-12</td>\n      <td>31</td>\n      <td>92838.44</td>\n      <td>49089</td>\n      <td>2453.0</td>\n      <td>7892.0</td>\n      <td>31486.0</td>\n      <td>7258.0</td>\n      <td>2017-04-05</td>\n      <td>2019-12-03</td>\n    </tr>\n    <tr>\n      <th>97</th>\n      <td>97</td>\n      <td>13770971</td>\n      <td>1984-11-29</td>\n      <td>36</td>\n      <td>92750.87</td>\n      <td>27962</td>\n      <td>3352.0</td>\n      <td>7547.0</td>\n      <td>8486.0</td>\n      <td>8577.0</td>\n      <td>2017-08-16</td>\n      <td>2019-04-24</td>\n    </tr>\n    <tr>\n      <th>98</th>\n      <td>98</td>\n      <td>93E78DA3</td>\n      <td>1969-12-14</td>\n      <td>51</td>\n      <td>41942.23</td>\n      <td>29662</td>\n      <td>1758.0</td>\n      <td>11174.0</td>\n      <td>11650.0</td>\n      <td>5080.0</td>\n      <td>2017-09-10</td>\n      <td>2018-04-15</td>\n    </tr>\n    <tr>\n      <th>99</th>\n      <td>99</td>\n      <td>AC91D689</td>\n      <td>1993-05-18</td>\n      <td>27</td>\n      <td>99490.61</td>\n      <td>32149</td>\n      <td>2184.0</td>\n      <td>17918.0</td>\n      <td>6714.0</td>\n      <td>5333.0</td>\n      <td>2017-01-08</td>\n      <td>2019-04-08</td>\n    </tr>\n  </tbody>\n</table>\n<p>100 rows × 12 columns</p>\n</div>"
     },
     "execution_count": 9,
     "metadata": {},
     "output_type": "execute_result"
    }
   ],
   "source": [
    "banking"
   ],
   "metadata": {
    "collapsed": false,
    "pycharm": {
     "name": "#%%\n"
    }
   }
  },
  {
   "cell_type": "code",
   "execution_count": 10,
   "outputs": [
    {
     "data": {
      "text/plain": "27"
     },
     "execution_count": 10,
     "metadata": {},
     "output_type": "execute_result"
    }
   ],
   "source": [
    "banking['Age'].min()"
   ],
   "metadata": {
    "collapsed": false,
    "pycharm": {
     "name": "#%%\n"
    }
   }
  },
  {
   "cell_type": "code",
   "execution_count": 11,
   "outputs": [
    {
     "data": {
      "text/plain": "63"
     },
     "execution_count": 11,
     "metadata": {},
     "output_type": "execute_result"
    }
   ],
   "source": [
    "banking['Age'].max()"
   ],
   "metadata": {
    "collapsed": false,
    "pycharm": {
     "name": "#%%\n"
    }
   }
  },
  {
   "cell_type": "code",
   "execution_count": 12,
   "outputs": [
    {
     "data": {
      "text/plain": "<AxesSubplot:>"
     },
     "execution_count": 12,
     "metadata": {},
     "output_type": "execute_result"
    },
    {
     "data": {
      "text/plain": "<Figure size 432x288 with 1 Axes>",
      "image/png": "[encoded data removed]"
     },
     "metadata": {
      "needs_background": "light"
     },
     "output_type": "display_data"
    }
   ],
   "source": [
    "banking['Age'].value_counts().plot(kind='bar')"
   ],
   "metadata": {
    "collapsed": false,
    "pycharm": {
     "name": "#%%\n"
    }
   }
  },
  {
   "cell_type": "markdown",
   "source": [
    "# creating Age groups to explore more uni-variate analysis"
   ],
   "metadata": {
    "collapsed": false,
    "pycharm": {
     "name": "#%% md\n"
    }
   }
  },
  {
   "cell_type": "code",
   "execution_count": 13,
   "outputs": [
    {
     "data": {
      "text/plain": "{\"20's\": 12, \"30's\": 27, \"40's\": 31, \"50's\": 29, \"60's\": 1}"
     },
     "execution_count": 13,
     "metadata": {},
     "output_type": "execute_result"
    }
   ],
   "source": [
    "count_map = {\"20's\":0, \"30's\":0, \"40's\":0, \"50's\":0, \"60's\":0}\n",
    "\n",
    "for entry in banking['Age']:\n",
    "    if 20 <= entry <= 29:\n",
    "        count_map[\"20's\"] += 1\n",
    "    elif 30 <= entry <= 39:\n",
    "        count_map[\"30's\"] += 1\n",
    "    elif 40<= entry <= 49:\n",
    "        count_map[\"40's\"] += 1\n",
    "    elif 50<= entry <= 59:\n",
    "        count_map[\"50's\"] += 1\n",
    "    else:\n",
    "        count_map[\"60's\"] += 1\n",
    "count_map"
   ],
   "metadata": {
    "collapsed": false,
    "pycharm": {
     "name": "#%%\n"
    }
   }
  },
  {
   "cell_type": "code",
   "execution_count": 14,
   "outputs": [
    {
     "data": {
      "text/plain": "<Figure size 432x288 with 1 Axes>",
      "image/png": "[encoded data removed]"
     },
     "metadata": {
      "needs_background": "light"
     },
     "output_type": "display_data"
    }
   ],
   "source": [
    "lists = sorted(count_map.items())\n",
    "x,y = zip(*lists)\n",
    "plt.bar(x,y,)\n",
    "for i,j in zip(x,y):\n",
    "\n",
    "    label = \"{:.0f}\".format(j)\n",
    "\n",
    "    plt.annotate(label, # this is the text\n",
    "                 (i,j), # these are the coordinates to position the label\n",
    "                 textcoords=\"offset points\", # how to position the text\n",
    "                 xytext=(0,2), # distance from text to points (x,y)\n",
    "                 ha='center') # horizontal alignment can be left, right or center\n",
    "plt.show()"
   ],
   "metadata": {
    "collapsed": false,
    "pycharm": {
     "name": "#%%\n"
    }
   }
  },
  {
   "cell_type": "code",
   "execution_count": 15,
   "outputs": [
    {
     "data": {
      "text/plain": "<Figure size 432x288 with 1 Axes>",
      "image/png": "[encoded data removed]"
     },
     "metadata": {
      "needs_background": "light"
     },
     "output_type": "display_data"
    }
   ],
   "source": [
    "fig, ax = plt.subplots()\n",
    "\n",
    "ax.boxplot([banking['fund_A'], banking['fund_B'], banking['fund_C'], banking['fund_D']])\n",
    "ax.set_xticklabels(['Fund A','Fund B','Fund C','Fund D'])\n",
    "\n",
    "plt.show()"
   ],
   "metadata": {
    "collapsed": false,
    "pycharm": {
     "name": "#%%\n"
    }
   }
  },
  {
   "cell_type": "code",
   "execution_count": 16,
   "outputs": [
    {
     "name": "stderr",
     "output_type": "stream",
     "text": [
      "/Users/joseservin/DataCamp/venv/lib/python3.9/site-packages/seaborn/categorical.py:3717: UserWarning: The `factorplot` function has been renamed to `catplot`. The original name will be removed in a future release. Please update your code. Note that the default `kind` in `factorplot` (`'point'`) has changed `'strip'` in `catplot`.\n",
      "  warnings.warn(msg)\n"
     ]
    },
    {
     "data": {
      "text/plain": "<seaborn.axisgrid.FacetGrid at 0x7fac8912f640>"
     },
     "execution_count": 16,
     "metadata": {},
     "output_type": "execute_result"
    },
    {
     "data": {
      "text/plain": "<Figure size 360x360 with 1 Axes>",
      "image/png": "[encoded data removed]"
     },
     "metadata": {
      "needs_background": "light"
     },
     "output_type": "display_data"
    }
   ],
   "source": [
    "sns.factorplot(\n",
    "    data= banking,\n",
    "    x='fund_A',\n",
    "    kind = 'box'\n",
    ")"
   ],
   "metadata": {
    "collapsed": false,
    "pycharm": {
     "name": "#%%\n"
    }
   }
  },
  {
   "cell_type": "markdown",
   "source": [
    "# Distribution Plots"
   ],
   "metadata": {
    "collapsed": false
   }
  },
  {
   "cell_type": "code",
   "execution_count": 18,
   "outputs": [
    {
     "data": {
      "text/plain": "<seaborn.axisgrid.FacetGrid at 0x7fac8963ee80>"
     },
     "execution_count": 18,
     "metadata": {},
     "output_type": "execute_result"
    },
    {
     "data": {
      "text/plain": "<Figure size 360x360 with 1 Axes>",
      "image/png": "[encoded data removed]"
     },
     "metadata": {
      "needs_background": "light"
     },
     "output_type": "display_data"
    }
   ],
   "source": [
    "sns.displot(banking['fund_A'])"
   ],
   "metadata": {
    "collapsed": false,
    "pycharm": {
     "name": "#%%\n"
    }
   }
  },
  {
   "cell_type": "code",
   "execution_count": 19,
   "outputs": [
    {
     "name": "stderr",
     "output_type": "stream",
     "text": [
      "/Users/joseservin/DataCamp/venv/lib/python3.9/site-packages/seaborn/distributions.py:2619: FutureWarning: `distplot` is a deprecated function and will be removed in a future version. Please adapt your code to use either `displot` (a figure-level function with similar flexibility) or `histplot` (an axes-level function for histograms).\n",
      "  warnings.warn(msg, FutureWarning)\n"
     ]
    },
    {
     "data": {
      "text/plain": "<AxesSubplot:xlabel='fund_A', ylabel='Density'>"
     },
     "execution_count": 19,
     "metadata": {},
     "output_type": "execute_result"
    },
    {
     "data": {
      "text/plain": "<Figure size 432x288 with 1 Axes>",
      "image/png": "[encoded data removed]"
     },
     "metadata": {
      "needs_background": "light"
     },
     "output_type": "display_data"
    }
   ],
   "source": [
    "sns.distplot(banking['fund_A'])"
   ],
   "metadata": {
    "collapsed": false,
    "pycharm": {
     "name": "#%%\n"
    }
   }
  },
  {
   "cell_type": "code",
   "execution_count": 24,
   "outputs": [
    {
     "data": {
      "text/plain": "<seaborn.axisgrid.FacetGrid at 0x7fac893ebbb0>"
     },
     "execution_count": 24,
     "metadata": {},
     "output_type": "execute_result"
    },
    {
     "data": {
      "text/plain": "<Figure size 432x288 with 4 Axes>",
      "image/png": "[encoded data removed]"
     },
     "metadata": {
      "needs_background": "light"
     },
     "output_type": "display_data"
    },
    {
     "data": {
      "text/plain": "<Figure size 360x360 with 1 Axes>",
      "image/png": "[encoded data removed]"
     },
     "metadata": {
      "needs_background": "light"
     },
     "output_type": "display_data"
    },
    {
     "data": {
      "text/plain": "<Figure size 360x360 with 1 Axes>",
      "image/png": "[encoded data removed]"
     },
     "metadata": {
      "needs_background": "light"
     },
     "output_type": "display_data"
    },
    {
     "data": {
      "text/plain": "<Figure size 360x360 with 1 Axes>",
      "image/png": "[encoded data removed]"
     },
     "metadata": {
      "needs_background": "light"
     },
     "output_type": "display_data"
    },
    {
     "data": {
      "text/plain": "<Figure size 360x360 with 1 Axes>",
      "image/png": "[encoded data removed]"
     },
     "metadata": {
      "needs_background": "light"
     },
     "output_type": "display_data"
    }
   ],
   "source": [
    "fig, ax = plt.subplots(nrows=2, ncols=2)\n",
    "ax[0] = sns.displot(banking['fund_A'])\n",
    "sns.displot(banking['fund_B'])\n",
    "sns.displot(banking['fund_C'])\n",
    "sns.displot(banking['fund_D'])"
   ],
   "metadata": {
    "collapsed": false,
    "pycharm": {
     "name": "#%%\n"
    }
   }
  },
  {
   "cell_type": "code",
   "execution_count": null,
   "outputs": [],
   "source": [],
   "metadata": {
    "collapsed": false,
    "pycharm": {
     "name": "#%%\n"
    }
   }
  }
 ],
 "metadata": {
  "kernelspec": {
   "display_name": "Python 3",
   "language": "python",
   "name": "python3"
  },
  "language_info": {
   "codemirror_mode": {
    "name": "ipython",
    "version": 2
   },
   "file_extension": ".py",
   "mimetype": "text/x-python",
   "name": "python",
   "nbconvert_exporter": "python",
   "pygments_lexer": "ipython2",
   "version": "2.7.6"
  }
 },
 "nbformat": 4,
 "nbformat_minor": 0
}