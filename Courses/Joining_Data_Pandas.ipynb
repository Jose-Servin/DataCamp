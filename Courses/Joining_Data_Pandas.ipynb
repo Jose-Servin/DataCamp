{
 "cells": [
  {
   "cell_type": "markdown",
   "metadata": {},
   "source": [
    "# Subject: Joining Data\n",
    "\n",
    "## Jose Servin\n",
    "\n",
    "### Data used: https://www.chicago.gov/city/en/depts/other/dataset/wards.html"
   ]
  },
  {
   "cell_type": "code",
   "execution_count": 71,
   "metadata": {},
   "outputs": [],
   "source": [
    "import pandas as pd\n",
    "import numpy as np\n",
    "import matplotlib.pyplot as plt\n",
    "import plotly.express as px"
   ]
  },
  {
   "cell_type": "markdown",
   "metadata": {},
   "source": [
    "# Importing data and DF definition"
   ]
  },
  {
   "cell_type": "code",
   "execution_count": 72,
   "metadata": {},
   "outputs": [
    {
     "data": {
      "text/html": [
       "<div>\n",
       "<style scoped>\n",
       "    .dataframe tbody tr th:only-of-type {\n",
       "        vertical-align: middle;\n",
       "    }\n",
       "\n",
       "    .dataframe tbody tr th {\n",
       "        vertical-align: top;\n",
       "    }\n",
       "\n",
       "    .dataframe thead th {\n",
       "        text-align: right;\n",
       "    }\n",
       "</style>\n",
       "<table border=\"1\" class=\"dataframe\">\n",
       "  <thead>\n",
       "    <tr style=\"text-align: right;\">\n",
       "      <th></th>\n",
       "      <th>ward</th>\n",
       "      <th>alderman</th>\n",
       "      <th>address</th>\n",
       "      <th>zipcode</th>\n",
       "    </tr>\n",
       "  </thead>\n",
       "  <tbody>\n",
       "    <tr>\n",
       "      <th>0</th>\n",
       "      <td>33</td>\n",
       "      <td>Rodriguez Sanchez, Rossana</td>\n",
       "      <td>3001 West Irving Park Road</td>\n",
       "      <td>60618</td>\n",
       "    </tr>\n",
       "    <tr>\n",
       "      <th>1</th>\n",
       "      <td>17</td>\n",
       "      <td>Moore, David H.</td>\n",
       "      <td>1344 West 79th Street</td>\n",
       "      <td>60636</td>\n",
       "    </tr>\n",
       "    <tr>\n",
       "      <th>2</th>\n",
       "      <td>44</td>\n",
       "      <td>Tunney, Thomas</td>\n",
       "      <td>3223 North Sheffield Avenue, Suite A</td>\n",
       "      <td>60657</td>\n",
       "    </tr>\n",
       "    <tr>\n",
       "      <th>3</th>\n",
       "      <td>37</td>\n",
       "      <td>Mitts, Emma</td>\n",
       "      <td>5344 West North Avenue</td>\n",
       "      <td>60651</td>\n",
       "    </tr>\n",
       "    <tr>\n",
       "      <th>4</th>\n",
       "      <td>4</td>\n",
       "      <td>King, Sophia D.</td>\n",
       "      <td>435 East 35th Street</td>\n",
       "      <td>60616</td>\n",
       "    </tr>\n",
       "  </tbody>\n",
       "</table>\n",
       "</div>"
      ],
      "text/plain": [
       "   ward                    alderman                               address  \\\n",
       "0    33  Rodriguez Sanchez, Rossana            3001 West Irving Park Road   \n",
       "1    17             Moore, David H.                 1344 West 79th Street   \n",
       "2    44              Tunney, Thomas  3223 North Sheffield Avenue, Suite A   \n",
       "3    37                 Mitts, Emma                5344 West North Avenue   \n",
       "4     4             King, Sophia D.                  435 East 35th Street   \n",
       "\n",
       "   zipcode  \n",
       "0    60618  \n",
       "1    60636  \n",
       "2    60657  \n",
       "3    60651  \n",
       "4    60616  "
      ]
     },
     "execution_count": 72,
     "metadata": {},
     "output_type": "execute_result"
    }
   ],
   "source": [
    "wards = pd.read_csv('/Users/joseservin/DataCamp/Courses/Ward_Offices.csv')\n",
    "wards = wards[['WARD', 'ALDERMAN', 'ADDRESS','ZIPCODE']].copy()\n",
    "wards.columns = [x.lower() for x in wards.columns]\n",
    "wards.head()\n"
   ]
  },
  {
   "cell_type": "code",
   "execution_count": 73,
   "metadata": {},
   "outputs": [
    {
     "data": {
      "text/plain": [
       "ward         int64\n",
       "alderman    object\n",
       "address     object\n",
       "zipcode      int64\n",
       "dtype: object"
      ]
     },
     "execution_count": 73,
     "metadata": {},
     "output_type": "execute_result"
    }
   ],
   "source": [
    "wards.dtypes"
   ]
  },
  {
   "cell_type": "code",
   "execution_count": 74,
   "metadata": {},
   "outputs": [
    {
     "data": {
      "text/html": [
       "<div>\n",
       "<style scoped>\n",
       "    .dataframe tbody tr th:only-of-type {\n",
       "        vertical-align: middle;\n",
       "    }\n",
       "\n",
       "    .dataframe tbody tr th {\n",
       "        vertical-align: top;\n",
       "    }\n",
       "\n",
       "    .dataframe thead th {\n",
       "        text-align: right;\n",
       "    }\n",
       "</style>\n",
       "<table border=\"1\" class=\"dataframe\">\n",
       "  <thead>\n",
       "    <tr style=\"text-align: right;\">\n",
       "      <th></th>\n",
       "      <th>ward</th>\n",
       "      <th>pop_2010</th>\n",
       "      <th>pop_2016</th>\n",
       "      <th>pct_change</th>\n",
       "      <th>address</th>\n",
       "      <th>zip_code</th>\n",
       "    </tr>\n",
       "  </thead>\n",
       "  <tbody>\n",
       "    <tr>\n",
       "      <th>0</th>\n",
       "      <td>1</td>\n",
       "      <td>56,149</td>\n",
       "      <td>56,661</td>\n",
       "      <td>1%</td>\n",
       "      <td>1958 North Milwaukee Avenue</td>\n",
       "      <td>60647</td>\n",
       "    </tr>\n",
       "    <tr>\n",
       "      <th>1</th>\n",
       "      <td>2</td>\n",
       "      <td>55,805</td>\n",
       "      <td>57,705</td>\n",
       "      <td>3%</td>\n",
       "      <td>1400 North Ashland Avenue</td>\n",
       "      <td>60622</td>\n",
       "    </tr>\n",
       "    <tr>\n",
       "      <th>2</th>\n",
       "      <td>3</td>\n",
       "      <td>53,039</td>\n",
       "      <td>55,763</td>\n",
       "      <td>5%</td>\n",
       "      <td>5046 South State Street</td>\n",
       "      <td>60609</td>\n",
       "    </tr>\n",
       "    <tr>\n",
       "      <th>3</th>\n",
       "      <td>4</td>\n",
       "      <td>54,589</td>\n",
       "      <td>57,301</td>\n",
       "      <td>5%</td>\n",
       "      <td>435 East 35th Street</td>\n",
       "      <td>60616</td>\n",
       "    </tr>\n",
       "    <tr>\n",
       "      <th>4</th>\n",
       "      <td>5</td>\n",
       "      <td>51,455</td>\n",
       "      <td>52,073</td>\n",
       "      <td>1%</td>\n",
       "      <td>2325 East 71st Street</td>\n",
       "      <td>60649</td>\n",
       "    </tr>\n",
       "  </tbody>\n",
       "</table>\n",
       "</div>"
      ],
      "text/plain": [
       "   ward pop_2010 pop_2016 pct_change                      address  zip_code\n",
       "0     1   56,149   56,661         1%  1958 North Milwaukee Avenue     60647\n",
       "1     2   55,805   57,705         3%    1400 North Ashland Avenue     60622\n",
       "2     3   53,039   55,763         5%      5046 South State Street     60609\n",
       "3     4   54,589   57,301         5%         435 East 35th Street     60616\n",
       "4     5   51,455   52,073         1%        2325 East 71st Street     60649"
      ]
     },
     "execution_count": 74,
     "metadata": {},
     "output_type": "execute_result"
    }
   ],
   "source": [
    "census = pd.read_csv('/Users/joseservin/DataCamp/Courses/ward_population.csv')\n",
    "census.head()"
   ]
  },
  {
   "cell_type": "code",
   "execution_count": 75,
   "metadata": {},
   "outputs": [
    {
     "data": {
      "text/plain": [
       "ward           int64\n",
       "pop_2010      object\n",
       "pop_2016      object\n",
       "pct_change    object\n",
       "address       object\n",
       "zip_code       int64\n",
       "dtype: object"
      ]
     },
     "execution_count": 75,
     "metadata": {},
     "output_type": "execute_result"
    }
   ],
   "source": [
    "census.dtypes"
   ]
  },
  {
   "cell_type": "code",
   "execution_count": 76,
   "metadata": {},
   "outputs": [],
   "source": [
    "census['ward'] = census['ward'].astype(int)\n"
   ]
  },
  {
   "cell_type": "code",
   "execution_count": 77,
   "metadata": {},
   "outputs": [
    {
     "data": {
      "text/plain": [
       "ward           int64\n",
       "pop_2010      object\n",
       "pop_2016      object\n",
       "pct_change    object\n",
       "address       object\n",
       "zip_code       int64\n",
       "dtype: object"
      ]
     },
     "execution_count": 77,
     "metadata": {},
     "output_type": "execute_result"
    }
   ],
   "source": [
    "census.dtypes"
   ]
  },
  {
   "cell_type": "code",
   "execution_count": 78,
   "metadata": {},
   "outputs": [],
   "source": [
    "census['pop_2010'] = census['pop_2010'].apply(lambda x: int(x.split()[0].replace(',', '')))"
   ]
  },
  {
   "cell_type": "code",
   "execution_count": 79,
   "metadata": {},
   "outputs": [
    {
     "data": {
      "text/plain": [
       "ward           int64\n",
       "pop_2010       int64\n",
       "pop_2016      object\n",
       "pct_change    object\n",
       "address       object\n",
       "zip_code       int64\n",
       "dtype: object"
      ]
     },
     "execution_count": 79,
     "metadata": {},
     "output_type": "execute_result"
    }
   ],
   "source": [
    "census.dtypes"
   ]
  },
  {
   "cell_type": "code",
   "execution_count": 80,
   "metadata": {},
   "outputs": [],
   "source": [
    "census['pop_2016'] = census['pop_2016'].apply(lambda x: int(x.split()[0].replace(',', '')))"
   ]
  },
  {
   "cell_type": "code",
   "execution_count": 81,
   "metadata": {},
   "outputs": [
    {
     "data": {
      "text/plain": [
       "ward           int64\n",
       "pop_2010       int64\n",
       "pop_2016       int64\n",
       "pct_change    object\n",
       "address       object\n",
       "zip_code       int64\n",
       "dtype: object"
      ]
     },
     "execution_count": 81,
     "metadata": {},
     "output_type": "execute_result"
    }
   ],
   "source": [
    "census.dtypes"
   ]
  },
  {
   "cell_type": "code",
   "execution_count": 82,
   "metadata": {},
   "outputs": [],
   "source": [
    "census['pct_change'] = census['pct_change'].str.rstrip('%').astype('float') / 100.0\n"
   ]
  },
  {
   "cell_type": "code",
   "execution_count": 86,
   "metadata": {},
   "outputs": [
    {
     "data": {
      "text/plain": [
       "ward            int64\n",
       "pop_2010        int64\n",
       "pop_2016        int64\n",
       "pct_change    float64\n",
       "address        object\n",
       "zip_code        int64\n",
       "dtype: object"
      ]
     },
     "execution_count": 86,
     "metadata": {},
     "output_type": "execute_result"
    }
   ],
   "source": [
    "census.dtypes"
   ]
  },
  {
   "cell_type": "code",
   "execution_count": 84,
   "metadata": {},
   "outputs": [
    {
     "data": {
      "text/html": [
       "<div>\n",
       "<style scoped>\n",
       "    .dataframe tbody tr th:only-of-type {\n",
       "        vertical-align: middle;\n",
       "    }\n",
       "\n",
       "    .dataframe tbody tr th {\n",
       "        vertical-align: top;\n",
       "    }\n",
       "\n",
       "    .dataframe thead th {\n",
       "        text-align: right;\n",
       "    }\n",
       "</style>\n",
       "<table border=\"1\" class=\"dataframe\">\n",
       "  <thead>\n",
       "    <tr style=\"text-align: right;\">\n",
       "      <th></th>\n",
       "      <th>ward</th>\n",
       "      <th>pop_2010</th>\n",
       "      <th>pop_2016</th>\n",
       "      <th>pct_change</th>\n",
       "      <th>address</th>\n",
       "      <th>zip_code</th>\n",
       "    </tr>\n",
       "  </thead>\n",
       "  <tbody>\n",
       "    <tr>\n",
       "      <th>0</th>\n",
       "      <td>1</td>\n",
       "      <td>56149</td>\n",
       "      <td>56661</td>\n",
       "      <td>0.01</td>\n",
       "      <td>1958 North Milwaukee Avenue</td>\n",
       "      <td>60647</td>\n",
       "    </tr>\n",
       "    <tr>\n",
       "      <th>1</th>\n",
       "      <td>2</td>\n",
       "      <td>55805</td>\n",
       "      <td>57705</td>\n",
       "      <td>0.03</td>\n",
       "      <td>1400 North Ashland Avenue</td>\n",
       "      <td>60622</td>\n",
       "    </tr>\n",
       "    <tr>\n",
       "      <th>2</th>\n",
       "      <td>3</td>\n",
       "      <td>53039</td>\n",
       "      <td>55763</td>\n",
       "      <td>0.05</td>\n",
       "      <td>5046 South State Street</td>\n",
       "      <td>60609</td>\n",
       "    </tr>\n",
       "    <tr>\n",
       "      <th>3</th>\n",
       "      <td>4</td>\n",
       "      <td>54589</td>\n",
       "      <td>57301</td>\n",
       "      <td>0.05</td>\n",
       "      <td>435 East 35th Street</td>\n",
       "      <td>60616</td>\n",
       "    </tr>\n",
       "    <tr>\n",
       "      <th>4</th>\n",
       "      <td>5</td>\n",
       "      <td>51455</td>\n",
       "      <td>52073</td>\n",
       "      <td>0.01</td>\n",
       "      <td>2325 East 71st Street</td>\n",
       "      <td>60649</td>\n",
       "    </tr>\n",
       "  </tbody>\n",
       "</table>\n",
       "</div>"
      ],
      "text/plain": [
       "   ward  pop_2010  pop_2016  pct_change                      address  zip_code\n",
       "0     1     56149     56661        0.01  1958 North Milwaukee Avenue     60647\n",
       "1     2     55805     57705        0.03    1400 North Ashland Avenue     60622\n",
       "2     3     53039     55763        0.05      5046 South State Street     60609\n",
       "3     4     54589     57301        0.05         435 East 35th Street     60616\n",
       "4     5     51455     52073        0.01        2325 East 71st Street     60649"
      ]
     },
     "execution_count": 84,
     "metadata": {},
     "output_type": "execute_result"
    }
   ],
   "source": [
    "census.head()"
   ]
  },
  {
   "cell_type": "code",
   "execution_count": 87,
   "metadata": {},
   "outputs": [
    {
     "data": {
      "text/plain": [
       "ward         int64\n",
       "alderman    object\n",
       "address     object\n",
       "zipcode      int64\n",
       "dtype: object"
      ]
     },
     "execution_count": 87,
     "metadata": {},
     "output_type": "execute_result"
    }
   ],
   "source": [
    "wards.dtypes"
   ]
  },
  {
   "cell_type": "code",
   "execution_count": 85,
   "metadata": {},
   "outputs": [
    {
     "data": {
      "text/html": [
       "<div>\n",
       "<style scoped>\n",
       "    .dataframe tbody tr th:only-of-type {\n",
       "        vertical-align: middle;\n",
       "    }\n",
       "\n",
       "    .dataframe tbody tr th {\n",
       "        vertical-align: top;\n",
       "    }\n",
       "\n",
       "    .dataframe thead th {\n",
       "        text-align: right;\n",
       "    }\n",
       "</style>\n",
       "<table border=\"1\" class=\"dataframe\">\n",
       "  <thead>\n",
       "    <tr style=\"text-align: right;\">\n",
       "      <th></th>\n",
       "      <th>ward</th>\n",
       "      <th>alderman</th>\n",
       "      <th>address</th>\n",
       "      <th>zipcode</th>\n",
       "    </tr>\n",
       "  </thead>\n",
       "  <tbody>\n",
       "    <tr>\n",
       "      <th>0</th>\n",
       "      <td>33</td>\n",
       "      <td>Rodriguez Sanchez, Rossana</td>\n",
       "      <td>3001 West Irving Park Road</td>\n",
       "      <td>60618</td>\n",
       "    </tr>\n",
       "    <tr>\n",
       "      <th>1</th>\n",
       "      <td>17</td>\n",
       "      <td>Moore, David H.</td>\n",
       "      <td>1344 West 79th Street</td>\n",
       "      <td>60636</td>\n",
       "    </tr>\n",
       "    <tr>\n",
       "      <th>2</th>\n",
       "      <td>44</td>\n",
       "      <td>Tunney, Thomas</td>\n",
       "      <td>3223 North Sheffield Avenue, Suite A</td>\n",
       "      <td>60657</td>\n",
       "    </tr>\n",
       "    <tr>\n",
       "      <th>3</th>\n",
       "      <td>37</td>\n",
       "      <td>Mitts, Emma</td>\n",
       "      <td>5344 West North Avenue</td>\n",
       "      <td>60651</td>\n",
       "    </tr>\n",
       "    <tr>\n",
       "      <th>4</th>\n",
       "      <td>4</td>\n",
       "      <td>King, Sophia D.</td>\n",
       "      <td>435 East 35th Street</td>\n",
       "      <td>60616</td>\n",
       "    </tr>\n",
       "  </tbody>\n",
       "</table>\n",
       "</div>"
      ],
      "text/plain": [
       "   ward                    alderman                               address  \\\n",
       "0    33  Rodriguez Sanchez, Rossana            3001 West Irving Park Road   \n",
       "1    17             Moore, David H.                 1344 West 79th Street   \n",
       "2    44              Tunney, Thomas  3223 North Sheffield Avenue, Suite A   \n",
       "3    37                 Mitts, Emma                5344 West North Avenue   \n",
       "4     4             King, Sophia D.                  435 East 35th Street   \n",
       "\n",
       "   zipcode  \n",
       "0    60618  \n",
       "1    60636  \n",
       "2    60657  \n",
       "3    60651  \n",
       "4    60616  "
      ]
     },
     "execution_count": 85,
     "metadata": {},
     "output_type": "execute_result"
    }
   ],
   "source": [
    "wards.head()"
   ]
  },
  {
   "cell_type": "code",
   "execution_count": null,
   "metadata": {},
   "outputs": [],
   "source": []
  }
 ],
 "metadata": {
  "interpreter": {
   "hash": "aee8b7b246df8f9039afb4144a1f6fd8d2ca17a180786b69acc140d282b71a49"
  },
  "kernelspec": {
   "display_name": "Python 3.9.9 64-bit",
   "language": "python",
   "name": "python3"
  },
  "language_info": {
   "codemirror_mode": {
    "name": "ipython",
    "version": 3
   },
   "file_extension": ".py",
   "mimetype": "text/x-python",
   "name": "python",
   "nbconvert_exporter": "python",
   "pygments_lexer": "ipython3",
   "version": "3.9.9"
  },
  "orig_nbformat": 4
 },
 "nbformat": 4,
 "nbformat_minor": 2
}
