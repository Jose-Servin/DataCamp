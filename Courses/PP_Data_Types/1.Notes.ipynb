{
 "cells": [
  {
   "cell_type": "markdown",
   "source": [
    "# Collections Module"
   ],
   "metadata": {
    "collapsed": false
   }
  },
  {
   "cell_type": "markdown",
   "source": [
    "## Counter: a special dictionary used for counting data, measuring frequency"
   ],
   "metadata": {
    "collapsed": false
   }
  },
  {
   "cell_type": "code",
   "execution_count": 122,
   "outputs": [],
   "source": [
    "from collections import Counter, defaultdict, OrderedDict\n",
    "import pandas as pd\n"
   ],
   "metadata": {
    "collapsed": false,
    "pycharm": {
     "name": "#%%\n"
    }
   }
  },
  {
   "cell_type": "code",
   "execution_count": 123,
   "outputs": [],
   "source": [
    "df = pd.read_csv('baby_names.csv')"
   ],
   "metadata": {
    "collapsed": false,
    "pycharm": {
     "name": "#%%\n"
    }
   }
  },
  {
   "cell_type": "code",
   "execution_count": 124,
   "outputs": [
    {
     "data": {
      "text/plain": "   BRITH_YEAR  GENDER  ETHNICTY       NAME  COUNT  RANK\n0        2011  FEMALE  HISPANIC  GERALDINE     13    75\n1        2011  FEMALE  HISPANIC        GIA     21    67\n2        2011  FEMALE  HISPANIC     GIANNA     49    42\n3        2011  FEMALE  HISPANIC    GISELLE     38    51\n4        2011  FEMALE  HISPANIC      GRACE     36    53",
      "text/html": "<div>\n<style scoped>\n    .dataframe tbody tr th:only-of-type {\n        vertical-align: middle;\n    }\n\n    .dataframe tbody tr th {\n        vertical-align: top;\n    }\n\n    .dataframe thead th {\n        text-align: right;\n    }\n</style>\n<table border=\"1\" class=\"dataframe\">\n  <thead>\n    <tr style=\"text-align: right;\">\n      <th></th>\n      <th>BRITH_YEAR</th>\n      <th>GENDER</th>\n      <th>ETHNICTY</th>\n      <th>NAME</th>\n      <th>COUNT</th>\n      <th>RANK</th>\n    </tr>\n  </thead>\n  <tbody>\n    <tr>\n      <th>0</th>\n      <td>2011</td>\n      <td>FEMALE</td>\n      <td>HISPANIC</td>\n      <td>GERALDINE</td>\n      <td>13</td>\n      <td>75</td>\n    </tr>\n    <tr>\n      <th>1</th>\n      <td>2011</td>\n      <td>FEMALE</td>\n      <td>HISPANIC</td>\n      <td>GIA</td>\n      <td>21</td>\n      <td>67</td>\n    </tr>\n    <tr>\n      <th>2</th>\n      <td>2011</td>\n      <td>FEMALE</td>\n      <td>HISPANIC</td>\n      <td>GIANNA</td>\n      <td>49</td>\n      <td>42</td>\n    </tr>\n    <tr>\n      <th>3</th>\n      <td>2011</td>\n      <td>FEMALE</td>\n      <td>HISPANIC</td>\n      <td>GISELLE</td>\n      <td>38</td>\n      <td>51</td>\n    </tr>\n    <tr>\n      <th>4</th>\n      <td>2011</td>\n      <td>FEMALE</td>\n      <td>HISPANIC</td>\n      <td>GRACE</td>\n      <td>36</td>\n      <td>53</td>\n    </tr>\n  </tbody>\n</table>\n</div>"
     },
     "execution_count": 124,
     "metadata": {},
     "output_type": "execute_result"
    }
   ],
   "source": [
    "df.head()"
   ],
   "metadata": {
    "collapsed": false,
    "pycharm": {
     "name": "#%%\n"
    }
   }
  },
  {
   "cell_type": "code",
   "execution_count": 125,
   "outputs": [],
   "source": [
    "gender = df['GENDER']"
   ],
   "metadata": {
    "collapsed": false,
    "pycharm": {
     "name": "#%%\n"
    }
   }
  },
  {
   "cell_type": "code",
   "execution_count": 126,
   "outputs": [
    {
     "data": {
      "text/plain": "Counter({'FEMALE': 7139, 'MALE': 6823})"
     },
     "execution_count": 126,
     "metadata": {},
     "output_type": "execute_result"
    }
   ],
   "source": [
    "gender_counts = Counter(gender)\n",
    "gender_counts"
   ],
   "metadata": {
    "collapsed": false,
    "pycharm": {
     "name": "#%%\n"
    }
   }
  },
  {
   "cell_type": "code",
   "execution_count": 127,
   "outputs": [
    {
     "data": {
      "text/plain": "7139"
     },
     "execution_count": 127,
     "metadata": {},
     "output_type": "execute_result"
    }
   ],
   "source": [
    "gender_counts['FEMALE']"
   ],
   "metadata": {
    "collapsed": false,
    "pycharm": {
     "name": "#%%\n"
    }
   }
  },
  {
   "cell_type": "code",
   "execution_count": 128,
   "outputs": [],
   "source": [
    "ethnicity = df['ETHNICTY']"
   ],
   "metadata": {
    "collapsed": false,
    "pycharm": {
     "name": "#%%\n"
    }
   }
  },
  {
   "cell_type": "code",
   "execution_count": 129,
   "outputs": [
    {
     "data": {
      "text/plain": "Counter({'HISPANIC': 4254,\n         'WHITE NON HISPANIC': 4070,\n         'ASIAN AND PACIFIC ISLANDER': 1952,\n         'BLACK NON HISPANIC': 2274,\n         'ASIAN AND PACI': 358,\n         'BLACK NON HISP': 353,\n         'WHITE NON HISP': 701})"
     },
     "execution_count": 129,
     "metadata": {},
     "output_type": "execute_result"
    }
   ],
   "source": [
    "ethnicity_counts = Counter(ethnicity)\n",
    "ethnicity_counts"
   ],
   "metadata": {
    "collapsed": false,
    "pycharm": {
     "name": "#%%\n"
    }
   }
  },
  {
   "cell_type": "code",
   "execution_count": 130,
   "outputs": [
    {
     "data": {
      "text/plain": "[('HISPANIC', 4254),\n ('WHITE NON HISPANIC', 4070),\n ('BLACK NON HISPANIC', 2274)]"
     },
     "execution_count": 130,
     "metadata": {},
     "output_type": "execute_result"
    }
   ],
   "source": [
    "ethnicity_counts.most_common(3)"
   ],
   "metadata": {
    "collapsed": false,
    "pycharm": {
     "name": "#%%\n"
    }
   }
  },
  {
   "cell_type": "markdown",
   "source": [
    "# Defaultdict : Dictionaries of unknown structure"
   ],
   "metadata": {
    "collapsed": false
   }
  },
  {
   "cell_type": "code",
   "execution_count": 131,
   "outputs": [
    {
     "data": {
      "text/plain": "<zip at 0x7f981eb41b80>"
     },
     "execution_count": 131,
     "metadata": {},
     "output_type": "execute_result"
    }
   ],
   "source": [
    "year = df['BRITH_YEAR']\n",
    "gender = df['GENDER']\n",
    "year_gender_tuple = zip(year, gender)\n",
    "year_gender_tuple"
   ],
   "metadata": {
    "collapsed": false,
    "pycharm": {
     "name": "#%%\n"
    }
   }
  },
  {
   "cell_type": "code",
   "execution_count": 132,
   "outputs": [],
   "source": [
    "names_in_years = defaultdict(list)\n",
    "for year, gender in year_gender_tuple:\n",
    "    names_in_years[year].append(gender)"
   ],
   "metadata": {
    "collapsed": false,
    "pycharm": {
     "name": "#%%\n"
    }
   }
  },
  {
   "cell_type": "markdown",
   "source": [
    "## defaultdict as a counter"
   ],
   "metadata": {
    "collapsed": false
   }
  },
  {
   "cell_type": "code",
   "execution_count": 133,
   "outputs": [],
   "source": [
    "#gender_counts_per_year = defaultdict(int)\n",
    "#for gender in names_in_years:\n",
    "#    if gender.get('FEMALE'):\n",
    "#        gender_counts_per_year['FEMALE'] += 1\n",
    "#    if gender.get('MALE'):\n",
    "#        gender_counts_per_year['MALE'] += 1"
   ],
   "metadata": {
    "collapsed": false,
    "pycharm": {
     "name": "#%%\n"
    }
   }
  },
  {
   "cell_type": "markdown",
   "source": [
    "# Maintaining Dictionary Order with OrderedDict"
   ],
   "metadata": {
    "collapsed": false
   }
  },
  {
   "cell_type": "code",
   "execution_count": 133,
   "outputs": [],
   "source": [],
   "metadata": {
    "collapsed": false,
    "pycharm": {
     "name": "#%%\n"
    }
   }
  }
 ],
 "metadata": {
  "kernelspec": {
   "display_name": "Python 3",
   "language": "python",
   "name": "python3"
  },
  "language_info": {
   "codemirror_mode": {
    "name": "ipython",
    "version": 2
   },
   "file_extension": ".py",
   "mimetype": "text/x-python",
   "name": "python",
   "nbconvert_exporter": "python",
   "pygments_lexer": "ipython2",
   "version": "2.7.6"
  }
 },
 "nbformat": 4,
 "nbformat_minor": 0
}