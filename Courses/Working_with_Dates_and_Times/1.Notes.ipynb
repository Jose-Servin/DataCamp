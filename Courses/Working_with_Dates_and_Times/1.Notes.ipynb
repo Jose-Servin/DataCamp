{
 "cells": [
  {
   "cell_type": "code",
   "execution_count": 127,
   "metadata": {
    "collapsed": true
   },
   "outputs": [],
   "source": [
    "import pandas as pd\n",
    "import matplotlib.pyplot as plt\n",
    "import numpy as np\n",
    "from datetime import date, timedelta\n",
    "import seaborn as sns"
   ]
  },
  {
   "cell_type": "markdown",
   "source": [
    "# Chapter 1: Dates and Calendars"
   ],
   "metadata": {
    "collapsed": false
   }
  },
  {
   "cell_type": "code",
   "execution_count": 109,
   "outputs": [
    {
     "data": {
      "text/plain": "[datetime.date(2016, 10, 7), datetime.date(2017, 6, 21)]"
     },
     "execution_count": 109,
     "metadata": {},
     "output_type": "execute_result"
    }
   ],
   "source": [
    "two_hurricane_dates = [date(2016, 10, 7), date(2017, 6, 21)] # arguments to date() follow \"biggest to smallest\" i.e year, month, date\n",
    "two_hurricane_dates"
   ],
   "metadata": {
    "collapsed": false,
    "pycharm": {
     "name": "#%%\n"
    }
   }
  },
  {
   "cell_type": "markdown",
   "source": [
    "## accessing components of a date"
   ],
   "metadata": {
    "collapsed": false
   }
  },
  {
   "cell_type": "code",
   "execution_count": 110,
   "outputs": [
    {
     "name": "stdout",
     "output_type": "stream",
     "text": [
      "The year component of this date is: 2016\n",
      "The month component of this date is: 10\n",
      "The day component of this date is: 7\n",
      "The weekday element of this date is: 4\n"
     ]
    }
   ],
   "source": [
    "first_hurricane_year = two_hurricane_dates[0].year\n",
    "print(f\"The year component of this date is: {first_hurricane_year}\")\n",
    "\n",
    "first_hurricane_month = two_hurricane_dates[0].month\n",
    "print(f\"The month component of this date is: {first_hurricane_month}\")\n",
    "\n",
    "first_hurricane_day = two_hurricane_dates[0].day\n",
    "print(f\"The day component of this date is: {first_hurricane_day}\")\n",
    "\n",
    "first_hurricane_weekday = two_hurricane_dates[0].weekday()\n",
    "print(f\"The weekday element of this date is: {first_hurricane_weekday}\")\n",
    "# Weekdays start on Monday with value 0"
   ],
   "metadata": {
    "collapsed": false,
    "pycharm": {
     "name": "#%%\n"
    }
   }
  },
  {
   "cell_type": "code",
   "execution_count": 111,
   "outputs": [
    {
     "data": {
      "text/plain": "            Start date             End date  Start station number  \\\n0  2017-10-01 15:23:25  2017-10-01 15:26:26                 31038   \n1  2017-10-01 15:42:57  2017-10-01 17:49:59                 31036   \n2  2017-10-02 06:37:10  2017-10-02 06:42:53                 31036   \n3  2017-10-02 08:56:45  2017-10-02 09:18:03                 31037   \n4  2017-10-02 18:23:48  2017-10-02 18:45:05                 31295   \n\n                          Start station  End station number  \\\n0                  Glebe Rd & 11th St N               31036   \n1         George Mason Dr & Wilson Blvd               31036   \n2         George Mason Dr & Wilson Blvd               31037   \n3  Ballston Metro / N Stuart & 9th St N               31295   \n4                     Potomac & M St NW               31230   \n\n                            End station Bike number Member type  \n0         George Mason Dr & Wilson Blvd      W20529      Member  \n1         George Mason Dr & Wilson Blvd      W20529      Casual  \n2  Ballston Metro / N Stuart & 9th St N      W20529      Member  \n3                     Potomac & M St NW      W20529      Member  \n4         Metro Center / 12th & G St NW      W20529      Member  ",
      "text/html": "<div>\n<style scoped>\n    .dataframe tbody tr th:only-of-type {\n        vertical-align: middle;\n    }\n\n    .dataframe tbody tr th {\n        vertical-align: top;\n    }\n\n    .dataframe thead th {\n        text-align: right;\n    }\n</style>\n<table border=\"1\" class=\"dataframe\">\n  <thead>\n    <tr style=\"text-align: right;\">\n      <th></th>\n      <th>Start date</th>\n      <th>End date</th>\n      <th>Start station number</th>\n      <th>Start station</th>\n      <th>End station number</th>\n      <th>End station</th>\n      <th>Bike number</th>\n      <th>Member type</th>\n    </tr>\n  </thead>\n  <tbody>\n    <tr>\n      <th>0</th>\n      <td>2017-10-01 15:23:25</td>\n      <td>2017-10-01 15:26:26</td>\n      <td>31038</td>\n      <td>Glebe Rd &amp; 11th St N</td>\n      <td>31036</td>\n      <td>George Mason Dr &amp; Wilson Blvd</td>\n      <td>W20529</td>\n      <td>Member</td>\n    </tr>\n    <tr>\n      <th>1</th>\n      <td>2017-10-01 15:42:57</td>\n      <td>2017-10-01 17:49:59</td>\n      <td>31036</td>\n      <td>George Mason Dr &amp; Wilson Blvd</td>\n      <td>31036</td>\n      <td>George Mason Dr &amp; Wilson Blvd</td>\n      <td>W20529</td>\n      <td>Casual</td>\n    </tr>\n    <tr>\n      <th>2</th>\n      <td>2017-10-02 06:37:10</td>\n      <td>2017-10-02 06:42:53</td>\n      <td>31036</td>\n      <td>George Mason Dr &amp; Wilson Blvd</td>\n      <td>31037</td>\n      <td>Ballston Metro / N Stuart &amp; 9th St N</td>\n      <td>W20529</td>\n      <td>Member</td>\n    </tr>\n    <tr>\n      <th>3</th>\n      <td>2017-10-02 08:56:45</td>\n      <td>2017-10-02 09:18:03</td>\n      <td>31037</td>\n      <td>Ballston Metro / N Stuart &amp; 9th St N</td>\n      <td>31295</td>\n      <td>Potomac &amp; M St NW</td>\n      <td>W20529</td>\n      <td>Member</td>\n    </tr>\n    <tr>\n      <th>4</th>\n      <td>2017-10-02 18:23:48</td>\n      <td>2017-10-02 18:45:05</td>\n      <td>31295</td>\n      <td>Potomac &amp; M St NW</td>\n      <td>31230</td>\n      <td>Metro Center / 12th &amp; G St NW</td>\n      <td>W20529</td>\n      <td>Member</td>\n    </tr>\n  </tbody>\n</table>\n</div>"
     },
     "execution_count": 111,
     "metadata": {},
     "output_type": "execute_result"
    }
   ],
   "source": [
    "bike_data = pd.read_csv('/Users/joseservin/DataCamp/Courses/Working_with_Dates_and_Times/capital-onebike.csv')\n",
    "bike_data.head()"
   ],
   "metadata": {
    "collapsed": false,
    "pycharm": {
     "name": "#%%\n"
    }
   }
  },
  {
   "cell_type": "code",
   "execution_count": 112,
   "outputs": [
    {
     "name": "stdout",
     "output_type": "stream",
     "text": [
      "<class 'pandas.core.frame.DataFrame'>\n",
      "RangeIndex: 290 entries, 0 to 289\n",
      "Data columns (total 8 columns):\n",
      " #   Column                Non-Null Count  Dtype \n",
      "---  ------                --------------  ----- \n",
      " 0   Start date            290 non-null    object\n",
      " 1   End date              290 non-null    object\n",
      " 2   Start station number  290 non-null    int64 \n",
      " 3   Start station         290 non-null    object\n",
      " 4   End station number    290 non-null    int64 \n",
      " 5   End station           290 non-null    object\n",
      " 6   Bike number           290 non-null    object\n",
      " 7   Member type           290 non-null    object\n",
      "dtypes: int64(2), object(6)\n",
      "memory usage: 18.2+ KB\n"
     ]
    }
   ],
   "source": [
    "bike_data.info()"
   ],
   "metadata": {
    "collapsed": false,
    "pycharm": {
     "name": "#%%\n"
    }
   }
  },
  {
   "cell_type": "code",
   "execution_count": 113,
   "outputs": [],
   "source": [
    "bike_data['Start date'] = pd.to_datetime(bike_data['Start date'])"
   ],
   "metadata": {
    "collapsed": false,
    "pycharm": {
     "name": "#%%\n"
    }
   }
  },
  {
   "cell_type": "code",
   "execution_count": 114,
   "outputs": [],
   "source": [
    "bike_data['End date'] = pd.to_datetime(bike_data['End date'])\n"
   ],
   "metadata": {
    "collapsed": false,
    "pycharm": {
     "name": "#%%\n"
    }
   }
  },
  {
   "cell_type": "code",
   "execution_count": 115,
   "outputs": [
    {
     "name": "stdout",
     "output_type": "stream",
     "text": [
      "<class 'pandas.core.frame.DataFrame'>\n",
      "RangeIndex: 290 entries, 0 to 289\n",
      "Data columns (total 8 columns):\n",
      " #   Column                Non-Null Count  Dtype         \n",
      "---  ------                --------------  -----         \n",
      " 0   Start date            290 non-null    datetime64[ns]\n",
      " 1   End date              290 non-null    datetime64[ns]\n",
      " 2   Start station number  290 non-null    int64         \n",
      " 3   Start station         290 non-null    object        \n",
      " 4   End station number    290 non-null    int64         \n",
      " 5   End station           290 non-null    object        \n",
      " 6   Bike number           290 non-null    object        \n",
      " 7   Member type           290 non-null    object        \n",
      "dtypes: datetime64[ns](2), int64(2), object(4)\n",
      "memory usage: 18.2+ KB\n"
     ]
    }
   ],
   "source": [
    "bike_data.info()"
   ],
   "metadata": {
    "collapsed": false,
    "pycharm": {
     "name": "#%%\n"
    }
   }
  },
  {
   "cell_type": "markdown",
   "source": [
    "## Counting up Dates"
   ],
   "metadata": {
    "collapsed": false
   }
  },
  {
   "cell_type": "code",
   "execution_count": 116,
   "outputs": [
    {
     "name": "stdout",
     "output_type": "stream",
     "text": [
      "The total number of rides started in October was 108.\n"
     ]
    }
   ],
   "source": [
    "# Finding Start dates that were in January\n",
    "counter = 0\n",
    "for dates in bike_data['Start date']:\n",
    "    if dates.month == 10:\n",
    "        counter += 1\n",
    "print(f\"The total number of rides started in October was {counter}.\")"
   ],
   "metadata": {
    "collapsed": false,
    "pycharm": {
     "name": "#%%\n"
    }
   }
  },
  {
   "cell_type": "code",
   "execution_count": 117,
   "outputs": [
    {
     "data": {
      "text/plain": "             Start date            End date  Start station number  \\\n0   2017-10-01 15:23:25 2017-10-01 15:26:26                 31038   \n1   2017-10-01 15:42:57 2017-10-01 17:49:59                 31036   \n2   2017-10-02 06:37:10 2017-10-02 06:42:53                 31036   \n3   2017-10-02 08:56:45 2017-10-02 09:18:03                 31037   \n4   2017-10-02 18:23:48 2017-10-02 18:45:05                 31295   \n..                  ...                 ...                   ...   \n285 2017-12-29 14:32:55 2017-12-29 14:43:46                 31242   \n286 2017-12-29 15:08:26 2017-12-29 15:18:51                 31265   \n287 2017-12-29 20:33:34 2017-12-29 20:38:13                 31613   \n288 2017-12-30 13:51:03 2017-12-30 13:54:33                 31618   \n289 2017-12-30 15:09:03 2017-12-30 15:19:13                 31610   \n\n                                         Start station  End station number  \\\n0                                 Glebe Rd & 11th St N               31036   \n1                        George Mason Dr & Wilson Blvd               31036   \n2                        George Mason Dr & Wilson Blvd               31037   \n3                 Ballston Metro / N Stuart & 9th St N               31295   \n4                                    Potomac & M St NW               31230   \n..                                                 ...                 ...   \n285                      18th St & Pennsylvania Ave NW               31265   \n286                      5th St & Massachusetts Ave NW               31613   \n287  Eastern Market Metro / Pennsylvania Ave & 7th ...               31618   \n288                           4th & East Capitol St NE               31610   \n289       Eastern Market / 7th & North Carolina Ave SE               31272   \n\n                                           End station Bike number  \\\n0                        George Mason Dr & Wilson Blvd      W20529   \n1                        George Mason Dr & Wilson Blvd      W20529   \n2                 Ballston Metro / N Stuart & 9th St N      W20529   \n3                                    Potomac & M St NW      W20529   \n4                        Metro Center / 12th & G St NW      W20529   \n..                                                 ...         ...   \n285                      5th St & Massachusetts Ave NW      W20529   \n286  Eastern Market Metro / Pennsylvania Ave & 7th ...      W20529   \n287                           4th & East Capitol St NE      W20529   \n288       Eastern Market / 7th & North Carolina Ave SE      W20529   \n289               Washington & Independence Ave SW/HHS      W20529   \n\n    Member type  Start month  \n0        Member           10  \n1        Casual           10  \n2        Member           10  \n3        Member           10  \n4        Member           10  \n..          ...          ...  \n285      Member           12  \n286      Casual           12  \n287      Member           12  \n288      Member           12  \n289      Member           12  \n\n[290 rows x 9 columns]",
      "text/html": "<div>\n<style scoped>\n    .dataframe tbody tr th:only-of-type {\n        vertical-align: middle;\n    }\n\n    .dataframe tbody tr th {\n        vertical-align: top;\n    }\n\n    .dataframe thead th {\n        text-align: right;\n    }\n</style>\n<table border=\"1\" class=\"dataframe\">\n  <thead>\n    <tr style=\"text-align: right;\">\n      <th></th>\n      <th>Start date</th>\n      <th>End date</th>\n      <th>Start station number</th>\n      <th>Start station</th>\n      <th>End station number</th>\n      <th>End station</th>\n      <th>Bike number</th>\n      <th>Member type</th>\n      <th>Start month</th>\n    </tr>\n  </thead>\n  <tbody>\n    <tr>\n      <th>0</th>\n      <td>2017-10-01 15:23:25</td>\n      <td>2017-10-01 15:26:26</td>\n      <td>31038</td>\n      <td>Glebe Rd &amp; 11th St N</td>\n      <td>31036</td>\n      <td>George Mason Dr &amp; Wilson Blvd</td>\n      <td>W20529</td>\n      <td>Member</td>\n      <td>10</td>\n    </tr>\n    <tr>\n      <th>1</th>\n      <td>2017-10-01 15:42:57</td>\n      <td>2017-10-01 17:49:59</td>\n      <td>31036</td>\n      <td>George Mason Dr &amp; Wilson Blvd</td>\n      <td>31036</td>\n      <td>George Mason Dr &amp; Wilson Blvd</td>\n      <td>W20529</td>\n      <td>Casual</td>\n      <td>10</td>\n    </tr>\n    <tr>\n      <th>2</th>\n      <td>2017-10-02 06:37:10</td>\n      <td>2017-10-02 06:42:53</td>\n      <td>31036</td>\n      <td>George Mason Dr &amp; Wilson Blvd</td>\n      <td>31037</td>\n      <td>Ballston Metro / N Stuart &amp; 9th St N</td>\n      <td>W20529</td>\n      <td>Member</td>\n      <td>10</td>\n    </tr>\n    <tr>\n      <th>3</th>\n      <td>2017-10-02 08:56:45</td>\n      <td>2017-10-02 09:18:03</td>\n      <td>31037</td>\n      <td>Ballston Metro / N Stuart &amp; 9th St N</td>\n      <td>31295</td>\n      <td>Potomac &amp; M St NW</td>\n      <td>W20529</td>\n      <td>Member</td>\n      <td>10</td>\n    </tr>\n    <tr>\n      <th>4</th>\n      <td>2017-10-02 18:23:48</td>\n      <td>2017-10-02 18:45:05</td>\n      <td>31295</td>\n      <td>Potomac &amp; M St NW</td>\n      <td>31230</td>\n      <td>Metro Center / 12th &amp; G St NW</td>\n      <td>W20529</td>\n      <td>Member</td>\n      <td>10</td>\n    </tr>\n    <tr>\n      <th>...</th>\n      <td>...</td>\n      <td>...</td>\n      <td>...</td>\n      <td>...</td>\n      <td>...</td>\n      <td>...</td>\n      <td>...</td>\n      <td>...</td>\n      <td>...</td>\n    </tr>\n    <tr>\n      <th>285</th>\n      <td>2017-12-29 14:32:55</td>\n      <td>2017-12-29 14:43:46</td>\n      <td>31242</td>\n      <td>18th St &amp; Pennsylvania Ave NW</td>\n      <td>31265</td>\n      <td>5th St &amp; Massachusetts Ave NW</td>\n      <td>W20529</td>\n      <td>Member</td>\n      <td>12</td>\n    </tr>\n    <tr>\n      <th>286</th>\n      <td>2017-12-29 15:08:26</td>\n      <td>2017-12-29 15:18:51</td>\n      <td>31265</td>\n      <td>5th St &amp; Massachusetts Ave NW</td>\n      <td>31613</td>\n      <td>Eastern Market Metro / Pennsylvania Ave &amp; 7th ...</td>\n      <td>W20529</td>\n      <td>Casual</td>\n      <td>12</td>\n    </tr>\n    <tr>\n      <th>287</th>\n      <td>2017-12-29 20:33:34</td>\n      <td>2017-12-29 20:38:13</td>\n      <td>31613</td>\n      <td>Eastern Market Metro / Pennsylvania Ave &amp; 7th ...</td>\n      <td>31618</td>\n      <td>4th &amp; East Capitol St NE</td>\n      <td>W20529</td>\n      <td>Member</td>\n      <td>12</td>\n    </tr>\n    <tr>\n      <th>288</th>\n      <td>2017-12-30 13:51:03</td>\n      <td>2017-12-30 13:54:33</td>\n      <td>31618</td>\n      <td>4th &amp; East Capitol St NE</td>\n      <td>31610</td>\n      <td>Eastern Market / 7th &amp; North Carolina Ave SE</td>\n      <td>W20529</td>\n      <td>Member</td>\n      <td>12</td>\n    </tr>\n    <tr>\n      <th>289</th>\n      <td>2017-12-30 15:09:03</td>\n      <td>2017-12-30 15:19:13</td>\n      <td>31610</td>\n      <td>Eastern Market / 7th &amp; North Carolina Ave SE</td>\n      <td>31272</td>\n      <td>Washington &amp; Independence Ave SW/HHS</td>\n      <td>W20529</td>\n      <td>Member</td>\n      <td>12</td>\n    </tr>\n  </tbody>\n</table>\n<p>290 rows × 9 columns</p>\n</div>"
     },
     "execution_count": 117,
     "metadata": {},
     "output_type": "execute_result"
    }
   ],
   "source": [
    "bike_data['Start month'] = pd.DatetimeIndex(bike_data['Start date']).month\n",
    "bike_data"
   ],
   "metadata": {
    "collapsed": false,
    "pycharm": {
     "name": "#%%\n"
    }
   }
  },
  {
   "cell_type": "code",
   "execution_count": 118,
   "outputs": [
    {
     "name": "stderr",
     "output_type": "stream",
     "text": [
      "/Users/joseservin/DataCamp/venv/lib/python3.9/site-packages/seaborn/_decorators.py:36: FutureWarning: Pass the following variable as a keyword arg: x. From version 0.12, the only valid positional argument will be `data`, and passing other arguments without an explicit keyword will result in an error or misinterpretation.\n",
      "  warnings.warn(\n"
     ]
    },
    {
     "data": {
      "text/plain": "<Figure size 432x288 with 1 Axes>",
      "image/png": "[encoded data removed]"
     },
     "metadata": {
      "needs_background": "light"
     },
     "output_type": "display_data"
    }
   ],
   "source": [
    "ax = sns.countplot(\n",
    "    bike_data['Start month']\n",
    ")\n",
    "for p, label in zip(ax.patches, bike_data['Start month'].value_counts()):\n",
    "    ax.annotate(label, (p.get_x()+0.30, p.get_height()+1))"
   ],
   "metadata": {
    "collapsed": false,
    "pycharm": {
     "name": "#%%\n"
    }
   }
  },
  {
   "cell_type": "markdown",
   "source": [
    "## Dictionary map of counts"
   ],
   "metadata": {
    "collapsed": false
   }
  },
  {
   "cell_type": "code",
   "execution_count": 129,
   "outputs": [
    {
     "data": {
      "text/plain": "{10: 108, 11: 103, 12: 79}"
     },
     "execution_count": 129,
     "metadata": {},
     "output_type": "execute_result"
    }
   ],
   "source": [
    "rides_each_month = {10:0, 11:0, 12:0}\n",
    "\n",
    "for i in bike_data['Start month']:\n",
    "    rides_each_month[i] += 1\n",
    "\n",
    "rides_each_month"
   ],
   "metadata": {
    "collapsed": false,
    "pycharm": {
     "name": "#%%\n"
    }
   }
  },
  {
   "cell_type": "markdown",
   "source": [
    "## Math with Dates"
   ],
   "metadata": {
    "collapsed": false
   }
  },
  {
   "cell_type": "code",
   "execution_count": 121,
   "outputs": [
    {
     "data": {
      "text/plain": "datetime.date(2017, 11, 5)"
     },
     "execution_count": 121,
     "metadata": {},
     "output_type": "execute_result"
    }
   ],
   "source": [
    "d1 = date(2017, 11, 5)\n",
    "d2 = date(2017, 12, 4)\n",
    "l = [d1, d2]\n",
    "min(l)"
   ],
   "metadata": {
    "collapsed": false,
    "pycharm": {
     "name": "#%%\n"
    }
   }
  },
  {
   "cell_type": "markdown",
   "source": [
    "### Subtracting two dates"
   ],
   "metadata": {
    "collapsed": false
   }
  },
  {
   "cell_type": "code",
   "execution_count": 122,
   "outputs": [
    {
     "data": {
      "text/plain": "datetime.timedelta"
     },
     "execution_count": 122,
     "metadata": {},
     "output_type": "execute_result"
    }
   ],
   "source": [
    "delta = d2 - d1\n",
    "type(delta)"
   ],
   "metadata": {
    "collapsed": false,
    "pycharm": {
     "name": "#%%\n"
    }
   }
  },
  {
   "cell_type": "code",
   "execution_count": 126,
   "outputs": [
    {
     "data": {
      "text/plain": "29"
     },
     "execution_count": 126,
     "metadata": {},
     "output_type": "execute_result"
    }
   ],
   "source": [
    "# timedelta has a .days attribute that can be accessed to see number of days between dates\n",
    "delta.days"
   ],
   "metadata": {
    "collapsed": false,
    "pycharm": {
     "name": "#%%\n"
    }
   }
  },
  {
   "cell_type": "markdown",
   "source": [
    "### adding timedelta to date"
   ],
   "metadata": {
    "collapsed": false
   }
  },
  {
   "cell_type": "code",
   "execution_count": 128,
   "outputs": [
    {
     "data": {
      "text/plain": "datetime.date(2017, 12, 4)"
     },
     "execution_count": 128,
     "metadata": {},
     "output_type": "execute_result"
    }
   ],
   "source": [
    "td = timedelta(days=29)\n",
    "arrived_d2 = d1 + td\n",
    "arrived_d2"
   ],
   "metadata": {
    "collapsed": false,
    "pycharm": {
     "name": "#%%\n"
    }
   }
  },
  {
   "cell_type": "markdown",
   "source": [
    "## Sorting dates"
   ],
   "metadata": {
    "collapsed": false
   }
  },
  {
   "cell_type": "code",
   "execution_count": 132,
   "outputs": [
    {
     "data": {
      "text/plain": "             Start date            End date  Start station number  \\\n289 2017-12-30 15:09:03 2017-12-30 15:19:13                 31610   \n288 2017-12-30 13:51:03 2017-12-30 13:54:33                 31618   \n287 2017-12-29 20:33:34 2017-12-29 20:38:13                 31613   \n286 2017-12-29 15:08:26 2017-12-29 15:18:51                 31265   \n285 2017-12-29 14:32:55 2017-12-29 14:43:46                 31242   \n\n                                         Start station  End station number  \\\n289       Eastern Market / 7th & North Carolina Ave SE               31272   \n288                           4th & East Capitol St NE               31610   \n287  Eastern Market Metro / Pennsylvania Ave & 7th ...               31618   \n286                      5th St & Massachusetts Ave NW               31613   \n285                      18th St & Pennsylvania Ave NW               31265   \n\n                                           End station Bike number  \\\n289               Washington & Independence Ave SW/HHS      W20529   \n288       Eastern Market / 7th & North Carolina Ave SE      W20529   \n287                           4th & East Capitol St NE      W20529   \n286  Eastern Market Metro / Pennsylvania Ave & 7th ...      W20529   \n285                      5th St & Massachusetts Ave NW      W20529   \n\n    Member type  Start month  \n289      Member           12  \n288      Member           12  \n287      Member           12  \n286      Casual           12  \n285      Member           12  ",
      "text/html": "<div>\n<style scoped>\n    .dataframe tbody tr th:only-of-type {\n        vertical-align: middle;\n    }\n\n    .dataframe tbody tr th {\n        vertical-align: top;\n    }\n\n    .dataframe thead th {\n        text-align: right;\n    }\n</style>\n<table border=\"1\" class=\"dataframe\">\n  <thead>\n    <tr style=\"text-align: right;\">\n      <th></th>\n      <th>Start date</th>\n      <th>End date</th>\n      <th>Start station number</th>\n      <th>Start station</th>\n      <th>End station number</th>\n      <th>End station</th>\n      <th>Bike number</th>\n      <th>Member type</th>\n      <th>Start month</th>\n    </tr>\n  </thead>\n  <tbody>\n    <tr>\n      <th>289</th>\n      <td>2017-12-30 15:09:03</td>\n      <td>2017-12-30 15:19:13</td>\n      <td>31610</td>\n      <td>Eastern Market / 7th &amp; North Carolina Ave SE</td>\n      <td>31272</td>\n      <td>Washington &amp; Independence Ave SW/HHS</td>\n      <td>W20529</td>\n      <td>Member</td>\n      <td>12</td>\n    </tr>\n    <tr>\n      <th>288</th>\n      <td>2017-12-30 13:51:03</td>\n      <td>2017-12-30 13:54:33</td>\n      <td>31618</td>\n      <td>4th &amp; East Capitol St NE</td>\n      <td>31610</td>\n      <td>Eastern Market / 7th &amp; North Carolina Ave SE</td>\n      <td>W20529</td>\n      <td>Member</td>\n      <td>12</td>\n    </tr>\n    <tr>\n      <th>287</th>\n      <td>2017-12-29 20:33:34</td>\n      <td>2017-12-29 20:38:13</td>\n      <td>31613</td>\n      <td>Eastern Market Metro / Pennsylvania Ave &amp; 7th ...</td>\n      <td>31618</td>\n      <td>4th &amp; East Capitol St NE</td>\n      <td>W20529</td>\n      <td>Member</td>\n      <td>12</td>\n    </tr>\n    <tr>\n      <th>286</th>\n      <td>2017-12-29 15:08:26</td>\n      <td>2017-12-29 15:18:51</td>\n      <td>31265</td>\n      <td>5th St &amp; Massachusetts Ave NW</td>\n      <td>31613</td>\n      <td>Eastern Market Metro / Pennsylvania Ave &amp; 7th ...</td>\n      <td>W20529</td>\n      <td>Casual</td>\n      <td>12</td>\n    </tr>\n    <tr>\n      <th>285</th>\n      <td>2017-12-29 14:32:55</td>\n      <td>2017-12-29 14:43:46</td>\n      <td>31242</td>\n      <td>18th St &amp; Pennsylvania Ave NW</td>\n      <td>31265</td>\n      <td>5th St &amp; Massachusetts Ave NW</td>\n      <td>W20529</td>\n      <td>Member</td>\n      <td>12</td>\n    </tr>\n  </tbody>\n</table>\n</div>"
     },
     "execution_count": 132,
     "metadata": {},
     "output_type": "execute_result"
    }
   ],
   "source": [
    "sorted_df = bike_data.sort_values('Start date', ascending=False)\n",
    "sorted_df.head()"
   ],
   "metadata": {
    "collapsed": false,
    "pycharm": {
     "name": "#%%\n"
    }
   }
  },
  {
   "cell_type": "markdown",
   "source": [
    "## Turning dates into strings"
   ],
   "metadata": {
    "collapsed": false
   }
  },
  {
   "cell_type": "markdown",
   "source": [
    "* ISO 8601 Format follows YYYY-MM-DD"
   ],
   "metadata": {
    "collapsed": false
   }
  },
  {
   "cell_type": "code",
   "execution_count": 135,
   "outputs": [
    {
     "data": {
      "text/plain": "['2017-12-04', '2017-11-05']"
     },
     "execution_count": 135,
     "metadata": {},
     "output_type": "execute_result"
    }
   ],
   "source": [
    "list_of_string_dates = [d2.isoformat(), d1.isoformat()]\n",
    "list_of_string_dates"
   ],
   "metadata": {
    "collapsed": false,
    "pycharm": {
     "name": "#%%\n"
    }
   }
  },
  {
   "cell_type": "code",
   "execution_count": 136,
   "outputs": [
    {
     "data": {
      "text/plain": "['2017-11-05', '2017-12-04']"
     },
     "execution_count": 136,
     "metadata": {},
     "output_type": "execute_result"
    }
   ],
   "source": [
    "sorted(list_of_string_dates)"
   ],
   "metadata": {
    "collapsed": false,
    "pycharm": {
     "name": "#%%\n"
    }
   }
  },
  {
   "cell_type": "markdown",
   "source": [
    "### strftime method \"string format time\""
   ],
   "metadata": {
    "collapsed": false
   }
  },
  {
   "cell_type": "markdown",
   "source": [
    "* %Y - Year\n",
    "* %m - month\n",
    "* %d - day"
   ],
   "metadata": {
    "collapsed": false
   }
  },
  {
   "cell_type": "code",
   "execution_count": 138,
   "outputs": [
    {
     "data": {
      "text/plain": "'2017'"
     },
     "execution_count": 138,
     "metadata": {},
     "output_type": "execute_result"
    }
   ],
   "source": [
    "d1.strftime('%Y') # argument passed is called a format string"
   ],
   "metadata": {
    "collapsed": false,
    "pycharm": {
     "name": "#%%\n"
    }
   }
  },
  {
   "cell_type": "code",
   "execution_count": 145,
   "outputs": [
    {
     "data": {
      "text/plain": "'The year of the first entry in hurricanes list is 2016'"
     },
     "metadata": {},
     "output_type": "display_data"
    },
    {
     "data": {
      "text/plain": "'The year of the second entry in hurricanes list is 2017'"
     },
     "execution_count": 145,
     "metadata": {},
     "output_type": "execute_result"
    }
   ],
   "source": [
    "from IPython.core.display_functions import display\n",
    "\n",
    "display(two_hurricane_dates[0].strftime(\"The year of the first entry in hurricanes list is %Y\"))\n",
    "two_hurricane_dates[1].strftime(\"The year of the second entry in hurricanes list is %Y\")"
   ],
   "metadata": {
    "collapsed": false,
    "pycharm": {
     "name": "#%%\n"
    }
   }
  },
  {
   "cell_type": "markdown",
   "source": [
    "### getting names of months from dates with %B"
   ],
   "metadata": {
    "collapsed": false
   }
  },
  {
   "cell_type": "code",
   "execution_count": 146,
   "outputs": [
    {
     "data": {
      "text/plain": "'The name of the month for the first entry in hurricanes list is October'"
     },
     "metadata": {},
     "output_type": "display_data"
    },
    {
     "data": {
      "text/plain": "'The name of the month for the second entry in hurricanes list is June'"
     },
     "execution_count": 146,
     "metadata": {},
     "output_type": "execute_result"
    }
   ],
   "source": [
    "display(two_hurricane_dates[0].strftime(\"The name of the month for the first entry in hurricanes list is %B\"))\n",
    "two_hurricane_dates[1].strftime(\"The name of the month for the second entry in hurricanes list is %B\")"
   ],
   "metadata": {
    "collapsed": false,
    "pycharm": {
     "name": "#%%\n"
    }
   }
  },
  {
   "cell_type": "markdown",
   "source": [
    "### getting day of year from dates with %j"
   ],
   "metadata": {
    "collapsed": false
   }
  },
  {
   "cell_type": "code",
   "execution_count": 147,
   "outputs": [
    {
     "data": {
      "text/plain": "'The day of year for the first entry in hurricanes list is 281'"
     },
     "metadata": {},
     "output_type": "display_data"
    },
    {
     "data": {
      "text/plain": "'The day of year for the second entry in hurricanes list is 172'"
     },
     "execution_count": 147,
     "metadata": {},
     "output_type": "execute_result"
    }
   ],
   "source": [
    "display(two_hurricane_dates[0].strftime(\"The day of year for the first entry in hurricanes list is %j\"))\n",
    "two_hurricane_dates[1].strftime(\"The day of year for the second entry in hurricanes list is %j\")"
   ],
   "metadata": {
    "collapsed": false,
    "pycharm": {
     "name": "#%%\n"
    }
   }
  },
  {
   "cell_type": "code",
   "execution_count": null,
   "outputs": [],
   "source": [],
   "metadata": {
    "collapsed": false,
    "pycharm": {
     "name": "#%%\n"
    }
   }
  }
 ],
 "metadata": {
  "kernelspec": {
   "display_name": "Python 3",
   "language": "python",
   "name": "python3"
  },
  "language_info": {
   "codemirror_mode": {
    "name": "ipython",
    "version": 2
   },
   "file_extension": ".py",
   "mimetype": "text/x-python",
   "name": "python",
   "nbconvert_exporter": "python",
   "pygments_lexer": "ipython2",
   "version": "2.7.6"
  }
 },
 "nbformat": 4,
 "nbformat_minor": 0
}