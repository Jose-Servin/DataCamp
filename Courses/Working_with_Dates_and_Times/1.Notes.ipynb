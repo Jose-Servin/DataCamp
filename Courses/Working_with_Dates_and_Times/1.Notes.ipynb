{
 "cells": [
  {
   "cell_type": "code",
   "execution_count": 19,
   "metadata": {
    "collapsed": true
   },
   "outputs": [],
   "source": [
    "import pandas as pd\n",
    "import matplotlib.pyplot as plt\n",
    "import numpy as np\n",
    "from datetime import date\n",
    "import seaborn as sns"
   ]
  },
  {
   "cell_type": "markdown",
   "source": [
    "# Chapter 1: Dates and Calendars"
   ],
   "metadata": {
    "collapsed": false
   }
  },
  {
   "cell_type": "code",
   "execution_count": 3,
   "outputs": [
    {
     "data": {
      "text/plain": "[datetime.date(2016, 10, 7), datetime.date(2017, 6, 21)]"
     },
     "execution_count": 3,
     "metadata": {},
     "output_type": "execute_result"
    }
   ],
   "source": [
    "two_hurricane_dates = [date(2016, 10, 7), date(2017, 6, 21)] # arguments to date() follow \"biggest to smallest\" i.e year, month, date\n",
    "two_hurricane_dates"
   ],
   "metadata": {
    "collapsed": false,
    "pycharm": {
     "name": "#%%\n"
    }
   }
  },
  {
   "cell_type": "markdown",
   "source": [
    "## accessing components of a date"
   ],
   "metadata": {
    "collapsed": false
   }
  },
  {
   "cell_type": "code",
   "execution_count": 8,
   "outputs": [
    {
     "name": "stdout",
     "output_type": "stream",
     "text": [
      "The year component of this date is: 2016\n",
      "The month component of this date is: 10\n",
      "The day component of this date is: 7\n",
      "The weekday element of this date is: 4\n"
     ]
    }
   ],
   "source": [
    "first_hurricane_year = two_hurricane_dates[0].year\n",
    "print(f\"The year component of this date is: {first_hurricane_year}\")\n",
    "\n",
    "first_hurricane_month = two_hurricane_dates[0].month\n",
    "print(f\"The month component of this date is: {first_hurricane_month}\")\n",
    "\n",
    "first_hurricane_day = two_hurricane_dates[0].day\n",
    "print(f\"The day component of this date is: {first_hurricane_day}\")\n",
    "\n",
    "first_hurricane_weekday = two_hurricane_dates[0].weekday()\n",
    "print(f\"The weekday element of this date is: {first_hurricane_weekday}\")\n",
    "# Weekdays start on Monday with value 0"
   ],
   "metadata": {
    "collapsed": false,
    "pycharm": {
     "name": "#%%\n"
    }
   }
  },
  {
   "cell_type": "code",
   "execution_count": 9,
   "outputs": [
    {
     "data": {
      "text/plain": "            Start date             End date  Start station number  \\\n0  2017-10-01 15:23:25  2017-10-01 15:26:26                 31038   \n1  2017-10-01 15:42:57  2017-10-01 17:49:59                 31036   \n2  2017-10-02 06:37:10  2017-10-02 06:42:53                 31036   \n3  2017-10-02 08:56:45  2017-10-02 09:18:03                 31037   \n4  2017-10-02 18:23:48  2017-10-02 18:45:05                 31295   \n\n                          Start station  End station number  \\\n0                  Glebe Rd & 11th St N               31036   \n1         George Mason Dr & Wilson Blvd               31036   \n2         George Mason Dr & Wilson Blvd               31037   \n3  Ballston Metro / N Stuart & 9th St N               31295   \n4                     Potomac & M St NW               31230   \n\n                            End station Bike number Member type  \n0         George Mason Dr & Wilson Blvd      W20529      Member  \n1         George Mason Dr & Wilson Blvd      W20529      Casual  \n2  Ballston Metro / N Stuart & 9th St N      W20529      Member  \n3                     Potomac & M St NW      W20529      Member  \n4         Metro Center / 12th & G St NW      W20529      Member  ",
      "text/html": "<div>\n<style scoped>\n    .dataframe tbody tr th:only-of-type {\n        vertical-align: middle;\n    }\n\n    .dataframe tbody tr th {\n        vertical-align: top;\n    }\n\n    .dataframe thead th {\n        text-align: right;\n    }\n</style>\n<table border=\"1\" class=\"dataframe\">\n  <thead>\n    <tr style=\"text-align: right;\">\n      <th></th>\n      <th>Start date</th>\n      <th>End date</th>\n      <th>Start station number</th>\n      <th>Start station</th>\n      <th>End station number</th>\n      <th>End station</th>\n      <th>Bike number</th>\n      <th>Member type</th>\n    </tr>\n  </thead>\n  <tbody>\n    <tr>\n      <th>0</th>\n      <td>2017-10-01 15:23:25</td>\n      <td>2017-10-01 15:26:26</td>\n      <td>31038</td>\n      <td>Glebe Rd &amp; 11th St N</td>\n      <td>31036</td>\n      <td>George Mason Dr &amp; Wilson Blvd</td>\n      <td>W20529</td>\n      <td>Member</td>\n    </tr>\n    <tr>\n      <th>1</th>\n      <td>2017-10-01 15:42:57</td>\n      <td>2017-10-01 17:49:59</td>\n      <td>31036</td>\n      <td>George Mason Dr &amp; Wilson Blvd</td>\n      <td>31036</td>\n      <td>George Mason Dr &amp; Wilson Blvd</td>\n      <td>W20529</td>\n      <td>Casual</td>\n    </tr>\n    <tr>\n      <th>2</th>\n      <td>2017-10-02 06:37:10</td>\n      <td>2017-10-02 06:42:53</td>\n      <td>31036</td>\n      <td>George Mason Dr &amp; Wilson Blvd</td>\n      <td>31037</td>\n      <td>Ballston Metro / N Stuart &amp; 9th St N</td>\n      <td>W20529</td>\n      <td>Member</td>\n    </tr>\n    <tr>\n      <th>3</th>\n      <td>2017-10-02 08:56:45</td>\n      <td>2017-10-02 09:18:03</td>\n      <td>31037</td>\n      <td>Ballston Metro / N Stuart &amp; 9th St N</td>\n      <td>31295</td>\n      <td>Potomac &amp; M St NW</td>\n      <td>W20529</td>\n      <td>Member</td>\n    </tr>\n    <tr>\n      <th>4</th>\n      <td>2017-10-02 18:23:48</td>\n      <td>2017-10-02 18:45:05</td>\n      <td>31295</td>\n      <td>Potomac &amp; M St NW</td>\n      <td>31230</td>\n      <td>Metro Center / 12th &amp; G St NW</td>\n      <td>W20529</td>\n      <td>Member</td>\n    </tr>\n  </tbody>\n</table>\n</div>"
     },
     "execution_count": 9,
     "metadata": {},
     "output_type": "execute_result"
    }
   ],
   "source": [
    "bike_data = pd.read_csv('/Users/joseservin/DataCamp/Courses/Working_with_Dates_and_Times/capital-onebike.csv')\n",
    "bike_data.head()"
   ],
   "metadata": {
    "collapsed": false,
    "pycharm": {
     "name": "#%%\n"
    }
   }
  },
  {
   "cell_type": "code",
   "execution_count": 10,
   "outputs": [
    {
     "name": "stdout",
     "output_type": "stream",
     "text": [
      "<class 'pandas.core.frame.DataFrame'>\n",
      "RangeIndex: 290 entries, 0 to 289\n",
      "Data columns (total 8 columns):\n",
      " #   Column                Non-Null Count  Dtype \n",
      "---  ------                --------------  ----- \n",
      " 0   Start date            290 non-null    object\n",
      " 1   End date              290 non-null    object\n",
      " 2   Start station number  290 non-null    int64 \n",
      " 3   Start station         290 non-null    object\n",
      " 4   End station number    290 non-null    int64 \n",
      " 5   End station           290 non-null    object\n",
      " 6   Bike number           290 non-null    object\n",
      " 7   Member type           290 non-null    object\n",
      "dtypes: int64(2), object(6)\n",
      "memory usage: 18.2+ KB\n"
     ]
    }
   ],
   "source": [
    "bike_data.info()"
   ],
   "metadata": {
    "collapsed": false,
    "pycharm": {
     "name": "#%%\n"
    }
   }
  },
  {
   "cell_type": "code",
   "execution_count": 11,
   "outputs": [],
   "source": [
    "bike_data['Start date'] = pd.to_datetime(bike_data['Start date'])"
   ],
   "metadata": {
    "collapsed": false,
    "pycharm": {
     "name": "#%%\n"
    }
   }
  },
  {
   "cell_type": "code",
   "execution_count": 12,
   "outputs": [],
   "source": [
    "bike_data['End date'] = pd.to_datetime(bike_data['End date'])\n"
   ],
   "metadata": {
    "collapsed": false,
    "pycharm": {
     "name": "#%%\n"
    }
   }
  },
  {
   "cell_type": "code",
   "execution_count": 13,
   "outputs": [
    {
     "name": "stdout",
     "output_type": "stream",
     "text": [
      "<class 'pandas.core.frame.DataFrame'>\n",
      "RangeIndex: 290 entries, 0 to 289\n",
      "Data columns (total 8 columns):\n",
      " #   Column                Non-Null Count  Dtype         \n",
      "---  ------                --------------  -----         \n",
      " 0   Start date            290 non-null    datetime64[ns]\n",
      " 1   End date              290 non-null    datetime64[ns]\n",
      " 2   Start station number  290 non-null    int64         \n",
      " 3   Start station         290 non-null    object        \n",
      " 4   End station number    290 non-null    int64         \n",
      " 5   End station           290 non-null    object        \n",
      " 6   Bike number           290 non-null    object        \n",
      " 7   Member type           290 non-null    object        \n",
      "dtypes: datetime64[ns](2), int64(2), object(4)\n",
      "memory usage: 18.2+ KB\n"
     ]
    }
   ],
   "source": [
    "bike_data.info()"
   ],
   "metadata": {
    "collapsed": false,
    "pycharm": {
     "name": "#%%\n"
    }
   }
  },
  {
   "cell_type": "markdown",
   "source": [
    "## Counting up Dates"
   ],
   "metadata": {
    "collapsed": false
   }
  },
  {
   "cell_type": "code",
   "execution_count": 24,
   "outputs": [
    {
     "name": "stdout",
     "output_type": "stream",
     "text": [
      "The total number of rides started in October was 108.\n"
     ]
    }
   ],
   "source": [
    "# Finding Start dates that were in January\n",
    "counter = 0\n",
    "for date in bike_data['Start date']:\n",
    "    if date.month == 10:\n",
    "        counter += 1\n",
    "print(f\"The total number of rides started in October was {counter}.\")"
   ],
   "metadata": {
    "collapsed": false,
    "pycharm": {
     "name": "#%%\n"
    }
   }
  },
  {
   "cell_type": "markdown",
   "source": [
    "## Math with Dates"
   ],
   "metadata": {
    "collapsed": false
   }
  },
  {
   "cell_type": "code",
   "execution_count": null,
   "outputs": [],
   "source": [],
   "metadata": {
    "collapsed": false,
    "pycharm": {
     "name": "#%%\n"
    }
   }
  }
 ],
 "metadata": {
  "kernelspec": {
   "display_name": "Python 3",
   "language": "python",
   "name": "python3"
  },
  "language_info": {
   "codemirror_mode": {
    "name": "ipython",
    "version": 2
   },
   "file_extension": ".py",
   "mimetype": "text/x-python",
   "name": "python",
   "nbconvert_exporter": "python",
   "pygments_lexer": "ipython2",
   "version": "2.7.6"
  }
 },
 "nbformat": 4,
 "nbformat_minor": 0
}