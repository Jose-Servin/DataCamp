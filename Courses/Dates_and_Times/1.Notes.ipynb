{
 "cells": [
  {
   "cell_type": "code",
   "execution_count": 24,
   "metadata": {
    "collapsed": true
   },
   "outputs": [],
   "source": [
    "import pandas as pd\n",
    "import matplotlib.pyplot as plt\n",
    "import numpy as np\n",
    "from datetime import date, timedelta, datetime\n",
    "import seaborn as sns"
   ]
  },
  {
   "cell_type": "markdown",
   "source": [
    "# Chapter 1: Dates and Calendars"
   ],
   "metadata": {
    "collapsed": false
   }
  },
  {
   "cell_type": "code",
   "execution_count": 2,
   "outputs": [
    {
     "data": {
      "text/plain": "[datetime.date(2016, 10, 7), datetime.date(2017, 6, 21)]"
     },
     "execution_count": 2,
     "metadata": {},
     "output_type": "execute_result"
    }
   ],
   "source": [
    "two_hurricane_dates = [date(2016, 10, 7), date(2017, 6, 21)] # arguments to date() follow \"biggest to smallest\" i.e year, month, date\n",
    "two_hurricane_dates"
   ],
   "metadata": {
    "collapsed": false,
    "pycharm": {
     "name": "#%%\n"
    }
   }
  },
  {
   "cell_type": "markdown",
   "source": [
    "## accessing components of a date"
   ],
   "metadata": {
    "collapsed": false
   }
  },
  {
   "cell_type": "code",
   "execution_count": 3,
   "outputs": [
    {
     "name": "stdout",
     "output_type": "stream",
     "text": [
      "The year component of this date is: 2016\n",
      "The month component of this date is: 10\n",
      "The day component of this date is: 7\n",
      "The weekday element of this date is: 4\n"
     ]
    }
   ],
   "source": [
    "first_hurricane_year = two_hurricane_dates[0].year\n",
    "print(f\"The year component of this date is: {first_hurricane_year}\")\n",
    "\n",
    "first_hurricane_month = two_hurricane_dates[0].month\n",
    "print(f\"The month component of this date is: {first_hurricane_month}\")\n",
    "\n",
    "first_hurricane_day = two_hurricane_dates[0].day\n",
    "print(f\"The day component of this date is: {first_hurricane_day}\")\n",
    "\n",
    "first_hurricane_weekday = two_hurricane_dates[0].weekday()\n",
    "print(f\"The weekday element of this date is: {first_hurricane_weekday}\")\n",
    "# Weekdays start on Monday with value 0"
   ],
   "metadata": {
    "collapsed": false,
    "pycharm": {
     "name": "#%%\n"
    }
   }
  },
  {
   "cell_type": "code",
   "execution_count": 4,
   "outputs": [
    {
     "data": {
      "text/plain": "            Start date             End date  Start station number  \\\n0  2017-10-01 15:23:25  2017-10-01 15:26:26                 31038   \n1  2017-10-01 15:42:57  2017-10-01 17:49:59                 31036   \n2  2017-10-02 06:37:10  2017-10-02 06:42:53                 31036   \n3  2017-10-02 08:56:45  2017-10-02 09:18:03                 31037   \n4  2017-10-02 18:23:48  2017-10-02 18:45:05                 31295   \n\n                          Start station  End station number  \\\n0                  Glebe Rd & 11th St N               31036   \n1         George Mason Dr & Wilson Blvd               31036   \n2         George Mason Dr & Wilson Blvd               31037   \n3  Ballston Metro / N Stuart & 9th St N               31295   \n4                     Potomac & M St NW               31230   \n\n                            End station Bike number Member type  \n0         George Mason Dr & Wilson Blvd      W20529      Member  \n1         George Mason Dr & Wilson Blvd      W20529      Casual  \n2  Ballston Metro / N Stuart & 9th St N      W20529      Member  \n3                     Potomac & M St NW      W20529      Member  \n4         Metro Center / 12th & G St NW      W20529      Member  ",
      "text/html": "<div>\n<style scoped>\n    .dataframe tbody tr th:only-of-type {\n        vertical-align: middle;\n    }\n\n    .dataframe tbody tr th {\n        vertical-align: top;\n    }\n\n    .dataframe thead th {\n        text-align: right;\n    }\n</style>\n<table border=\"1\" class=\"dataframe\">\n  <thead>\n    <tr style=\"text-align: right;\">\n      <th></th>\n      <th>Start date</th>\n      <th>End date</th>\n      <th>Start station number</th>\n      <th>Start station</th>\n      <th>End station number</th>\n      <th>End station</th>\n      <th>Bike number</th>\n      <th>Member type</th>\n    </tr>\n  </thead>\n  <tbody>\n    <tr>\n      <th>0</th>\n      <td>2017-10-01 15:23:25</td>\n      <td>2017-10-01 15:26:26</td>\n      <td>31038</td>\n      <td>Glebe Rd &amp; 11th St N</td>\n      <td>31036</td>\n      <td>George Mason Dr &amp; Wilson Blvd</td>\n      <td>W20529</td>\n      <td>Member</td>\n    </tr>\n    <tr>\n      <th>1</th>\n      <td>2017-10-01 15:42:57</td>\n      <td>2017-10-01 17:49:59</td>\n      <td>31036</td>\n      <td>George Mason Dr &amp; Wilson Blvd</td>\n      <td>31036</td>\n      <td>George Mason Dr &amp; Wilson Blvd</td>\n      <td>W20529</td>\n      <td>Casual</td>\n    </tr>\n    <tr>\n      <th>2</th>\n      <td>2017-10-02 06:37:10</td>\n      <td>2017-10-02 06:42:53</td>\n      <td>31036</td>\n      <td>George Mason Dr &amp; Wilson Blvd</td>\n      <td>31037</td>\n      <td>Ballston Metro / N Stuart &amp; 9th St N</td>\n      <td>W20529</td>\n      <td>Member</td>\n    </tr>\n    <tr>\n      <th>3</th>\n      <td>2017-10-02 08:56:45</td>\n      <td>2017-10-02 09:18:03</td>\n      <td>31037</td>\n      <td>Ballston Metro / N Stuart &amp; 9th St N</td>\n      <td>31295</td>\n      <td>Potomac &amp; M St NW</td>\n      <td>W20529</td>\n      <td>Member</td>\n    </tr>\n    <tr>\n      <th>4</th>\n      <td>2017-10-02 18:23:48</td>\n      <td>2017-10-02 18:45:05</td>\n      <td>31295</td>\n      <td>Potomac &amp; M St NW</td>\n      <td>31230</td>\n      <td>Metro Center / 12th &amp; G St NW</td>\n      <td>W20529</td>\n      <td>Member</td>\n    </tr>\n  </tbody>\n</table>\n</div>"
     },
     "execution_count": 4,
     "metadata": {},
     "output_type": "execute_result"
    }
   ],
   "source": [
    "bike_data = pd.read_csv('/Users/joseservin/DataCamp/Courses/Dates_and_Times/capital-onebike.csv')\n",
    "bike_data.head()"
   ],
   "metadata": {
    "collapsed": false,
    "pycharm": {
     "name": "#%%\n"
    }
   }
  },
  {
   "cell_type": "code",
   "execution_count": 5,
   "outputs": [
    {
     "name": "stdout",
     "output_type": "stream",
     "text": [
      "<class 'pandas.core.frame.DataFrame'>\n",
      "RangeIndex: 290 entries, 0 to 289\n",
      "Data columns (total 8 columns):\n",
      " #   Column                Non-Null Count  Dtype \n",
      "---  ------                --------------  ----- \n",
      " 0   Start date            290 non-null    object\n",
      " 1   End date              290 non-null    object\n",
      " 2   Start station number  290 non-null    int64 \n",
      " 3   Start station         290 non-null    object\n",
      " 4   End station number    290 non-null    int64 \n",
      " 5   End station           290 non-null    object\n",
      " 6   Bike number           290 non-null    object\n",
      " 7   Member type           290 non-null    object\n",
      "dtypes: int64(2), object(6)\n",
      "memory usage: 18.2+ KB\n"
     ]
    }
   ],
   "source": [
    "bike_data.info()"
   ],
   "metadata": {
    "collapsed": false,
    "pycharm": {
     "name": "#%%\n"
    }
   }
  },
  {
   "cell_type": "code",
   "execution_count": 6,
   "outputs": [],
   "source": [
    "bike_data['Start date'] = pd.to_datetime(bike_data['Start date'])"
   ],
   "metadata": {
    "collapsed": false,
    "pycharm": {
     "name": "#%%\n"
    }
   }
  },
  {
   "cell_type": "code",
   "execution_count": 7,
   "outputs": [],
   "source": [
    "bike_data['End date'] = pd.to_datetime(bike_data['End date'])\n"
   ],
   "metadata": {
    "collapsed": false,
    "pycharm": {
     "name": "#%%\n"
    }
   }
  },
  {
   "cell_type": "code",
   "execution_count": 8,
   "outputs": [
    {
     "name": "stdout",
     "output_type": "stream",
     "text": [
      "<class 'pandas.core.frame.DataFrame'>\n",
      "RangeIndex: 290 entries, 0 to 289\n",
      "Data columns (total 8 columns):\n",
      " #   Column                Non-Null Count  Dtype         \n",
      "---  ------                --------------  -----         \n",
      " 0   Start date            290 non-null    datetime64[ns]\n",
      " 1   End date              290 non-null    datetime64[ns]\n",
      " 2   Start station number  290 non-null    int64         \n",
      " 3   Start station         290 non-null    object        \n",
      " 4   End station number    290 non-null    int64         \n",
      " 5   End station           290 non-null    object        \n",
      " 6   Bike number           290 non-null    object        \n",
      " 7   Member type           290 non-null    object        \n",
      "dtypes: datetime64[ns](2), int64(2), object(4)\n",
      "memory usage: 18.2+ KB\n"
     ]
    }
   ],
   "source": [
    "bike_data.info()"
   ],
   "metadata": {
    "collapsed": false,
    "pycharm": {
     "name": "#%%\n"
    }
   }
  },
  {
   "cell_type": "markdown",
   "source": [
    "## Counting up Dates"
   ],
   "metadata": {
    "collapsed": false
   }
  },
  {
   "cell_type": "code",
   "execution_count": 9,
   "outputs": [
    {
     "name": "stdout",
     "output_type": "stream",
     "text": [
      "The total number of rides started in October was 108.\n"
     ]
    }
   ],
   "source": [
    "# Finding Start dates that were in January\n",
    "counter = 0\n",
    "for dates in bike_data['Start date']:\n",
    "    if dates.month == 10:\n",
    "        counter += 1\n",
    "print(f\"The total number of rides started in October was {counter}.\")"
   ],
   "metadata": {
    "collapsed": false,
    "pycharm": {
     "name": "#%%\n"
    }
   }
  },
  {
   "cell_type": "code",
   "execution_count": 10,
   "outputs": [
    {
     "data": {
      "text/plain": "             Start date            End date  Start station number  \\\n0   2017-10-01 15:23:25 2017-10-01 15:26:26                 31038   \n1   2017-10-01 15:42:57 2017-10-01 17:49:59                 31036   \n2   2017-10-02 06:37:10 2017-10-02 06:42:53                 31036   \n3   2017-10-02 08:56:45 2017-10-02 09:18:03                 31037   \n4   2017-10-02 18:23:48 2017-10-02 18:45:05                 31295   \n..                  ...                 ...                   ...   \n285 2017-12-29 14:32:55 2017-12-29 14:43:46                 31242   \n286 2017-12-29 15:08:26 2017-12-29 15:18:51                 31265   \n287 2017-12-29 20:33:34 2017-12-29 20:38:13                 31613   \n288 2017-12-30 13:51:03 2017-12-30 13:54:33                 31618   \n289 2017-12-30 15:09:03 2017-12-30 15:19:13                 31610   \n\n                                         Start station  End station number  \\\n0                                 Glebe Rd & 11th St N               31036   \n1                        George Mason Dr & Wilson Blvd               31036   \n2                        George Mason Dr & Wilson Blvd               31037   \n3                 Ballston Metro / N Stuart & 9th St N               31295   \n4                                    Potomac & M St NW               31230   \n..                                                 ...                 ...   \n285                      18th St & Pennsylvania Ave NW               31265   \n286                      5th St & Massachusetts Ave NW               31613   \n287  Eastern Market Metro / Pennsylvania Ave & 7th ...               31618   \n288                           4th & East Capitol St NE               31610   \n289       Eastern Market / 7th & North Carolina Ave SE               31272   \n\n                                           End station Bike number  \\\n0                        George Mason Dr & Wilson Blvd      W20529   \n1                        George Mason Dr & Wilson Blvd      W20529   \n2                 Ballston Metro / N Stuart & 9th St N      W20529   \n3                                    Potomac & M St NW      W20529   \n4                        Metro Center / 12th & G St NW      W20529   \n..                                                 ...         ...   \n285                      5th St & Massachusetts Ave NW      W20529   \n286  Eastern Market Metro / Pennsylvania Ave & 7th ...      W20529   \n287                           4th & East Capitol St NE      W20529   \n288       Eastern Market / 7th & North Carolina Ave SE      W20529   \n289               Washington & Independence Ave SW/HHS      W20529   \n\n    Member type  Start month  \n0        Member           10  \n1        Casual           10  \n2        Member           10  \n3        Member           10  \n4        Member           10  \n..          ...          ...  \n285      Member           12  \n286      Casual           12  \n287      Member           12  \n288      Member           12  \n289      Member           12  \n\n[290 rows x 9 columns]",
      "text/html": "<div>\n<style scoped>\n    .dataframe tbody tr th:only-of-type {\n        vertical-align: middle;\n    }\n\n    .dataframe tbody tr th {\n        vertical-align: top;\n    }\n\n    .dataframe thead th {\n        text-align: right;\n    }\n</style>\n<table border=\"1\" class=\"dataframe\">\n  <thead>\n    <tr style=\"text-align: right;\">\n      <th></th>\n      <th>Start date</th>\n      <th>End date</th>\n      <th>Start station number</th>\n      <th>Start station</th>\n      <th>End station number</th>\n      <th>End station</th>\n      <th>Bike number</th>\n      <th>Member type</th>\n      <th>Start month</th>\n    </tr>\n  </thead>\n  <tbody>\n    <tr>\n      <th>0</th>\n      <td>2017-10-01 15:23:25</td>\n      <td>2017-10-01 15:26:26</td>\n      <td>31038</td>\n      <td>Glebe Rd &amp; 11th St N</td>\n      <td>31036</td>\n      <td>George Mason Dr &amp; Wilson Blvd</td>\n      <td>W20529</td>\n      <td>Member</td>\n      <td>10</td>\n    </tr>\n    <tr>\n      <th>1</th>\n      <td>2017-10-01 15:42:57</td>\n      <td>2017-10-01 17:49:59</td>\n      <td>31036</td>\n      <td>George Mason Dr &amp; Wilson Blvd</td>\n      <td>31036</td>\n      <td>George Mason Dr &amp; Wilson Blvd</td>\n      <td>W20529</td>\n      <td>Casual</td>\n      <td>10</td>\n    </tr>\n    <tr>\n      <th>2</th>\n      <td>2017-10-02 06:37:10</td>\n      <td>2017-10-02 06:42:53</td>\n      <td>31036</td>\n      <td>George Mason Dr &amp; Wilson Blvd</td>\n      <td>31037</td>\n      <td>Ballston Metro / N Stuart &amp; 9th St N</td>\n      <td>W20529</td>\n      <td>Member</td>\n      <td>10</td>\n    </tr>\n    <tr>\n      <th>3</th>\n      <td>2017-10-02 08:56:45</td>\n      <td>2017-10-02 09:18:03</td>\n      <td>31037</td>\n      <td>Ballston Metro / N Stuart &amp; 9th St N</td>\n      <td>31295</td>\n      <td>Potomac &amp; M St NW</td>\n      <td>W20529</td>\n      <td>Member</td>\n      <td>10</td>\n    </tr>\n    <tr>\n      <th>4</th>\n      <td>2017-10-02 18:23:48</td>\n      <td>2017-10-02 18:45:05</td>\n      <td>31295</td>\n      <td>Potomac &amp; M St NW</td>\n      <td>31230</td>\n      <td>Metro Center / 12th &amp; G St NW</td>\n      <td>W20529</td>\n      <td>Member</td>\n      <td>10</td>\n    </tr>\n    <tr>\n      <th>...</th>\n      <td>...</td>\n      <td>...</td>\n      <td>...</td>\n      <td>...</td>\n      <td>...</td>\n      <td>...</td>\n      <td>...</td>\n      <td>...</td>\n      <td>...</td>\n    </tr>\n    <tr>\n      <th>285</th>\n      <td>2017-12-29 14:32:55</td>\n      <td>2017-12-29 14:43:46</td>\n      <td>31242</td>\n      <td>18th St &amp; Pennsylvania Ave NW</td>\n      <td>31265</td>\n      <td>5th St &amp; Massachusetts Ave NW</td>\n      <td>W20529</td>\n      <td>Member</td>\n      <td>12</td>\n    </tr>\n    <tr>\n      <th>286</th>\n      <td>2017-12-29 15:08:26</td>\n      <td>2017-12-29 15:18:51</td>\n      <td>31265</td>\n      <td>5th St &amp; Massachusetts Ave NW</td>\n      <td>31613</td>\n      <td>Eastern Market Metro / Pennsylvania Ave &amp; 7th ...</td>\n      <td>W20529</td>\n      <td>Casual</td>\n      <td>12</td>\n    </tr>\n    <tr>\n      <th>287</th>\n      <td>2017-12-29 20:33:34</td>\n      <td>2017-12-29 20:38:13</td>\n      <td>31613</td>\n      <td>Eastern Market Metro / Pennsylvania Ave &amp; 7th ...</td>\n      <td>31618</td>\n      <td>4th &amp; East Capitol St NE</td>\n      <td>W20529</td>\n      <td>Member</td>\n      <td>12</td>\n    </tr>\n    <tr>\n      <th>288</th>\n      <td>2017-12-30 13:51:03</td>\n      <td>2017-12-30 13:54:33</td>\n      <td>31618</td>\n      <td>4th &amp; East Capitol St NE</td>\n      <td>31610</td>\n      <td>Eastern Market / 7th &amp; North Carolina Ave SE</td>\n      <td>W20529</td>\n      <td>Member</td>\n      <td>12</td>\n    </tr>\n    <tr>\n      <th>289</th>\n      <td>2017-12-30 15:09:03</td>\n      <td>2017-12-30 15:19:13</td>\n      <td>31610</td>\n      <td>Eastern Market / 7th &amp; North Carolina Ave SE</td>\n      <td>31272</td>\n      <td>Washington &amp; Independence Ave SW/HHS</td>\n      <td>W20529</td>\n      <td>Member</td>\n      <td>12</td>\n    </tr>\n  </tbody>\n</table>\n<p>290 rows × 9 columns</p>\n</div>"
     },
     "execution_count": 10,
     "metadata": {},
     "output_type": "execute_result"
    }
   ],
   "source": [
    "bike_data['Start month'] = pd.DatetimeIndex(bike_data['Start date']).month\n",
    "bike_data"
   ],
   "metadata": {
    "collapsed": false,
    "pycharm": {
     "name": "#%%\n"
    }
   }
  },
  {
   "cell_type": "code",
   "execution_count": 11,
   "outputs": [
    {
     "name": "stderr",
     "output_type": "stream",
     "text": [
      "/Users/joseservin/DataCamp/venv/lib/python3.9/site-packages/seaborn/_decorators.py:36: FutureWarning: Pass the following variable as a keyword arg: x. From version 0.12, the only valid positional argument will be `data`, and passing other arguments without an explicit keyword will result in an error or misinterpretation.\n",
      "  warnings.warn(\n"
     ]
    },
    {
     "data": {
      "text/plain": "<Figure size 432x288 with 1 Axes>",
      "image/png": "[encoded data removed]"
     },
     "metadata": {
      "needs_background": "light"
     },
     "output_type": "display_data"
    }
   ],
   "source": [
    "ax = sns.countplot(\n",
    "    bike_data['Start month']\n",
    ")\n",
    "for p, label in zip(ax.patches, bike_data['Start month'].value_counts()):\n",
    "    ax.annotate(label, (p.get_x()+0.30, p.get_height()+1))"
   ],
   "metadata": {
    "collapsed": false,
    "pycharm": {
     "name": "#%%\n"
    }
   }
  },
  {
   "cell_type": "markdown",
   "source": [
    "## Dictionary map of counts"
   ],
   "metadata": {
    "collapsed": false
   }
  },
  {
   "cell_type": "code",
   "execution_count": 12,
   "outputs": [
    {
     "data": {
      "text/plain": "{10: 108, 11: 103, 12: 79}"
     },
     "execution_count": 12,
     "metadata": {},
     "output_type": "execute_result"
    }
   ],
   "source": [
    "rides_each_month = {10:0, 11:0, 12:0}\n",
    "\n",
    "for i in bike_data['Start month']:\n",
    "    rides_each_month[i] += 1\n",
    "\n",
    "rides_each_month"
   ],
   "metadata": {
    "collapsed": false,
    "pycharm": {
     "name": "#%%\n"
    }
   }
  },
  {
   "cell_type": "markdown",
   "source": [
    "## Math with Dates"
   ],
   "metadata": {
    "collapsed": false
   }
  },
  {
   "cell_type": "code",
   "execution_count": 13,
   "outputs": [
    {
     "data": {
      "text/plain": "datetime.date(2017, 11, 5)"
     },
     "execution_count": 13,
     "metadata": {},
     "output_type": "execute_result"
    }
   ],
   "source": [
    "d1 = date(2017, 11, 5)\n",
    "d2 = date(2017, 12, 4)\n",
    "l = [d1, d2]\n",
    "min(l)"
   ],
   "metadata": {
    "collapsed": false,
    "pycharm": {
     "name": "#%%\n"
    }
   }
  },
  {
   "cell_type": "markdown",
   "source": [
    "### Subtracting two dates"
   ],
   "metadata": {
    "collapsed": false
   }
  },
  {
   "cell_type": "code",
   "execution_count": 14,
   "outputs": [
    {
     "data": {
      "text/plain": "datetime.timedelta"
     },
     "execution_count": 14,
     "metadata": {},
     "output_type": "execute_result"
    }
   ],
   "source": [
    "delta = d2 - d1\n",
    "type(delta)"
   ],
   "metadata": {
    "collapsed": false,
    "pycharm": {
     "name": "#%%\n"
    }
   }
  },
  {
   "cell_type": "code",
   "execution_count": 15,
   "outputs": [
    {
     "data": {
      "text/plain": "29"
     },
     "execution_count": 15,
     "metadata": {},
     "output_type": "execute_result"
    }
   ],
   "source": [
    "# timedelta has a .days attribute that can be accessed to see number of days between dates\n",
    "delta.days"
   ],
   "metadata": {
    "collapsed": false,
    "pycharm": {
     "name": "#%%\n"
    }
   }
  },
  {
   "cell_type": "markdown",
   "source": [
    "### adding timedelta to date"
   ],
   "metadata": {
    "collapsed": false
   }
  },
  {
   "cell_type": "code",
   "execution_count": 16,
   "outputs": [
    {
     "data": {
      "text/plain": "datetime.date(2017, 12, 4)"
     },
     "execution_count": 16,
     "metadata": {},
     "output_type": "execute_result"
    }
   ],
   "source": [
    "td = timedelta(days=29)\n",
    "arrived_d2 = d1 + td\n",
    "arrived_d2"
   ],
   "metadata": {
    "collapsed": false,
    "pycharm": {
     "name": "#%%\n"
    }
   }
  },
  {
   "cell_type": "markdown",
   "source": [
    "## Sorting dates"
   ],
   "metadata": {
    "collapsed": false
   }
  },
  {
   "cell_type": "code",
   "execution_count": 17,
   "outputs": [
    {
     "data": {
      "text/plain": "             Start date            End date  Start station number  \\\n289 2017-12-30 15:09:03 2017-12-30 15:19:13                 31610   \n288 2017-12-30 13:51:03 2017-12-30 13:54:33                 31618   \n287 2017-12-29 20:33:34 2017-12-29 20:38:13                 31613   \n286 2017-12-29 15:08:26 2017-12-29 15:18:51                 31265   \n285 2017-12-29 14:32:55 2017-12-29 14:43:46                 31242   \n\n                                         Start station  End station number  \\\n289       Eastern Market / 7th & North Carolina Ave SE               31272   \n288                           4th & East Capitol St NE               31610   \n287  Eastern Market Metro / Pennsylvania Ave & 7th ...               31618   \n286                      5th St & Massachusetts Ave NW               31613   \n285                      18th St & Pennsylvania Ave NW               31265   \n\n                                           End station Bike number  \\\n289               Washington & Independence Ave SW/HHS      W20529   \n288       Eastern Market / 7th & North Carolina Ave SE      W20529   \n287                           4th & East Capitol St NE      W20529   \n286  Eastern Market Metro / Pennsylvania Ave & 7th ...      W20529   \n285                      5th St & Massachusetts Ave NW      W20529   \n\n    Member type  Start month  \n289      Member           12  \n288      Member           12  \n287      Member           12  \n286      Casual           12  \n285      Member           12  ",
      "text/html": "<div>\n<style scoped>\n    .dataframe tbody tr th:only-of-type {\n        vertical-align: middle;\n    }\n\n    .dataframe tbody tr th {\n        vertical-align: top;\n    }\n\n    .dataframe thead th {\n        text-align: right;\n    }\n</style>\n<table border=\"1\" class=\"dataframe\">\n  <thead>\n    <tr style=\"text-align: right;\">\n      <th></th>\n      <th>Start date</th>\n      <th>End date</th>\n      <th>Start station number</th>\n      <th>Start station</th>\n      <th>End station number</th>\n      <th>End station</th>\n      <th>Bike number</th>\n      <th>Member type</th>\n      <th>Start month</th>\n    </tr>\n  </thead>\n  <tbody>\n    <tr>\n      <th>289</th>\n      <td>2017-12-30 15:09:03</td>\n      <td>2017-12-30 15:19:13</td>\n      <td>31610</td>\n      <td>Eastern Market / 7th &amp; North Carolina Ave SE</td>\n      <td>31272</td>\n      <td>Washington &amp; Independence Ave SW/HHS</td>\n      <td>W20529</td>\n      <td>Member</td>\n      <td>12</td>\n    </tr>\n    <tr>\n      <th>288</th>\n      <td>2017-12-30 13:51:03</td>\n      <td>2017-12-30 13:54:33</td>\n      <td>31618</td>\n      <td>4th &amp; East Capitol St NE</td>\n      <td>31610</td>\n      <td>Eastern Market / 7th &amp; North Carolina Ave SE</td>\n      <td>W20529</td>\n      <td>Member</td>\n      <td>12</td>\n    </tr>\n    <tr>\n      <th>287</th>\n      <td>2017-12-29 20:33:34</td>\n      <td>2017-12-29 20:38:13</td>\n      <td>31613</td>\n      <td>Eastern Market Metro / Pennsylvania Ave &amp; 7th ...</td>\n      <td>31618</td>\n      <td>4th &amp; East Capitol St NE</td>\n      <td>W20529</td>\n      <td>Member</td>\n      <td>12</td>\n    </tr>\n    <tr>\n      <th>286</th>\n      <td>2017-12-29 15:08:26</td>\n      <td>2017-12-29 15:18:51</td>\n      <td>31265</td>\n      <td>5th St &amp; Massachusetts Ave NW</td>\n      <td>31613</td>\n      <td>Eastern Market Metro / Pennsylvania Ave &amp; 7th ...</td>\n      <td>W20529</td>\n      <td>Casual</td>\n      <td>12</td>\n    </tr>\n    <tr>\n      <th>285</th>\n      <td>2017-12-29 14:32:55</td>\n      <td>2017-12-29 14:43:46</td>\n      <td>31242</td>\n      <td>18th St &amp; Pennsylvania Ave NW</td>\n      <td>31265</td>\n      <td>5th St &amp; Massachusetts Ave NW</td>\n      <td>W20529</td>\n      <td>Member</td>\n      <td>12</td>\n    </tr>\n  </tbody>\n</table>\n</div>"
     },
     "execution_count": 17,
     "metadata": {},
     "output_type": "execute_result"
    }
   ],
   "source": [
    "sorted_df = bike_data.sort_values('Start date', ascending=False)\n",
    "sorted_df.head()"
   ],
   "metadata": {
    "collapsed": false,
    "pycharm": {
     "name": "#%%\n"
    }
   }
  },
  {
   "cell_type": "markdown",
   "source": [
    "## Turning dates into strings"
   ],
   "metadata": {
    "collapsed": false
   }
  },
  {
   "cell_type": "markdown",
   "source": [
    "* ISO 8601 Format follows YYYY-MM-DD"
   ],
   "metadata": {
    "collapsed": false
   }
  },
  {
   "cell_type": "code",
   "execution_count": 18,
   "outputs": [
    {
     "data": {
      "text/plain": "['2017-12-04', '2017-11-05']"
     },
     "execution_count": 18,
     "metadata": {},
     "output_type": "execute_result"
    }
   ],
   "source": [
    "list_of_string_dates = [d2.isoformat(), d1.isoformat()]\n",
    "list_of_string_dates"
   ],
   "metadata": {
    "collapsed": false,
    "pycharm": {
     "name": "#%%\n"
    }
   }
  },
  {
   "cell_type": "code",
   "execution_count": 19,
   "outputs": [
    {
     "data": {
      "text/plain": "['2017-11-05', '2017-12-04']"
     },
     "execution_count": 19,
     "metadata": {},
     "output_type": "execute_result"
    }
   ],
   "source": [
    "sorted(list_of_string_dates)"
   ],
   "metadata": {
    "collapsed": false,
    "pycharm": {
     "name": "#%%\n"
    }
   }
  },
  {
   "cell_type": "markdown",
   "source": [
    "### strftime method \"string format time\""
   ],
   "metadata": {
    "collapsed": false
   }
  },
  {
   "cell_type": "markdown",
   "source": [
    "* %Y - Year\n",
    "* %m - month\n",
    "* %d - day"
   ],
   "metadata": {
    "collapsed": false
   }
  },
  {
   "cell_type": "code",
   "execution_count": 20,
   "outputs": [
    {
     "data": {
      "text/plain": "'2017'"
     },
     "execution_count": 20,
     "metadata": {},
     "output_type": "execute_result"
    }
   ],
   "source": [
    "d1.strftime('%Y') # argument passed is called a format string"
   ],
   "metadata": {
    "collapsed": false,
    "pycharm": {
     "name": "#%%\n"
    }
   }
  },
  {
   "cell_type": "code",
   "execution_count": 21,
   "outputs": [
    {
     "data": {
      "text/plain": "'The year of the first entry in hurricanes list is 2016'"
     },
     "metadata": {},
     "output_type": "display_data"
    },
    {
     "data": {
      "text/plain": "'The year of the second entry in hurricanes list is 2017'"
     },
     "execution_count": 21,
     "metadata": {},
     "output_type": "execute_result"
    }
   ],
   "source": [
    "from IPython.core.display_functions import display\n",
    "\n",
    "display(two_hurricane_dates[0].strftime(\"The year of the first entry in hurricanes list is %Y\"))\n",
    "two_hurricane_dates[1].strftime(\"The year of the second entry in hurricanes list is %Y\")"
   ],
   "metadata": {
    "collapsed": false,
    "pycharm": {
     "name": "#%%\n"
    }
   }
  },
  {
   "cell_type": "markdown",
   "source": [
    "### getting names of months from dates with %B"
   ],
   "metadata": {
    "collapsed": false
   }
  },
  {
   "cell_type": "code",
   "execution_count": 22,
   "outputs": [
    {
     "data": {
      "text/plain": "'The name of the month for the first entry in hurricanes list is October'"
     },
     "metadata": {},
     "output_type": "display_data"
    },
    {
     "data": {
      "text/plain": "'The name of the month for the second entry in hurricanes list is June'"
     },
     "execution_count": 22,
     "metadata": {},
     "output_type": "execute_result"
    }
   ],
   "source": [
    "display(two_hurricane_dates[0].strftime(\"The name of the month for the first entry in hurricanes list is %B\"))\n",
    "two_hurricane_dates[1].strftime(\"The name of the month for the second entry in hurricanes list is %B\")"
   ],
   "metadata": {
    "collapsed": false,
    "pycharm": {
     "name": "#%%\n"
    }
   }
  },
  {
   "cell_type": "markdown",
   "source": [
    "### getting day of year from dates with %j"
   ],
   "metadata": {
    "collapsed": false
   }
  },
  {
   "cell_type": "code",
   "execution_count": 23,
   "outputs": [
    {
     "data": {
      "text/plain": "'The day of year for the first entry in hurricanes list is 281'"
     },
     "metadata": {},
     "output_type": "display_data"
    },
    {
     "data": {
      "text/plain": "'The day of year for the second entry in hurricanes list is 172'"
     },
     "execution_count": 23,
     "metadata": {},
     "output_type": "execute_result"
    }
   ],
   "source": [
    "display(two_hurricane_dates[0].strftime(\"The day of year for the first entry in hurricanes list is %j\"))\n",
    "two_hurricane_dates[1].strftime(\"The day of year for the second entry in hurricanes list is %j\")"
   ],
   "metadata": {
    "collapsed": false,
    "pycharm": {
     "name": "#%%\n"
    }
   }
  },
  {
   "cell_type": "markdown",
   "source": [
    "# Chapter 2: Combining Dates and Times"
   ],
   "metadata": {
    "collapsed": false
   }
  },
  {
   "cell_type": "code",
   "execution_count": 26,
   "outputs": [
    {
     "data": {
      "text/plain": "datetime.datetime(2017, 10, 1, 15, 23, 25)"
     },
     "execution_count": 26,
     "metadata": {},
     "output_type": "execute_result"
    }
   ],
   "source": [
    "my_datetime = datetime(2017, 10, 1, 15, 23, 25)\n",
    "my_datetime"
   ],
   "metadata": {
    "collapsed": false,
    "pycharm": {
     "name": "#%%\n"
    }
   }
  },
  {
   "cell_type": "markdown",
   "source": [
    "## Replacing parts of a datetime"
   ],
   "metadata": {
    "collapsed": false
   }
  },
  {
   "cell_type": "code",
   "execution_count": 28,
   "outputs": [
    {
     "data": {
      "text/plain": "datetime.datetime(2017, 10, 1, 15, 0)"
     },
     "execution_count": 28,
     "metadata": {},
     "output_type": "execute_result"
    }
   ],
   "source": [
    "my_datetime_hrs = my_datetime.replace(minute=0, second=0)\n",
    "my_datetime_hrs"
   ],
   "metadata": {
    "collapsed": false,
    "pycharm": {
     "name": "#%%\n"
    }
   }
  },
  {
   "cell_type": "markdown",
   "source": [
    "## Counting events before and after noon"
   ],
   "metadata": {
    "collapsed": false
   }
  },
  {
   "cell_type": "code",
   "execution_count": 29,
   "outputs": [
    {
     "data": {
      "text/plain": "           Start date            End date  Start station number  \\\n0 2017-10-01 15:23:25 2017-10-01 15:26:26                 31038   \n1 2017-10-01 15:42:57 2017-10-01 17:49:59                 31036   \n2 2017-10-02 06:37:10 2017-10-02 06:42:53                 31036   \n3 2017-10-02 08:56:45 2017-10-02 09:18:03                 31037   \n4 2017-10-02 18:23:48 2017-10-02 18:45:05                 31295   \n\n                          Start station  End station number  \\\n0                  Glebe Rd & 11th St N               31036   \n1         George Mason Dr & Wilson Blvd               31036   \n2         George Mason Dr & Wilson Blvd               31037   \n3  Ballston Metro / N Stuart & 9th St N               31295   \n4                     Potomac & M St NW               31230   \n\n                            End station Bike number Member type  Start month  \n0         George Mason Dr & Wilson Blvd      W20529      Member           10  \n1         George Mason Dr & Wilson Blvd      W20529      Casual           10  \n2  Ballston Metro / N Stuart & 9th St N      W20529      Member           10  \n3                     Potomac & M St NW      W20529      Member           10  \n4         Metro Center / 12th & G St NW      W20529      Member           10  ",
      "text/html": "<div>\n<style scoped>\n    .dataframe tbody tr th:only-of-type {\n        vertical-align: middle;\n    }\n\n    .dataframe tbody tr th {\n        vertical-align: top;\n    }\n\n    .dataframe thead th {\n        text-align: right;\n    }\n</style>\n<table border=\"1\" class=\"dataframe\">\n  <thead>\n    <tr style=\"text-align: right;\">\n      <th></th>\n      <th>Start date</th>\n      <th>End date</th>\n      <th>Start station number</th>\n      <th>Start station</th>\n      <th>End station number</th>\n      <th>End station</th>\n      <th>Bike number</th>\n      <th>Member type</th>\n      <th>Start month</th>\n    </tr>\n  </thead>\n  <tbody>\n    <tr>\n      <th>0</th>\n      <td>2017-10-01 15:23:25</td>\n      <td>2017-10-01 15:26:26</td>\n      <td>31038</td>\n      <td>Glebe Rd &amp; 11th St N</td>\n      <td>31036</td>\n      <td>George Mason Dr &amp; Wilson Blvd</td>\n      <td>W20529</td>\n      <td>Member</td>\n      <td>10</td>\n    </tr>\n    <tr>\n      <th>1</th>\n      <td>2017-10-01 15:42:57</td>\n      <td>2017-10-01 17:49:59</td>\n      <td>31036</td>\n      <td>George Mason Dr &amp; Wilson Blvd</td>\n      <td>31036</td>\n      <td>George Mason Dr &amp; Wilson Blvd</td>\n      <td>W20529</td>\n      <td>Casual</td>\n      <td>10</td>\n    </tr>\n    <tr>\n      <th>2</th>\n      <td>2017-10-02 06:37:10</td>\n      <td>2017-10-02 06:42:53</td>\n      <td>31036</td>\n      <td>George Mason Dr &amp; Wilson Blvd</td>\n      <td>31037</td>\n      <td>Ballston Metro / N Stuart &amp; 9th St N</td>\n      <td>W20529</td>\n      <td>Member</td>\n      <td>10</td>\n    </tr>\n    <tr>\n      <th>3</th>\n      <td>2017-10-02 08:56:45</td>\n      <td>2017-10-02 09:18:03</td>\n      <td>31037</td>\n      <td>Ballston Metro / N Stuart &amp; 9th St N</td>\n      <td>31295</td>\n      <td>Potomac &amp; M St NW</td>\n      <td>W20529</td>\n      <td>Member</td>\n      <td>10</td>\n    </tr>\n    <tr>\n      <th>4</th>\n      <td>2017-10-02 18:23:48</td>\n      <td>2017-10-02 18:45:05</td>\n      <td>31295</td>\n      <td>Potomac &amp; M St NW</td>\n      <td>31230</td>\n      <td>Metro Center / 12th &amp; G St NW</td>\n      <td>W20529</td>\n      <td>Member</td>\n      <td>10</td>\n    </tr>\n  </tbody>\n</table>\n</div>"
     },
     "execution_count": 29,
     "metadata": {},
     "output_type": "execute_result"
    }
   ],
   "source": [
    "bike_data.head()"
   ],
   "metadata": {
    "collapsed": false,
    "pycharm": {
     "name": "#%%\n"
    }
   }
  },
  {
   "cell_type": "code",
   "execution_count": 30,
   "outputs": [
    {
     "name": "stdout",
     "output_type": "stream",
     "text": [
      "<class 'pandas.core.frame.DataFrame'>\n",
      "RangeIndex: 290 entries, 0 to 289\n",
      "Data columns (total 9 columns):\n",
      " #   Column                Non-Null Count  Dtype         \n",
      "---  ------                --------------  -----         \n",
      " 0   Start date            290 non-null    datetime64[ns]\n",
      " 1   End date              290 non-null    datetime64[ns]\n",
      " 2   Start station number  290 non-null    int64         \n",
      " 3   Start station         290 non-null    object        \n",
      " 4   End station number    290 non-null    int64         \n",
      " 5   End station           290 non-null    object        \n",
      " 6   Bike number           290 non-null    object        \n",
      " 7   Member type           290 non-null    object        \n",
      " 8   Start month           290 non-null    int64         \n",
      "dtypes: datetime64[ns](2), int64(3), object(4)\n",
      "memory usage: 20.5+ KB\n"
     ]
    }
   ],
   "source": [
    "bike_data.info()"
   ],
   "metadata": {
    "collapsed": false,
    "pycharm": {
     "name": "#%%\n"
    }
   }
  },
  {
   "cell_type": "code",
   "execution_count": 31,
   "outputs": [
    {
     "data": {
      "text/plain": "{'AM': 94, 'PM': 196}"
     },
     "execution_count": 31,
     "metadata": {},
     "output_type": "execute_result"
    }
   ],
   "source": [
    "trip_count = {'AM':0, 'PM':0}\n",
    "\n",
    "for i in bike_data['Start date']:\n",
    "    if i.hour < 12:\n",
    "        trip_count['AM'] += 1\n",
    "    else:\n",
    "        trip_count['PM'] += 1\n",
    "\n",
    "trip_count"
   ],
   "metadata": {
    "collapsed": false,
    "pycharm": {
     "name": "#%%\n"
    }
   }
  },
  {
   "cell_type": "markdown",
   "source": [
    "## Printing and Parsing datetimes"
   ],
   "metadata": {
    "collapsed": false
   }
  },
  {
   "cell_type": "code",
   "execution_count": 36,
   "outputs": [
    {
     "data": {
      "text/plain": "datetime.datetime(2017, 12, 30, 15, 19, 13)"
     },
     "execution_count": 36,
     "metadata": {},
     "output_type": "execute_result"
    }
   ],
   "source": [
    "last_ride = datetime(2017, 12, 30, 15, 19, 13)\n",
    "last_ride"
   ],
   "metadata": {
    "collapsed": false,
    "pycharm": {
     "name": "#%%\n"
    }
   }
  },
  {
   "cell_type": "code",
   "execution_count": 38,
   "outputs": [
    {
     "data": {
      "text/plain": "'2017-12-30'"
     },
     "execution_count": 38,
     "metadata": {},
     "output_type": "execute_result"
    }
   ],
   "source": [
    "last_ride.strftime('%Y-%m-%d')"
   ],
   "metadata": {
    "collapsed": false,
    "pycharm": {
     "name": "#%%\n"
    }
   }
  },
  {
   "cell_type": "code",
   "execution_count": 39,
   "outputs": [
    {
     "data": {
      "text/plain": "'2017-12-30 15:19:13'"
     },
     "execution_count": 39,
     "metadata": {},
     "output_type": "execute_result"
    }
   ],
   "source": [
    "last_ride.strftime(\"%Y-%m-%d %H:%M:%S\")"
   ],
   "metadata": {
    "collapsed": false,
    "pycharm": {
     "name": "#%%\n"
    }
   }
  },
  {
   "cell_type": "code",
   "execution_count": 40,
   "outputs": [
    {
     "data": {
      "text/plain": "'2017-12-30T15:19:13'"
     },
     "execution_count": 40,
     "metadata": {},
     "output_type": "execute_result"
    }
   ],
   "source": [
    "last_ride.isoformat()"
   ],
   "metadata": {
    "collapsed": false,
    "pycharm": {
     "name": "#%%\n"
    }
   }
  },
  {
   "cell_type": "markdown",
   "source": [
    "## Parsing datetimes with strptime"
   ],
   "metadata": {
    "collapsed": false
   }
  },
  {
   "cell_type": "code",
   "execution_count": 47,
   "outputs": [
    {
     "data": {
      "text/plain": "datetime.datetime(2022, 2, 22, 13, 30, 14)"
     },
     "execution_count": 47,
     "metadata": {},
     "output_type": "execute_result"
    }
   ],
   "source": [
    "parsed_datetime = datetime.strptime(\n",
    "    '02/22/2022 13:30:14',\n",
    "    '%m/%d/%Y %H:%M:%S'\n",
    ")\n",
    "parsed_datetime"
   ],
   "metadata": {
    "collapsed": false,
    "pycharm": {
     "name": "#%%\n"
    }
   }
  },
  {
   "cell_type": "code",
   "execution_count": 48,
   "outputs": [
    {
     "data": {
      "text/plain": "datetime.datetime"
     },
     "execution_count": 48,
     "metadata": {},
     "output_type": "execute_result"
    }
   ],
   "source": [
    "type(parsed_datetime)"
   ],
   "metadata": {
    "collapsed": false,
    "pycharm": {
     "name": "#%%\n"
    }
   }
  },
  {
   "cell_type": "code",
   "execution_count": 50,
   "outputs": [
    {
     "name": "stdout",
     "output_type": "stream",
     "text": [
      "2022-02-22 13:30:14\n"
     ]
    }
   ],
   "source": [
    "print(parsed_datetime)"
   ],
   "metadata": {
    "collapsed": false,
    "pycharm": {
     "name": "#%%\n"
    }
   }
  },
  {
   "cell_type": "markdown",
   "source": [
    "## Handling Unix Timestamps"
   ],
   "metadata": {
    "collapsed": false
   }
  },
  {
   "cell_type": "markdown",
   "source": [
    "* represents the number of seconds since January 1st 1970"
   ],
   "metadata": {
    "collapsed": false
   }
  },
  {
   "cell_type": "code",
   "execution_count": 52,
   "outputs": [
    {
     "name": "stdout",
     "output_type": "stream",
     "text": [
      "2017-12-30 14:19:13\n"
     ]
    }
   ],
   "source": [
    "ts = 1514665153.0\n",
    "ts_datetime = datetime.fromtimestamp(ts)\n",
    "print(ts_datetime)"
   ],
   "metadata": {
    "collapsed": false,
    "pycharm": {
     "name": "#%%\n"
    }
   }
  },
  {
   "cell_type": "markdown",
   "source": [
    "## Working with Durations"
   ],
   "metadata": {
    "collapsed": false
   }
  },
  {
   "cell_type": "code",
   "execution_count": 53,
   "outputs": [],
   "source": [
    "start_date = datetime( 2017, 10, 8, 23, 46, 47)\n",
    "end_date = datetime(2017, 10, 9, 0, 10, 57)"
   ],
   "metadata": {
    "collapsed": false,
    "pycharm": {
     "name": "#%%\n"
    }
   }
  },
  {
   "cell_type": "code",
   "execution_count": 54,
   "outputs": [],
   "source": [
    "duration = end_date - start_date"
   ],
   "metadata": {
    "collapsed": false,
    "pycharm": {
     "name": "#%%\n"
    }
   }
  },
  {
   "cell_type": "code",
   "execution_count": 56,
   "outputs": [
    {
     "name": "stdout",
     "output_type": "stream",
     "text": [
      "0:24:10\n"
     ]
    }
   ],
   "source": [
    "print(duration)"
   ],
   "metadata": {
    "collapsed": false,
    "pycharm": {
     "name": "#%%\n"
    }
   }
  },
  {
   "cell_type": "code",
   "execution_count": 57,
   "outputs": [
    {
     "name": "stdout",
     "output_type": "stream",
     "text": [
      "1450.0\n"
     ]
    }
   ],
   "source": [
    "print(duration.total_seconds())"
   ],
   "metadata": {
    "collapsed": false,
    "pycharm": {
     "name": "#%%\n"
    }
   }
  },
  {
   "cell_type": "code",
   "execution_count": 59,
   "outputs": [
    {
     "name": "stdout",
     "output_type": "stream",
     "text": [
      "2017-10-08 23:46:48\n"
     ]
    }
   ],
   "source": [
    "created_timedelta = timedelta(seconds=1)\n",
    "print(start_date + created_timedelta)"
   ],
   "metadata": {
    "collapsed": false,
    "pycharm": {
     "name": "#%%\n"
    }
   }
  },
  {
   "cell_type": "code",
   "execution_count": 60,
   "outputs": [
    {
     "name": "stdout",
     "output_type": "stream",
     "text": [
      "2017-10-09 23:46:57\n"
     ]
    }
   ],
   "source": [
    "created_timedelta2 = timedelta(days=1, seconds=10)\n",
    "print(start_date + created_timedelta2)"
   ],
   "metadata": {
    "collapsed": false,
    "pycharm": {
     "name": "#%%\n"
    }
   }
  },
  {
   "cell_type": "markdown",
   "source": [
    "## Getting duration of each trip"
   ],
   "metadata": {
    "collapsed": false
   }
  },
  {
   "cell_type": "code",
   "execution_count": 63,
   "outputs": [
    {
     "data": {
      "text/plain": "[181.0,\n 8794.0,\n 55168.0,\n 64478.0,\n 98500.0,\n 100049.0,\n 101300.0,\n 102192.0,\n 148142.0,\n 183861.0,\n 188923.0,\n 190827.0,\n 192825.0,\n 229806.0,\n 230309.0,\n 257195.0,\n 260484.0,\n 263348.0,\n 264214.0,\n 266891.0,\n 268036.0,\n 319770.0,\n 320780.0,\n 321306.0,\n 350907.0,\n 356005.0,\n 407676.0,\n 419233.0,\n 424189.0,\n 427891.0,\n 431161.0,\n 434949.0,\n 436566.0,\n 437114.0,\n 438338.0,\n 505781.0,\n 513820.0,\n 515051.0,\n 516086.0,\n 551243.0,\n 590999.0,\n 596284.0,\n 599668.0,\n 603834.0,\n 606396.0,\n 608057.0,\n 609113.0,\n 634216.0,\n 634906.0,\n 636452.0,\n 637995.0,\n 639008.0,\n 642288.0,\n 643810.0,\n 644775.0,\n 683400.0,\n 688530.0,\n 690485.0,\n 696133.0,\n 779279.0,\n 783622.0,\n 787013.0,\n 788146.0,\n 791467.0,\n 791983.0,\n 793275.0,\n 794909.0,\n 803398.0,\n 826557.0,\n 832608.0,\n 869869.0,\n 925898.0,\n 927385.0,\n 944060.0,\n 944692.0,\n 944991.0,\n 947792.0,\n 1038976.0,\n 1391893.0,\n 1573550.0,\n 1577172.0,\n 1578238.0,\n 1578822.0,\n 1579587.0,\n 1717979.0,\n 1718328.0,\n 1799171.0,\n 1807699.0,\n 1809188.0,\n 1811354.0,\n 1813593.0,\n 1819695.0,\n 1825512.0,\n 1826829.0,\n 1828065.0,\n 1883527.0,\n 1898109.0,\n 1901373.0,\n 1907002.0,\n 1915681.0,\n 1918948.0,\n 1925679.0,\n 1927517.0,\n 1957132.0,\n 1985991.0,\n 1989385.0,\n 1992704.0,\n 2329749.0,\n 2658538.0,\n 2696928.0,\n 2780851.0,\n 2783224.0,\n 2787332.0,\n 2832501.0,\n 2833717.0,\n 2834829.0,\n 2856073.0,\n 2857022.0,\n 2859100.0,\n 2859803.0,\n 2860598.0,\n 2866946.0,\n 2930570.0,\n 2934400.0,\n 2936395.0,\n 2938865.0,\n 2943297.0,\n 2945485.0,\n 2950519.0,\n 2972259.0,\n 3000621.0,\n 3001214.0,\n 3010000.0,\n 3087340.0,\n 3088222.0,\n 3116370.0,\n 3118241.0,\n 3119647.0,\n 3120703.0,\n 3121072.0,\n 3125672.0,\n 3127189.0,\n 3170287.0,\n 3275680.0,\n 3306160.0,\n 3307282.0,\n 3340125.0,\n 3343503.0,\n 3344939.0,\n 3345934.0,\n 3347159.0,\n 3348060.0,\n 3362534.0,\n 3370065.0,\n 3382185.0,\n 3399610.0,\n 3429543.0,\n 3431924.0,\n 3552589.0,\n 3558177.0,\n 3563586.0,\n 3608898.0,\n 3709850.0,\n 3778347.0,\n 3856001.0,\n 3862819.0,\n 3870616.0,\n 3871849.0,\n 3873077.0,\n 3953724.0,\n 3956075.0,\n 3982882.0,\n 4065211.0,\n 4075670.0,\n 4131140.0,\n 4134051.0,\n 4157466.0,\n 4160284.0,\n 4230504.0,\n 4342664.0,\n 4348812.0,\n 4415287.0,\n 4417886.0,\n 4418905.0,\n 4420268.0,\n 4423529.0,\n 4430687.0,\n 4610071.0,\n 4634990.0,\n 4637399.0,\n 4828691.0,\n 4890648.0,\n 4891656.0,\n 4894334.0,\n 4904658.0,\n 4910241.0,\n 4911139.0,\n 4913351.0,\n 4914199.0,\n 4932762.0,\n 4935939.0,\n 4940632.0,\n 4942448.0,\n 4987108.0,\n 5026236.0,\n 5026979.0,\n 5033767.0,\n 5070473.0,\n 5077819.0,\n 5104376.0,\n 5108418.0,\n 5276807.0,\n 5330256.0,\n 5335073.0,\n 5372993.0,\n 5443004.0,\n 5446925.0,\n 5448033.0,\n 5452868.0,\n 5506055.0,\n 5538632.0,\n 5542028.0,\n 5552613.0,\n 5553172.0,\n 5592569.0,\n 5677249.0,\n 5713486.0,\n 5713787.0,\n 5720293.0,\n 5721392.0,\n 5755070.0,\n 5880744.0,\n 5889947.0,\n 5988234.0,\n 5989327.0,\n 5995957.0,\n 5996684.0,\n 5996885.0,\n 6042496.0,\n 6047694.0,\n 6048783.0,\n 6052026.0,\n 6054660.0,\n 6056520.0,\n 6102639.0,\n 6112136.0,\n 6112613.0,\n 6197769.0,\n 6314107.0,\n 6320240.0,\n 6371261.0,\n 6371741.0,\n 6381515.0,\n 6391275.0,\n 6393779.0,\n 6403539.0,\n 6458420.0,\n 6545572.0,\n 6550899.0,\n 6635318.0,\n 6713049.0,\n 6741955.0,\n 6744587.0,\n 6753523.0,\n 6756862.0,\n 6840024.0,\n 6841221.0,\n 6886041.0,\n 6887185.0,\n 6887684.0,\n 6906674.0,\n 6925409.0,\n 6970118.0,\n 6972170.0,\n 6991824.0,\n 6999062.0,\n 7010125.0,\n 7088301.0,\n 7089049.0,\n 7336502.0,\n 7340245.0,\n 7414220.0,\n 7523654.0,\n 7656545.0,\n 7680171.0,\n 7687221.0,\n 7689326.0,\n 7708488.0,\n 7770668.0,\n 7775748.0,\n -991.0,\n 7622.0,\n 53996.0,\n 63306.0,\n 97328.0,\n 98877.0,\n 100128.0,\n 101020.0,\n 146970.0,\n 182689.0,\n 187751.0,\n 189655.0,\n 191653.0,\n 228634.0,\n 229137.0,\n 256023.0,\n 259312.0,\n 262176.0,\n 263042.0,\n 265719.0,\n 266864.0,\n 318598.0,\n 319608.0,\n 320134.0,\n 349735.0,\n 354833.0,\n 406504.0,\n 418061.0,\n 423017.0,\n 426719.0,\n 429989.0,\n 433777.0,\n 435394.0,\n 435942.0,\n 437166.0,\n 504609.0,\n 512648.0,\n 513879.0,\n 514914.0,\n 550071.0,\n 589827.0,\n 595112.0,\n 598496.0,\n 602662.0,\n 605224.0,\n 606885.0,\n 607941.0,\n 633044.0,\n 633734.0,\n 635280.0,\n 636823.0,\n 637836.0,\n 641116.0,\n 642638.0,\n 643603.0,\n 682228.0,\n 687358.0,\n 689313.0,\n 694961.0,\n 778107.0,\n 782450.0,\n 785841.0,\n 786974.0,\n 790295.0,\n 790811.0,\n 792103.0,\n 793737.0,\n 802226.0,\n 825385.0,\n 831436.0,\n 868697.0,\n 924726.0,\n 926213.0,\n 942888.0,\n 943520.0,\n 943819.0,\n 946620.0,\n 1037804.0,\n 1390721.0,\n 1572378.0,\n 1576000.0,\n 1577066.0,\n 1577650.0,\n 1578415.0,\n 1716807.0,\n 1717156.0,\n 1797999.0,\n 1806527.0,\n 1808016.0,\n 1810182.0,\n 1812421.0,\n 1818523.0,\n 1824340.0,\n 1825657.0,\n 1826893.0,\n 1882355.0,\n 1896937.0,\n 1900201.0,\n 1905830.0,\n 1914509.0,\n 1917776.0,\n 1924507.0,\n 1926345.0,\n 1955960.0,\n 1984819.0,\n 1988213.0,\n 1991532.0,\n 2328577.0,\n 2657366.0,\n 2695756.0,\n 2779679.0,\n 2782052.0,\n 2786160.0,\n 2831329.0,\n 2832545.0,\n 2833657.0,\n 2854901.0,\n 2855850.0,\n 2857928.0,\n 2858631.0,\n 2859426.0,\n 2865774.0,\n 2929398.0,\n 2933228.0,\n 2935223.0,\n 2937693.0,\n 2942125.0,\n 2944313.0,\n 2949347.0,\n 2971087.0,\n 2999449.0,\n 3000042.0,\n 3008828.0,\n 3086168.0,\n 3087050.0,\n 3115198.0,\n 3117069.0,\n 3118475.0,\n 3119531.0,\n 3119900.0,\n 3124500.0,\n 3126017.0,\n 3169115.0,\n 3274508.0,\n 3304988.0,\n 3306110.0,\n 3338953.0,\n 3342331.0,\n 3343767.0,\n 3344762.0,\n 3345987.0,\n 3346888.0,\n 3361362.0,\n 3368893.0,\n 3381013.0,\n 3398438.0,\n 3428371.0,\n 3430752.0,\n 3551417.0,\n 3557005.0,\n 3562414.0,\n 3607726.0,\n 3708678.0,\n 3777175.0,\n 3854829.0,\n 3861647.0,\n 3869444.0,\n 3870677.0,\n 3871905.0,\n 3952552.0,\n 3954903.0,\n 3981710.0,\n 4064039.0,\n 4074498.0,\n 4129968.0,\n 4132879.0,\n 4156294.0,\n 4159112.0,\n 4229332.0,\n 4341492.0,\n 4347640.0,\n 4414115.0,\n 4416714.0,\n 4417733.0,\n 4419096.0,\n 4422357.0,\n 4429515.0,\n 4608899.0,\n 4633818.0,\n 4636227.0,\n 4827519.0,\n 4889476.0,\n 4890484.0,\n 4893162.0,\n 4903486.0,\n 4909069.0,\n 4909967.0,\n 4912179.0,\n 4913027.0,\n 4931590.0,\n 4934767.0,\n 4939460.0,\n 4941276.0,\n 4985936.0,\n 5025064.0,\n 5025807.0,\n 5032595.0,\n 5069301.0,\n 5076647.0,\n 5103204.0,\n 5107246.0,\n 5275635.0,\n 5329084.0,\n 5333901.0,\n 5371821.0,\n 5441832.0,\n 5445753.0,\n 5446861.0,\n 5451696.0,\n 5504883.0,\n 5537460.0,\n 5540856.0,\n 5551441.0,\n 5552000.0,\n 5591397.0,\n 5676077.0,\n 5712314.0,\n 5712615.0,\n 5719121.0,\n 5720220.0,\n 5753898.0,\n 5879572.0,\n 5888775.0,\n 5987062.0,\n 5988155.0,\n 5994785.0,\n 5995512.0,\n 5995713.0,\n 6041324.0,\n 6046522.0,\n 6047611.0,\n 6050854.0,\n 6053488.0,\n 6055348.0,\n 6101467.0,\n 6110964.0,\n 6111441.0,\n 6196597.0,\n 6312935.0,\n 6319068.0,\n 6370089.0,\n 6370569.0,\n 6380343.0,\n 6390103.0,\n 6392607.0,\n 6402367.0,\n 6457248.0,\n 6544400.0,\n 6549727.0,\n 6634146.0,\n 6711877.0,\n 6740783.0,\n 6743415.0,\n 6752351.0,\n 6755690.0,\n 6838852.0,\n 6840049.0,\n 6884869.0,\n 6886013.0,\n 6886512.0,\n 6905502.0,\n 6924237.0,\n 6968946.0,\n 6970998.0,\n 6990652.0,\n 6997890.0,\n 7008953.0,\n 7087129.0,\n 7087877.0,\n 7335330.0,\n 7339073.0,\n 7413048.0,\n 7522482.0,\n 7655373.0,\n 7678999.0,\n 7686049.0,\n 7688154.0,\n 7707316.0,\n 7769496.0,\n 7774576.0,\n -54644.0,\n -46031.0,\n 343.0,\n 9653.0,\n 43675.0,\n 45224.0,\n 46475.0,\n 47367.0,\n 93317.0,\n 129036.0,\n 134098.0,\n 136002.0,\n 138000.0,\n 174981.0,\n 175484.0,\n 202370.0,\n 205659.0,\n 208523.0,\n 209389.0,\n 212066.0,\n 213211.0,\n 264945.0,\n 265955.0,\n 266481.0,\n 296082.0,\n 301180.0,\n 352851.0,\n 364408.0,\n 369364.0,\n 373066.0,\n 376336.0,\n 380124.0,\n 381741.0,\n 382289.0,\n 383513.0,\n 450956.0,\n 458995.0,\n 460226.0,\n 461261.0,\n 496418.0,\n 536174.0,\n 541459.0,\n 544843.0,\n 549009.0,\n 551571.0,\n 553232.0,\n 554288.0,\n 579391.0,\n 580081.0,\n 581627.0,\n 583170.0,\n 584183.0,\n 587463.0,\n 588985.0,\n 589950.0,\n 628575.0,\n 633705.0,\n 635660.0,\n 641308.0,\n 724454.0,\n 728797.0,\n 732188.0,\n 733321.0,\n 736642.0,\n 737158.0,\n 738450.0,\n 740084.0,\n 748573.0,\n 771732.0,\n 777783.0,\n 815044.0,\n 871073.0,\n 872560.0,\n 889235.0,\n 889867.0,\n 890166.0,\n 892967.0,\n 984151.0,\n 1337068.0,\n 1518725.0,\n 1522347.0,\n 1523413.0,\n 1523997.0,\n 1524762.0,\n 1663154.0,\n 1663503.0,\n 1744346.0,\n 1752874.0,\n 1754363.0,\n 1756529.0,\n 1758768.0,\n 1764870.0,\n 1770687.0,\n 1772004.0,\n 1773240.0,\n 1828702.0,\n 1843284.0,\n 1846548.0,\n 1852177.0,\n 1860856.0,\n 1864123.0,\n 1870854.0,\n 1872692.0,\n 1902307.0,\n 1931166.0,\n 1934560.0,\n 1937879.0,\n 2274924.0,\n 2603713.0,\n 2642103.0,\n 2726026.0,\n 2728399.0,\n 2732507.0,\n 2777676.0,\n 2778892.0,\n 2780004.0,\n 2801248.0,\n 2802197.0,\n 2804275.0,\n 2804978.0,\n 2805773.0,\n 2812121.0,\n 2875745.0,\n 2879575.0,\n 2881570.0,\n 2884040.0,\n 2888472.0,\n 2890660.0,\n 2895694.0,\n 2917434.0,\n 2945796.0,\n 2946389.0,\n 2955175.0,\n 3032515.0,\n 3033397.0,\n 3061545.0,\n 3063416.0,\n 3064822.0,\n 3065878.0,\n 3066247.0,\n 3070847.0,\n 3072364.0,\n 3115462.0,\n 3220855.0,\n 3251335.0,\n 3252457.0,\n 3285300.0,\n 3288678.0,\n 3290114.0,\n 3291109.0,\n 3292334.0,\n 3293235.0,\n 3307709.0,\n 3315240.0,\n 3327360.0,\n 3344785.0,\n 3374718.0,\n 3377099.0,\n 3497764.0,\n 3503352.0,\n 3508761.0,\n 3554073.0,\n 3655025.0,\n 3723522.0,\n 3801176.0,\n 3807994.0,\n 3815791.0,\n 3817024.0,\n 3818252.0,\n 3898899.0,\n 3901250.0,\n 3928057.0,\n 4010386.0,\n 4020845.0,\n 4076315.0,\n 4079226.0,\n 4102641.0,\n 4105459.0,\n 4175679.0,\n 4287839.0,\n 4293987.0,\n 4360462.0,\n 4363061.0,\n 4364080.0,\n 4365443.0,\n 4368704.0,\n 4375862.0,\n 4555246.0,\n 4580165.0,\n 4582574.0,\n 4773866.0,\n 4835823.0,\n 4836831.0,\n 4839509.0,\n 4849833.0,\n 4855416.0,\n 4856314.0,\n 4858526.0,\n 4859374.0,\n 4877937.0,\n 4881114.0,\n 4885807.0,\n 4887623.0,\n 4932283.0,\n 4971411.0,\n 4972154.0,\n 4978942.0,\n 5015648.0,\n 5022994.0,\n 5049551.0,\n 5053593.0,\n 5221982.0,\n 5275431.0,\n 5280248.0,\n 5318168.0,\n 5388179.0,\n 5392100.0,\n 5393208.0,\n 5398043.0,\n 5451230.0,\n 5483807.0,\n 5487203.0,\n 5497788.0,\n 5498347.0,\n 5537744.0,\n 5622424.0,\n 5658661.0,\n 5658962.0,\n 5665468.0,\n 5666567.0,\n 5700245.0,\n 5825919.0,\n 5835122.0,\n 5933409.0,\n 5934502.0,\n 5941132.0,\n 5941859.0,\n 5942060.0,\n 5987671.0,\n 5992869.0,\n 5993958.0,\n 5997201.0,\n 5999835.0,\n 6001695.0,\n 6047814.0,\n 6057311.0,\n 6057788.0,\n 6142944.0,\n 6259282.0,\n 6265415.0,\n 6316436.0,\n 6316916.0,\n 6326690.0,\n 6336450.0,\n 6338954.0,\n 6348714.0,\n 6403595.0,\n 6490747.0,\n 6496074.0,\n 6580493.0,\n 6658224.0,\n 6687130.0,\n 6689762.0,\n 6698698.0,\n 6702037.0,\n 6785199.0,\n 6786396.0,\n 6831216.0,\n 6832360.0,\n 6832859.0,\n 6851849.0,\n 6870584.0,\n 6915293.0,\n 6917345.0,\n 6936999.0,\n 6944237.0,\n 6955300.0,\n 7033476.0,\n 7034224.0,\n 7281677.0,\n 7285420.0,\n 7359395.0,\n 7468829.0,\n 7601720.0,\n 7625346.0,\n 7632396.0,\n 7634501.0,\n 7653663.0,\n 7715843.0,\n 7720923.0,\n -63019.0,\n -54406.0,\n -8032.0,\n 1278.0,\n 35300.0,\n 36849.0,\n 38100.0,\n 38992.0,\n 84942.0,\n 120661.0,\n 125723.0,\n 127627.0,\n 129625.0,\n 166606.0,\n 167109.0,\n 193995.0,\n 197284.0,\n 200148.0,\n 201014.0,\n 203691.0,\n 204836.0,\n 256570.0,\n 257580.0,\n 258106.0,\n 287707.0,\n 292805.0,\n 344476.0,\n 356033.0,\n 360989.0,\n 364691.0,\n 367961.0,\n 371749.0,\n 373366.0,\n 373914.0,\n 375138.0,\n 442581.0,\n 450620.0,\n 451851.0,\n 452886.0,\n 488043.0,\n 527799.0,\n 533084.0,\n 536468.0,\n 540634.0,\n 543196.0,\n 544857.0,\n 545913.0,\n 571016.0,\n 571706.0,\n 573252.0,\n 574795.0,\n 575808.0,\n 579088.0,\n 580610.0,\n 581575.0,\n 620200.0,\n 625330.0,\n 627285.0,\n 632933.0,\n 716079.0,\n 720422.0,\n 723813.0,\n 724946.0,\n 728267.0,\n 728783.0,\n 730075.0,\n 731709.0,\n 740198.0,\n 763357.0,\n 769408.0,\n 806669.0,\n 862698.0,\n 864185.0,\n 880860.0,\n 881492.0,\n 881791.0,\n 884592.0,\n 975776.0,\n 1328693.0,\n 1510350.0,\n 1513972.0,\n 1515038.0,\n 1515622.0,\n 1516387.0,\n 1654779.0,\n 1655128.0,\n 1735971.0,\n 1744499.0,\n 1745988.0,\n 1748154.0,\n 1750393.0,\n 1756495.0,\n 1762312.0,\n 1763629.0,\n 1764865.0,\n 1820327.0,\n 1834909.0,\n 1838173.0,\n 1843802.0,\n 1852481.0,\n 1855748.0,\n 1862479.0,\n 1864317.0,\n 1893932.0,\n 1922791.0,\n 1926185.0,\n 1929504.0,\n 2266549.0,\n 2595338.0,\n 2633728.0,\n 2717651.0,\n 2720024.0,\n 2724132.0,\n 2769301.0,\n 2770517.0,\n 2771629.0,\n 2792873.0,\n 2793822.0,\n 2795900.0,\n 2796603.0,\n 2797398.0,\n 2803746.0,\n 2867370.0,\n 2871200.0,\n 2873195.0,\n 2875665.0,\n 2880097.0,\n 2882285.0,\n 2887319.0,\n 2909059.0,\n ...]"
     },
     "execution_count": 63,
     "metadata": {},
     "output_type": "execute_result"
    }
   ],
   "source": [
    "onebike_durations = []\n",
    "\n",
    "for i in bike_data['Start date']:\n",
    "    for j in bike_data['End date']:\n",
    "        diff = j - i\n",
    "        diff_seconds = diff.total_seconds()\n",
    "\n",
    "        onebike_durations.append(diff_seconds)\n",
    "\n",
    "onebike_durations"
   ],
   "metadata": {
    "collapsed": false,
    "pycharm": {
     "name": "#%%\n"
    }
   }
  },
  {
   "cell_type": "markdown",
   "source": [
    "## Finding average trip length"
   ],
   "metadata": {
    "collapsed": false
   }
  },
  {
   "cell_type": "code",
   "execution_count": 64,
   "outputs": [
    {
     "data": {
      "text/plain": "1178.9310344827586"
     },
     "execution_count": 64,
     "metadata": {},
     "output_type": "execute_result"
    }
   ],
   "source": [
    "total_time = sum(onebike_durations)\n",
    "number_of_rides = len(onebike_durations)\n",
    "\n",
    "avg_ride = total_time/number_of_rides\n",
    "avg_ride"
   ],
   "metadata": {
    "collapsed": false,
    "pycharm": {
     "name": "#%%\n"
    }
   }
  },
  {
   "cell_type": "code",
   "execution_count": null,
   "outputs": [],
   "source": [],
   "metadata": {
    "collapsed": false,
    "pycharm": {
     "name": "#%%\n"
    }
   }
  }
 ],
 "metadata": {
  "kernelspec": {
   "display_name": "Python 3",
   "language": "python",
   "name": "python3"
  },
  "language_info": {
   "codemirror_mode": {
    "name": "ipython",
    "version": 2
   },
   "file_extension": ".py",
   "mimetype": "text/x-python",
   "name": "python",
   "nbconvert_exporter": "python",
   "pygments_lexer": "ipython2",
   "version": "2.7.6"
  }
 },
 "nbformat": 4,
 "nbformat_minor": 0
}