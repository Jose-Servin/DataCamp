{
 "cells": [
  {
   "cell_type": "code",
   "execution_count": 28,
   "outputs": [],
   "source": [
    "import contextlib\n",
    "import inspect\n",
    "from contextlib import contextmanager\n"
   ],
   "metadata": {
    "collapsed": false,
    "pycharm": {
     "name": "#%%\n"
    }
   }
  },
  {
   "cell_type": "markdown",
   "source": [
    "# Docstrings"
   ],
   "metadata": {
    "collapsed": false
   }
  },
  {
   "cell_type": "markdown",
   "source": [
    "## Anatomy of a docstring"
   ],
   "metadata": {
    "collapsed": false
   }
  },
  {
   "cell_type": "code",
   "execution_count": 29,
   "metadata": {
    "collapsed": true
   },
   "outputs": [],
   "source": [
    "def function_name(arguments):\n",
    "    \"\"\"\n",
    "    Description of what the function does.\n",
    "    Description of the arguments, if any.\n",
    "    Description of the return value(s), if any.\n",
    "    Description of errors raised, if any.\n",
    "    Optional extra notes or examples of usage.\n",
    "    \"\"\""
   ]
  },
  {
   "cell_type": "markdown",
   "source": [
    "## Google Style docstrings"
   ],
   "metadata": {
    "collapsed": false
   }
  },
  {
   "cell_type": "code",
   "execution_count": 30,
   "outputs": [],
   "source": [
    "def function(arg_1, arg_2=10):\n",
    "    \"\"\" Description of what the function does.\n",
    "\n",
    "    Args:\n",
    "        arg_1 (str): Description of arg_1\n",
    "        arg_2 (int, optional): Description of arg_2 and since it's optional you write optional after data type.\n",
    "\n",
    "    Returns:\n",
    "        bool: Optional description of the return values.\n",
    "\n",
    "    Raises:\n",
    "        ValueError: include any error types that the function intentionally raises.\n",
    "\n",
    "    Notes:\n",
    "        See (this link) for documentation etc.\n",
    "    \"\"\""
   ],
   "metadata": {
    "collapsed": false,
    "pycharm": {
     "name": "#%%\n"
    }
   }
  },
  {
   "cell_type": "markdown",
   "source": [
    "## Numpydoc docstrings"
   ],
   "metadata": {
    "collapsed": false
   }
  },
  {
   "cell_type": "code",
   "execution_count": 31,
   "outputs": [],
   "source": [
    "def other_function(arg_1, arg_2 = 10):\n",
    "    \"\"\"\n",
    "    Description of what the function does.\n",
    "\n",
    "    Parameters\n",
    "    ------------\n",
    "    arg_1: expected type, description\n",
    "    arg_2: int, optional\n",
    "        Default = 42\n",
    "\n",
    "    Returns\n",
    "    --------\n",
    "    The type of the return value\n",
    "        Can include a decription of the return value.\n",
    "        Replace Returns with Yields if this function is a generator.\n",
    "    \"\"\""
   ],
   "metadata": {
    "collapsed": false,
    "pycharm": {
     "name": "#%%\n"
    }
   }
  },
  {
   "cell_type": "markdown",
   "source": [
    "## Retrieving Docstrings"
   ],
   "metadata": {
    "collapsed": false
   }
  },
  {
   "cell_type": "code",
   "execution_count": 32,
   "outputs": [
    {
     "name": "stdout",
     "output_type": "stream",
     "text": [
      " Description of what the function does.\n",
      "\n",
      "    Args:\n",
      "        arg_1 (str): Description of arg_1\n",
      "        arg_2 (int, optional): Description of arg_2 and since it's optional you write optional after data type.\n",
      "\n",
      "    Returns:\n",
      "        bool: Optional description of the return values.\n",
      "\n",
      "    Raises:\n",
      "        ValueError: include any error types that the function intentionally raises.\n",
      "\n",
      "    Notes:\n",
      "        See (this link) for documentation etc.\n",
      "    \n"
     ]
    }
   ],
   "source": [
    "print(function.__doc__)"
   ],
   "metadata": {
    "collapsed": false,
    "pycharm": {
     "name": "#%%\n"
    }
   }
  },
  {
   "cell_type": "code",
   "execution_count": 33,
   "outputs": [
    {
     "name": "stdout",
     "output_type": "stream",
     "text": [
      "\n",
      "    Description of what the function does.\n",
      "\n",
      "    Parameters\n",
      "    ------------\n",
      "    arg_1: expected type, description\n",
      "    arg_2: int, optional\n",
      "        Default = 42\n",
      "\n",
      "    Returns\n",
      "    --------\n",
      "    The type of the return value\n",
      "        Can include a decription of the return value.\n",
      "        Replace Returns with Yields if this function is a generator.\n",
      "    \n"
     ]
    }
   ],
   "source": [
    "print(other_function.__doc__)"
   ],
   "metadata": {
    "collapsed": false,
    "pycharm": {
     "name": "#%%\n"
    }
   }
  },
  {
   "cell_type": "code",
   "execution_count": 34,
   "outputs": [
    {
     "name": "stdout",
     "output_type": "stream",
     "text": [
      "Description of what the function does.\n",
      "\n",
      "Args:\n",
      "    arg_1 (str): Description of arg_1\n",
      "    arg_2 (int, optional): Description of arg_2 and since it's optional you write optional after data type.\n",
      "\n",
      "Returns:\n",
      "    bool: Optional description of the return values.\n",
      "\n",
      "Raises:\n",
      "    ValueError: include any error types that the function intentionally raises.\n",
      "\n",
      "Notes:\n",
      "    See (this link) for documentation etc.\n"
     ]
    }
   ],
   "source": [
    "print(inspect.getdoc(function))"
   ],
   "metadata": {
    "collapsed": false,
    "pycharm": {
     "name": "#%%\n"
    }
   }
  },
  {
   "cell_type": "markdown",
   "source": [
    "# DRY (Don't Repeat Yourself) and the \"Do one thing\" principle"
   ],
   "metadata": {
    "collapsed": false
   }
  },
  {
   "cell_type": "markdown",
   "source": [
    "# Context Managers"
   ],
   "metadata": {
    "collapsed": false
   }
  },
  {
   "cell_type": "markdown",
   "source": [
    "## Using Context Managers"
   ],
   "metadata": {
    "collapsed": false
   }
  },
  {
   "cell_type": "code",
   "execution_count": 35,
   "outputs": [
    {
     "name": "stdout",
     "output_type": "stream",
     "text": [
      "Context manager is now closed\n",
      "The length is of this txt file is 122\n"
     ]
    }
   ],
   "source": [
    "with open('/Users/joseservin/DataCamp/Courses/Intro_Importing_Data/example_file.txt') as txt_file:\n",
    "    text = txt_file.read()\n",
    "    length = len(text)\n",
    "\n",
    "print('Context manager is now closed')\n",
    "print(f\"The length is of this txt file is {length}\")"
   ],
   "metadata": {
    "collapsed": false,
    "pycharm": {
     "name": "#%%\n"
    }
   }
  },
  {
   "cell_type": "markdown",
   "source": [
    "## Writing Context Managers"
   ],
   "metadata": {
    "collapsed": false
   }
  },
  {
   "cell_type": "markdown",
   "source": [
    "### Function-based defined context managers"
   ],
   "metadata": {
    "collapsed": false
   }
  },
  {
   "cell_type": "markdown",
   "source": [
    "1. Define a function\n",
    "2. (optional) Add any set up code the context needs.\n",
    "3. Use the \"yield\" keyword.\n",
    "4. (optional) Add any teardown code the context needs.\n",
    "5. Add the '@contextlib.contextmanager' decorator."
   ],
   "metadata": {
    "collapsed": false
   }
  },
  {
   "cell_type": "code",
   "execution_count": 36,
   "outputs": [],
   "source": [
    "@contextlib.contextmanager\n",
    "def return_number():\n",
    "    print('Other code that will execute inside the context manager. ')\n",
    "    yield 12\n",
    "    print('Goodbye')"
   ],
   "metadata": {
    "collapsed": false,
    "pycharm": {
     "name": "#%%\n"
    }
   }
  },
  {
   "cell_type": "code",
   "execution_count": 37,
   "outputs": [
    {
     "name": "stdout",
     "output_type": "stream",
     "text": [
      "Other code that will execute inside the context manager. \n",
      "The number returned is 12\n",
      "Goodbye\n"
     ]
    }
   ],
   "source": [
    "with return_number() as number_returned:\n",
    "    print(f\"The number returned is {number_returned}\")"
   ],
   "metadata": {
    "collapsed": false,
    "pycharm": {
     "name": "#%%\n"
    }
   }
  },
  {
   "cell_type": "markdown",
   "source": [
    "## Context manager with Database connection"
   ],
   "metadata": {
    "collapsed": false
   }
  },
  {
   "cell_type": "code",
   "execution_count": 38,
   "outputs": [],
   "source": [
    "#from sqlalchemy.databases import postgres\n",
    "#@contextlib.contextmanager\n",
    "#def database(url):\n",
    "#\n",
    "#\n",
    "#    conn = postgres.connect(url)\n",
    "#  try:\n",
    "#      yield conn\n",
    "#\n",
    "#  finally: # ensures connection is closed even if errors are raised\n",
    "#       conn.disconnect()"
   ],
   "metadata": {
    "collapsed": false,
    "pycharm": {
     "name": "#%%\n"
    }
   }
  },
  {
   "cell_type": "code",
   "execution_count": 39,
   "outputs": [],
   "source": [
    "#url = 'some url'\n",
    "#with database(url) as database_conn:\n",
    "#    course_list = database_conn.executre(\"Select * from Courses\")"
   ],
   "metadata": {
    "collapsed": false,
    "pycharm": {
     "name": "#%%\n"
    }
   }
  },
  {
   "cell_type": "markdown",
   "source": [
    "# Nested Contexts"
   ],
   "metadata": {
    "collapsed": false,
    "pycharm": {
     "name": "#%% md\n"
    }
   }
  },
  {
   "cell_type": "markdown",
   "source": [
    "* Function that copies content from one file to another."
   ],
   "metadata": {
    "collapsed": false
   }
  },
  {
   "cell_type": "markdown",
   "source": [
    "## Approach 1: Open file 1 and read content, open file 2 and write out content"
   ],
   "metadata": {
    "collapsed": false
   }
  },
  {
   "cell_type": "code",
   "execution_count": 40,
   "outputs": [],
   "source": [
    "with open('/Users/joseservin/DataCamp/Courses/Intro_Importing_Data/example_file.txt') as original_file:\n",
    "    contents = original_file.read()\n",
    "\n",
    "with open('/Users/joseservin/DataCamp/Courses/Writing_Functions/copy_file.txt','w') as copy_file:\n",
    "    copy_file.write(contents)"
   ],
   "metadata": {
    "collapsed": false,
    "pycharm": {
     "name": "#%%\n"
    }
   }
  },
  {
   "cell_type": "markdown",
   "source": [
    "## Approach 2: Nested Context Managers to read in line by line"
   ],
   "metadata": {
    "collapsed": false
   }
  },
  {
   "cell_type": "code",
   "execution_count": 41,
   "outputs": [],
   "source": [
    "with open('/Users/joseservin/DataCamp/Courses/Intro_Importing_Data/example_file.txt') as original_file:\n",
    "    with open('/Users/joseservin/DataCamp/Courses/Writing_Functions/copy_file.txt','w') as copy_file:\n",
    "        for line in original_file:\n",
    "            copy_file.write(line)"
   ],
   "metadata": {
    "collapsed": false,
    "pycharm": {
     "name": "#%%\n"
    }
   }
  },
  {
   "cell_type": "markdown",
   "source": [
    "# Handling Errors"
   ],
   "metadata": {
    "collapsed": false
   }
  },
  {
   "cell_type": "markdown",
   "source": [
    "* Basic handling of errors can be achieved using try, except, finally blocks in your code"
   ],
   "metadata": {
    "collapsed": false
   }
  },
  {
   "cell_type": "markdown",
   "source": [
    "# Functions are Objects"
   ],
   "metadata": {
    "collapsed": false
   }
  },
  {
   "cell_type": "code",
   "execution_count": 42,
   "outputs": [],
   "source": [
    "# Function that will take function to check for docstring\n",
    "def has_docstring(func):\n",
    "    \"\"\"Returns Boolean value if function has docstring\"\"\"\n",
    "    return func.__doc__ is not None\n",
    "\n",
    "# Function without docstring\n",
    "def no():\n",
    "    return 42\n",
    "\n",
    "# Function with docstring\n",
    "def yes():\n",
    "    \"\"\"This function has a docstring \"\"\"\n",
    "    return 42"
   ],
   "metadata": {
    "collapsed": false,
    "pycharm": {
     "name": "#%%\n"
    }
   }
  },
  {
   "cell_type": "code",
   "execution_count": 43,
   "outputs": [
    {
     "data": {
      "text/plain": "False"
     },
     "execution_count": 43,
     "metadata": {},
     "output_type": "execute_result"
    }
   ],
   "source": [
    "has_docstring(no)"
   ],
   "metadata": {
    "collapsed": false,
    "pycharm": {
     "name": "#%%\n"
    }
   }
  },
  {
   "cell_type": "code",
   "execution_count": 44,
   "outputs": [
    {
     "data": {
      "text/plain": "True"
     },
     "execution_count": 44,
     "metadata": {},
     "output_type": "execute_result"
    }
   ],
   "source": [
    "has_docstring(yes)"
   ],
   "metadata": {
    "collapsed": false,
    "pycharm": {
     "name": "#%%\n"
    }
   }
  },
  {
   "cell_type": "markdown",
   "source": [
    "# Nested Functions"
   ],
   "metadata": {
    "collapsed": false
   }
  },
  {
   "cell_type": "markdown",
   "source": [
    "## Original Function"
   ],
   "metadata": {
    "collapsed": false
   }
  },
  {
   "cell_type": "code",
   "execution_count": 45,
   "outputs": [],
   "source": [
    "def check_range(x,y):\n",
    "    if 4 < x < 10 and 4 < y < 10:\n",
    "        print(x*y)"
   ],
   "metadata": {
    "collapsed": false,
    "pycharm": {
     "name": "#%%\n"
    }
   }
  },
  {
   "cell_type": "code",
   "execution_count": 46,
   "outputs": [
    {
     "name": "stdout",
     "output_type": "stream",
     "text": [
      "25\n"
     ]
    }
   ],
   "source": [
    "check_range(5,5)"
   ],
   "metadata": {
    "collapsed": false,
    "pycharm": {
     "name": "#%%\n"
    }
   }
  },
  {
   "cell_type": "markdown",
   "source": [
    "## New Nested Function"
   ],
   "metadata": {
    "collapsed": false
   }
  },
  {
   "cell_type": "code",
   "execution_count": 47,
   "outputs": [],
   "source": [
    "def check_range_nested(x,y):\n",
    "\n",
    "    def range_check(num):\n",
    "        return 4 < num < 10\n",
    "\n",
    "    if range_check(x) and range_check(y):\n",
    "        print(x * y)\n",
    "\n",
    "    else:\n",
    "        print(\"One of the numbers is not in range.\")"
   ],
   "metadata": {
    "collapsed": false,
    "pycharm": {
     "name": "#%%\n"
    }
   }
  },
  {
   "cell_type": "code",
   "execution_count": 48,
   "outputs": [
    {
     "name": "stdout",
     "output_type": "stream",
     "text": [
      "One of the numbers is not in range.\n"
     ]
    }
   ],
   "source": [
    "check_range_nested(3,6)"
   ],
   "metadata": {
    "collapsed": false,
    "pycharm": {
     "name": "#%%\n"
    }
   }
  },
  {
   "cell_type": "markdown",
   "source": [
    "# Real World Decorators"
   ],
   "metadata": {
    "collapsed": false
   }
  },
  {
   "cell_type": "markdown",
   "source": [
    "## timer decorator"
   ],
   "metadata": {
    "collapsed": false
   }
  },
  {
   "cell_type": "code",
   "execution_count": 61,
   "outputs": [],
   "source": [
    "import time\n",
    "from functools import wraps # we use this to override wrapper metadata to match the function we are decorating\n",
    "\n",
    "# Here we are making a decorator that runs decorated function and prints how long it took for that function to run\n",
    "def timer(func):\n",
    "    \"\"\"\n",
    "    A decorator that prints how long a function took to run.\n",
    "\n",
    "    Args:\n",
    "        func(callable): the function being decorated\n",
    "\n",
    "    Returns:\n",
    "        callable: The decorated function\n",
    "    \"\"\"\n",
    "    # this is the function the decorator will return\n",
    "    # we use args and kwargs so it can be used to decorate any function\n",
    "    @wraps(func)\n",
    "    def wrapper(*args, **kwargs):\n",
    "        #when wrapper() is called, get the current time\n",
    "        t_start = time.time()\n",
    "        # call the decorated function and store the results\n",
    "        results = func(*args, **kwargs)\n",
    "        # Get total time\n",
    "        t_total = time.time() - t_start\n",
    "        print(f\"The function {func.__name__} took {t_total} seconds to run.\")\n",
    "\n",
    "    return wrapper"
   ],
   "metadata": {
    "collapsed": false,
    "pycharm": {
     "name": "#%%\n"
    }
   }
  },
  {
   "cell_type": "code",
   "execution_count": 62,
   "outputs": [],
   "source": [
    "@timer\n",
    "def sleep_n_seconds(n):\n",
    "    \"\"\"simple function that sleeps for n seconds\"\"\"\n",
    "    time.sleep(n)"
   ],
   "metadata": {
    "collapsed": false,
    "pycharm": {
     "name": "#%%\n"
    }
   }
  },
  {
   "cell_type": "code",
   "execution_count": 63,
   "outputs": [
    {
     "name": "stdout",
     "output_type": "stream",
     "text": [
      "The function sleep_n_seconds took 5.0030198097229 seconds to run.\n"
     ]
    }
   ],
   "source": [
    "sleep_n_seconds(5)"
   ],
   "metadata": {
    "collapsed": false,
    "pycharm": {
     "name": "#%%\n"
    }
   }
  },
  {
   "cell_type": "code",
   "execution_count": 64,
   "outputs": [
    {
     "name": "stdout",
     "output_type": "stream",
     "text": [
      "sleep_n_seconds\n"
     ]
    }
   ],
   "source": [
    "print(sleep_n_seconds.__name__)"
   ],
   "metadata": {
    "collapsed": false,
    "pycharm": {
     "name": "#%%\n"
    }
   }
  },
  {
   "cell_type": "code",
   "execution_count": 66,
   "outputs": [],
   "source": [
    "# To get access to the original function instead of the decorated version (not performing timer)\n",
    "sleep_n_seconds.__wrapped__(3)"
   ],
   "metadata": {
    "collapsed": false,
    "pycharm": {
     "name": "#%%\n"
    }
   }
  },
  {
   "cell_type": "markdown",
   "source": [
    "## memoize decorator"
   ],
   "metadata": {
    "collapsed": false
   }
  },
  {
   "cell_type": "code",
   "execution_count": 52,
   "outputs": [],
   "source": [
    "def memoize(func):\n",
    "    \"\"\"Store the results of the decorated function for fast lookup\"\"\"\n",
    "    # Store results in a dictionary mapping arguments to results\n",
    "    cache = {}\n",
    "    # define the wrapper function\n",
    "    def wrapper(*args, **kwargs):\n",
    "        # if these arguments haven't been called before\n",
    "        if (args, kwargs) not in cache:\n",
    "            #call func and store results\n",
    "            cache[(args, kwargs)] = func(*args, **kwargs)\n",
    "        return cache[(args, kwargs)] # return the value associated with keys args and kwargs that are in cache dictionary\n",
    "    return wrapper #returns the wrapper function NOT the called wrapper function wrapper()\n"
   ],
   "metadata": {
    "collapsed": false,
    "pycharm": {
     "name": "#%%\n"
    }
   }
  },
  {
   "cell_type": "code",
   "execution_count": 55,
   "outputs": [],
   "source": [
    "import functools\n",
    "\n",
    "@functools.cache\n",
    "def slow_func(a,b):\n",
    "    print('Sleeping...')\n",
    "    time.sleep(3)\n",
    "    return a + b"
   ],
   "metadata": {
    "collapsed": false,
    "pycharm": {
     "name": "#%%\n"
    }
   }
  },
  {
   "cell_type": "code",
   "execution_count": 56,
   "outputs": [
    {
     "name": "stdout",
     "output_type": "stream",
     "text": [
      "Sleeping...\n"
     ]
    },
    {
     "data": {
      "text/plain": "7"
     },
     "execution_count": 56,
     "metadata": {},
     "output_type": "execute_result"
    }
   ],
   "source": [
    "slow_func(3,4)"
   ],
   "metadata": {
    "collapsed": false,
    "pycharm": {
     "name": "#%%\n"
    }
   }
  },
  {
   "cell_type": "code",
   "execution_count": 57,
   "outputs": [
    {
     "data": {
      "text/plain": "7"
     },
     "execution_count": 57,
     "metadata": {},
     "output_type": "execute_result"
    }
   ],
   "source": [
    "slow_func(3,4)"
   ],
   "metadata": {
    "collapsed": false,
    "pycharm": {
     "name": "#%%\n"
    }
   }
  },
  {
   "cell_type": "markdown",
   "source": [
    "## Decorators that take arguments"
   ],
   "metadata": {
    "collapsed": false
   }
  },
  {
   "cell_type": "code",
   "execution_count": 67,
   "outputs": [],
   "source": [
    "# Decorator Factory\n",
    "def run_n_times(n):\n",
    "    \"\"\"Define and return a decorator\"\"\"\n",
    "    def decorator(func):\n",
    "        def wrapper(*args, **kwargs):\n",
    "            for i in range(n):\n",
    "                func(*args, **kwargs)\n",
    "        return wrapper\n",
    "    return decorator\n",
    "\n",
    "# The return value of the function run_n_times is a decorator\n",
    "\n",
    "@run_n_times(2)\n",
    "def print_sums(a,b):\n",
    "    print(a + b)\n"
   ],
   "metadata": {
    "collapsed": false,
    "pycharm": {
     "name": "#%%\n"
    }
   }
  },
  {
   "cell_type": "code",
   "execution_count": 68,
   "outputs": [
    {
     "name": "stdout",
     "output_type": "stream",
     "text": [
      "4\n",
      "4\n"
     ]
    }
   ],
   "source": [
    "print_sums(2,2)"
   ],
   "metadata": {
    "collapsed": false,
    "pycharm": {
     "name": "#%%\n"
    }
   }
  },
  {
   "cell_type": "markdown",
   "source": [
    "## timeout alarm decorator"
   ],
   "metadata": {
    "collapsed": false
   }
  },
  {
   "cell_type": "code",
   "execution_count": 69,
   "outputs": [],
   "source": [
    "import signal\n",
    "def timeout(n_seconds):\n",
    "    def decorator(func):\n",
    "        @wraps(func)\n",
    "        def wrapper(*args, **kwargs):\n",
    "            signal.alarm(n_seconds)\n",
    "            try:\n",
    "                #call the decorated function\n",
    "                return func(*args, *kwargs)\n",
    "            finally:\n",
    "                # cancel alarm\n",
    "                signal.alarm(0)\n",
    "        return wrapper\n",
    "    return decorator\n"
   ],
   "metadata": {
    "collapsed": false,
    "pycharm": {
     "name": "#%%\n"
    }
   }
  },
  {
   "cell_type": "markdown",
   "source": [
    "# When to use Decorators?\n",
    "* When you want to add some common bit of code to multiple functions"
   ],
   "metadata": {
    "collapsed": false
   }
  },
  {
   "cell_type": "code",
   "execution_count": null,
   "outputs": [],
   "source": [],
   "metadata": {
    "collapsed": false,
    "pycharm": {
     "name": "#%%\n"
    }
   }
  }
 ],
 "metadata": {
  "kernelspec": {
   "display_name": "Python 3",
   "language": "python",
   "name": "python3"
  },
  "language_info": {
   "codemirror_mode": {
    "name": "ipython",
    "version": 2
   },
   "file_extension": ".py",
   "mimetype": "text/x-python",
   "name": "python",
   "nbconvert_exporter": "python",
   "pygments_lexer": "ipython2",
   "version": "2.7.6"
  }
 },
 "nbformat": 4,
 "nbformat_minor": 0
}