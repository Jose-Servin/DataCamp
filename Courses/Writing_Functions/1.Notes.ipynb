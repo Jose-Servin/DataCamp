{
 "cells": [
  {
   "cell_type": "code",
   "execution_count": 1,
   "outputs": [],
   "source": [
    "import inspect"
   ],
   "metadata": {
    "collapsed": false,
    "pycharm": {
     "name": "#%%\n"
    }
   }
  },
  {
   "cell_type": "markdown",
   "source": [
    "# Docstrings"
   ],
   "metadata": {
    "collapsed": false
   }
  },
  {
   "cell_type": "markdown",
   "source": [
    "## Anatomy of a docstring"
   ],
   "metadata": {
    "collapsed": false
   }
  },
  {
   "cell_type": "code",
   "execution_count": 2,
   "metadata": {
    "collapsed": true
   },
   "outputs": [],
   "source": [
    "def function_name(arguments):\n",
    "    \"\"\"\n",
    "    Description of what the function does.\n",
    "    Description of the arguments, if any.\n",
    "    Description of the return value(s), if any.\n",
    "    Description of errors raised, if any.\n",
    "    Optional extra notes or examples of usage.\n",
    "    \"\"\""
   ]
  },
  {
   "cell_type": "markdown",
   "source": [
    "## Google Style docstrings"
   ],
   "metadata": {
    "collapsed": false
   }
  },
  {
   "cell_type": "code",
   "execution_count": 3,
   "outputs": [],
   "source": [
    "def function(arg_1, arg_2=10):\n",
    "    \"\"\" Description of what the function does.\n",
    "\n",
    "    Args:\n",
    "        arg_1 (str): Description of arg_1\n",
    "        arg_2 (int, optional): Description of arg_2 and since it's optional you write optional after data type.\n",
    "\n",
    "    Returns:\n",
    "        bool: Optional description of the return values.\n",
    "\n",
    "    Raises:\n",
    "        ValueError: include any error types that the function intentionally raises.\n",
    "\n",
    "    Notes:\n",
    "        See (this link) for documentation etc.\n",
    "    \"\"\""
   ],
   "metadata": {
    "collapsed": false,
    "pycharm": {
     "name": "#%%\n"
    }
   }
  },
  {
   "cell_type": "markdown",
   "source": [
    "## Numpydoc docstrings"
   ],
   "metadata": {
    "collapsed": false
   }
  },
  {
   "cell_type": "code",
   "execution_count": 4,
   "outputs": [],
   "source": [
    "def other_function(arg_1, arg_2 = 10):\n",
    "    \"\"\"\n",
    "    Description of what the function does.\n",
    "\n",
    "    Parameters\n",
    "    ------------\n",
    "    arg_1: expected type, description\n",
    "    arg_2: int, optional\n",
    "        Default = 42\n",
    "\n",
    "    Returns\n",
    "    --------\n",
    "    The type of the return value\n",
    "        Can include a decription of the return value.\n",
    "        Replace Returns with Yields if this function is a generator.\n",
    "    \"\"\""
   ],
   "metadata": {
    "collapsed": false,
    "pycharm": {
     "name": "#%%\n"
    }
   }
  },
  {
   "cell_type": "markdown",
   "source": [
    "## Retrieving Docstrings"
   ],
   "metadata": {
    "collapsed": false
   }
  },
  {
   "cell_type": "code",
   "execution_count": 5,
   "outputs": [
    {
     "name": "stdout",
     "output_type": "stream",
     "text": [
      " Description of what the function does.\n",
      "\n",
      "    Args:\n",
      "        arg_1 (str): Description of arg_1\n",
      "        arg_2 (int, optional): Description of arg_2 and since it's optional you write optional after data type.\n",
      "\n",
      "    Returns:\n",
      "        bool: Optional description of the return values.\n",
      "\n",
      "    Raises:\n",
      "        ValueError: include any error types that the function intentionally raises.\n",
      "\n",
      "    Notes:\n",
      "        See (this link) for documentation etc.\n",
      "    \n"
     ]
    }
   ],
   "source": [
    "print(function.__doc__)"
   ],
   "metadata": {
    "collapsed": false,
    "pycharm": {
     "name": "#%%\n"
    }
   }
  },
  {
   "cell_type": "code",
   "execution_count": 6,
   "outputs": [
    {
     "name": "stdout",
     "output_type": "stream",
     "text": [
      "\n",
      "    Description of what the function does.\n",
      "\n",
      "    Parameters\n",
      "    ------------\n",
      "    arg_1: expected type, description\n",
      "    arg_2: int, optional\n",
      "        Default = 42\n",
      "\n",
      "    Returns\n",
      "    --------\n",
      "    The type of the return value\n",
      "        Can include a decription of the return value.\n",
      "        Replace Returns with Yields if this function is a generator.\n",
      "    \n"
     ]
    }
   ],
   "source": [
    "print(other_function.__doc__)"
   ],
   "metadata": {
    "collapsed": false,
    "pycharm": {
     "name": "#%%\n"
    }
   }
  },
  {
   "cell_type": "code",
   "execution_count": 7,
   "outputs": [
    {
     "name": "stdout",
     "output_type": "stream",
     "text": [
      "Description of what the function does.\n",
      "\n",
      "Args:\n",
      "    arg_1 (str): Description of arg_1\n",
      "    arg_2 (int, optional): Description of arg_2 and since it's optional you write optional after data type.\n",
      "\n",
      "Returns:\n",
      "    bool: Optional description of the return values.\n",
      "\n",
      "Raises:\n",
      "    ValueError: include any error types that the function intentionally raises.\n",
      "\n",
      "Notes:\n",
      "    See (this link) for documentation etc.\n"
     ]
    }
   ],
   "source": [
    "print(inspect.getdoc(function))"
   ],
   "metadata": {
    "collapsed": false,
    "pycharm": {
     "name": "#%%\n"
    }
   }
  },
  {
   "cell_type": "markdown",
   "source": [
    "# DRY (Don't Repeat Yourself) and the \"Do one thing\" principle"
   ],
   "metadata": {
    "collapsed": false
   }
  },
  {
   "cell_type": "markdown",
   "source": [
    "# Pass by Assignment"
   ],
   "metadata": {
    "collapsed": false
   }
  },
  {
   "cell_type": "code",
   "execution_count": 7,
   "outputs": [],
   "source": [],
   "metadata": {
    "collapsed": false,
    "pycharm": {
     "name": "#%%\n"
    }
   }
  }
 ],
 "metadata": {
  "kernelspec": {
   "display_name": "Python 3",
   "language": "python",
   "name": "python3"
  },
  "language_info": {
   "codemirror_mode": {
    "name": "ipython",
    "version": 2
   },
   "file_extension": ".py",
   "mimetype": "text/x-python",
   "name": "python",
   "nbconvert_exporter": "python",
   "pygments_lexer": "ipython2",
   "version": "2.7.6"
  }
 },
 "nbformat": 4,
 "nbformat_minor": 0
}