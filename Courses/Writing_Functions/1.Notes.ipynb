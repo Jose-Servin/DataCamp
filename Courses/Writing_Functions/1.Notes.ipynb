{
 "cells": [
  {
   "cell_type": "code",
   "execution_count": 2,
   "outputs": [],
   "source": [
    "import contextlib\n",
    "import inspect\n",
    "from contextlib import contextmanager\n"
   ],
   "metadata": {
    "collapsed": false,
    "pycharm": {
     "name": "#%%\n"
    }
   }
  },
  {
   "cell_type": "markdown",
   "source": [
    "# Docstrings"
   ],
   "metadata": {
    "collapsed": false
   }
  },
  {
   "cell_type": "markdown",
   "source": [
    "## Anatomy of a docstring"
   ],
   "metadata": {
    "collapsed": false
   }
  },
  {
   "cell_type": "code",
   "execution_count": 3,
   "metadata": {
    "collapsed": true
   },
   "outputs": [],
   "source": [
    "def function_name(arguments):\n",
    "    \"\"\"\n",
    "    Description of what the function does.\n",
    "    Description of the arguments, if any.\n",
    "    Description of the return value(s), if any.\n",
    "    Description of errors raised, if any.\n",
    "    Optional extra notes or examples of usage.\n",
    "    \"\"\""
   ]
  },
  {
   "cell_type": "markdown",
   "source": [
    "## Google Style docstrings"
   ],
   "metadata": {
    "collapsed": false
   }
  },
  {
   "cell_type": "code",
   "execution_count": 4,
   "outputs": [],
   "source": [
    "def function(arg_1, arg_2=10):\n",
    "    \"\"\" Description of what the function does.\n",
    "\n",
    "    Args:\n",
    "        arg_1 (str): Description of arg_1\n",
    "        arg_2 (int, optional): Description of arg_2 and since it's optional you write optional after data type.\n",
    "\n",
    "    Returns:\n",
    "        bool: Optional description of the return values.\n",
    "\n",
    "    Raises:\n",
    "        ValueError: include any error types that the function intentionally raises.\n",
    "\n",
    "    Notes:\n",
    "        See (this link) for documentation etc.\n",
    "    \"\"\""
   ],
   "metadata": {
    "collapsed": false,
    "pycharm": {
     "name": "#%%\n"
    }
   }
  },
  {
   "cell_type": "markdown",
   "source": [
    "## Numpydoc docstrings"
   ],
   "metadata": {
    "collapsed": false
   }
  },
  {
   "cell_type": "code",
   "execution_count": 5,
   "outputs": [],
   "source": [
    "def other_function(arg_1, arg_2 = 10):\n",
    "    \"\"\"\n",
    "    Description of what the function does.\n",
    "\n",
    "    Parameters\n",
    "    ------------\n",
    "    arg_1: expected type, description\n",
    "    arg_2: int, optional\n",
    "        Default = 42\n",
    "\n",
    "    Returns\n",
    "    --------\n",
    "    The type of the return value\n",
    "        Can include a decription of the return value.\n",
    "        Replace Returns with Yields if this function is a generator.\n",
    "    \"\"\""
   ],
   "metadata": {
    "collapsed": false,
    "pycharm": {
     "name": "#%%\n"
    }
   }
  },
  {
   "cell_type": "markdown",
   "source": [
    "## Retrieving Docstrings"
   ],
   "metadata": {
    "collapsed": false
   }
  },
  {
   "cell_type": "code",
   "execution_count": 6,
   "outputs": [
    {
     "name": "stdout",
     "output_type": "stream",
     "text": [
      " Description of what the function does.\n",
      "\n",
      "    Args:\n",
      "        arg_1 (str): Description of arg_1\n",
      "        arg_2 (int, optional): Description of arg_2 and since it's optional you write optional after data type.\n",
      "\n",
      "    Returns:\n",
      "        bool: Optional description of the return values.\n",
      "\n",
      "    Raises:\n",
      "        ValueError: include any error types that the function intentionally raises.\n",
      "\n",
      "    Notes:\n",
      "        See (this link) for documentation etc.\n",
      "    \n"
     ]
    }
   ],
   "source": [
    "print(function.__doc__)"
   ],
   "metadata": {
    "collapsed": false,
    "pycharm": {
     "name": "#%%\n"
    }
   }
  },
  {
   "cell_type": "code",
   "execution_count": 7,
   "outputs": [
    {
     "name": "stdout",
     "output_type": "stream",
     "text": [
      "\n",
      "    Description of what the function does.\n",
      "\n",
      "    Parameters\n",
      "    ------------\n",
      "    arg_1: expected type, description\n",
      "    arg_2: int, optional\n",
      "        Default = 42\n",
      "\n",
      "    Returns\n",
      "    --------\n",
      "    The type of the return value\n",
      "        Can include a decription of the return value.\n",
      "        Replace Returns with Yields if this function is a generator.\n",
      "    \n"
     ]
    }
   ],
   "source": [
    "print(other_function.__doc__)"
   ],
   "metadata": {
    "collapsed": false,
    "pycharm": {
     "name": "#%%\n"
    }
   }
  },
  {
   "cell_type": "code",
   "execution_count": 8,
   "outputs": [
    {
     "name": "stdout",
     "output_type": "stream",
     "text": [
      "Description of what the function does.\n",
      "\n",
      "Args:\n",
      "    arg_1 (str): Description of arg_1\n",
      "    arg_2 (int, optional): Description of arg_2 and since it's optional you write optional after data type.\n",
      "\n",
      "Returns:\n",
      "    bool: Optional description of the return values.\n",
      "\n",
      "Raises:\n",
      "    ValueError: include any error types that the function intentionally raises.\n",
      "\n",
      "Notes:\n",
      "    See (this link) for documentation etc.\n"
     ]
    }
   ],
   "source": [
    "print(inspect.getdoc(function))"
   ],
   "metadata": {
    "collapsed": false,
    "pycharm": {
     "name": "#%%\n"
    }
   }
  },
  {
   "cell_type": "markdown",
   "source": [
    "# DRY (Don't Repeat Yourself) and the \"Do one thing\" principle"
   ],
   "metadata": {
    "collapsed": false
   }
  },
  {
   "cell_type": "markdown",
   "source": [
    "# Context Managers"
   ],
   "metadata": {
    "collapsed": false
   }
  },
  {
   "cell_type": "markdown",
   "source": [
    "## Using Context Managers"
   ],
   "metadata": {
    "collapsed": false
   }
  },
  {
   "cell_type": "code",
   "execution_count": 9,
   "outputs": [
    {
     "name": "stdout",
     "output_type": "stream",
     "text": [
      "Context manager is now closed\n",
      "The length is of this txt file is 122\n"
     ]
    }
   ],
   "source": [
    "with open('/Users/joseservin/DataCamp/Courses/Intro_Importing_Data/example_file.txt') as txt_file:\n",
    "    text = txt_file.read()\n",
    "    length = len(text)\n",
    "\n",
    "print('Context manager is now closed')\n",
    "print(f\"The length is of this txt file is {length}\")"
   ],
   "metadata": {
    "collapsed": false,
    "pycharm": {
     "name": "#%%\n"
    }
   }
  },
  {
   "cell_type": "markdown",
   "source": [
    "## Writing Context Managers"
   ],
   "metadata": {
    "collapsed": false
   }
  },
  {
   "cell_type": "markdown",
   "source": [
    "### Function-based defined context managers"
   ],
   "metadata": {
    "collapsed": false
   }
  },
  {
   "cell_type": "markdown",
   "source": [
    "1. Define a function\n",
    "2. (optional) Add any set up code the context needs.\n",
    "3. Use the \"yield\" keyword.\n",
    "4. (optional) Add any teardown code the context needs.\n",
    "5. Add the '@contextlib.contextmanager' decorator."
   ],
   "metadata": {
    "collapsed": false
   }
  },
  {
   "cell_type": "code",
   "execution_count": 10,
   "outputs": [],
   "source": [
    "@contextlib.contextmanager\n",
    "def return_number():\n",
    "    print('Other code that will execute inside the context manager. ')\n",
    "    yield 12\n",
    "    print('Goodbye')"
   ],
   "metadata": {
    "collapsed": false,
    "pycharm": {
     "name": "#%%\n"
    }
   }
  },
  {
   "cell_type": "code",
   "execution_count": 11,
   "outputs": [
    {
     "name": "stdout",
     "output_type": "stream",
     "text": [
      "Other code that will execute inside the context manager. \n",
      "The number returned is 12\n",
      "Goodbye\n"
     ]
    }
   ],
   "source": [
    "with return_number() as number_returned:\n",
    "    print(f\"The number returned is {number_returned}\")"
   ],
   "metadata": {
    "collapsed": false,
    "pycharm": {
     "name": "#%%\n"
    }
   }
  },
  {
   "cell_type": "markdown",
   "source": [
    "## Context manager with Database connection"
   ],
   "metadata": {
    "collapsed": false
   }
  },
  {
   "cell_type": "code",
   "execution_count": 12,
   "outputs": [],
   "source": [
    "#from sqlalchemy.databases import postgres\n",
    "#@contextlib.contextmanager\n",
    "#def database(url):\n",
    "#\n",
    "#\n",
    "#    conn = postgres.connect(url)\n",
    "#  try:\n",
    "#      yield conn\n",
    "#\n",
    "#  finally: # ensures connection is closed even if errors are raised\n",
    "#       conn.disconnect()"
   ],
   "metadata": {
    "collapsed": false,
    "pycharm": {
     "name": "#%%\n"
    }
   }
  },
  {
   "cell_type": "code",
   "execution_count": 13,
   "outputs": [],
   "source": [
    "#url = 'some url'\n",
    "#with database(url) as database_conn:\n",
    "#    course_list = database_conn.executre(\"Select * from Courses\")"
   ],
   "metadata": {
    "collapsed": false,
    "pycharm": {
     "name": "#%%\n"
    }
   }
  },
  {
   "cell_type": "markdown",
   "source": [
    "# Nested Contexts"
   ],
   "metadata": {
    "collapsed": false,
    "pycharm": {
     "name": "#%% md\n"
    }
   }
  },
  {
   "cell_type": "markdown",
   "source": [
    "* Function that copies content from one file to another."
   ],
   "metadata": {
    "collapsed": false
   }
  },
  {
   "cell_type": "markdown",
   "source": [
    "## Approach 1: Open file 1 and read content, open file 2 and write out content"
   ],
   "metadata": {
    "collapsed": false
   }
  },
  {
   "cell_type": "code",
   "execution_count": 14,
   "outputs": [],
   "source": [
    "with open('/Users/joseservin/DataCamp/Courses/Intro_Importing_Data/example_file.txt') as original_file:\n",
    "    contents = original_file.read()\n",
    "\n",
    "with open('/Users/joseservin/DataCamp/Courses/Writing_Functions/copy_file.txt','w') as copy_file:\n",
    "    copy_file.write(contents)"
   ],
   "metadata": {
    "collapsed": false,
    "pycharm": {
     "name": "#%%\n"
    }
   }
  },
  {
   "cell_type": "markdown",
   "source": [
    "## Approach 2: Nested Context Managers to read in line by line"
   ],
   "metadata": {
    "collapsed": false
   }
  },
  {
   "cell_type": "code",
   "execution_count": 15,
   "outputs": [],
   "source": [
    "with open('/Users/joseservin/DataCamp/Courses/Intro_Importing_Data/example_file.txt') as original_file:\n",
    "    with open('/Users/joseservin/DataCamp/Courses/Writing_Functions/copy_file.txt','w') as copy_file:\n",
    "        for line in original_file:\n",
    "            copy_file.write(line)"
   ],
   "metadata": {
    "collapsed": false,
    "pycharm": {
     "name": "#%%\n"
    }
   }
  },
  {
   "cell_type": "markdown",
   "source": [
    "# Handling Errors"
   ],
   "metadata": {
    "collapsed": false
   }
  },
  {
   "cell_type": "code",
   "execution_count": null,
   "outputs": [],
   "source": [],
   "metadata": {
    "collapsed": false,
    "pycharm": {
     "name": "#%%\n"
    }
   }
  }
 ],
 "metadata": {
  "kernelspec": {
   "display_name": "Python 3",
   "language": "python",
   "name": "python3"
  },
  "language_info": {
   "codemirror_mode": {
    "name": "ipython",
    "version": 2
   },
   "file_extension": ".py",
   "mimetype": "text/x-python",
   "name": "python",
   "nbconvert_exporter": "python",
   "pygments_lexer": "ipython2",
   "version": "2.7.6"
  }
 },
 "nbformat": 4,
 "nbformat_minor": 0
}